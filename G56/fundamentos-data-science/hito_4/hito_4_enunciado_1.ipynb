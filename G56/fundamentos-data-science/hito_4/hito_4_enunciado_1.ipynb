{
 "cells": [
  {
   "cell_type": "code",
   "execution_count": 1,
   "metadata": {},
   "outputs": [],
   "source": [
    "import warnings\n",
    "\n",
    "import pandas as pd\n",
    "import numpy as np\n",
    "\n",
    "import matplotlib.pyplot as plt\n",
    "import seaborn as sns\n",
    "\n",
    "import missingno as msno\n",
    "\n",
    "import statsmodels.api as sm\n",
    "import statsmodels.formula.api as smf\n",
    "\n",
    "from sklearn.model_selection import train_test_split\n",
    "from sklearn.preprocessing import StandardScaler\n",
    "from sklearn.linear_model import LogisticRegression\n",
    "from sklearn.model_selection import cross_val_score\n",
    "from sklearn.metrics import roc_curve, roc_auc_score\n",
    "\n",
    "import funciones_auxiliares as aux\n",
    "from funciones_auxiliares_hito_2 import preprocesar_y_recodificar_enunciado_uno\n",
    "\n",
    "# warnings.filterwarnings('ignore')\n",
    "sns.set_theme()\n",
    "plt.rcParams['figure.figsize'] = (12, 6)"
   ]
  },
  {
   "cell_type": "code",
   "execution_count": 2,
   "metadata": {},
   "outputs": [],
   "source": [
    "df = pd.read_csv('income-db.csv')\n",
    "df_final = preprocesar_y_recodificar_enunciado_uno(df)"
   ]
  },
  {
   "attachments": {},
   "cell_type": "markdown",
   "metadata": {},
   "source": [
    "# 1. Modelo completo"
   ]
  },
  {
   "cell_type": "code",
   "execution_count": 3,
   "metadata": {},
   "outputs": [],
   "source": [
    "y = df_final['income']\n",
    "X = df_final.drop(columns='income')\n",
    "X_escalado = StandardScaler().fit_transform(X)"
   ]
  },
  {
   "cell_type": "code",
   "execution_count": 4,
   "metadata": {},
   "outputs": [],
   "source": [
    "f1_acumulado = cross_val_score(LogisticRegression(),\n",
    "                X=X_escalado,\n",
    "                y=y,\n",
    "                cv=10,\n",
    "                scoring='f1')"
   ]
  },
  {
   "cell_type": "code",
   "execution_count": 5,
   "metadata": {},
   "outputs": [
    {
     "data": {
      "text/plain": [
       "0.6568000634243549"
      ]
     },
     "execution_count": 5,
     "metadata": {},
     "output_type": "execute_result"
    }
   ],
   "source": [
    "f1_acumulado.mean()"
   ]
  },
  {
   "cell_type": "code",
   "execution_count": 25,
   "metadata": {},
   "outputs": [],
   "source": [
    "var_modelo_p = [\"age\",\n",
    "                \"fnlwgt\",\n",
    "                \"educational_num\",\n",
    "                \"gender\",\n",
    "                \"capital_gain\",\n",
    "                \"capital_loss\",\n",
    "                \"hours_per_week\",\n",
    "                \"federal_gov\",\n",
    "                \"self_employed\",\n",
    "                \"divorced\",\n",
    "                \"married\",\n",
    "                \"separated\",\n",
    "                \"widowed\",\n",
    "                \"others\",\n",
    "                \"white_collar\",\n",
    "                \"Not_in_family\",\n",
    "                \"Other_relative\",\n",
    "                \"Own_child\",\n",
    "                \"Unmarried\",\n",
    "                \"Wife\",\n",
    "                \"Asian_Pac_Islander\",\n",
    "                \"White\",\n",
    "                \"america\",\n",
    "                \"asia\",\n",
    "                \"europe\"]\n",
    "\n",
    "y = df_final['income']\n",
    "X_p = df_final[var_modelo_p]\n",
    "X_p_escalado = StandardScaler().fit_transform(X_p)\n"
   ]
  },
  {
   "cell_type": "code",
   "execution_count": 26,
   "metadata": {},
   "outputs": [],
   "source": [
    "f1_modelo_p = cross_val_score(LogisticRegression(),\n",
    "                              X=X_p_escalado,\n",
    "                              y=y,\n",
    "                              cv=10,\n",
    "                              scoring='f1')"
   ]
  },
  {
   "cell_type": "code",
   "execution_count": 27,
   "metadata": {},
   "outputs": [
    {
     "data": {
      "text/plain": [
       "0.6567714461945567"
      ]
     },
     "execution_count": 27,
     "metadata": {},
     "output_type": "execute_result"
    }
   ],
   "source": [
    "f1_modelo_p.mean()"
   ]
  },
  {
   "attachments": {},
   "cell_type": "markdown",
   "metadata": {},
   "source": [
    "# Modelo 3 - p value < 0.05 y coef >= 0.4"
   ]
  },
  {
   "cell_type": "code",
   "execution_count": 28,
   "metadata": {},
   "outputs": [],
   "source": [
    "vars_modelo_3 = [\"gender\",\n",
    "\"federal_gov\",\n",
    "\"divorced\",\n",
    "\"married\",\n",
    "\"separated\",\n",
    "\"widowed\",\n",
    "\"others\",\n",
    "\"white_collar\",\n",
    "\"Not_in_family\",\n",
    "\"Other_relative\",\n",
    "\"Own_child\",\n",
    "\"Unmarried\",\n",
    "\"Wife\",\n",
    "\"Asian_Pac_Islander\",\n",
    "\"White\",\n",
    "\"america\",\n",
    "\"asia\",\n",
    "\"europe\"]\n",
    "\n",
    "y = df_final['income']\n",
    "X_modelo_3 = df_final[vars_modelo_3]\n",
    "X_modelo_3_escalado = StandardScaler().fit_transform(X_modelo_3)"
   ]
  },
  {
   "cell_type": "code",
   "execution_count": 29,
   "metadata": {},
   "outputs": [],
   "source": [
    "f1_modelo_3 = cross_val_score(LogisticRegression(),\n",
    "                              X=X_modelo_3_escalado,\n",
    "                              y=y,\n",
    "                              cv=10,\n",
    "                              scoring='f1')"
   ]
  },
  {
   "cell_type": "code",
   "execution_count": 30,
   "metadata": {},
   "outputs": [
    {
     "data": {
      "text/plain": [
       "0.6113837519954635"
      ]
     },
     "execution_count": 30,
     "metadata": {},
     "output_type": "execute_result"
    }
   ],
   "source": [
    "f1_modelo_3.mean()"
   ]
  },
  {
   "cell_type": "code",
   "execution_count": null,
   "metadata": {},
   "outputs": [],
   "source": []
  }
 ],
 "metadata": {
  "kernelspec": {
   "display_name": "base",
   "language": "python",
   "name": "python3"
  },
  "language_info": {
   "codemirror_mode": {
    "name": "ipython",
    "version": 3
   },
   "file_extension": ".py",
   "mimetype": "text/x-python",
   "name": "python",
   "nbconvert_exporter": "python",
   "pygments_lexer": "ipython3",
   "version": "3.9.13"
  },
  "orig_nbformat": 4,
  "vscode": {
   "interpreter": {
    "hash": "a677eee07fae7a05dc0065b321405b89ac79028a918e58c71b412840ee16c11e"
   }
  }
 },
 "nbformat": 4,
 "nbformat_minor": 2
}
