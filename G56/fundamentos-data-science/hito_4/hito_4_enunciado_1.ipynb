{
 "cells": [
  {
   "cell_type": "code",
   "execution_count": 1,
   "metadata": {},
   "outputs": [],
   "source": [
    "import warnings\n",
    "\n",
    "import pandas as pd\n",
    "import numpy as np\n",
    "\n",
    "import matplotlib.pyplot as plt\n",
    "import seaborn as sns\n",
    "\n",
    "import missingno as msno\n",
    "\n",
    "import statsmodels.api as sm\n",
    "import statsmodels.formula.api as smf\n",
    "\n",
    "from sklearn.model_selection import train_test_split\n",
    "from sklearn.preprocessing import StandardScaler\n",
    "from sklearn.linear_model import LogisticRegression\n",
    "from sklearn.model_selection import cross_val_score\n",
    "from sklearn.metrics import roc_curve, roc_auc_score\n",
    "\n",
    "import funciones_auxiliares_hito_4 as aux4\n",
    "from funciones_auxiliares_hito_2 import preprocesar_y_recodificar_enunciado_uno\n",
    "\n",
    "# warnings.filterwarnings('ignore')\n",
    "sns.set_theme()\n",
    "plt.rcParams['figure.figsize'] = (12, 6)"
   ]
  },
  {
   "cell_type": "code",
   "execution_count": 2,
   "metadata": {},
   "outputs": [],
   "source": [
    "df = pd.read_csv('income-db.csv')\n",
    "df_final = preprocesar_y_recodificar_enunciado_uno(df)"
   ]
  },
  {
   "attachments": {},
   "cell_type": "markdown",
   "metadata": {},
   "source": [
    "# 1. Modelo completo"
   ]
  },
  {
   "cell_type": "code",
   "execution_count": 3,
   "metadata": {},
   "outputs": [
    {
     "data": {
      "text/plain": [
       "0.9002500045669013"
      ]
     },
     "execution_count": 3,
     "metadata": {},
     "output_type": "execute_result"
    }
   ],
   "source": [
    "roc_acumulado = aux4.calcular_roc_cross_val(df_final, LogisticRegression(), 'income', 10)\n",
    "roc_acumulado.mean()"
   ]
  },
  {
   "attachments": {},
   "cell_type": "markdown",
   "metadata": {},
   "source": [
    "# 2. Modelo con variable p-value < 0.05"
   ]
  },
  {
   "cell_type": "code",
   "execution_count": 4,
   "metadata": {},
   "outputs": [],
   "source": [
    "var_modelo_2 = [\"age\",\n",
    "                \"fnlwgt\",\n",
    "                \"educational_num\",\n",
    "                \"gender\",\n",
    "                \"capital_gain\",\n",
    "                \"capital_loss\",\n",
    "                \"hours_per_week\",\n",
    "                \"federal_gov\",\n",
    "                \"self_employed\",\n",
    "                \"divorced\",\n",
    "                \"married\",\n",
    "                \"separated\",\n",
    "                \"widowed\",\n",
    "                \"others\",\n",
    "                \"white_collar\",\n",
    "                \"Not_in_family\",\n",
    "                \"Other_relative\",\n",
    "                \"Own_child\",\n",
    "                \"Unmarried\",\n",
    "                \"Wife\",\n",
    "                \"Asian_Pac_Islander\",\n",
    "                \"White\",\n",
    "                \"america\",\n",
    "                \"asia\",\n",
    "                \"europe\"]\n",
    "\n",
    "df_modelo_2 = df_final[var_modelo_2 + ['income']]\n"
   ]
  },
  {
   "cell_type": "code",
   "execution_count": 5,
   "metadata": {},
   "outputs": [
    {
     "data": {
      "text/plain": [
       "0.9003555292885993"
      ]
     },
     "execution_count": 5,
     "metadata": {},
     "output_type": "execute_result"
    }
   ],
   "source": [
    "roc_modelo_2 = aux4.calcular_roc_cross_val(df_modelo_2, LogisticRegression(), 'income', 10)\n",
    "roc_modelo_2.mean()"
   ]
  },
  {
   "attachments": {},
   "cell_type": "markdown",
   "metadata": {},
   "source": [
    "# Modelo 3 - p value < 0.05 y coef >= 0.4"
   ]
  },
  {
   "cell_type": "code",
   "execution_count": 6,
   "metadata": {},
   "outputs": [],
   "source": [
    "var_modelo_3 = [\"gender\",\n",
    "                \"federal_gov\",\n",
    "                \"divorced\",\n",
    "                \"married\",\n",
    "                \"separated\",\n",
    "                \"widowed\",\n",
    "                \"others\",\n",
    "                \"white_collar\",\n",
    "                \"Not_in_family\",\n",
    "                \"Other_relative\",\n",
    "                \"Own_child\",\n",
    "                \"Unmarried\",\n",
    "                \"Wife\",\n",
    "                \"Asian_Pac_Islander\",\n",
    "                \"White\",\n",
    "                \"america\",\n",
    "                \"asia\",\n",
    "                \"europe\"]\n",
    "\n",
    "df_modelo_3 = df_final[var_modelo_3 + ['income']]"
   ]
  },
  {
   "cell_type": "code",
   "execution_count": 7,
   "metadata": {},
   "outputs": [
    {
     "data": {
      "text/plain": [
       "0.8411547717143067"
      ]
     },
     "execution_count": 7,
     "metadata": {},
     "output_type": "execute_result"
    }
   ],
   "source": [
    "roc_modelo_3 = aux4.calcular_roc_cross_val(df_modelo_3, LogisticRegression(), 'income', 10)\n",
    "roc_modelo_3.mean()"
   ]
  }
 ],
 "metadata": {
  "kernelspec": {
   "display_name": "base",
   "language": "python",
   "name": "python3"
  },
  "language_info": {
   "codemirror_mode": {
    "name": "ipython",
    "version": 3
   },
   "file_extension": ".py",
   "mimetype": "text/x-python",
   "name": "python",
   "nbconvert_exporter": "python",
   "pygments_lexer": "ipython3",
   "version": "3.9.13"
  },
  "orig_nbformat": 4,
  "vscode": {
   "interpreter": {
    "hash": "a677eee07fae7a05dc0065b321405b89ac79028a918e58c71b412840ee16c11e"
   }
  }
 },
 "nbformat": 4,
 "nbformat_minor": 2
}
