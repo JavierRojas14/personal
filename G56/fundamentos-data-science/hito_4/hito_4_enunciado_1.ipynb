{
 "cells": [
  {
   "cell_type": "code",
   "execution_count": 1,
   "metadata": {},
   "outputs": [],
   "source": [
    "import warnings\n",
    "\n",
    "import pandas as pd\n",
    "\n",
    "from sklearn.linear_model import LogisticRegression\n",
    "\n",
    "import funciones_auxiliares_hito_4 as aux4\n",
    "from funciones_auxiliares_hito_2 import preprocesar_y_recodificar_enunciado_uno\n",
    "\n",
    "# warnings.filterwarnings('ignore')"
   ]
  },
  {
   "cell_type": "code",
   "execution_count": 2,
   "metadata": {},
   "outputs": [],
   "source": [
    "df = pd.read_csv('income-db.csv')\n",
    "df_final = preprocesar_y_recodificar_enunciado_uno(df)"
   ]
  },
  {
   "attachments": {},
   "cell_type": "markdown",
   "metadata": {},
   "source": [
    "# Recapitulación\n",
    "\n",
    "Como se mencionó en el hito 3, se realizarán 3 modelos predictivos distintos:\n",
    "\n",
    "1. Modelo con todas las variables, independiente del p-value encontrado\n",
    "2. Modelo que afectan significativamente a la variable dependiente (p < 0.05)\n",
    "3. Modelo que afectan significativamente a la variable dependiente (p < 0.05) y tengan un\n",
    "coeficiente absoluto > 0.6 ('gender', 'elementary_school', 'university', 'married',\n",
    "       'others', 'white_collar', 'Not_in_family', 'Other_relative',\n",
    "       'Own_child', 'Unmarried', 'Wife', 'Asian_Pac_Islander', 'america',\n",
    "       'asia', 'europe'])\n",
    "\n",
    "Por lo tanto, en los siguientes apartados se verá la modelación de cada uno de los modelos\n",
    "estipulados, junto a su desempeño con la métrica de roc-auc score.\n",
    "\n",
    "**Cabe destacar que previo a realizar el fit del modelo, todas las variables independientes seran\n",
    "escaladas con un StandardScaler()**"
   ]
  },
  {
   "attachments": {},
   "cell_type": "markdown",
   "metadata": {},
   "source": [
    "# 1. Modelo completo"
   ]
  },
  {
   "cell_type": "code",
   "execution_count": 3,
   "metadata": {},
   "outputs": [
    {
     "data": {
      "text/plain": [
       "0.8974375536798401"
      ]
     },
     "execution_count": 3,
     "metadata": {},
     "output_type": "execute_result"
    }
   ],
   "source": [
    "df_modelo_completo = df_final.copy()\n",
    "\n",
    "rocs_modelo_completo = aux4.calcular_roc_cross_val(LogisticRegression(), 10, 'roc_auc',\n",
    "                                                   df_modelo_completo, 'income')\n",
    "rocs_modelo_completo.mean()"
   ]
  },
  {
   "attachments": {},
   "cell_type": "markdown",
   "metadata": {},
   "source": [
    "# 2. Modelo con variable p-value < 0.05"
   ]
  },
  {
   "cell_type": "code",
   "execution_count": 4,
   "metadata": {},
   "outputs": [
    {
     "data": {
      "text/plain": [
       "0.8974140936193479"
      ]
     },
     "execution_count": 4,
     "metadata": {},
     "output_type": "execute_result"
    }
   ],
   "source": [
    "df_modelo_menor_a_005 = df_final[['Own_child', 'elementary_school', 'Other_relative',\n",
    "       'Unmarried', 'Not_in_family', 'gender', 'others', 'high_school',\n",
    "       'self_employed', 'fnlwgt', 'capital_gain', 'capital_loss', 'age',\n",
    "       'hours_per_week', 'separated', 'federal_gov', 'divorced', 'White',\n",
    "       'widowed', 'white_collar', 'Asian_Pac_Islander', 'university', 'Wife',\n",
    "       'asia', 'married', 'america', 'europe', 'income']]\n",
    "\n",
    "rocs_modelo_menor_a_005 = aux4.calcular_roc_cross_val(LogisticRegression(), 10, 'roc_auc',\n",
    "                                                   df_modelo_menor_a_005, 'income')\n",
    "\n",
    "rocs_modelo_menor_a_005.mean()"
   ]
  },
  {
   "attachments": {},
   "cell_type": "markdown",
   "metadata": {},
   "source": [
    "# 3. Modelo con p-value < 0.05 y coefs > 0.6"
   ]
  },
  {
   "cell_type": "code",
   "execution_count": 5,
   "metadata": {},
   "outputs": [
    {
     "data": {
      "text/plain": [
       "0.8567990818684967"
      ]
     },
     "execution_count": 5,
     "metadata": {},
     "output_type": "execute_result"
    }
   ],
   "source": [
    "df_modelo_menor_a_005_y_coef_06 = df_final[['gender', 'elementary_school', 'university', 'married',\n",
    "       'others', 'white_collar', 'Not_in_family', 'Other_relative',\n",
    "       'Own_child', 'Unmarried', 'Wife', 'Asian_Pac_Islander', 'america',\n",
    "       'asia', 'europe', 'income']]\n",
    "\n",
    "rocs_modelo_menor_a_005_y_coef_06 = aux4.calcular_roc_cross_val(LogisticRegression(), 10, 'roc_auc',\n",
    "                                                   df_modelo_menor_a_005_y_coef_06, 'income')\n",
    "\n",
    "rocs_modelo_menor_a_005_y_coef_06.mean()"
   ]
  },
  {
   "attachments": {},
   "cell_type": "markdown",
   "metadata": {},
   "source": [
    "# Selección del mejor modelo\n",
    "\n",
    "Los resultados obtenidos fueron los siguientes:\n",
    "\n",
    "|Modelo|ROC-AUC Score Promedio (Para una validación cruzada de 10-Folds)|\n",
    "|------|----------------------------------------------------------------|\n",
    "|Todas las variables|0.89743|\n",
    "|Variables con p-value < 0.05|0.89741|\n",
    "|Variables con p-value < 0.05 y coefs > 0.6|0.85680|\n",
    "\n",
    "Se puede ver que el modelo 1 y el modelo 2 presenten valores ROC-AUC Score muy similares entre si.\n",
    "Si nos ceñimos solamente a esta métrica, entonces el modelo 1 es el mejor modelo. Sin embargo, \n",
    "este modelo ocupa 32 variables independientes. Por otro lado, el modelo 2 ocupa 27 variables independientes (5 menos que el primer modelo). Teniendo en cuenta lo anterior, es posible confirmar \n",
    "que el modelo 2 es el mejor modelo de todos. Esto, ya que a pesar de tener un ROC-AUC Score promedio menor que el modelo 1, este es más parsimonioso (utiliza menos variables).\n",
    "\n",
    "O sea: **El modelo con variable p-value < 0.05 es el mejor modelo**"
   ]
  }
 ],
 "metadata": {
  "kernelspec": {
   "display_name": "Python 3",
   "language": "python",
   "name": "python3"
  },
  "language_info": {
   "codemirror_mode": {
    "name": "ipython",
    "version": 3
   },
   "file_extension": ".py",
   "mimetype": "text/x-python",
   "name": "python",
   "nbconvert_exporter": "python",
   "pygments_lexer": "ipython3",
   "version": "3.11.1"
  },
  "orig_nbformat": 4,
  "vscode": {
   "interpreter": {
    "hash": "8757bac6cc3bb0a7c6b692b7e5ba2ef1b4236e291f2a36c040e25f5684562b87"
   }
  }
 },
 "nbformat": 4,
 "nbformat_minor": 2
}
