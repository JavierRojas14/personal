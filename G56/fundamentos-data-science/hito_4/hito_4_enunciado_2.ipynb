{
 "cells": [
  {
   "cell_type": "code",
   "execution_count": 1,
   "metadata": {},
   "outputs": [],
   "source": [
    "import warnings\n",
    "\n",
    "import pandas as pd\n",
    "import numpy as np\n",
    "\n",
    "import matplotlib.pyplot as plt\n",
    "import seaborn as sns\n",
    "\n",
    "import missingno as msno\n",
    "\n",
    "import statsmodels.api as sm\n",
    "import statsmodels.formula.api as smf\n",
    "\n",
    "from sklearn.model_selection import train_test_split\n",
    "from sklearn.preprocessing import StandardScaler\n",
    "from sklearn.linear_model import LinearRegression\n",
    "from sklearn.model_selection import cross_val_score\n",
    "from sklearn.metrics import roc_curve, roc_auc_score\n",
    "\n",
    "import factor_analyzer as fact\n",
    "\n",
    "import funciones_auxiliares_hito_4 as aux4\n",
    "from funciones_auxiliares_hito_2 import preprocesar_y_recodificar_enunciado_dos\n",
    "\n",
    "# warnings.filterwarnings('ignore')\n",
    "sns.set_theme()\n",
    "plt.rcParams['figure.figsize'] = (12, 6)"
   ]
  },
  {
   "cell_type": "code",
   "execution_count": 13,
   "metadata": {},
   "outputs": [],
   "source": [
    "df = pd.read_csv('students.csv', delimiter='|').drop(columns='Unnamed: 0')\n",
    "df = preprocesar_y_recodificar_enunciado_dos(df)"
   ]
  },
  {
   "attachments": {},
   "cell_type": "markdown",
   "metadata": {},
   "source": [
    "# 1. Modelo completo"
   ]
  },
  {
   "cell_type": "code",
   "execution_count": 14,
   "metadata": {},
   "outputs": [
    {
     "data": {
      "text/plain": [
       "-1.8056642282291242"
      ]
     },
     "execution_count": 14,
     "metadata": {},
     "output_type": "execute_result"
    }
   ],
   "source": [
    "\n",
    "mse_acumulado = cross_val_score(LinearRegression(),\n",
    "                df.drop(columns='G1'),\n",
    "                df['G1'],\n",
    "                cv=10,\n",
    "                scoring='neg_root_mean_squared_error')\n",
    "mse_acumulado.mean()"
   ]
  },
  {
   "attachments": {},
   "cell_type": "markdown",
   "metadata": {},
   "source": [
    "# 2. Modelo con p - value < 0.05"
   ]
  },
  {
   "cell_type": "code",
   "execution_count": 15,
   "metadata": {},
   "outputs": [],
   "source": [
    "variables_seleccionadas = ['failures', 'goout', 'Walc', 'health', 'G1']\n",
    "df_vars_validas = df[variables_seleccionadas]"
   ]
  },
  {
   "cell_type": "code",
   "execution_count": 16,
   "metadata": {},
   "outputs": [
    {
     "data": {
      "text/plain": [
       "-3.071271605471467"
      ]
     },
     "execution_count": 16,
     "metadata": {},
     "output_type": "execute_result"
    }
   ],
   "source": [
    "\n",
    "mse_acumulado = cross_val_score(LinearRegression(),\n",
    "                df_vars_validas.drop(columns='G1'),\n",
    "                df_vars_validas['G1'],\n",
    "                cv=10,\n",
    "                scoring='neg_root_mean_squared_error')\n",
    "mse_acumulado.mean()"
   ]
  },
  {
   "attachments": {},
   "cell_type": "markdown",
   "metadata": {},
   "source": [
    "# 3. Modelo solapado "
   ]
  },
  {
   "cell_type": "code",
   "execution_count": 17,
   "metadata": {},
   "outputs": [],
   "source": [
    "vars_solapadas = ['studytime', 'failures', 'schoolsup', 'famsup', 'goout', 'health', 'Walc']\n",
    "df_solapadas = df[variables_seleccionadas + ['G1']]"
   ]
  },
  {
   "cell_type": "code",
   "execution_count": null,
   "metadata": {},
   "outputs": [],
   "source": [
    "mse_solapado_acumulado = cross_val_score(LinearRegression(),\n",
    "                df_solapadas.drop(columns='G1'),\n",
    "                df_solapadas['G1'],\n",
    "                cv=10,\n",
    "                scoring='neg_root_mean_squared_error')\n",
    "mse_acumulado.mean()"
   ]
  }
 ],
 "metadata": {
  "kernelspec": {
   "display_name": "base",
   "language": "python",
   "name": "python3"
  },
  "language_info": {
   "codemirror_mode": {
    "name": "ipython",
    "version": 3
   },
   "file_extension": ".py",
   "mimetype": "text/x-python",
   "name": "python",
   "nbconvert_exporter": "python",
   "pygments_lexer": "ipython3",
   "version": "3.9.13"
  },
  "orig_nbformat": 4,
  "vscode": {
   "interpreter": {
    "hash": "a677eee07fae7a05dc0065b321405b89ac79028a918e58c71b412840ee16c11e"
   }
  }
 },
 "nbformat": 4,
 "nbformat_minor": 2
}
