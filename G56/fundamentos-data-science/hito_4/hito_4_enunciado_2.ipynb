{
 "cells": [
  {
   "cell_type": "code",
   "execution_count": 4,
   "metadata": {},
   "outputs": [],
   "source": [
    "import warnings\n",
    "\n",
    "import pandas as pd\n",
    "\n",
    "from sklearn.linear_model import LinearRegression\n",
    "\n",
    "import funciones_auxiliares_hito_4 as aux4\n",
    "from funciones_auxiliares_hito_2 import preprocesar_y_recodificar_enunciado_dos\n",
    "\n",
    "warnings.filterwarnings('ignore')"
   ]
  },
  {
   "cell_type": "code",
   "execution_count": 5,
   "metadata": {},
   "outputs": [],
   "source": [
    "df = pd.read_csv('students.csv', delimiter='|')\n",
    "df = preprocesar_y_recodificar_enunciado_dos(df)"
   ]
  },
  {
   "attachments": {},
   "cell_type": "markdown",
   "metadata": {},
   "source": [
    "# 1. Modelo de variables significativas para ```G3```"
   ]
  },
  {
   "cell_type": "code",
   "execution_count": 7,
   "metadata": {},
   "outputs": [
    {
     "data": {
      "text/plain": [
       "-4.216359200889715"
      ]
     },
     "execution_count": 7,
     "metadata": {},
     "output_type": "execute_result"
    }
   ],
   "source": [
    "\n",
    "df_modelo_g3 = df[['failures', 'goout', 'Walc', 'health', 'G3']]\n",
    "\n",
    "rmse_modelo_g3 = aux4.calcular_cross_val(LinearRegression(), cv=10, \n",
    "                                         scoring='neg_root_mean_squared_error',\n",
    "                                         df=df_modelo_g3, vector_objetivo='G3')\n",
    "rmse_modelo_g3.mean()\n"
   ]
  },
  {
   "attachments": {},
   "cell_type": "markdown",
   "metadata": {},
   "source": [
    "# 2. Modelo de variables significativas para ```G1```"
   ]
  },
  {
   "cell_type": "code",
   "execution_count": 8,
   "metadata": {},
   "outputs": [
    {
     "data": {
      "text/plain": [
       "-4.211995543578074"
      ]
     },
     "execution_count": 8,
     "metadata": {},
     "output_type": "execute_result"
    }
   ],
   "source": [
    "\n",
    "df_modelo_g1 = df[['studytime', 'failures', 'schoolsup', 'famsup', 'goout', 'health', 'G3']]\n",
    "\n",
    "rmse_modelo_g1 = aux4.calcular_cross_val(LinearRegression(), cv=10, \n",
    "                                         scoring='neg_root_mean_squared_error',\n",
    "                                         df=df_modelo_g1, vector_objetivo='G3')\n",
    "rmse_modelo_g1.mean()"
   ]
  },
  {
   "attachments": {},
   "cell_type": "markdown",
   "metadata": {},
   "source": [
    "# 3. Modelo de variables significativas para ```G1```, ```G2``` y ```G3```"
   ]
  },
  {
   "cell_type": "code",
   "execution_count": 9,
   "metadata": {},
   "outputs": [
    {
     "data": {
      "text/plain": [
       "-4.249005812794638"
      ]
     },
     "execution_count": 9,
     "metadata": {},
     "output_type": "execute_result"
    }
   ],
   "source": [
    "\n",
    "df_modelo_g1_g2_g3 = df[['studytime', 'failures',\n",
    "                         'schoolsup', 'famsup', 'goout', 'health', 'Walc', 'G3']]\n",
    "\n",
    "rmse_modelo_g1_g2_g3 = aux4.calcular_cross_val(LinearRegression(), cv=10, \n",
    "                                               scoring='neg_root_mean_squared_error',\n",
    "                                               df=df_modelo_g1_g2_g3, vector_objetivo='G3')\n",
    "rmse_modelo_g1_g2_g3.mean()\n"
   ]
  }
 ],
 "metadata": {
  "kernelspec": {
   "display_name": "base",
   "language": "python",
   "name": "python3"
  },
  "language_info": {
   "codemirror_mode": {
    "name": "ipython",
    "version": 3
   },
   "file_extension": ".py",
   "mimetype": "text/x-python",
   "name": "python",
   "nbconvert_exporter": "python",
   "pygments_lexer": "ipython3",
   "version": "3.9.13"
  },
  "orig_nbformat": 4,
  "vscode": {
   "interpreter": {
    "hash": "af5f59eafcfa7ad9c06f1a742af686e767f586fd272c2b55836f60c5affb1887"
   }
  }
 },
 "nbformat": 4,
 "nbformat_minor": 2
}
