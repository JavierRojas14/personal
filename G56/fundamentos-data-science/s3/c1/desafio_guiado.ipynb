{
 "cells": [
  {
   "cell_type": "code",
   "execution_count": 15,
   "metadata": {},
   "outputs": [],
   "source": [
    "import pandas as pd\n",
    "import random\n",
    "\n",
    "DICCIONARIO_REGIONES = {1: 'EastEurope',\n",
    "                        2: 'LatAm',\n",
    "                        3: 'NorthAfrica',\n",
    "                        4: 'SubSaharian',\n",
    "                        5: 'WesternDem',\n",
    "                        6: 'EastAsia',\n",
    "                        7: 'SouthEastAsia',\n",
    "                        8: 'SouthAsia',\n",
    "                        9: 'Pacific',\n",
    "                        10: 'Caribbean'}"
   ]
  },
  {
   "attachments": {},
   "cell_type": "markdown",
   "metadata": {},
   "source": [
    "1. Genere una muestra de casos (1 punto). Para ello debesconsiderar:\n",
    "-  Utilice los últimos 4 dígitos de su rut como semilla pseudoaleatoria.\n",
    "-  Seleccione el 50% de los casos.\n",
    "-  Cada base generada debe contener los siguientes elementos:\n",
    "   -  El índice de desarrollo humano (undp_hdi).\n",
    "   -  El nombre del país (ccodealp).\n",
    "   -  La región a la que pertenece (ht_region).\n",
    "   -  El PIB per cápita. (gle_cgdpc).\n",
    "   -  El total de la población (imf_pop)\n",
    "\n",
    "- Si su apellido está entre la N y la Z, escoja las siguientes variables del módulo\n",
    "Salud:\n",
    "    -  wef_imort: Infant mortality, deaths/1000 live births.\n",
    "    -  who_alc2000: Alcohol consumption per capita (2000-).\n",
    "    -  who_tobt: Current smoking of any tobacco product (Total).\n",
    "    -  wdi_exph: Government expenditure on health, total(% of GDP).\n",
    "    -  Guarde esta tabla procesada en un nuevo objeto.\n",
    "    -  Renombre las categorías de la variableht_region denúmeros a regiones."
   ]
  },
  {
   "cell_type": "code",
   "execution_count": 83,
   "metadata": {},
   "outputs": [],
   "source": [
    "def obtener_mitad_casos_df(df_largo):\n",
    "    # Primero seria obtener el rango de indexes del df\n",
    "    # Después sería obtener cuantos elementos se requieren\n",
    "    # Después sería obtener la cantidad de elementos, pero sin repetirse\n",
    "    cincuenta_porciento_casos = int(round(df_largo / 2, 0))\n",
    "    indices_a_elegir = (random.sample(\n",
    "        range(df_largo), cincuenta_porciento_casos))\n",
    "    return indices_a_elegir\n",
    "\n",
    "\n",
    "def obtener_submuestra(df):\n",
    "    SEMILLA_PSEUDOALEATORIA = '0115'\n",
    "    random.seed(SEMILLA_PSEUDOALEATORIA)\n",
    "\n",
    "    columnas_a_utilizar = ['undp_hdi', 'ccodealp', 'ht_region', 'gle_cgdpc',\n",
    "                           'imf_pop', 'wef_imort', 'who_alc2000', 'who_tobt', 'wdi_exph']\n",
    "\n",
    "    casos_a_obtener = obtener_mitad_casos_df(df.shape[0])\n",
    "    df_cincuenta_casos = df.iloc[casos_a_obtener]\n",
    "    df_cincuenta_columnas_a_utilizar = df_cincuenta_casos[columnas_a_utilizar]\n",
    "\n",
    "    df_cincuenta_columnas_a_utilizar['ht_region'] = df_cincuenta_columnas_a_utilizar['ht_region'].replace(\n",
    "        DICCIONARIO_REGIONES)\n",
    "\n",
    "    return df_cincuenta_columnas_a_utilizar\n"
   ]
  },
  {
   "cell_type": "code",
   "execution_count": 84,
   "metadata": {},
   "outputs": [],
   "source": [
    "# Con las siguientes lineas se obtuvo el diccionario que relaciona las regiones con sus codigos\n",
    "\n",
    "# unidas = df_submuestra.merge(df_auxiliar, how='inner', on='ccodealp')\n",
    "# DICCIONARIO_REGIONES = dict(unidas.groupby(by=['ht_region_x', 'ht_region_y']).sum().index)"
   ]
  },
  {
   "cell_type": "code",
   "execution_count": 85,
   "metadata": {},
   "outputs": [],
   "source": [
    "df = pd.read_csv('qog_std_cs_jan18.csv')\n",
    "df_auxiliar = pd.read_csv('subsample_isz.csv')"
   ]
  },
  {
   "cell_type": "code",
   "execution_count": 86,
   "metadata": {},
   "outputs": [
    {
     "name": "stderr",
     "output_type": "stream",
     "text": [
      "C:\\Users\\Javier\\AppData\\Local\\Temp\\ipykernel_3552\\3785028379.py:22: SettingWithCopyWarning: \n",
      "A value is trying to be set on a copy of a slice from a DataFrame.\n",
      "Try using .loc[row_indexer,col_indexer] = value instead\n",
      "\n",
      "See the caveats in the documentation: https://pandas.pydata.org/pandas-docs/stable/user_guide/indexing.html#returning-a-view-versus-a-copy\n",
      "  df_cincuenta_columnas_a_utilizar['ht_region'] = df_cincuenta_columnas_a_utilizar['ht_region'].replace(\n"
     ]
    }
   ],
   "source": [
    "df_submuestra = obtener_submuestra(df)"
   ]
  },
  {
   "cell_type": "code",
   "execution_count": 100,
   "metadata": {},
   "outputs": [],
   "source": [
    "def obtener_descripciones_variables(objeto):\n",
    "    descripcion_variables_continuas = df_submuestra.describe()\n",
    "    print(descripcion_variables_continuas)\n",
    "\n",
    "    variables_continuas = descripcion_variables_continuas.columns\n",
    "    variables_discretas = set(df_submuestra.columns) - set(variables_continuas)\n",
    "\n",
    "    for variable_discreta in variables_discretas:\n",
    "        print(df_submuestra[variable_discreta].value_counts('%'))"
   ]
  },
  {
   "cell_type": "code",
   "execution_count": 101,
   "metadata": {},
   "outputs": [
    {
     "name": "stdout",
     "output_type": "stream",
     "text": [
      "        undp_hdi      gle_cgdpc     imf_pop   wef_imort  who_alc2000  \\\n",
      "count  91.000000      96.000000   75.000000   77.000000    87.000000   \n",
      "mean    0.693110   13141.156818   22.851093   24.360189     4.753908   \n",
      "std     0.142295   17773.468801   39.279938   24.648970     3.864448   \n",
      "min     0.421000     332.269990    0.012000    1.800000     0.000000   \n",
      "25%     0.594000    2866.250000    1.292000    7.200000     1.355000   \n",
      "50%     0.719000    6682.109850    6.880000   14.700000     3.780000   \n",
      "75%     0.793000   16388.190000   27.767500   35.700001     8.080000   \n",
      "max     0.938000  108481.130000  202.768997  117.400002    15.190000   \n",
      "\n",
      "        who_tobt   wdi_exph  \n",
      "count  61.000000  94.000000  \n",
      "mean   23.875410   6.768343  \n",
      "std     9.307822   2.713152  \n",
      "min     7.000000   1.475303  \n",
      "25%    16.200001   4.849392  \n",
      "50%    23.799999   6.428007  \n",
      "75%    30.299999   8.287694  \n",
      "max    48.900002  17.135723  \n",
      "BTN    0.010309\n",
      "NIC    0.010309\n",
      "HRV    0.010309\n",
      "FRA    0.010309\n",
      "BRB    0.010309\n",
      "         ...   \n",
      "EST    0.010309\n",
      "CPV    0.010309\n",
      "ESP    0.010309\n",
      "MEX    0.010309\n",
      "SLV    0.010309\n",
      "Name: ccodealp, Length: 97, dtype: float64\n",
      "SubSaharian      0.237113\n",
      "EastEurope       0.206186\n",
      "NorthAfrica      0.134021\n",
      "WesternDem       0.113402\n",
      "LatAm            0.092784\n",
      "Pacific          0.082474\n",
      "Caribbean        0.041237\n",
      "SouthAsia        0.030928\n",
      "EastAsia         0.030928\n",
      "SouthEastAsia    0.030928\n",
      "Name: ht_region, dtype: float64\n"
     ]
    }
   ],
   "source": [
    "obtener_descripciones_variables(df_submuestra)"
   ]
  },
  {
   "cell_type": "code",
   "execution_count": null,
   "metadata": {},
   "outputs": [],
   "source": []
  }
 ],
 "metadata": {
  "kernelspec": {
   "display_name": "base",
   "language": "python",
   "name": "python3"
  },
  "language_info": {
   "codemirror_mode": {
    "name": "ipython",
    "version": 3
   },
   "file_extension": ".py",
   "mimetype": "text/x-python",
   "name": "python",
   "nbconvert_exporter": "python",
   "pygments_lexer": "ipython3",
   "version": "3.9.13"
  },
  "orig_nbformat": 4,
  "vscode": {
   "interpreter": {
    "hash": "af5f59eafcfa7ad9c06f1a742af686e767f586fd272c2b55836f60c5affb1887"
   }
  }
 },
 "nbformat": 4,
 "nbformat_minor": 2
}
