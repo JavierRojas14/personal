{
 "cells": [
  {
   "cell_type": "code",
   "execution_count": 1,
   "metadata": {},
   "outputs": [],
   "source": [
    "import pandas as pd\n",
    "import random\n",
    "import numpy as np\n",
    "import matplotlib.pyplot as plt\n",
    "\n",
    "DICCIONARIO_REGIONES = {1: 'EastEurope',\n",
    "                        2: 'LatAm',\n",
    "                        3: 'NorthAfrica',\n",
    "                        4: 'SubSaharian',\n",
    "                        5: 'WesternDem',\n",
    "                        6: 'EastAsia',\n",
    "                        7: 'SouthEastAsia',\n",
    "                        8: 'SouthAsia',\n",
    "                        9: 'Pacific',\n",
    "                        10: 'Caribbean'}\n",
    "\n",
    "SEMILLA_PSEUDOALEATORIA = '0115'\n",
    "COLUMNAS_SALUD = ['wef_imort', 'who_alc2000', 'who_tobt', 'wdi_exph']"
   ]
  },
  {
   "cell_type": "code",
   "execution_count": 2,
   "metadata": {},
   "outputs": [],
   "source": [
    "def obtener_mitad_casos_df(df_largo):\n",
    "    # Primero seria obtener el rango de indexes del df\n",
    "    # Después sería obtener cuantos elementos se requieren\n",
    "    # Después sería obtener la cantidad de elementos, pero sin repetirse\n",
    "    cincuenta_porciento_casos = int(round(df_largo / 2, 0))\n",
    "    indices_a_elegir = (random.sample(\n",
    "        range(df_largo), cincuenta_porciento_casos))\n",
    "    return indices_a_elegir\n",
    "\n",
    "\n",
    "def obtener_submuestra(df):\n",
    "    random.seed(SEMILLA_PSEUDOALEATORIA)\n",
    "\n",
    "    columnas_a_utilizar = ['undp_hdi', 'ccodealp', 'ht_region', 'gle_cgdpc',\n",
    "                           'imf_pop'] + COLUMNAS_SALUD\n",
    "\n",
    "    casos_a_obtener = obtener_mitad_casos_df(df.shape[0])\n",
    "    df_cincuenta_casos = df.iloc[casos_a_obtener]\n",
    "    df_cincuenta_columnas_a_utilizar = df_cincuenta_casos[columnas_a_utilizar]\n",
    "\n",
    "    df_cincuenta_columnas_a_utilizar['ht_region'] = df_cincuenta_columnas_a_utilizar['ht_region'].replace(\n",
    "        DICCIONARIO_REGIONES)\n",
    "\n",
    "    return df_cincuenta_columnas_a_utilizar\n",
    "\n",
    "\n",
    "def obtener_descripciones_variables(objeto):\n",
    "    descripcion_variables_continuas = objeto.describe()\n",
    "    print(descripcion_variables_continuas)\n",
    "\n",
    "    variables_continuas = descripcion_variables_continuas.columns\n",
    "    variables_discretas = set(objeto.columns) - set(variables_continuas)\n",
    "\n",
    "    for variable_discreta in variables_discretas:\n",
    "        print(objeto[variable_discreta].value_counts())\n",
    "\n",
    "\n",
    "def calcular_observaciones_perdidas(dataframe, var, print_list=False):\n",
    "    cantidad_lista_nan = dataframe[var].value_counts(dropna=False)\n",
    "    porcentaje_lista_nan = dataframe[var].value_counts('%', dropna=False)\n",
    "\n",
    "    if np.nan in cantidad_lista_nan.index:\n",
    "        cantidad_nan = cantidad_lista_nan[np.nan]\n",
    "        porcentaje_nan = porcentaje_lista_nan[np.nan]\n",
    "\n",
    "    else:\n",
    "        cantidad_nan = 0\n",
    "        porcentaje_nan = 0\n",
    "\n",
    "    if print_list:\n",
    "        return cantidad_nan, porcentaje_nan, porcentaje_lista_nan\n",
    "\n",
    "    else:\n",
    "        return cantidad_nan, porcentaje_nan\n",
    "\n",
    "def graficar_histograma(sample_df, full_df, var, true_mean, sample_mean=False):\n",
    "    plt.hist(sample_df[var])\n",
    "\n",
    "    if sample_mean:\n",
    "        plt.axvline(sample_df[var].mean(), color='yellow')\n",
    "    \n",
    "    if true_mean:\n",
    "        plt.axvline(full_df[var].mean(), color='red')\n",
    "    \n",
    "    plt.show()\n"
   ]
  },
  {
   "cell_type": "code",
   "execution_count": 3,
   "metadata": {},
   "outputs": [],
   "source": [
    "# Con las siguientes lineas se obtuvo el diccionario que relaciona las regiones con sus codigos\n",
    "\n",
    "# unidas = df_submuestra.merge(df_auxiliar, how='inner', on='ccodealp')\n",
    "# DICCIONARIO_REGIONES = dict(unidas.groupby(by=['ht_region_x', 'ht_region_y']).sum().index)"
   ]
  },
  {
   "cell_type": "code",
   "execution_count": 4,
   "metadata": {},
   "outputs": [],
   "source": [
    "df = pd.read_csv('qog_std_cs_jan18.csv')\n",
    "df_auxiliar = pd.read_csv('subsample_isz.csv')"
   ]
  },
  {
   "cell_type": "code",
   "execution_count": 5,
   "metadata": {},
   "outputs": [
    {
     "name": "stdout",
     "output_type": "stream",
     "text": [
      "        undp_hdi      gle_cgdpc     imf_pop   wef_imort  who_alc2000  \\\n",
      "count  91.000000      96.000000   75.000000   77.000000    87.000000   \n",
      "mean    0.693110   13141.156818   22.851093   24.360189     4.753908   \n",
      "std     0.142295   17773.468801   39.279938   24.648970     3.864448   \n",
      "min     0.421000     332.269990    0.012000    1.800000     0.000000   \n",
      "25%     0.594000    2866.250000    1.292000    7.200000     1.355000   \n",
      "50%     0.719000    6682.109850    6.880000   14.700000     3.780000   \n",
      "75%     0.793000   16388.190000   27.767500   35.700001     8.080000   \n",
      "max     0.938000  108481.130000  202.768997  117.400002    15.190000   \n",
      "\n",
      "        who_tobt   wdi_exph  \n",
      "count  61.000000  94.000000  \n",
      "mean   23.875410   6.768343  \n",
      "std     9.307822   2.713152  \n",
      "min     7.000000   1.475303  \n",
      "25%    16.200001   4.849392  \n",
      "50%    23.799999   6.428007  \n",
      "75%    30.299999   8.287694  \n",
      "max    48.900002  17.135723  \n",
      "SubSaharian      23\n",
      "EastEurope       20\n",
      "NorthAfrica      13\n",
      "WesternDem       11\n",
      "LatAm             9\n",
      "Pacific           8\n",
      "Caribbean         4\n",
      "SouthAsia         3\n",
      "EastAsia          3\n",
      "SouthEastAsia     3\n",
      "Name: ht_region, dtype: int64\n",
      "BTN    1\n",
      "NIC    1\n",
      "HRV    1\n",
      "FRA    1\n",
      "BRB    1\n",
      "      ..\n",
      "EST    1\n",
      "CPV    1\n",
      "ESP    1\n",
      "MEX    1\n",
      "SLV    1\n",
      "Name: ccodealp, Length: 97, dtype: int64\n"
     ]
    },
    {
     "name": "stderr",
     "output_type": "stream",
     "text": [
      "C:\\Users\\Javier\\AppData\\Local\\Temp\\ipykernel_11592\\3539403651.py:21: SettingWithCopyWarning: \n",
      "A value is trying to be set on a copy of a slice from a DataFrame.\n",
      "Try using .loc[row_indexer,col_indexer] = value instead\n",
      "\n",
      "See the caveats in the documentation: https://pandas.pydata.org/pandas-docs/stable/user_guide/indexing.html#returning-a-view-versus-a-copy\n",
      "  df_cincuenta_columnas_a_utilizar['ht_region'] = df_cincuenta_columnas_a_utilizar['ht_region'].replace(\n"
     ]
    }
   ],
   "source": [
    "df_submuestra = obtener_submuestra(df)\n",
    "obtener_descripciones_variables(df_submuestra)\n",
    "\n",
    "# La descripcion de las variables gle_cgdpc, undp_hdi e imf_pop se muestran en las columnas\n",
    "# mostradas abajo"
   ]
  },
  {
   "cell_type": "code",
   "execution_count": 6,
   "metadata": {},
   "outputs": [
    {
     "name": "stdout",
     "output_type": "stream",
     "text": [
      "El porcentaje de na de undp_hdi es 6.185567010309279\n",
      "El porcentaje de na de ccodealp es 0\n",
      "El porcentaje de na de ht_region es 0\n",
      "El porcentaje de na de gle_cgdpc es 1.0309278350515463\n",
      "El porcentaje de na de imf_pop es 22.68041237113402\n",
      "El porcentaje de na de wef_imort es 20.618556701030926\n",
      "El porcentaje de na de who_alc2000 es 10.309278350515463\n",
      "El porcentaje de na de who_tobt es 37.11340206185567\n",
      "El porcentaje de na de wdi_exph es 3.0927835051546393\n",
      "\n",
      "La lista de valores para who_tobt es:\n",
      "NaN          0.371134\n",
      "23.799999    0.030928\n",
      "26.700001    0.020619\n",
      "30.700001    0.020619\n",
      "14.200000    0.020619\n",
      "21.900000    0.020619\n",
      "14.500000    0.020619\n",
      "30.299999    0.020619\n",
      "23.500000    0.010309\n",
      "28.100000    0.010309\n",
      "33.400002    0.010309\n",
      "11.700000    0.010309\n",
      "39.200001    0.010309\n",
      "22.000000    0.010309\n",
      "28.000000    0.010309\n",
      "36.799999    0.010309\n",
      "15.300000    0.010309\n",
      "7.000000     0.010309\n",
      "36.000000    0.010309\n",
      "19.500000    0.010309\n",
      "34.400002    0.010309\n",
      "30.400000    0.010309\n",
      "13.300000    0.010309\n",
      "23.200001    0.010309\n",
      "12.400000    0.010309\n",
      "26.799999    0.010309\n",
      "8.900000     0.010309\n",
      "16.200001    0.010309\n",
      "22.299999    0.010309\n",
      "17.600000    0.010309\n",
      "30.000000    0.010309\n",
      "8.800000     0.010309\n",
      "12.200000    0.010309\n",
      "29.600000    0.010309\n",
      "16.299999    0.010309\n",
      "30.200001    0.010309\n",
      "30.100000    0.010309\n",
      "30.500000    0.010309\n",
      "37.000000    0.010309\n",
      "16.100000    0.010309\n",
      "25.400000    0.010309\n",
      "10.300000    0.010309\n",
      "33.200001    0.010309\n",
      "18.600000    0.010309\n",
      "39.500000    0.010309\n",
      "17.100000    0.010309\n",
      "13.500000    0.010309\n",
      "34.000000    0.010309\n",
      "24.100000    0.010309\n",
      "18.500000    0.010309\n",
      "48.900002    0.010309\n",
      "18.900000    0.010309\n",
      "42.099998    0.010309\n",
      "17.500000    0.010309\n",
      "Name: who_tobt, dtype: float64\n",
      "La lista de valores para imf_pop es:\n",
      "NaN           0.226804\n",
      "0.766000      0.010309\n",
      "33.179001     0.010309\n",
      "64.028000     0.010309\n",
      "0.279000      0.010309\n",
      "                ...   \n",
      "143.429001    0.010309\n",
      "1.316000      0.010309\n",
      "0.512000      0.010309\n",
      "46.455002     0.010309\n",
      "0.329000      0.010309\n",
      "Name: imf_pop, Length: 76, dtype: float64\n",
      "La lista de valores para wef_imort es:\n",
      "NaN          0.206186\n",
      "3.400000     0.030928\n",
      "15.100000    0.020619\n",
      "5.700000     0.020619\n",
      "79.599998    0.010309\n",
      "               ...   \n",
      "2.900000     0.010309\n",
      "18.900000    0.010309\n",
      "3.800000     0.010309\n",
      "13.900000    0.010309\n",
      "13.600000    0.010309\n",
      "Name: wef_imort, Length: 74, dtype: float64\n"
     ]
    }
   ],
   "source": [
    "for variable in df_submuestra.columns:\n",
    "    cantidad_na, porcentaje_na, lista_na = calcular_observaciones_perdidas(\n",
    "        df_submuestra, variable, True)\n",
    "    \n",
    "    print(f'El porcentaje de na de {variable} es {porcentaje_na * 100}')\n",
    "\n",
    "print()\n",
    "# Segun los resultados, las 3 variables con mayor porcentaje de na son:\n",
    "\n",
    "variables_con_mas_na = ['who_tobt', 'imf_pop', 'wef_imort']\n",
    "\n",
    "for variable in variables_con_mas_na:\n",
    "    cantidad_na, porcentaje_na, lista_na = calcular_observaciones_perdidas(\n",
    "        df_submuestra, variable, True)\n",
    "    \n",
    "    print(f'La lista de valores para {variable} es:\\n{lista_na}')"
   ]
  },
  {
   "cell_type": "code",
   "execution_count": 7,
   "metadata": {},
   "outputs": [
    {
     "name": "stdout",
     "output_type": "stream",
     "text": [
      "Graficando la variable wef_imort\n"
     ]
    },
    {
     "data": {
      "image/png": "[encoded data removed]",
      "text/plain": [
       "<Figure size 640x480 with 1 Axes>"
      ]
     },
     "metadata": {},
     "output_type": "display_data"
    },
    {
     "name": "stdout",
     "output_type": "stream",
     "text": [
      "Graficando la variable who_alc2000\n"
     ]
    },
    {
     "data": {
      "image/png": "[encoded data removed]",
      "text/plain": [
       "<Figure size 640x480 with 1 Axes>"
      ]
     },
     "metadata": {},
     "output_type": "display_data"
    },
    {
     "name": "stdout",
     "output_type": "stream",
     "text": [
      "Graficando la variable who_tobt\n"
     ]
    },
    {
     "data": {
      "image/png": "[encoded data removed]",
      "text/plain": [
       "<Figure size 640x480 with 1 Axes>"
      ]
     },
     "metadata": {},
     "output_type": "display_data"
    },
    {
     "name": "stdout",
     "output_type": "stream",
     "text": [
      "Graficando la variable wdi_exph\n"
     ]
    },
    {
     "data": {
      "image/png": "[encoded data removed]",
      "text/plain": [
       "<Figure size 640x480 with 1 Axes>"
      ]
     },
     "metadata": {},
     "output_type": "display_data"
    }
   ],
   "source": [
    "for variable_salud in COLUMNAS_SALUD:\n",
    "    print(f'Graficando la variable {variable_salud}')\n",
    "    graficar_histograma(df_submuestra, df, variable_salud, True, True)\n",
    "\n",
    "# Amarillo para muestra y Rojo para total\n",
    "\n",
    "# Segun los resultados, las variables wef_import y who_tobt tienen una media mayor\n",
    "# en su muestra que en el dataframe completo"
   ]
  },
  {
   "cell_type": "code",
   "execution_count": 8,
   "metadata": {},
   "outputs": [],
   "source": [
    "def graficar_dotplot_variable(dataframe, plot_var, plot_by, statistic='mean', global_stat=False):\n",
    "    a_graficar = dataframe.groupby(plot_by)[plot_var]"
   ]
  },
  {
   "cell_type": "code",
   "execution_count": 9,
   "metadata": {},
   "outputs": [
    {
     "data": {
      "text/plain": [
       "ccodealp\n",
       "AFG    29.825001\n",
       "AGO    25.789000\n",
       "ARE     0.000000\n",
       "ARM     2.980000\n",
       "AZE     9.342000\n",
       "         ...    \n",
       "UGA    37.599998\n",
       "UKR    42.759998\n",
       "UZB    29.746000\n",
       "VUT     0.257000\n",
       "ZWE    12.459000\n",
       "Name: imf_pop, Length: 97, dtype: float64"
      ]
     },
     "execution_count": 9,
     "metadata": {},
     "output_type": "execute_result"
    }
   ],
   "source": [
    "df_submuestra.groupby(by=['ccodealp'])['imf_pop'].sum()"
   ]
  },
  {
   "cell_type": "code",
   "execution_count": 10,
   "metadata": {},
   "outputs": [],
   "source": [
    "# O sea, hay que obtener las medidas de la media para cada una de las regiones.\n",
    "# Por lo tanto, hay que iterar por cada una de las regiones\n",
    "# Luego, para cada una de las regiones "
   ]
  },
  {
   "cell_type": "code",
   "execution_count": 12,
   "metadata": {},
   "outputs": [],
   "source": [
    "df_submuestra.to_csv('subsample_JARB_demo.csv')"
   ]
  },
  {
   "cell_type": "code",
   "execution_count": null,
   "metadata": {},
   "outputs": [],
   "source": []
  }
 ],
 "metadata": {
  "kernelspec": {
   "display_name": "base",
   "language": "python",
   "name": "python3"
  },
  "language_info": {
   "codemirror_mode": {
    "name": "ipython",
    "version": 3
   },
   "file_extension": ".py",
   "mimetype": "text/x-python",
   "name": "python",
   "nbconvert_exporter": "python",
   "pygments_lexer": "ipython3",
   "version": "3.9.13"
  },
  "orig_nbformat": 4,
  "vscode": {
   "interpreter": {
    "hash": "af5f59eafcfa7ad9c06f1a742af686e767f586fd272c2b55836f60c5affb1887"
   }
  }
 },
 "nbformat": 4,
 "nbformat_minor": 2
}
