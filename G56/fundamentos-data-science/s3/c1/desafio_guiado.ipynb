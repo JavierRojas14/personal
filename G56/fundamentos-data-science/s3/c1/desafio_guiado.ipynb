{
 "cells": [
  {
   "cell_type": "code",
   "execution_count": 15,
   "metadata": {},
   "outputs": [],
   "source": [
    "import pandas as pd\n",
    "import random"
   ]
  },
  {
   "attachments": {},
   "cell_type": "markdown",
   "metadata": {},
   "source": [
    "1. Genere una muestra de casos (1 punto). Para ello debesconsiderar:\n",
    "-  Utilice los últimos 4 dígitos de su rut como semilla pseudoaleatoria.\n",
    "-  Seleccione el 50% de los casos.\n",
    "-  Cada base generada debe contener los siguientes elementos:\n",
    "   -  El índice de desarrollo humano (undp_hdi).\n",
    "   -  El nombre del país (ccodealp).\n",
    "   -  La región a la que pertenece (ht_region).\n",
    "   -  El PIB per cápita. (gle_cgdpc).\n",
    "   -  El total de la población (imf_pop)\n",
    "\n",
    "- Si su apellido está entre la N y la Z, escoja las siguientes variables del módulo\n",
    "Salud:\n",
    "    -  wef_imort: Infant mortality, deaths/1000 live births.\n",
    "    -  who_alc2000: Alcohol consumption per capita (2000-).\n",
    "    -  who_tobt: Current smoking of any tobacco product (Total).\n",
    "    -  wdi_exph: Government expenditure on health, total(% of GDP).\n",
    "    -  Guarde esta tabla procesada en un nuevo objeto.\n",
    "    -  Renombre las categorías de la variableht_region denúmeros a regiones."
   ]
  },
  {
   "cell_type": "code",
   "execution_count": 53,
   "metadata": {},
   "outputs": [],
   "source": [
    "def obtener_mitad_casos_df(df_largo):\n",
    "    # Primero seria obtener el rango de indexes del df\n",
    "    # Después sería obtener cuantos elementos se requieren\n",
    "    # Después sería obtener la cantidad de elementos, pero sin repetirse\n",
    "    cincuenta_porciento_casos = int(round(df_largo / 2, 0))\n",
    "    indices_a_elegir = (random.sample(\n",
    "        range(df_largo), cincuenta_porciento_casos))\n",
    "    return indices_a_elegir\n",
    "\n",
    "\n",
    "def obtener_submuestra(df):\n",
    "    SEMILLA_PSEUDOALEATORIA = '0115'\n",
    "    random.seed(SEMILLA_PSEUDOALEATORIA)\n",
    "\n",
    "    columnas_a_utilizar = ['undp_hdi', 'ccodealp', 'ht_region', 'gle_cgdpc',\n",
    "                           'imf_pop', 'wef_imort', 'who_alc2000', 'who_tobt', 'wdi_exph']\n",
    "\n",
    "    casos_a_obtener = obtener_mitad_casos_df(df.shape[0])\n",
    "    df_cincuenta_casos = df.iloc[casos_a_obtener]\n",
    "    df_cincuenta_columnas_a_utilizar = df_cincuenta_casos[columnas_a_utilizar]\n",
    "\n",
    "    return df_cincuenta_columnas_a_utilizar\n"
   ]
  },
  {
   "cell_type": "code",
   "execution_count": 72,
   "metadata": {},
   "outputs": [],
   "source": [
    "df = pd.read_csv('qog_std_cs_jan18.csv')\n",
    "df_auxiliar = pd.read_csv('subsample_isz.csv')"
   ]
  },
  {
   "cell_type": "code",
   "execution_count": 73,
   "metadata": {},
   "outputs": [],
   "source": [
    "df_submuestra = obtener_submuestra(df)"
   ]
  },
  {
   "cell_type": "code",
   "execution_count": 76,
   "metadata": {},
   "outputs": [],
   "source": [
    "unidas = df_submuestra.merge(df_auxiliar, how='inner', on='ccodealp')\n",
    "DICCIONARIO_REGIONES = dict(unidas.groupby(by=['ht_region_x', 'ht_region_y']).sum().index)"
   ]
  }
 ],
 "metadata": {
  "kernelspec": {
   "display_name": "base",
   "language": "python",
   "name": "python3"
  },
  "language_info": {
   "codemirror_mode": {
    "name": "ipython",
    "version": 3
   },
   "file_extension": ".py",
   "mimetype": "text/x-python",
   "name": "python",
   "nbconvert_exporter": "python",
   "pygments_lexer": "ipython3",
   "version": "3.9.13"
  },
  "orig_nbformat": 4,
  "vscode": {
   "interpreter": {
    "hash": "af5f59eafcfa7ad9c06f1a742af686e767f586fd272c2b55836f60c5affb1887"
   }
  }
 },
 "nbformat": 4,
 "nbformat_minor": 2
}
