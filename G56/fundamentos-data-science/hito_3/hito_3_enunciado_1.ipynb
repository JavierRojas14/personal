{
 "cells": [
  {
   "cell_type": "code",
   "execution_count": 1,
   "metadata": {},
   "outputs": [],
   "source": [
    "import warnings\n",
    "\n",
    "import pandas as pd\n",
    "import numpy as np\n",
    "\n",
    "import matplotlib.pyplot as plt\n",
    "import seaborn as sns\n",
    "\n",
    "import missingno as msno\n",
    "\n",
    "import statsmodels.api as sm\n",
    "import statsmodels.formula.api as smf\n",
    "\n",
    "from sklearn.model_selection import train_test_split\n",
    "from sklearn.preprocessing import StandardScaler\n",
    "from sklearn.linear_model import LogisticRegression\n",
    "from sklearn.model_selection import cross_val_score\n",
    "from sklearn.metrics import roc_curve, roc_auc_score\n",
    "\n",
    "import funciones_auxiliares as aux\n",
    "\n",
    "# warnings.filterwarnings('ignore')\n",
    "sns.set_theme()\n",
    "plt.rcParams['figure.figsize'] = (12, 6)"
   ]
  },
  {
   "cell_type": "code",
   "execution_count": 18,
   "metadata": {},
   "outputs": [],
   "source": [
    "df = pd.read_csv('income-db.csv')"
   ]
  },
  {
   "cell_type": "code",
   "execution_count": 22,
   "metadata": {},
   "outputs": [],
   "source": [
    "df_depurada = df.replace('?', np.nan)\n",
    "df_depurada = df_depurada.dropna()"
   ]
  },
  {
   "cell_type": "code",
   "execution_count": 25,
   "metadata": {},
   "outputs": [],
   "source": [
    "REEMPLAZO_OCCUPATION = {'white-collar': ['Prof-specialty', 'Exec-managerial', 'Adm-clerical', 'Sales',\n",
    "                                         'Tech-support'],\n",
    "                        'blue-collar': ['Craft-repair', 'Machine-op-inspct', 'Transport-moving',\n",
    "                                        'Handlers-cleaners', 'Farming-fishing', 'Protective-serv',\n",
    "                                        'Priv-house-serv'],\n",
    "                        'others': ['Other-service', 'Armed-Forces']}\n",
    "\n",
    "REEMPLAZO_WORKCLASS = {'federal-gov': ['Federal-gov'],\n",
    "                       'state-level-gov': ['State-gov', 'Local-gov'],\n",
    "                       'self-employed': ['Self-emp-inc', 'Self-emp-not-inc'],\n",
    "                       'unemployed': ['Never-worked', 'Without-pay']}\n",
    "\n",
    "REEMPLAZO_EDUCATION = {'preschool': ['Preschool'],\n",
    "                       'elementary-school': ['1st-4th', '5th-6th'],\n",
    "                       'high-school': ['7th-8th', '9th', '10th','11th', '12th', 'HS-grad'],\n",
    "                       'college': ['Assoc-voc', 'Assoc-acdm', 'Some-college'],\n",
    "                       'university': ['Bachelors', 'Masters', 'Prof-school', 'Doctorate']}\n",
    "\n",
    "REEMPLAZO_MARITAL = {'married': ['Married-civ-spouse', 'Married-spouse-absent','Married-AF-spouse'],\n",
    "                     'divorced': ['Divorced'],\n",
    "                     'separated': ['Separated'],\n",
    "                     'widowed': ['Widowed']}\n",
    "\n",
    "REEMPLAZO_COUNTRY = {'america': [United-States, Mexico, Puerto-Rico, Canada, El-Salvador, Cuba, \n",
    "                                 Jamaica, Dominican-Republic, Guatemala, Columbia, Haiti],\n",
    "                     'asia': [Philippines, India, China, Japan, Vietnam, Taiwan],\n",
    "                     'europe': [Germany, England, Italy, Poland, Portugal],\n",
    "                     'oceania': [],\n",
    "                     'africa': [South]}\n",
    "\n",
    "\n",
    "def recodificar_variable(df, diccionario_cambio):\n",
    "    tmp = df.copy()\n",
    "    for valor_nuevo, valores_antiguos in diccionario_cambio.items():\n",
    "        tmp = tmp.replace(valores_antiguos, valor_nuevo)\n",
    "\n",
    "    return tmp\n"
   ]
  },
  {
   "cell_type": "code",
   "execution_count": 26,
   "metadata": {},
   "outputs": [],
   "source": [
    "limpia = preprocesar_occupation(df_depurada)"
   ]
  },
  {
   "cell_type": "code",
   "execution_count": 33,
   "metadata": {},
   "outputs": [
    {
     "data": {
      "text/plain": [
       "United-States                 43832\n",
       "Mexico                          951\n",
       "?                               857\n",
       "Philippines                     295\n",
       "Germany                         206\n",
       "Puerto-Rico                     184\n",
       "Canada                          182\n",
       "El-Salvador                     155\n",
       "India                           151\n",
       "Cuba                            138\n",
       "England                         127\n",
       "China                           122\n",
       "South                           115\n",
       "Jamaica                         106\n",
       "Italy                           105\n",
       "Dominican-Republic              103\n",
       "Japan                            92\n",
       "Guatemala                        88\n",
       "Poland                           87\n",
       "Vietnam                          86\n",
       "Columbia                         85\n",
       "Haiti                            75\n",
       "Portugal                         67\n",
       "Taiwan                           65\n",
       "Iran                             59\n",
       "Greece                           49\n",
       "Nicaragua                        49\n",
       "Peru                             46\n",
       "Ecuador                          45\n",
       "France                           38\n",
       "Ireland                          37\n",
       "Hong                             30\n",
       "Thailand                         30\n",
       "Cambodia                         28\n",
       "Trinadad&Tobago                  27\n",
       "Laos                             23\n",
       "Yugoslavia                       23\n",
       "Outlying-US(Guam-USVI-etc)       23\n",
       "Scotland                         21\n",
       "Honduras                         20\n",
       "Hungary                          19\n",
       "Holand-Netherlands                1\n",
       "Name: native-country, dtype: int64"
      ]
     },
     "execution_count": 33,
     "metadata": {},
     "output_type": "execute_result"
    }
   ],
   "source": [
    "df['native-country'].value_counts()"
   ]
  },
  {
   "cell_type": "code",
   "execution_count": null,
   "metadata": {},
   "outputs": [],
   "source": []
  }
 ],
 "metadata": {
  "kernelspec": {
   "display_name": "Python 3",
   "language": "python",
   "name": "python3"
  },
  "language_info": {
   "codemirror_mode": {
    "name": "ipython",
    "version": 3
   },
   "file_extension": ".py",
   "mimetype": "text/x-python",
   "name": "python",
   "nbconvert_exporter": "python",
   "pygments_lexer": "ipython3",
   "version": "3.11.1"
  },
  "orig_nbformat": 4,
  "vscode": {
   "interpreter": {
    "hash": "8757bac6cc3bb0a7c6b692b7e5ba2ef1b4236e291f2a36c040e25f5684562b87"
   }
  }
 },
 "nbformat": 4,
 "nbformat_minor": 2
}
