{
 "cells": [
  {
   "attachments": {},
   "cell_type": "markdown",
   "metadata": {},
   "source": [
    "# Objetivo del desafio\n",
    "\n",
    "Conocer los determinantes (las variables) de la variacion en el promedio de deuda en tarjeta de\n",
    "credito. Por lo tanto, ver que variables afectan a la deuda de credito:\n",
    "\n",
    "- Balance es la variable dependiente\n",
    "- Hay que encontrar las variables dependientes\n",
    "\n",
    "## Que hay que hacer?\n",
    "\n",
    "Generar modelos econometricos (probados por hipotesis estadisticas) para inspeccionar los efectos."
   ]
  },
  {
   "attachments": {},
   "cell_type": "markdown",
   "metadata": {},
   "source": [
    "1. Preparar el ambiente de trabajo (1 puntos). Para ello debes:\n",
    "- Importe las librerías básicas para el análisis de datos.\n",
    "- Incluya los import base de statsmodels.\n",
    "- Importe la base de datos Credit.csv y elimine la columna Unnamed: 0.\n",
    "- Siguiendo las buenas prácticas, genere variables binarias para capturar el efecto\n",
    "del grupo minoritario en cada variable. Para el caso de Ethnicity, genere binarias\n",
    "para African American, Caucasian y Asian.\n",
    "Tip: Utilice value_counts() para revisar la cantidad de casos en las variables\n",
    "categóricas.\n"
   ]
  },
  {
   "cell_type": "code",
   "execution_count": 1,
   "metadata": {},
   "outputs": [],
   "source": [
    "import pandas as pd\n",
    "import numpy as np\n",
    "import statsmodels.api as sm\n",
    "import statsmodels.formula.api as smf\n",
    "\n",
    "import matplotlib.pyplot as plt\n",
    "import seaborn as sns\n",
    "\n",
    "plt.style.use('seaborn-whitegrid')\n",
    "plt.rcParams['figure.figsize'] = (10, 6)"
   ]
  },
  {
   "cell_type": "code",
   "execution_count": 2,
   "metadata": {},
   "outputs": [],
   "source": [
    "df = pd.read_csv('Credit.csv').drop(columns='Unnamed: 0')"
   ]
  },
  {
   "cell_type": "code",
   "execution_count": 8,
   "metadata": {},
   "outputs": [
    {
     "name": "stdout",
     "output_type": "stream",
     "text": [
      "Caucasian           199\n",
      "Asian               102\n",
      "African American     99\n",
      "Name: Ethnicity, dtype: int64\n",
      "\n",
      "Caucasian           0.4975\n",
      "Asian               0.2550\n",
      "African American    0.2475\n",
      "Name: Ethnicity, dtype: float64\n"
     ]
    }
   ],
   "source": [
    "print(df['Ethnicity'].value_counts())\n",
    "print()\n",
    "print(df['Ethnicity'].value_counts(normalize=True))"
   ]
  },
  {
   "cell_type": "code",
   "execution_count": 11,
   "metadata": {},
   "outputs": [],
   "source": [
    "df = pd.concat([df, pd.get_dummies(df['Ethnicity'], drop_first=True)], axis=1)"
   ]
  },
  {
   "cell_type": "code",
   "execution_count": null,
   "metadata": {},
   "outputs": [],
   "source": []
  }
 ],
 "metadata": {
  "kernelspec": {
   "display_name": "base",
   "language": "python",
   "name": "python3"
  },
  "language_info": {
   "codemirror_mode": {
    "name": "ipython",
    "version": 3
   },
   "file_extension": ".py",
   "mimetype": "text/x-python",
   "name": "python",
   "nbconvert_exporter": "python",
   "pygments_lexer": "ipython3",
   "version": "3.9.13"
  },
  "orig_nbformat": 4,
  "vscode": {
   "interpreter": {
    "hash": "af5f59eafcfa7ad9c06f1a742af686e767f586fd272c2b55836f60c5affb1887"
   }
  }
 },
 "nbformat": 4,
 "nbformat_minor": 2
}
