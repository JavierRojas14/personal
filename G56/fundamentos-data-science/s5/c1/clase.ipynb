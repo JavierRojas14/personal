{
 "cells": [
  {
   "attachments": {},
   "cell_type": "markdown",
   "metadata": {},
   "source": [
    "# Repaso terorema central del limite\n",
    "\n",
    "Al final es que un calculo distribuye normal.\n",
    "\n",
    "p valor: Es la probabilidad acumulada de obtener un valor dentro de la distribucion normal de los valores. Mientras mas al centro de le media tu valor, mas probabilidad acumula, y p es mucho mas grande, y mas chance de aceptar la hipotesis nula."
   ]
  },
  {
   "attachments": {},
   "cell_type": "markdown",
   "metadata": {},
   "source": [
    "# Esta clase veremos la regresion lineal y empezaremos a ver Machine Learning!"
   ]
  },
  {
   "attachments": {},
   "cell_type": "markdown",
   "metadata": {},
   "source": [
    "## Modelos estadisticos\n",
    "\n",
    "Permite ver cuanto afecta una variable a un resultado, y se puede ver si es estadisticamente\n",
    "significante.\n",
    "\n",
    "## Pasos Machine Learning\n",
    "\n",
    "1. Tomo los datos\n",
    "2. Guardo los datos\n",
    "3. Separo los datos en datos de entrenamiento y de testeo\n",
    "4. Entreno mi modelo\n",
    "5. Predigo los resultados\n",
    "6. Comparo con los resultados que se saben son correctos\n",
    "7. Calculo que tan bueno es mi modelo\n",
    "\n",
    "# Regresion Lineal\n",
    "\n",
    "- Responde a: **Como una variable independiente afecta a la variable dependiente?**\n",
    "\n",
    "- Variable Dependiente: Variable que es afectada por la variable dependiente\n",
    "- Variable Independiente: Variable que explica el comportamiento de la variable dependiente\n",
    "\n",
    "\n",
    "## Codificacion de Variables Categoricas:\n",
    "\n",
    "- One-Hot Encoding: Se hace con el pd.get_dummies(variable). Se generan tantas columnas como valores\n",
    "tiene la variable. Luego, cada registro llevara un 1 si es que posee a la variable de la columna, y\n",
    "un 0 si es que no. \n",
    "- Binary Encoding: Es como el One-Hot Encoding, pero se genera 1 variable menos que en OHE. Si todas\n",
    "las demas categorias son 0, entonces implicitamente se sabe que la variable que no se le hizo una\n",
    "columna es 1."
   ]
  },
  {
   "attachments": {},
   "cell_type": "markdown",
   "metadata": {},
   "source": [
    "# Codificacion Variables Categoricas"
   ]
  },
  {
   "cell_type": "code",
   "execution_count": 1,
   "metadata": {},
   "outputs": [],
   "source": [
    "import pandas as pd\n",
    "\n",
    "diccionario = {\n",
    "    'nombre': ['Juan', 'Diego', 'Alonso', 'Lel'],\n",
    "}\n",
    "\n",
    "df = pd.DataFrame(diccionario)"
   ]
  },
  {
   "cell_type": "code",
   "execution_count": 4,
   "metadata": {},
   "outputs": [
    {
     "data": {
      "text/html": [
       "<div>\n",
       "<style scoped>\n",
       "    .dataframe tbody tr th:only-of-type {\n",
       "        vertical-align: middle;\n",
       "    }\n",
       "\n",
       "    .dataframe tbody tr th {\n",
       "        vertical-align: top;\n",
       "    }\n",
       "\n",
       "    .dataframe thead th {\n",
       "        text-align: right;\n",
       "    }\n",
       "</style>\n",
       "<table border=\"1\" class=\"dataframe\">\n",
       "  <thead>\n",
       "    <tr style=\"text-align: right;\">\n",
       "      <th></th>\n",
       "      <th>Diego</th>\n",
       "      <th>Juan</th>\n",
       "      <th>Lel</th>\n",
       "    </tr>\n",
       "  </thead>\n",
       "  <tbody>\n",
       "    <tr>\n",
       "      <th>0</th>\n",
       "      <td>0</td>\n",
       "      <td>1</td>\n",
       "      <td>0</td>\n",
       "    </tr>\n",
       "    <tr>\n",
       "      <th>1</th>\n",
       "      <td>1</td>\n",
       "      <td>0</td>\n",
       "      <td>0</td>\n",
       "    </tr>\n",
       "    <tr>\n",
       "      <th>2</th>\n",
       "      <td>0</td>\n",
       "      <td>0</td>\n",
       "      <td>0</td>\n",
       "    </tr>\n",
       "    <tr>\n",
       "      <th>3</th>\n",
       "      <td>0</td>\n",
       "      <td>0</td>\n",
       "      <td>1</td>\n",
       "    </tr>\n",
       "  </tbody>\n",
       "</table>\n",
       "</div>"
      ],
      "text/plain": [
       "   Diego  Juan  Lel\n",
       "0      0     1    0\n",
       "1      1     0    0\n",
       "2      0     0    0\n",
       "3      0     0    1"
      ]
     },
     "execution_count": 4,
     "metadata": {},
     "output_type": "execute_result"
    }
   ],
   "source": [
    "# One-Hot Encoding\n",
    "pd.get_dummies(df['nombre'])\n",
    "\n",
    "# Binary Encoding, es la mas recomendada!\n",
    "pd.get_dummies(df['nombre'], drop_first=True)"
   ]
  },
  {
   "cell_type": "code",
   "execution_count": null,
   "metadata": {},
   "outputs": [],
   "source": []
  }
 ],
 "metadata": {
  "kernelspec": {
   "display_name": "base",
   "language": "python",
   "name": "python3"
  },
  "language_info": {
   "codemirror_mode": {
    "name": "ipython",
    "version": 3
   },
   "file_extension": ".py",
   "mimetype": "text/x-python",
   "name": "python",
   "nbconvert_exporter": "python",
   "pygments_lexer": "ipython3",
   "version": "3.9.13"
  },
  "orig_nbformat": 4,
  "vscode": {
   "interpreter": {
    "hash": "af5f59eafcfa7ad9c06f1a742af686e767f586fd272c2b55836f60c5affb1887"
   }
  }
 },
 "nbformat": 4,
 "nbformat_minor": 2
}
