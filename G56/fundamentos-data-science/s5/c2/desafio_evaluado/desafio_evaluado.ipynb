{
 "cells": [
  {
   "attachments": {},
   "cell_type": "markdown",
   "metadata": {},
   "source": [
    "1. Preparar el ambiente de trabajo (1 puntos)\n",
    "- Importe las librerías básicas para el análisis de datos.\n",
    "- Importe el módulo linear_model , y las funciones mean_squared_error ,\n",
    "r2_score y train_test_split .\n",
    "- Importe la base de datos boston.csv y elimine la columna Unnamed: 0 .\n",
    "- Obtenga las medidas descriptivas de la base de datos con .describe() .\n"
   ]
  },
  {
   "cell_type": "code",
   "execution_count": 36,
   "metadata": {},
   "outputs": [],
   "source": [
    "import pandas as pd\n",
    "import numpy as np\n",
    "import seaborn as sns\n",
    "import matplotlib.pyplot as plt\n",
    "\n",
    "from sklearn.linear_model import LinearRegression\n",
    "from sklearn.metrics import mean_squared_error, r2_score\n",
    "from sklearn.model_selection import train_test_split\n"
   ]
  },
  {
   "cell_type": "code",
   "execution_count": 37,
   "metadata": {},
   "outputs": [],
   "source": [
    "df = pd.read_csv('boston.csv').drop(columns='Unnamed: 0')"
   ]
  },
  {
   "cell_type": "code",
   "execution_count": 38,
   "metadata": {},
   "outputs": [
    {
     "data": {
      "text/html": [
       "<div>\n",
       "<style scoped>\n",
       "    .dataframe tbody tr th:only-of-type {\n",
       "        vertical-align: middle;\n",
       "    }\n",
       "\n",
       "    .dataframe tbody tr th {\n",
       "        vertical-align: top;\n",
       "    }\n",
       "\n",
       "    .dataframe thead th {\n",
       "        text-align: right;\n",
       "    }\n",
       "</style>\n",
       "<table border=\"1\" class=\"dataframe\">\n",
       "  <thead>\n",
       "    <tr style=\"text-align: right;\">\n",
       "      <th></th>\n",
       "      <th>crim</th>\n",
       "      <th>zn</th>\n",
       "      <th>indus</th>\n",
       "      <th>chas</th>\n",
       "      <th>nox</th>\n",
       "      <th>rm</th>\n",
       "      <th>age</th>\n",
       "      <th>dis</th>\n",
       "      <th>rad</th>\n",
       "      <th>tax</th>\n",
       "      <th>ptratio</th>\n",
       "      <th>black</th>\n",
       "      <th>lstat</th>\n",
       "      <th>medv</th>\n",
       "    </tr>\n",
       "  </thead>\n",
       "  <tbody>\n",
       "    <tr>\n",
       "      <th>count</th>\n",
       "      <td>506.000000</td>\n",
       "      <td>506.000000</td>\n",
       "      <td>506.000000</td>\n",
       "      <td>506.000000</td>\n",
       "      <td>506.000000</td>\n",
       "      <td>506.000000</td>\n",
       "      <td>506.000000</td>\n",
       "      <td>506.000000</td>\n",
       "      <td>506.000000</td>\n",
       "      <td>506.000000</td>\n",
       "      <td>506.000000</td>\n",
       "      <td>506.000000</td>\n",
       "      <td>506.000000</td>\n",
       "      <td>506.000000</td>\n",
       "    </tr>\n",
       "    <tr>\n",
       "      <th>mean</th>\n",
       "      <td>3.613524</td>\n",
       "      <td>11.363636</td>\n",
       "      <td>11.136779</td>\n",
       "      <td>0.069170</td>\n",
       "      <td>0.554695</td>\n",
       "      <td>6.284634</td>\n",
       "      <td>68.574901</td>\n",
       "      <td>3.795043</td>\n",
       "      <td>9.549407</td>\n",
       "      <td>408.237154</td>\n",
       "      <td>18.455534</td>\n",
       "      <td>356.674032</td>\n",
       "      <td>12.653063</td>\n",
       "      <td>22.532806</td>\n",
       "    </tr>\n",
       "    <tr>\n",
       "      <th>std</th>\n",
       "      <td>8.601545</td>\n",
       "      <td>23.322453</td>\n",
       "      <td>6.860353</td>\n",
       "      <td>0.253994</td>\n",
       "      <td>0.115878</td>\n",
       "      <td>0.702617</td>\n",
       "      <td>28.148861</td>\n",
       "      <td>2.105710</td>\n",
       "      <td>8.707259</td>\n",
       "      <td>168.537116</td>\n",
       "      <td>2.164946</td>\n",
       "      <td>91.294864</td>\n",
       "      <td>7.141062</td>\n",
       "      <td>9.197104</td>\n",
       "    </tr>\n",
       "    <tr>\n",
       "      <th>min</th>\n",
       "      <td>0.006320</td>\n",
       "      <td>0.000000</td>\n",
       "      <td>0.460000</td>\n",
       "      <td>0.000000</td>\n",
       "      <td>0.385000</td>\n",
       "      <td>3.561000</td>\n",
       "      <td>2.900000</td>\n",
       "      <td>1.129600</td>\n",
       "      <td>1.000000</td>\n",
       "      <td>187.000000</td>\n",
       "      <td>12.600000</td>\n",
       "      <td>0.320000</td>\n",
       "      <td>1.730000</td>\n",
       "      <td>5.000000</td>\n",
       "    </tr>\n",
       "    <tr>\n",
       "      <th>25%</th>\n",
       "      <td>0.082045</td>\n",
       "      <td>0.000000</td>\n",
       "      <td>5.190000</td>\n",
       "      <td>0.000000</td>\n",
       "      <td>0.449000</td>\n",
       "      <td>5.885500</td>\n",
       "      <td>45.025000</td>\n",
       "      <td>2.100175</td>\n",
       "      <td>4.000000</td>\n",
       "      <td>279.000000</td>\n",
       "      <td>17.400000</td>\n",
       "      <td>375.377500</td>\n",
       "      <td>6.950000</td>\n",
       "      <td>17.025000</td>\n",
       "    </tr>\n",
       "    <tr>\n",
       "      <th>50%</th>\n",
       "      <td>0.256510</td>\n",
       "      <td>0.000000</td>\n",
       "      <td>9.690000</td>\n",
       "      <td>0.000000</td>\n",
       "      <td>0.538000</td>\n",
       "      <td>6.208500</td>\n",
       "      <td>77.500000</td>\n",
       "      <td>3.207450</td>\n",
       "      <td>5.000000</td>\n",
       "      <td>330.000000</td>\n",
       "      <td>19.050000</td>\n",
       "      <td>391.440000</td>\n",
       "      <td>11.360000</td>\n",
       "      <td>21.200000</td>\n",
       "    </tr>\n",
       "    <tr>\n",
       "      <th>75%</th>\n",
       "      <td>3.677083</td>\n",
       "      <td>12.500000</td>\n",
       "      <td>18.100000</td>\n",
       "      <td>0.000000</td>\n",
       "      <td>0.624000</td>\n",
       "      <td>6.623500</td>\n",
       "      <td>94.075000</td>\n",
       "      <td>5.188425</td>\n",
       "      <td>24.000000</td>\n",
       "      <td>666.000000</td>\n",
       "      <td>20.200000</td>\n",
       "      <td>396.225000</td>\n",
       "      <td>16.955000</td>\n",
       "      <td>25.000000</td>\n",
       "    </tr>\n",
       "    <tr>\n",
       "      <th>max</th>\n",
       "      <td>88.976200</td>\n",
       "      <td>100.000000</td>\n",
       "      <td>27.740000</td>\n",
       "      <td>1.000000</td>\n",
       "      <td>0.871000</td>\n",
       "      <td>8.780000</td>\n",
       "      <td>100.000000</td>\n",
       "      <td>12.126500</td>\n",
       "      <td>24.000000</td>\n",
       "      <td>711.000000</td>\n",
       "      <td>22.000000</td>\n",
       "      <td>396.900000</td>\n",
       "      <td>37.970000</td>\n",
       "      <td>50.000000</td>\n",
       "    </tr>\n",
       "  </tbody>\n",
       "</table>\n",
       "</div>"
      ],
      "text/plain": [
       "             crim          zn       indus        chas         nox          rm  \\\n",
       "count  506.000000  506.000000  506.000000  506.000000  506.000000  506.000000   \n",
       "mean     3.613524   11.363636   11.136779    0.069170    0.554695    6.284634   \n",
       "std      8.601545   23.322453    6.860353    0.253994    0.115878    0.702617   \n",
       "min      0.006320    0.000000    0.460000    0.000000    0.385000    3.561000   \n",
       "25%      0.082045    0.000000    5.190000    0.000000    0.449000    5.885500   \n",
       "50%      0.256510    0.000000    9.690000    0.000000    0.538000    6.208500   \n",
       "75%      3.677083   12.500000   18.100000    0.000000    0.624000    6.623500   \n",
       "max     88.976200  100.000000   27.740000    1.000000    0.871000    8.780000   \n",
       "\n",
       "              age         dis         rad         tax     ptratio       black  \\\n",
       "count  506.000000  506.000000  506.000000  506.000000  506.000000  506.000000   \n",
       "mean    68.574901    3.795043    9.549407  408.237154   18.455534  356.674032   \n",
       "std     28.148861    2.105710    8.707259  168.537116    2.164946   91.294864   \n",
       "min      2.900000    1.129600    1.000000  187.000000   12.600000    0.320000   \n",
       "25%     45.025000    2.100175    4.000000  279.000000   17.400000  375.377500   \n",
       "50%     77.500000    3.207450    5.000000  330.000000   19.050000  391.440000   \n",
       "75%     94.075000    5.188425   24.000000  666.000000   20.200000  396.225000   \n",
       "max    100.000000   12.126500   24.000000  711.000000   22.000000  396.900000   \n",
       "\n",
       "            lstat        medv  \n",
       "count  506.000000  506.000000  \n",
       "mean    12.653063   22.532806  \n",
       "std      7.141062    9.197104  \n",
       "min      1.730000    5.000000  \n",
       "25%      6.950000   17.025000  \n",
       "50%     11.360000   21.200000  \n",
       "75%     16.955000   25.000000  \n",
       "max     37.970000   50.000000  "
      ]
     },
     "execution_count": 38,
     "metadata": {},
     "output_type": "execute_result"
    }
   ],
   "source": [
    "df.describe()"
   ]
  },
  {
   "attachments": {},
   "cell_type": "markdown",
   "metadata": {},
   "source": [
    "El objetivo del ejercicio de captación de talento es desarrollar un modelo predictivo para el\n",
    "valor mediano de las casas mediante el entrenamiento de un modelo de regresión lineal."
   ]
  },
  {
   "cell_type": "code",
   "execution_count": 39,
   "metadata": {},
   "outputs": [],
   "source": [
    "X_total = df.drop(columns='medv')\n",
    "y_total = df['medv']"
   ]
  },
  {
   "attachments": {},
   "cell_type": "markdown",
   "metadata": {},
   "source": [
    "2. Dividir la muestra (1 puntos)\n",
    "\n",
    "- Genere conjuntos de entrenamiento y pruebas con train_test_split .\n",
    "- Reserve un 33% de la muestra para el conjunto de pruebas.\n",
    "- Incluya una semilla pseudoaleatoria a su elección, esto lo puede hacer con el\n",
    "argumento random_state dentro del método train_test_plit."
   ]
  },
  {
   "cell_type": "code",
   "execution_count": 40,
   "metadata": {},
   "outputs": [],
   "source": [
    "X_train, X_test, y_train, y_test = train_test_split(X_total, y_total, test_size=0.33, random_state=1)"
   ]
  },
  {
   "cell_type": "code",
   "execution_count": 41,
   "metadata": {},
   "outputs": [],
   "source": [
    "modelo_sin_intercepto = LinearRegression(fit_intercept=False)\n",
    "modelo_con_intercepto = LinearRegression(fit_intercept=True)\n",
    "\n",
    "modelo_sin_intercepto = modelo_sin_intercepto.fit(X=X_train, y=y_train)\n",
    "modelo_con_intercepto = modelo_con_intercepto.fit(X=X_train, y=y_train)"
   ]
  },
  {
   "cell_type": "code",
   "execution_count": 42,
   "metadata": {},
   "outputs": [],
   "source": [
    "predicciones_sin_intercepto_test = modelo_sin_intercepto.predict(X_test)\n",
    "predicciones_sin_intercepto_train = modelo_sin_intercepto.predict(X_train)\n",
    "\n",
    "predicciones_con_intercepto_test = modelo_con_intercepto.predict(X_test)\n",
    "predicciones_con_intercepto_train = modelo_con_intercepto.predict(X_train)"
   ]
  },
  {
   "cell_type": "code",
   "execution_count": 43,
   "metadata": {},
   "outputs": [],
   "source": [
    "def report_scores(reales, predicho):\n",
    "    '''Funcion que reporta los valores mean_squared_error y r2_score entre datos predichos por un\n",
    "    modelo de aprendizaje y datos reales\n",
    "\n",
    "    :param reales: Una lista de datos reales para una variable. Esta es la variable que esta siendo\n",
    "    predicha por el modelo de aprendizaje\n",
    "    :type reales: np.array, list\n",
    "\n",
    "    :param predicho: Una lista de datos predichos para una variable. Estos datos se obtienen desde \n",
    "    un modelo de aprendizaje\n",
    "    :type predicho: np.array, list\n",
    "\n",
    "    :returns: Nada\n",
    "    :rtype: None\n",
    "    '''\n",
    "    error_cuadratico_promedio = mean_squared_error(reales, predicho)\n",
    "    r2 = r2_score(reales, predicho)\n",
    "\n",
    "    print(f'> Error cuadratico medio: {error_cuadratico_promedio}\\n'\n",
    "          f'> R2: {r2}')"
   ]
  },
  {
   "cell_type": "code",
   "execution_count": 44,
   "metadata": {},
   "outputs": [
    {
     "name": "stdout",
     "output_type": "stream",
     "text": [
      "Resultados sin intercepto - test\n",
      "> Error cuadratico medio: 22.274362695779427\n",
      "> R2: 0.747045404029046\n",
      "\n",
      "Resultados sin intercepto - train\n",
      "> Error cuadratico medio: 25.458291387474713\n",
      "> R2: 0.6912241555468743\n",
      "\n",
      "Resultados con intercepto - test\n",
      "> Error cuadratico medio: 20.698475744484448\n",
      "> R2: 0.7649416667641522\n",
      "\n",
      "Resultados con intercepto - train\n",
      "> Error cuadratico medio: 22.942728286624924\n",
      "> R2: 0.7217346524579974\n",
      "\n"
     ]
    }
   ],
   "source": [
    "print('Resultados sin intercepto - test')\n",
    "report_scores(y_test, predicciones_sin_intercepto_test)\n",
    "print()\n",
    "\n",
    "print('Resultados sin intercepto - train')\n",
    "report_scores(y_train, predicciones_sin_intercepto_train)\n",
    "print()\n",
    "\n",
    "print('Resultados con intercepto - test')\n",
    "report_scores(y_test, predicciones_con_intercepto_test)\n",
    "print()\n",
    "\n",
    "print('Resultados con intercepto - train')\n",
    "report_scores(y_train, predicciones_con_intercepto_train)\n",
    "print()"
   ]
  },
  {
   "attachments": {},
   "cell_type": "markdown",
   "metadata": {},
   "source": [
    "De los resultados anteriores se puede concluir que el modelo con inercepto es mejor que el modelo sin intercepto. Lo anterior, ya que posee un menor error entre los valores predichos y los valores reales (menor error cuadratico medio), y tiene un mayor poder explicativo de la variable dependiente (mayor R2).s"
   ]
  },
  {
   "cell_type": "code",
   "execution_count": 45,
   "metadata": {},
   "outputs": [],
   "source": [
    "def fetch_features(dataframe, vector_objetivo='medv'):\n",
    "    '''Funcion que genera un modelo de regresion lineal con las variables\n",
    "    contenidas en dataframe. Utiliza vector_objetivo como la variable dependiente, y todas las demas\n",
    "    variables como variables independientes. Luego, retorna un diccionario ordenado con las \n",
    "    pendientes de cada variable dentro del modelo.\n",
    "\n",
    "    :param dataframe: Es el dataframe que contiene todos los datos\n",
    "    :type dataframe: pd.DataFrame\n",
    "\n",
    "    :param vector_objetivo: Es la variable que sera predicha/dependiente\n",
    "    :type vector_objetivo: str\n",
    "\n",
    "    :returns: Diccionario ordenado con los coeficientes/pendientes de cada variable independiente\n",
    "    dentro del modelo\n",
    "    :rtype: dict\n",
    "    '''\n",
    "    X = dataframe.drop(columns=vector_objetivo)\n",
    "    y = dataframe[vector_objetivo]\n",
    "\n",
    "    X_train, X_test, y_train, y_test = train_test_split(X, y, test_size=0.33, random_state=1)\n",
    "    model = LinearRegression(fit_intercept=True).fit(X=X_train, y=y_train)\n",
    "\n",
    "    features_dict = dict(zip(model.feature_names_in_, model.coef_))\n",
    "    ordered_dict = dict(sorted(features_dict.items(), key=lambda item: abs(item[1]), reverse=True))\n",
    "\n",
    "    return ordered_dict\n"
   ]
  },
  {
   "cell_type": "code",
   "execution_count": 46,
   "metadata": {},
   "outputs": [
    {
     "data": {
      "text/plain": [
       "{'nox': -20.66178796237651,\n",
       " 'rm': 3.4449659541731674,\n",
       " 'chas': 3.01077410594438,\n",
       " 'dis': -1.44827469552462,\n",
       " 'ptratio': -0.9460027159281852,\n",
       " 'lstat': -0.5283681164827139,\n",
       " 'rad': 0.3093051400484783,\n",
       " 'crim': -0.09919953315382199,\n",
       " 'indus': 0.07258121259498188,\n",
       " 'zn': 0.06278067860793976,\n",
       " 'tax': -0.011648564004575066,\n",
       " 'black': 0.007200176849546131,\n",
       " 'age': 0.003780041376622199}"
      ]
     },
     "execution_count": 46,
     "metadata": {},
     "output_type": "execute_result"
    }
   ],
   "source": [
    "fetch_features(df)\n",
    "\n",
    "# Segun la funcion fetch features, los 6 atributos con mayor correlacion absoluta con\n",
    "# medv son: nox, rm, chas, dis, ptratio, lstat"
   ]
  },
  {
   "cell_type": "code",
   "execution_count": 47,
   "metadata": {},
   "outputs": [
    {
     "name": "stdout",
     "output_type": "stream",
     "text": [
      "> Root Mean Squared: 33.17561003601769 \n",
      "> R2: 0.6232474460721206\n"
     ]
    }
   ],
   "source": [
    "# Por lo tanto, el modelo teoricamente optimo seria:\n",
    "# Con intercepto\n",
    "# Con las variables: rm, chas, rad, indus, zn y black\n",
    "# Con el vector objetivo: medv\n",
    "\n",
    "X = df[['rm', 'chas', 'rad', 'indus', 'zn', 'black']]\n",
    "y = df[['medv']]\n",
    "\n",
    "X_train, X_test, y_train, y_test = train_test_split(X, y, test_size=0.33, random_state=1)\n",
    "optimized_model = LinearRegression(fit_intercept=True).fit(X=X_train, y=y_train)\n",
    "\n",
    "predictions = optimized_model.predict(X_test)\n",
    "\n",
    "root_mean_squared = mean_squared_error(y_test, predictions)\n",
    "r2 = r2_score(y_test, predictions)\n",
    "\n",
    "print(f'> Root Mean Squared: {root_mean_squared} \\n'\n",
    "      f'> R2: {r2}')\n"
   ]
  },
  {
   "cell_type": "code",
   "execution_count": 48,
   "metadata": {},
   "outputs": [],
   "source": [
    "worst_neighbor = np.array([37.9, 12.6, 3.5, 27.7, 187, 0.87]).reshape(1,\n",
    "-1)\n",
    "best_neighbor = np.array([1.73, 22, 8.7, 0.46, 711, 0.38]).reshape(1,\n",
    "-1)"
   ]
  },
  {
   "cell_type": "code",
   "execution_count": 49,
   "metadata": {},
   "outputs": [
    {
     "name": "stderr",
     "output_type": "stream",
     "text": [
      "/home/javier/anaconda3/lib/python3.9/site-packages/sklearn/base.py:450: UserWarning: X does not have valid feature names, but LinearRegression was fitted with feature names\n",
      "  warnings.warn(\n",
      "/home/javier/anaconda3/lib/python3.9/site-packages/sklearn/base.py:450: UserWarning: X does not have valid feature names, but LinearRegression was fitted with feature names\n",
      "  warnings.warn(\n"
     ]
    }
   ],
   "source": [
    "prediccion_worst_neighbor = optimized_model.predict(worst_neighbor)\n",
    "prediccion_best_neighbor = optimized_model.predict(best_neighbor)"
   ]
  },
  {
   "cell_type": "code",
   "execution_count": 50,
   "metadata": {},
   "outputs": [
    {
     "name": "stdout",
     "output_type": "stream",
     "text": [
      "Prediccion para worst neighbor; [[319.28662914]]\n",
      "Prediccion para best neighbor; [[107.99112972]]\n"
     ]
    }
   ],
   "source": [
    "print(f'Prediccion para worst neighbor; {prediccion_worst_neighbor}')\n",
    "print(f'Prediccion para best neighbor; {prediccion_best_neighbor}')"
   ]
  },
  {
   "attachments": {},
   "cell_type": "markdown",
   "metadata": {},
   "source": [
    "Las predicciones no tiene una relevancia, ya que las variables utilizadas para generar el modelo y las variables del array son distintas. "
   ]
  }
 ],
 "metadata": {
  "kernelspec": {
   "display_name": "base",
   "language": "python",
   "name": "python3"
  },
  "language_info": {
   "codemirror_mode": {
    "name": "ipython",
    "version": 3
   },
   "file_extension": ".py",
   "mimetype": "text/x-python",
   "name": "python",
   "nbconvert_exporter": "python",
   "pygments_lexer": "ipython3",
   "version": "3.9.13"
  },
  "orig_nbformat": 4,
  "vscode": {
   "interpreter": {
    "hash": "a677eee07fae7a05dc0065b321405b89ac79028a918e58c71b412840ee16c11e"
   }
  }
 },
 "nbformat": 4,
 "nbformat_minor": 2
}
