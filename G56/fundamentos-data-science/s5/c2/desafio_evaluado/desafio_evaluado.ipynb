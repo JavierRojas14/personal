{
 "cells": [
  {
   "attachments": {},
   "cell_type": "markdown",
   "metadata": {},
   "source": [
    "1. Preparar el ambiente de trabajo (1 puntos)\n",
    "- Importe las librerías básicas para el análisis de datos.\n",
    "- Importe el módulo linear_model , y las funciones mean_squared_error ,\n",
    "r2_score y train_test_split .\n",
    "- Importe la base de datos boston.csv y elimine la columna Unnamed: 0 .\n",
    "- Obtenga las medidas descriptivas de la base de datos con .describe() .\n"
   ]
  },
  {
   "cell_type": "code",
   "execution_count": 1,
   "metadata": {},
   "outputs": [],
   "source": [
    "import pandas as pd\n",
    "import numpy as np\n",
    "import seaborn as sns\n",
    "import matplotlib.pyplot as plt\n",
    "\n",
    "import sklearn.linear_model\n",
    "from sklearn.metrics import mean_squared_error, r2_score\n",
    "from sklearn.model_selection import train_test_split\n"
   ]
  },
  {
   "cell_type": "markdown",
   "metadata": {},
   "source": []
  }
 ],
 "metadata": {
  "kernelspec": {
   "display_name": "base",
   "language": "python",
   "name": "python3"
  },
  "language_info": {
   "codemirror_mode": {
    "name": "ipython",
    "version": 3
   },
   "file_extension": ".py",
   "mimetype": "text/x-python",
   "name": "python",
   "nbconvert_exporter": "python",
   "pygments_lexer": "ipython3",
   "version": "3.9.13"
  },
  "orig_nbformat": 4,
  "vscode": {
   "interpreter": {
    "hash": "af5f59eafcfa7ad9c06f1a742af686e767f586fd272c2b55836f60c5affb1887"
   }
  }
 },
 "nbformat": 4,
 "nbformat_minor": 2
}
