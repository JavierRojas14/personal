{
 "cells": [
  {
   "attachments": {},
   "cell_type": "markdown",
   "metadata": {},
   "source": [
    "# Test de hipotesis para diversas variables dentro de un modelo estadistico\n",
    "\n",
    "Para un modelo con 4 variables de la siguiente forma:\n",
    "\n",
    "y = b + m1x + m2y + m3z + m4a\n",
    "\n",
    "La hipotesis/test F plantea la siguiente hipotesis nula:\n",
    "\n",
    "b = m1 = m2 = m3 = m4 = 0. Por lo que las variables NO estarian afectando a la variable dependiente.\n",
    "\n",
    "Si se rechaza la hipotesis nula, significa que alguna de las variables esta afectando el modelo.\n",
    "\n",
    "## Seleccion de variables para un modelo\n",
    "\n",
    "Hay diversas formas de seleccionar las variables significativas para un modelo. Forma forward,\n",
    "backwards y stepback."
   ]
  }
 ],
 "metadata": {
  "language_info": {
   "name": "python"
  },
  "orig_nbformat": 4
 },
 "nbformat": 4,
 "nbformat_minor": 2
}
