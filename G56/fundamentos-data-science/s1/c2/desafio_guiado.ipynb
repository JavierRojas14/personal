{
 "cells": [
  {
   "attachments": {},
   "cell_type": "markdown",
   "metadata": {},
   "source": [
    "# Desafio Guiado 1"
   ]
  },
  {
   "attachments": {},
   "cell_type": "markdown",
   "metadata": {},
   "source": [
    "### Requerimiento 1"
   ]
  },
  {
   "cell_type": "code",
   "execution_count": 4,
   "metadata": {},
   "outputs": [
    {
     "name": "stdout",
     "output_type": "stream",
     "text": [
      "Hola Mundo esta es mi primera incursión en Python\n"
     ]
    }
   ],
   "source": [
    "print('Hola Mundo esta es mi primera incursión en Python')"
   ]
  },
  {
   "attachments": {},
   "cell_type": "markdown",
   "metadata": {},
   "source": [
    "### Requerimiento 2"
   ]
  },
  {
   "attachments": {},
   "cell_type": "markdown",
   "metadata": {},
   "source": [
    "Ingreso de variables (2 ptos): Ingrese una serie de datos respecto a su información\n",
    "personal. Esta información debe estar ingresada en variables para su posterior uso.\n",
    "Ingrese los siguientes datos:\n",
    "* Su nombre\n",
    "* Edad\n",
    "* Una lista con sus 3 actividades favoritas\n",
    "* ¿Tiene mascotas?\n",
    "\n"
   ]
  },
  {
   "cell_type": "code",
   "execution_count": 12,
   "metadata": {},
   "outputs": [],
   "source": [
    "name = 'Javier'\n",
    "edad = 24\n",
    "actividades_favoritas = ['dormir', 'salir a carretear', 'programar']\n",
    "mascota = True"
   ]
  },
  {
   "attachments": {},
   "cell_type": "markdown",
   "metadata": {},
   "source": [
    "### Requerimiento 3\n",
    "\n",
    "Imprimir variables (2 ptos):\n",
    "* Imprima cada variable creada: acceda al segundo elemento de su lista\n",
    "* Pida los tipos de datos asociados\n",
    "* Interpole los datos en un método print para generar una presentación sobre usted"
   ]
  },
  {
   "cell_type": "code",
   "execution_count": 13,
   "metadata": {},
   "outputs": [
    {
     "name": "stdout",
     "output_type": "stream",
     "text": [
      "Javier\n",
      "24\n",
      "['dormir', 'salir a carretear', 'programar']\n",
      "True\n"
     ]
    }
   ],
   "source": [
    "print(name)\n",
    "print(edad)\n",
    "print(actividades_favoritas)\n",
    "print(mascota)\n"
   ]
  },
  {
   "cell_type": "code",
   "execution_count": 14,
   "metadata": {},
   "outputs": [
    {
     "data": {
      "text/plain": [
       "'salir a carretear'"
      ]
     },
     "execution_count": 14,
     "metadata": {},
     "output_type": "execute_result"
    }
   ],
   "source": [
    "actividades_favoritas[1]"
   ]
  },
  {
   "cell_type": "code",
   "execution_count": 15,
   "metadata": {},
   "outputs": [
    {
     "name": "stdout",
     "output_type": "stream",
     "text": [
      "<class 'str'>\n",
      "<class 'int'>\n",
      "<class 'list'>\n",
      "<class 'bool'>\n"
     ]
    }
   ],
   "source": [
    "print(type(name))\n",
    "print(type(edad))\n",
    "print(type(actividades_favoritas))\n",
    "print(type(mascota))\n"
   ]
  },
  {
   "cell_type": "code",
   "execution_count": 16,
   "metadata": {},
   "outputs": [
    {
     "name": "stdout",
     "output_type": "stream",
     "text": [
      "Mi nombre es Javier, tengo 24 años y me gusta ['dormir', 'salir a carretear', 'programar']\n"
     ]
    }
   ],
   "source": [
    "print(f'Mi nombre es {name}, tengo {edad} años y me gusta {actividades_favoritas}')"
   ]
  },
  {
   "cell_type": "code",
   "execution_count": null,
   "metadata": {},
   "outputs": [],
   "source": []
  },
  {
   "cell_type": "markdown",
   "metadata": {},
   "source": []
  }
 ],
 "metadata": {
  "kernelspec": {
   "display_name": "Python 3.10.8 64-bit",
   "language": "python",
   "name": "python3"
  },
  "language_info": {
   "codemirror_mode": {
    "name": "ipython",
    "version": 3
   },
   "file_extension": ".py",
   "mimetype": "text/x-python",
   "name": "python",
   "nbconvert_exporter": "python",
   "pygments_lexer": "ipython3",
   "version": "3.10.8"
  },
  "orig_nbformat": 4,
  "vscode": {
   "interpreter": {
    "hash": "42b7a8269543bcb579cd7b7725932418ba11ca9773c942937c2bd4311fe78df7"
   }
  }
 },
 "nbformat": 4,
 "nbformat_minor": 2
}
