{
 "cells": [
  {
   "attachments": {},
   "cell_type": "markdown",
   "metadata": {},
   "source": [
    "# Desafio Guiado 1"
   ]
  },
  {
   "attachments": {},
   "cell_type": "markdown",
   "metadata": {},
   "source": [
    "### Requerimiento 1"
   ]
  },
  {
   "cell_type": "code",
   "execution_count": 2,
   "metadata": {},
   "outputs": [
    {
     "name": "stdout",
     "output_type": "stream",
     "text": [
      "Hola Mundo esta es mi primera incursión en Python\n"
     ]
    }
   ],
   "source": [
    "print('Hola Mundo esta es mi primera incursión en Python')"
   ]
  },
  {
   "attachments": {},
   "cell_type": "markdown",
   "metadata": {},
   "source": [
    "### Requerimiento 2"
   ]
  },
  {
   "attachments": {},
   "cell_type": "markdown",
   "metadata": {},
   "source": [
    "Ingreso de variables (2 ptos): Ingrese una serie de datos respecto a su información\n",
    "personal. Esta información debe estar ingresada en variables para su posterior uso.\n",
    "Ingrese los siguientes datos:\n",
    "* Su nombre\n",
    "* Edad\n",
    "* Una lista con sus 3 actividades favoritas\n",
    "* ¿Tiene mascotas?\n",
    "\n"
   ]
  },
  {
   "cell_type": "code",
   "execution_count": 3,
   "metadata": {},
   "outputs": [],
   "source": [
    "name = 'Javier'\n",
    "edad = 24\n",
    "actividades_favoritas = ['dormir', 'salir a carretear', 'programar']\n",
    "mascota = True"
   ]
  },
  {
   "attachments": {},
   "cell_type": "markdown",
   "metadata": {},
   "source": [
    "### Requerimiento 3\n",
    "\n",
    "Imprimir variables (2 ptos):\n",
    "* Imprima cada variable creada: acceda al segundo elemento de su lista\n",
    "* Pida los tipos de datos asociados\n",
    "* Interpole los datos en un método print para generar una presentación sobre usted"
   ]
  },
  {
   "cell_type": "code",
   "execution_count": 4,
   "metadata": {},
   "outputs": [
    {
     "name": "stdout",
     "output_type": "stream",
     "text": [
      "Javier\n",
      "24\n",
      "['dormir', 'salir a carretear', 'programar']\n",
      "True\n"
     ]
    }
   ],
   "source": [
    "print(name)\n",
    "print(edad)\n",
    "print(actividades_favoritas)\n",
    "print(mascota)\n"
   ]
  },
  {
   "cell_type": "code",
   "execution_count": 5,
   "metadata": {},
   "outputs": [
    {
     "data": {
      "text/plain": [
       "'salir a carretear'"
      ]
     },
     "execution_count": 5,
     "metadata": {},
     "output_type": "execute_result"
    }
   ],
   "source": [
    "actividades_favoritas[1]"
   ]
  },
  {
   "cell_type": "code",
   "execution_count": 6,
   "metadata": {},
   "outputs": [
    {
     "name": "stdout",
     "output_type": "stream",
     "text": [
      "<class 'str'>\n",
      "<class 'int'>\n",
      "<class 'list'>\n",
      "<class 'bool'>\n"
     ]
    }
   ],
   "source": [
    "print(type(name))\n",
    "print(type(edad))\n",
    "print(type(actividades_favoritas))\n",
    "print(type(mascota))\n"
   ]
  },
  {
   "cell_type": "code",
   "execution_count": 7,
   "metadata": {},
   "outputs": [
    {
     "name": "stdout",
     "output_type": "stream",
     "text": [
      "Mi nombre es Javier, tengo 24 años y me gusta ['dormir', 'salir a carretear', 'programar']\n"
     ]
    }
   ],
   "source": [
    "print(f'Mi nombre es {name}, tengo {edad} años y me gusta {actividades_favoritas}')"
   ]
  },
  {
   "attachments": {},
   "cell_type": "markdown",
   "metadata": {},
   "source": [
    "### Requerimiento 4\n",
    "\n",
    "Identificar códigos erróneos (2 ptos): a continuación se presenta una serie de\n",
    "códigos que generan errores. Corríjalos y comente cuáles fueron las fallas."
   ]
  },
  {
   "cell_type": "code",
   "execution_count": 8,
   "metadata": {},
   "outputs": [
    {
     "name": "stdout",
     "output_type": "stream",
     "text": [
      "Estaba la pájara pinta sentada en el verde limón\n"
     ]
    }
   ],
   "source": [
    "# print('Estaba la pájara pinta sentada en el verde limón)\n",
    "# El código se arregla agregando la comilla al final\n",
    "print('Estaba la pájara pinta sentada en el verde limón')"
   ]
  },
  {
   "cell_type": "code",
   "execution_count": 9,
   "metadata": {},
   "outputs": [
    {
     "name": "stdout",
     "output_type": "stream",
     "text": [
      "Mi nombre es Javier y tengo 24 años\n"
     ]
    }
   ],
   "source": [
    "# print('Mi nombre es' name 'y tengo' edad, 'años')\n",
    "# El código se arregla poniendo las comas entre los strings y variables\n",
    "print('Mi nombre es', name, 'y tengo', edad, 'años')"
   ]
  },
  {
   "cell_type": "code",
   "execution_count": 10,
   "metadata": {},
   "outputs": [],
   "source": [
    "# import pandas as pd\n",
    "# import numpy as np\n",
    "# Este código está correcto\n"
   ]
  },
  {
   "cell_type": "code",
   "execution_count": 11,
   "metadata": {},
   "outputs": [
    {
     "data": {
      "text/plain": [
       "'Ornitorrinco45'"
      ]
     },
     "execution_count": 11,
     "metadata": {},
     "output_type": "execute_result"
    }
   ],
   "source": [
    "# \"Ornitorrinco\" + 45\n",
    "# El código correcto se arregla conviertiendo el int 45 a un str\n",
    "\"Ornitorrinco\" + \"45\""
   ]
  },
  {
   "attachments": {},
   "cell_type": "markdown",
   "metadata": {},
   "source": [
    "### Requerimiento 5\n",
    "\n",
    "1. Importa pandas y numpy.\n",
    "2. Posteriormente importa el archivo flights.csv.\n",
    "3. Solicita las primeras y últimas 5 observaciones de la tabla de datos.\n",
    "4. Utiliza describe para obtener las medidas univariadas de la columna year.\n",
    "5. Utiliza value_counts para obtener la frecuencia de meses y años de la tabla.\n",
    "6. Guarda en variables las primeras y últimas 15 observaciones de la tabla.\n",
    "7. Solicita la media, mediana y desviación estándar de la cantidad de pasajeros\n",
    "utilizando los métodos de numpy. Replique el procedimiento para las últimas y\n",
    "primeras 15 observaciones. Comente brevemente los resultados.\n"
   ]
  },
  {
   "cell_type": "code",
   "execution_count": 15,
   "metadata": {},
   "outputs": [
    {
     "data": {
      "text/html": [
       "<div>\n",
       "<style scoped>\n",
       "    .dataframe tbody tr th:only-of-type {\n",
       "        vertical-align: middle;\n",
       "    }\n",
       "\n",
       "    .dataframe tbody tr th {\n",
       "        vertical-align: top;\n",
       "    }\n",
       "\n",
       "    .dataframe thead th {\n",
       "        text-align: right;\n",
       "    }\n",
       "</style>\n",
       "<table border=\"1\" class=\"dataframe\">\n",
       "  <thead>\n",
       "    <tr style=\"text-align: right;\">\n",
       "      <th></th>\n",
       "      <th>year</th>\n",
       "      <th>month</th>\n",
       "      <th>passengers</th>\n",
       "    </tr>\n",
       "  </thead>\n",
       "  <tbody>\n",
       "    <tr>\n",
       "      <th>0</th>\n",
       "      <td>1949</td>\n",
       "      <td>January</td>\n",
       "      <td>112</td>\n",
       "    </tr>\n",
       "    <tr>\n",
       "      <th>1</th>\n",
       "      <td>1949</td>\n",
       "      <td>February</td>\n",
       "      <td>118</td>\n",
       "    </tr>\n",
       "    <tr>\n",
       "      <th>2</th>\n",
       "      <td>1949</td>\n",
       "      <td>March</td>\n",
       "      <td>132</td>\n",
       "    </tr>\n",
       "    <tr>\n",
       "      <th>3</th>\n",
       "      <td>1949</td>\n",
       "      <td>April</td>\n",
       "      <td>129</td>\n",
       "    </tr>\n",
       "    <tr>\n",
       "      <th>4</th>\n",
       "      <td>1949</td>\n",
       "      <td>May</td>\n",
       "      <td>121</td>\n",
       "    </tr>\n",
       "  </tbody>\n",
       "</table>\n",
       "</div>"
      ],
      "text/plain": [
       "   year     month  passengers\n",
       "0  1949   January         112\n",
       "1  1949  February         118\n",
       "2  1949     March         132\n",
       "3  1949     April         129\n",
       "4  1949       May         121"
      ]
     },
     "metadata": {},
     "output_type": "display_data"
    },
    {
     "data": {
      "text/html": [
       "<div>\n",
       "<style scoped>\n",
       "    .dataframe tbody tr th:only-of-type {\n",
       "        vertical-align: middle;\n",
       "    }\n",
       "\n",
       "    .dataframe tbody tr th {\n",
       "        vertical-align: top;\n",
       "    }\n",
       "\n",
       "    .dataframe thead th {\n",
       "        text-align: right;\n",
       "    }\n",
       "</style>\n",
       "<table border=\"1\" class=\"dataframe\">\n",
       "  <thead>\n",
       "    <tr style=\"text-align: right;\">\n",
       "      <th></th>\n",
       "      <th>year</th>\n",
       "      <th>month</th>\n",
       "      <th>passengers</th>\n",
       "    </tr>\n",
       "  </thead>\n",
       "  <tbody>\n",
       "    <tr>\n",
       "      <th>139</th>\n",
       "      <td>1960</td>\n",
       "      <td>August</td>\n",
       "      <td>606</td>\n",
       "    </tr>\n",
       "    <tr>\n",
       "      <th>140</th>\n",
       "      <td>1960</td>\n",
       "      <td>September</td>\n",
       "      <td>508</td>\n",
       "    </tr>\n",
       "    <tr>\n",
       "      <th>141</th>\n",
       "      <td>1960</td>\n",
       "      <td>October</td>\n",
       "      <td>461</td>\n",
       "    </tr>\n",
       "    <tr>\n",
       "      <th>142</th>\n",
       "      <td>1960</td>\n",
       "      <td>November</td>\n",
       "      <td>390</td>\n",
       "    </tr>\n",
       "    <tr>\n",
       "      <th>143</th>\n",
       "      <td>1960</td>\n",
       "      <td>December</td>\n",
       "      <td>432</td>\n",
       "    </tr>\n",
       "  </tbody>\n",
       "</table>\n",
       "</div>"
      ],
      "text/plain": [
       "     year      month  passengers\n",
       "139  1960     August         606\n",
       "140  1960  September         508\n",
       "141  1960    October         461\n",
       "142  1960   November         390\n",
       "143  1960   December         432"
      ]
     },
     "metadata": {},
     "output_type": "display_data"
    },
    {
     "data": {
      "text/plain": [
       "count     144.000000\n",
       "mean     1954.500000\n",
       "std         3.464102\n",
       "min      1949.000000\n",
       "25%      1951.750000\n",
       "50%      1954.500000\n",
       "75%      1957.250000\n",
       "max      1960.000000\n",
       "Name: year, dtype: float64"
      ]
     },
     "metadata": {},
     "output_type": "display_data"
    },
    {
     "data": {
      "text/plain": [
       "January      12\n",
       "February     12\n",
       "March        12\n",
       "April        12\n",
       "May          12\n",
       "June         12\n",
       "July         12\n",
       "August       12\n",
       "September    12\n",
       "October      12\n",
       "November     12\n",
       "December     12\n",
       "Name: month, dtype: int64"
      ]
     },
     "metadata": {},
     "output_type": "display_data"
    }
   ],
   "source": [
    "import pandas as pd\n",
    "import numpy as np\n",
    "\n",
    "df = pd.read_csv('flights.csv')\n",
    "display(df.head(5))\n",
    "display(df.tail(5))\n",
    "display(df['year'].describe())\n",
    "display(df['month'].value_counts())\n",
    "\n",
    "primeras_quince = df.head(15)\n",
    "ultimas_quince = df.tail(15)\n",
    "\n"
   ]
  },
  {
   "cell_type": "code",
   "execution_count": 20,
   "metadata": {},
   "outputs": [],
   "source": [
    "media = np.mean(df['passengers'])\n",
    "mediana = np.median(df['passengers'])\n",
    "desviacion_estandar = np.std(df['passengers'])"
   ]
  },
  {
   "cell_type": "code",
   "execution_count": 22,
   "metadata": {},
   "outputs": [],
   "source": [
    "media_primeras_quince = np.mean(primeras_quince['passengers'])\n",
    "mediana_primeras_quince = np.median(primeras_quince['passengers'])\n",
    "desviacion_estandar_primeras_quince = np.std(primeras_quince['passengers'])\n",
    "media_ultimas_quince = np.mean(ultimas_quince['passengers'])\n",
    "mediana_ultimas_quince = np.median(ultimas_quince['passengers'])\n",
    "desviacion_estandar_ultimas_quince = np.std(ultimas_quince['passengers'])"
   ]
  },
  {
   "cell_type": "code",
   "execution_count": 24,
   "metadata": {},
   "outputs": [
    {
     "name": "stdout",
     "output_type": "stream",
     "text": [
      "Las medidas estadisticas para los datos totales son: \n",
      "Media: 280.2986111111111\n",
      "Mediana: 265.5\n",
      "Desviacion estándar: 119.54904153277148\n",
      "\n",
      "Las medidas estadisticas para los primeros quince datos son: \n",
      "Media: 126.8\n",
      "Mediana: 126.0\n",
      "Desviacion estándar: 12.681745410891462\n",
      "\n",
      "Las medidas estadisticas para los ultimos quince datos son: \n",
      "Media: 459.2\n",
      "Mediana: 432.0\n",
      "Desviacion estándar: 75.29426715671431\n",
      "\n",
      "\n"
     ]
    }
   ],
   "source": [
    "print(f'Las medidas estadisticas para los datos totales son: \\n'\n",
    "      f'Media: {media}\\nMediana: {mediana}\\nDesviacion estándar: {desviacion_estandar}\\n\\n'\n",
    "      f'Las medidas estadisticas para los primeros quince datos son: \\n'\n",
    "      f'Media: {media_primeras_quince}\\nMediana: {mediana_primeras_quince}\\nDesviacion estándar: {desviacion_estandar_primeras_quince}\\n\\n'\n",
    "      f'Las medidas estadisticas para los ultimos quince datos son: \\n'\n",
    "      f'Media: {media_ultimas_quince}\\nMediana: {mediana_ultimas_quince}\\nDesviacion estándar: {desviacion_estandar_ultimas_quince}\\n\\n')"
   ]
  },
  {
   "attachments": {},
   "cell_type": "markdown",
   "metadata": {},
   "source": [
    "De forma general se puede ver que los datos totales tienen una dispersión mayor que los \n",
    "primeros/ultimos quince datos. Los primeros quince datos poseen la menor media, mediana y dispersión\n",
    "con respecto a los otros dos grupos. Los últimos quince datos poseen la mayor media y mediana con\n",
    "respecto a los otros dos grupos."
   ]
  },
  {
   "cell_type": "markdown",
   "metadata": {},
   "source": []
  }
 ],
 "metadata": {
  "kernelspec": {
   "display_name": "Python 3.9.13 ('base')",
   "language": "python",
   "name": "python3"
  },
  "language_info": {
   "codemirror_mode": {
    "name": "ipython",
    "version": 3
   },
   "file_extension": ".py",
   "mimetype": "text/x-python",
   "name": "python",
   "nbconvert_exporter": "python",
   "pygments_lexer": "ipython3",
   "version": "3.9.13 (main, Aug 25 2022, 23:51:50) [MSC v.1916 64 bit (AMD64)]"
  },
  "orig_nbformat": 4,
  "vscode": {
   "interpreter": {
    "hash": "af5f59eafcfa7ad9c06f1a742af686e767f586fd272c2b55836f60c5affb1887"
   }
  }
 },
 "nbformat": 4,
 "nbformat_minor": 2
}
