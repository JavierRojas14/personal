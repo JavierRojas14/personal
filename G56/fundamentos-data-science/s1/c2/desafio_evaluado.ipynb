{
 "cells": [
  {
   "cell_type": "code",
   "execution_count": 1,
   "metadata": {},
   "outputs": [],
   "source": [
    "import pandas as pd\n",
    "import numpy as np"
   ]
  },
  {
   "cell_type": "markdown",
   "metadata": {},
   "source": [
    "1. Generar un par de arrays ficticios con numpy.\n",
    "\n",
    "Tip: Utilice la función linspace para generar un array entre 1 y 50, y un array entre 50 y\n",
    "150."
   ]
  },
  {
   "cell_type": "code",
   "execution_count": 2,
   "metadata": {},
   "outputs": [],
   "source": [
    "uno_cincuenta_array = np.linspace(1, 50)\n",
    "cincuenta_cientocincuneta_array = np.linspace(50, 150)"
   ]
  },
  {
   "cell_type": "markdown",
   "metadata": {},
   "source": [
    "2. Ejecuta un loop que devuelva si el número en el primer array es par o impar.\n",
    "\n",
    "Tip: Utilice la función módulo para encontrar si el número es divisible por 2."
   ]
  },
  {
   "cell_type": "code",
   "execution_count": 6,
   "metadata": {},
   "outputs": [
    {
     "name": "stdout",
     "output_type": "stream",
     "text": [
      "El resultado es: impar\n",
      "El resultado es: par\n",
      "El resultado es: impar\n",
      "El resultado es: par\n",
      "El resultado es: impar\n",
      "El resultado es: par\n",
      "El resultado es: impar\n",
      "El resultado es: par\n",
      "El resultado es: impar\n",
      "El resultado es: par\n",
      "El resultado es: impar\n",
      "El resultado es: par\n",
      "El resultado es: impar\n",
      "El resultado es: par\n",
      "El resultado es: impar\n",
      "El resultado es: par\n",
      "El resultado es: impar\n",
      "El resultado es: par\n",
      "El resultado es: impar\n",
      "El resultado es: par\n",
      "El resultado es: impar\n",
      "El resultado es: par\n",
      "El resultado es: impar\n",
      "El resultado es: par\n",
      "El resultado es: impar\n",
      "El resultado es: par\n",
      "El resultado es: impar\n",
      "El resultado es: par\n",
      "El resultado es: impar\n",
      "El resultado es: par\n",
      "El resultado es: impar\n",
      "El resultado es: par\n",
      "El resultado es: impar\n",
      "El resultado es: par\n",
      "El resultado es: impar\n",
      "El resultado es: par\n",
      "El resultado es: impar\n",
      "El resultado es: par\n",
      "El resultado es: impar\n",
      "El resultado es: par\n",
      "El resultado es: impar\n",
      "El resultado es: par\n",
      "El resultado es: impar\n",
      "El resultado es: par\n",
      "El resultado es: impar\n",
      "El resultado es: par\n",
      "El resultado es: impar\n",
      "El resultado es: par\n",
      "El resultado es: impar\n",
      "El resultado es: par\n"
     ]
    }
   ],
   "source": [
    "for numero in uno_cincuenta_array:\n",
    "    if numero % 2 == 0:\n",
    "        resultado = 'par'\n",
    "\n",
    "    elif numero % 2 == 1:\n",
    "        resultado = 'impar'\n",
    "    \n",
    "    print(f'El resultado es: {resultado}')"
   ]
  },
  {
   "cell_type": "markdown",
   "metadata": {},
   "source": [
    "3. Genere un loop con el segundo array que cuente las siguientes condiciones:\n",
    "\n",
    "- Si el número es divisible por 2 o 3.\n",
    "- Si el número es divisible por 2 y 3.\n",
    "- Si el número es divisible por 3 pero no por 2.\n",
    "- si el número no es divisible por 2 ni 3."
   ]
  },
  {
   "cell_type": "markdown",
   "metadata": {},
   "source": []
  },
  {
   "cell_type": "code",
   "execution_count": 7,
   "metadata": {},
   "outputs": [
    {
     "name": "stdout",
     "output_type": "stream",
     "text": [
      "El resultado es: dos o tres\n",
      "El resultado es: no tres y no dos\n",
      "El resultado es: no tres y no dos\n",
      "El resultado es: no tres y no dos\n",
      "El resultado es: no tres y no dos\n",
      "El resultado es: no tres y no dos\n",
      "El resultado es: no tres y no dos\n",
      "El resultado es: no tres y no dos\n",
      "El resultado es: no tres y no dos\n",
      "El resultado es: no tres y no dos\n",
      "El resultado es: no tres y no dos\n",
      "El resultado es: no tres y no dos\n",
      "El resultado es: no tres y no dos\n",
      "El resultado es: no tres y no dos\n",
      "El resultado es: no tres y no dos\n",
      "El resultado es: no tres y no dos\n",
      "El resultado es: no tres y no dos\n",
      "El resultado es: no tres y no dos\n",
      "El resultado es: no tres y no dos\n",
      "El resultado es: no tres y no dos\n",
      "El resultado es: no tres y no dos\n",
      "El resultado es: no tres y no dos\n",
      "El resultado es: no tres y no dos\n",
      "El resultado es: no tres y no dos\n",
      "El resultado es: no tres y no dos\n",
      "El resultado es: no tres y no dos\n",
      "El resultado es: no tres y no dos\n",
      "El resultado es: no tres y no dos\n",
      "El resultado es: no tres y no dos\n",
      "El resultado es: no tres y no dos\n",
      "El resultado es: no tres y no dos\n",
      "El resultado es: no tres y no dos\n",
      "El resultado es: no tres y no dos\n",
      "El resultado es: no tres y no dos\n",
      "El resultado es: no tres y no dos\n",
      "El resultado es: no tres y no dos\n",
      "El resultado es: no tres y no dos\n",
      "El resultado es: no tres y no dos\n",
      "El resultado es: no tres y no dos\n",
      "El resultado es: no tres y no dos\n",
      "El resultado es: no tres y no dos\n",
      "El resultado es: no tres y no dos\n",
      "El resultado es: no tres y no dos\n",
      "El resultado es: no tres y no dos\n",
      "El resultado es: no tres y no dos\n",
      "El resultado es: no tres y no dos\n",
      "El resultado es: no tres y no dos\n",
      "El resultado es: no tres y no dos\n",
      "El resultado es: no tres y no dos\n",
      "El resultado es: dos o tres\n"
     ]
    }
   ],
   "source": [
    "for numero in cincuenta_cientocincuneta_array:\n",
    "    if numero % 2 == 0 or numero % 3 == 0:\n",
    "        resultado = 'dos o tres'\n",
    "    \n",
    "    elif numero % 2 == 0 and numero % 3 == 0:\n",
    "        resultado = 'dos y tres'\n",
    "    \n",
    "    elif numero % 3 == 0 and numero % 2 != 0:\n",
    "        resultado = 'tres y no dos'\n",
    "    \n",
    "    elif numero % 2 != 0 and numero % 3 != 0:\n",
    "        resultado = 'no tres y no dos'\n",
    "    \n",
    "    print(f'El resultado es: {resultado}')"
   ]
  },
  {
   "cell_type": "markdown",
   "metadata": {},
   "source": [
    "4. Corrección de errores: Revisa el siguiente código y encuentra los errores a corregir.\n",
    "\n",
    "```\n",
    "for i in range(100):\n",
    "    print(I**2)\n",
    "```"
   ]
  },
  {
   "cell_type": "code",
   "execution_count": 8,
   "metadata": {},
   "outputs": [
    {
     "name": "stdout",
     "output_type": "stream",
     "text": [
      "0\n",
      "1\n",
      "4\n",
      "9\n",
      "16\n",
      "25\n",
      "36\n",
      "49\n",
      "64\n",
      "81\n",
      "100\n",
      "121\n",
      "144\n",
      "169\n",
      "196\n",
      "225\n",
      "256\n",
      "289\n",
      "324\n",
      "361\n",
      "400\n",
      "441\n",
      "484\n",
      "529\n",
      "576\n",
      "625\n",
      "676\n",
      "729\n",
      "784\n",
      "841\n",
      "900\n",
      "961\n",
      "1024\n",
      "1089\n",
      "1156\n",
      "1225\n",
      "1296\n",
      "1369\n",
      "1444\n",
      "1521\n",
      "1600\n",
      "1681\n",
      "1764\n",
      "1849\n",
      "1936\n",
      "2025\n",
      "2116\n",
      "2209\n",
      "2304\n",
      "2401\n",
      "2500\n",
      "2601\n",
      "2704\n",
      "2809\n",
      "2916\n",
      "3025\n",
      "3136\n",
      "3249\n",
      "3364\n",
      "3481\n",
      "3600\n",
      "3721\n",
      "3844\n",
      "3969\n",
      "4096\n",
      "4225\n",
      "4356\n",
      "4489\n",
      "4624\n",
      "4761\n",
      "4900\n",
      "5041\n",
      "5184\n",
      "5329\n",
      "5476\n",
      "5625\n",
      "5776\n",
      "5929\n",
      "6084\n",
      "6241\n",
      "6400\n",
      "6561\n",
      "6724\n",
      "6889\n",
      "7056\n",
      "7225\n",
      "7396\n",
      "7569\n",
      "7744\n",
      "7921\n",
      "8100\n",
      "8281\n",
      "8464\n",
      "8649\n",
      "8836\n",
      "9025\n",
      "9216\n",
      "9409\n",
      "9604\n",
      "9801\n"
     ]
    }
   ],
   "source": [
    "for i in range(100):\n",
    "    print(i**2)"
   ]
  },
  {
   "cell_type": "markdown",
   "metadata": {},
   "source": [
    "5. Utilizando la misma base flights.csv debes hacer un loop y clasificar los meses\n",
    "con una cantidad de pasajeros menor a la media. Para ello:\n",
    "- Genera un nuevo objeto que represente la media de passengers.\n",
    "- Genera una columna en la base de datos que se llame underperforming y\n",
    "asígnele 0.\n",
    "- Ejecuta un loop que recorra cada observación de passengers, donde si la\n",
    "observación es menor a la media de passengers se le asigne a\n",
    "underperforming un 1.\n",
    "- Asignar unos en la columna underperforming ya creada, para ello utilice la\n",
    "función at de pandas."
   ]
  },
  {
   "cell_type": "code",
   "execution_count": 10,
   "metadata": {},
   "outputs": [],
   "source": [
    "df = pd.read_csv('flights.csv')\n",
    "\n",
    "media = df['passengers'].mean()\n",
    "df['underperforming'] = 0"
   ]
  },
  {
   "cell_type": "code",
   "execution_count": 16,
   "metadata": {},
   "outputs": [],
   "source": [
    "for index, row in df.iterrows():\n",
    "    if row['passengers'] < media:\n",
    "        df.loc[index, 'underperforming'] = 1"
   ]
  },
  {
   "cell_type": "code",
   "execution_count": 20,
   "metadata": {},
   "outputs": [],
   "source": [
    "# No entendí bien el último enunciado, pero creo que esta respuesta es ad hoc\n",
    "for index, row in df.iterrows():\n",
    "    if row['passengers'] < media:\n",
    "        df.at[index, 'underperforming'] = 1"
   ]
  },
  {
   "attachments": {},
   "cell_type": "markdown",
   "metadata": {},
   "source": [
    "6. Por último, haz un loop que clasifique los meses donde la cantidad de pasajeros se\n",
    "escapa de la tendencia. Para ello:\n",
    "- Genera dos objetos que guarden la media general y la desviación estándar general de\n",
    "passengers.\n",
    "- Genera una nueva columna en la tabla de datos que se llame outlier y asígnale 0.\n",
    "- Ejecuta un loop que recorra cada observación de passengers, donde si la\n",
    "observación se escapa de la tendencia sea 1, de lo contrario 0.\n",
    "- Para clasificar los casos que se escapen la tendencia, la observación debe satisfacer\n",
    "una de las siguientes condiciones:\n",
    "  - La observación debe ser menor a la media menos la desviación estándar, o\n",
    "  - La observación debe ser mayor a la media más la desviación estándar.\n",
    "  - ¿Cuántas observaciones se pueden clasificar como casos extremos?"
   ]
  },
  {
   "cell_type": "code",
   "execution_count": 21,
   "metadata": {},
   "outputs": [],
   "source": [
    "media_general = df['passengers'].mean()\n",
    "desviacion_estandar_general = df['passengers'].std()\n",
    "df['outlier'] = 0\n",
    "\n",
    "for index, row in df.iterrows():\n",
    "    if escapa_tendencia(observacion):\n",
    "        df.loc[index, 'outlier'] = 1\n"
   ]
  },
  {
   "cell_type": "code",
   "execution_count": null,
   "metadata": {},
   "outputs": [],
   "source": []
  }
 ],
 "metadata": {
  "kernelspec": {
   "display_name": "base",
   "language": "python",
   "name": "python3"
  },
  "language_info": {
   "codemirror_mode": {
    "name": "ipython",
    "version": 3
   },
   "file_extension": ".py",
   "mimetype": "text/x-python",
   "name": "python",
   "nbconvert_exporter": "python",
   "pygments_lexer": "ipython3",
   "version": "3.9.13"
  },
  "orig_nbformat": 4,
  "vscode": {
   "interpreter": {
    "hash": "af5f59eafcfa7ad9c06f1a742af686e767f586fd272c2b55836f60c5affb1887"
   }
  }
 },
 "nbformat": 4,
 "nbformat_minor": 2
}
