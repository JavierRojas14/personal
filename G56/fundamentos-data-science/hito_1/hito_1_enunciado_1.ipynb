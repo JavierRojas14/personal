{
 "cells": [
  {
   "attachments": {},
   "cell_type": "markdown",
   "metadata": {},
   "source": [
    "# Objetivo\n",
    "\n"
   ]
  },
  {
   "attachments": {},
   "cell_type": "markdown",
   "metadata": {},
   "source": [
    "# Preliminares\n",
    "\n",
    "Este es un problema en donde se quiere generar un modelo predictivo para obtener la probabilidad\n",
    "de que un individuo gane por sobre o bajo los 50000 dolares anuales. Debido a lo anterior,\n",
    "este es un problema de clasificacion. \n",
    "\n",
    "Como es un problema de Clasificacion, se puede utilizar el acercamiento desde la econometria o\n",
    "el Machine Learning. Se utilizara el enfoque de Machine Learning, ya que es posible comparar\n",
    "un mismo modelo con diversos puntos de corte para clasificar. Esto permitiria elegir el modelo\n",
    "mas idoneo.\n",
    "\n",
    "Para resolver el problema, sera necesario estandarizar los datos, separarlos en datos para training\n",
    "y testing, entregarselos a un modelo del tipo LogisticRegression, y finalmente probar el desempeno\n",
    "del modelo con las metricas de F1 o curvas ROC. Todo lo anterior, tambien sera validado utilizando\n",
    "la validacion cruzada (K-Cross Validation).\n",
    "\n",
    "# Aspectos\n",
    "\n",
    "Se utilizaran las siguientes librerias:\n",
    "\n",
    "- sklearn.linear_model para importar LogisticRegression\n",
    "- \n"
   ]
  }
 ],
 "metadata": {
  "kernelspec": {
   "display_name": "base",
   "language": "python",
   "name": "python3"
  },
  "language_info": {
   "codemirror_mode": {
    "name": "ipython",
    "version": 3
   },
   "file_extension": ".py",
   "mimetype": "text/x-python",
   "name": "python",
   "nbconvert_exporter": "python",
   "pygments_lexer": "ipython3",
   "version": "3.9.13"
  },
  "orig_nbformat": 4,
  "vscode": {
   "interpreter": {
    "hash": "af5f59eafcfa7ad9c06f1a742af686e767f586fd272c2b55836f60c5affb1887"
   }
  }
 },
 "nbformat": 4,
 "nbformat_minor": 2
}
