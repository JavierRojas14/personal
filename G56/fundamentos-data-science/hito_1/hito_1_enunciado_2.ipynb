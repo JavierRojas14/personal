{
 "cells": [
  {
   "attachments": {},
   "cell_type": "markdown",
   "metadata": {},
   "source": [
    "# Enunciado 2\n",
    "\n",
    "Este es un problema donde existen diversas variables independientes (continuas y discretas) relacionadas\n",
    "a aspectos sociodemograficos y conductuales de estudiantes de dos colegios distintos. Ademas, se\n",
    "quiere predecir el desempeno que tendran estos alumnos teniendo en cuenta las variables recien\n",
    "mencionadas. Debido a que se quiere predecir una variable de naturaleza continua (promedio de calificaciones de alumnos), este es un problema de Regresion Lineal.  \n",
    "\n",
    "## Preliminares\n",
    "\n",
    "### Variables disponibles\n",
    "\n",
    "- ```school```: Corresponde a la escuela que asiste el estudiante. Es una variable discreta nominal binaria.\n",
    "- ```sex```: Corresponde al sexo del estudiante. Es un variable discreta nominal binaria.\n",
    "- ```age```: Edad del estudiante. Es una variable discreta ordinal.\n",
    "- ```address```: Es la ubicacion del domicilio del estudiante. Es una variable discreta nominal binaria.\n",
    "- ```famsize```: Es la cantidad de integrantes que tiene la familia del estudiante. Es una variable discreta binaria.\n",
    "- ```Pstatus```: Es el estado cohabitacional de los padres del estudiante. Es una variable discreta\n",
    "binaria.\n",
    "- ```Medu```: Es el nivel educacional de la madre. Es una variable discreta ordinal.\n",
    "- ```Fedu```: Es el nivel educacional del padre. Es una variable discreta ordinal.\n",
    "- ```Mjob```: Es la ocupacion de la madre. Es una variable discreta nominal.\n",
    "- ```job```: Es la ocupacion del padre. Es una variable discreta nominal.\n",
    "- ```reason```: Fue la razon del por que se eligio la escuela. Es una variable discreta nominal.\n",
    "- ```guardian```: Indica el apoderado del estudiante. Es una variable discreta nominal binaria.\n",
    "- ```traveltime```: Indica cuanto se demora el estudiante en viajar de su casa al colegio. Es una\n",
    "variable discreta ordinal.\n",
    "- ```studytime```: Son las horas semanales dedicadas al estudio por el estudiante. Es una variable\n",
    "discreta ordinal.\n",
    "- ```failures```: Son la cantidad de clases reprobadas. Es una variable discreta ordinal.\n",
    "- ```schoolsup```: Indica si el estudiante recibe apoyo educacional en el colegio. Es una variable\n",
    "discreta nominal binaria.\n",
    "- ```famsup```: Indica si el estudiante recibe apoyo educacional en su familia. Es una variable\n",
    "discreta nominal binaria.\n",
    "- ```paid```: indica si el estudiante recibe clases particulares pagadas de matematicas o portugues.\n",
    "Es una variable discreta nominal binaria.\n",
    "- ```activities```: Indica si el estudiante realiza alguna actividad extracurricular. Es una variable\n",
    "discreta nominal binaria\n",
    "- ```nursery```: indica si el estudiante asistio a guarderia infantil. Es una variable\n",
    "discreta nominal binaria\n",
    "- ```higher```: Indica si el estudiante quiere seguir estudios superiores. Es una variable\n",
    "discreta nominal binaria\n",
    "- ```internet```: Indica si el estudiante tiene acceso a internet desde su hogar. Es una variable\n",
    "discreta nominal binaria\n",
    "- ```romantic```: Indica si el estudiante esta en una relacion romantinca. Es una variable\n",
    "discreta nominal binaria\n",
    "- ```famrel```: Indica la percepcion del estudiante sobre su relacion familiar. Es una variable\n",
    "discreta ordinal.\n",
    "- ```freetime```: Indica la percepcion del estudiante sobre su cantidad de tiempo libre fuera del\n",
    "colegio. Es una variable discreta ordinal.\n",
    "- ```goout```: Indica la percepcion del estudiante sobre cuanto sale con sus amigos. Es una variable\n",
    "discreta ordinal.\n",
    "- ```Dalc```: Indica la percepcion del estudiante sobre cuanto alcohol consume en la semana. Es una\n",
    "variable discreta ordinal.\n",
    "- ```Walc```: Indica la percepcion del estudiante sobre cuanto alcohol consume en los fines de semana. Es una variable discreta ordinal.\n",
    "- ```health```: Indica la percepcion del estudiante sobre su estado de salud. Es una\n",
    "variable discreta ordinal.\n",
    "- ```absences```: Es la cantidad de ausencias escolares que tiene el estudiante. Es una variable\n",
    "discreta ordinal.\n",
    "\n",
    "- ```G1```: Es el promedio de notas del estudiante para el primer semestre. **Es uno de los vectores\n",
    "objetivos para el modelo descriptivo**\n",
    "- ```G2```: Es el promedio de notas del estudiante para el segundo semestre. **Es uno de los vectores\n",
    "objetivos para el modelo descriptivo**\n",
    "- ```G3```: Es el promedio de notas del estudiante para el anio en curso. **Es uno de los vectores\n",
    "objetivos para el modelo descriptivo y el vector a predecir en el modelo predictivo!**\n",
    "\n",
    "### Resolucion del problema\n",
    "\n",
    "### Optimizacion del modelo\n",
    "\n",
    "### Metricas de Desempeño\n",
    "\n",
    "### Preprocesamiento\n",
    "\n",
    "## Aspectos Computacionales\n",
    "\n",
    "## Preprocesamiento"
   ]
  },
  {
   "cell_type": "code",
   "execution_count": 3,
   "metadata": {},
   "outputs": [],
   "source": [
    "import pandas as pd\n",
    "\n",
    "df = pd.read_csv('students.csv', delimiter='|')"
   ]
  },
  {
   "cell_type": "code",
   "execution_count": 7,
   "metadata": {},
   "outputs": [
    {
     "data": {
      "text/plain": [
       "0       6\n",
       "1       6\n",
       "2      10\n",
       "3      15\n",
       "4      10\n",
       "       ..\n",
       "390     9\n",
       "391    16\n",
       "392     7\n",
       "393    10\n",
       "394     9\n",
       "Name: G3, Length: 395, dtype: object"
      ]
     },
     "execution_count": 7,
     "metadata": {},
     "output_type": "execute_result"
    }
   ],
   "source": [
    "df.G3"
   ]
  },
  {
   "cell_type": "code",
   "execution_count": null,
   "metadata": {},
   "outputs": [],
   "source": []
  }
 ],
 "metadata": {
  "kernelspec": {
   "display_name": "base",
   "language": "python",
   "name": "python3"
  },
  "language_info": {
   "codemirror_mode": {
    "name": "ipython",
    "version": 3
   },
   "file_extension": ".py",
   "mimetype": "text/x-python",
   "name": "python",
   "nbconvert_exporter": "python",
   "pygments_lexer": "ipython3",
   "version": "3.9.13"
  },
  "orig_nbformat": 4,
  "vscode": {
   "interpreter": {
    "hash": "af5f59eafcfa7ad9c06f1a742af686e767f586fd272c2b55836f60c5affb1887"
   }
  }
 },
 "nbformat": 4,
 "nbformat_minor": 2
}
