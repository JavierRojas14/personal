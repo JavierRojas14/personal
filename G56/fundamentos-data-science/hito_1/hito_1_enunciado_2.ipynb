{
 "cells": [
  {
   "attachments": {},
   "cell_type": "markdown",
   "metadata": {},
   "source": [
    "# Enunciado 2\n",
    "\n",
    "## Preliminares\n",
    "\n",
    "### Variables disponibles\n",
    "\n",
    "### Resolucion del problema\n",
    "\n",
    "### Optimizacion del modelo\n",
    "\n",
    "### Metricas de Desempeño\n",
    "\n",
    "### Preprocesamiento\n",
    "\n",
    "## Aspectos Computacionales"
   ]
  }
 ],
 "metadata": {
  "kernelspec": {
   "display_name": "Python 3",
   "language": "python",
   "name": "python3"
  },
  "language_info": {
   "name": "python",
   "version": "3.10.8 (tags/v3.10.8:aaaf517, Oct 11 2022, 16:50:30) [MSC v.1933 64 bit (AMD64)]"
  },
  "orig_nbformat": 4,
  "vscode": {
   "interpreter": {
    "hash": "42b7a8269543bcb579cd7b7725932418ba11ca9773c942937c2bd4311fe78df7"
   }
  }
 },
 "nbformat": 4,
 "nbformat_minor": 2
}
