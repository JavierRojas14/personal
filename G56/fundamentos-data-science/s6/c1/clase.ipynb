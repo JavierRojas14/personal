{
 "cells": [
  {
   "attachments": {},
   "cell_type": "markdown",
   "metadata": {},
   "source": [
    "# Clase Atrasada\n",
    "\n",
    "# Repaso\n",
    "\n",
    "Para esta clase no fui :c, estaba en La Serena e igual valio la pena jasjasj.\n",
    "\n",
    "Se ha estado mezclado el area de la econometria y el machine learning.\n",
    "\n",
    "## Econometria\n",
    "\n",
    "Clasicamente, NO separa los datos en test y train, el modelo se mide segun diversas metricas: R2, test t, test F, verosimilitud, etc. Hay pruebas de hipotesis\n",
    "\n",
    "## Machine Learning\n",
    "\n",
    "Separa los datos en test y train! No hay pruebas de hipotesis. Hay diversas metricas para saber si un modelo de Machine Learning es bueno o no (R2, Mean Squared Error, Mean Absolute Error, etc)\n",
    "\n",
    "- Aqui hay dos fases: Entrenarlo y testearlo\n",
    "\n",
    "Los modelos pueden servir para predecir cosas!\n",
    "\n",
    "Es mejor tener un modelo parsimonioso! O sea, que sea un modelo que se explique con poquitas variables y buenas.\n",
    "\n",
    "# Predicciones\n",
    "\n",
    "Recordemos que todos los modelos que estabamos haciendo eran para predecir un numero (cantidad de salario, cantidad de precio de una casa, etc). Sin embargo, como predigo si algo va a ser rojo, azul, etc. Como predigo una clasificacion? Para eso es esta clases"
   ]
  },
  {
   "attachments": {},
   "cell_type": "markdown",
   "metadata": {},
   "source": [
    "# Clasificacion\n",
    "\n",
    "- Estas predicciones responden a las preguntas: \"Este video es apto para ser visto por ninos? Si/No\"; \"Este cliente va a pagar o no va a pagar? Si/No\", etc. No responde a predecir numeros\n",
    "\n",
    "- A veces se quiere minimizar equivocarse en una respuesta mas que otra (Ej: \"Este video es apto para un nino?\" Prefiero inflar la clasificacion de videos NO aptos para ninos, a pesar de que estos realmente si sean aptos para ninos. Esto, porque se evita clasificar un video verdaderamente NO apto para un nino como algo que si es apto para ninnos)\n",
    "\n",
    "- Se pueden hacer modelos para mas de 2 clasificaciones (Si/No)\n"
   ]
  },
  {
   "attachments": {},
   "cell_type": "markdown",
   "metadata": {},
   "source": [
    "# Clasificacion desde la Econometria"
   ]
  },
  {
   "attachments": {},
   "cell_type": "markdown",
   "metadata": {},
   "source": [
    "- El vector objetivo representa un atributo discreto (Azul, Rojo - 1, 0 - etc)\n",
    "\n",
    "- Es de aprendizaje supervisado, o sea, que se quiere predecir una variable objetivo a traves de variables independientes\n",
    "\n",
    "- Aprendizaje no supervisado: No intenta predecir una variable dependiente, si no que quiere agrupar los datos que se tienen (Por ej: PCA/Clustering/etc)"
   ]
  },
  {
   "cell_type": "code",
   "execution_count": 8,
   "metadata": {},
   "outputs": [],
   "source": [
    "import pandas as pd\n",
    "import numpy as np\n",
    "from scipy import stats\n",
    "import matplotlib.pyplot as plt\n",
    "import seaborn as sns\n",
    "import warnings\n",
    "import statsmodels.api as sm\n",
    "import statsmodels.formula.api as smf\n",
    "\n",
    "warnings.filterwarnings('ignore')\n",
    "plt.style.use('seaborn')\n",
    "plt.rcParams['figure.figsize'] = (12, 6)\n",
    "\n",
    "df = pd.read_csv('wells.csv').drop(columns='index')"
   ]
  },
  {
   "cell_type": "code",
   "execution_count": 9,
   "metadata": {},
   "outputs": [
    {
     "data": {
      "text/html": [
       "<div>\n",
       "<style scoped>\n",
       "    .dataframe tbody tr th:only-of-type {\n",
       "        vertical-align: middle;\n",
       "    }\n",
       "\n",
       "    .dataframe tbody tr th {\n",
       "        vertical-align: top;\n",
       "    }\n",
       "\n",
       "    .dataframe thead th {\n",
       "        text-align: right;\n",
       "    }\n",
       "</style>\n",
       "<table border=\"1\" class=\"dataframe\">\n",
       "  <thead>\n",
       "    <tr style=\"text-align: right;\">\n",
       "      <th></th>\n",
       "      <th>y</th>\n",
       "      <th>dist100</th>\n",
       "      <th>arsenic</th>\n",
       "      <th>educ4</th>\n",
       "      <th>assoc</th>\n",
       "    </tr>\n",
       "  </thead>\n",
       "  <tbody>\n",
       "    <tr>\n",
       "      <th>0</th>\n",
       "      <td>1</td>\n",
       "      <td>0.16826</td>\n",
       "      <td>2.36</td>\n",
       "      <td>0.00</td>\n",
       "      <td>0</td>\n",
       "    </tr>\n",
       "    <tr>\n",
       "      <th>1</th>\n",
       "      <td>1</td>\n",
       "      <td>0.47322</td>\n",
       "      <td>0.71</td>\n",
       "      <td>0.00</td>\n",
       "      <td>0</td>\n",
       "    </tr>\n",
       "    <tr>\n",
       "      <th>2</th>\n",
       "      <td>0</td>\n",
       "      <td>0.20967</td>\n",
       "      <td>2.07</td>\n",
       "      <td>2.50</td>\n",
       "      <td>0</td>\n",
       "    </tr>\n",
       "    <tr>\n",
       "      <th>3</th>\n",
       "      <td>1</td>\n",
       "      <td>0.21486</td>\n",
       "      <td>1.15</td>\n",
       "      <td>3.00</td>\n",
       "      <td>0</td>\n",
       "    </tr>\n",
       "    <tr>\n",
       "      <th>4</th>\n",
       "      <td>1</td>\n",
       "      <td>0.40874</td>\n",
       "      <td>1.10</td>\n",
       "      <td>3.50</td>\n",
       "      <td>1</td>\n",
       "    </tr>\n",
       "    <tr>\n",
       "      <th>...</th>\n",
       "      <td>...</td>\n",
       "      <td>...</td>\n",
       "      <td>...</td>\n",
       "      <td>...</td>\n",
       "      <td>...</td>\n",
       "    </tr>\n",
       "    <tr>\n",
       "      <th>3015</th>\n",
       "      <td>0</td>\n",
       "      <td>0.19347</td>\n",
       "      <td>0.52</td>\n",
       "      <td>1.25</td>\n",
       "      <td>1</td>\n",
       "    </tr>\n",
       "    <tr>\n",
       "      <th>3016</th>\n",
       "      <td>0</td>\n",
       "      <td>0.21386</td>\n",
       "      <td>1.08</td>\n",
       "      <td>0.75</td>\n",
       "      <td>1</td>\n",
       "    </tr>\n",
       "    <tr>\n",
       "      <th>3017</th>\n",
       "      <td>0</td>\n",
       "      <td>0.07708</td>\n",
       "      <td>0.51</td>\n",
       "      <td>1.00</td>\n",
       "      <td>0</td>\n",
       "    </tr>\n",
       "    <tr>\n",
       "      <th>3018</th>\n",
       "      <td>0</td>\n",
       "      <td>0.22842</td>\n",
       "      <td>0.64</td>\n",
       "      <td>0.75</td>\n",
       "      <td>0</td>\n",
       "    </tr>\n",
       "    <tr>\n",
       "      <th>3019</th>\n",
       "      <td>1</td>\n",
       "      <td>0.20844</td>\n",
       "      <td>0.66</td>\n",
       "      <td>1.25</td>\n",
       "      <td>1</td>\n",
       "    </tr>\n",
       "  </tbody>\n",
       "</table>\n",
       "<p>3020 rows × 5 columns</p>\n",
       "</div>"
      ],
      "text/plain": [
       "      y  dist100  arsenic  educ4  assoc\n",
       "0     1  0.16826     2.36   0.00      0\n",
       "1     1  0.47322     0.71   0.00      0\n",
       "2     0  0.20967     2.07   2.50      0\n",
       "3     1  0.21486     1.15   3.00      0\n",
       "4     1  0.40874     1.10   3.50      1\n",
       "...  ..      ...      ...    ...    ...\n",
       "3015  0  0.19347     0.52   1.25      1\n",
       "3016  0  0.21386     1.08   0.75      1\n",
       "3017  0  0.07708     0.51   1.00      0\n",
       "3018  0  0.22842     0.64   0.75      0\n",
       "3019  1  0.20844     0.66   1.25      1\n",
       "\n",
       "[3020 rows x 5 columns]"
      ]
     },
     "execution_count": 9,
     "metadata": {},
     "output_type": "execute_result"
    }
   ],
   "source": [
    "# En este caso se esta viendo si una persona se cambio de pozo de agua\n",
    "# con arsenico o no.\n",
    "df"
   ]
  },
  {
   "attachments": {},
   "cell_type": "markdown",
   "metadata": {},
   "source": [
    "## Modelo de Probabilidad Lineal\n",
    "\n",
    "Una de las primeras formas de responder al problema de clasificacion es con el modelo de probabilidad lineal. Este modelo predice la probabilidad de que ocurra un suceso (en este caso, la probabilidad de que una persona se cambie de pozo), dependiendo de diversas variables.\n",
    "\n",
    "y = n + mx + e\n",
    "\n",
    "Por lo tanto, las variables estarian afectando la probabilidad de que algo ocurra o no. Al ser un modelo lineal, es igual a lo que ya habiamos hecho"
   ]
  },
  {
   "attachments": {},
   "cell_type": "markdown",
   "metadata": {},
   "source": [
    "Aqui estamos prediciendo la probabilidad de que una familia se cambie de pozo (y) con respecto a la distancia que tiene de un pozo (dist100)."
   ]
  },
  {
   "cell_type": "code",
   "execution_count": 12,
   "metadata": {},
   "outputs": [],
   "source": [
    "ml_ols = smf.ols('y ~ dist100', data=df).fit()"
   ]
  },
  {
   "cell_type": "code",
   "execution_count": 14,
   "metadata": {},
   "outputs": [
    {
     "data": {
      "text/html": [
       "<table class=\"simpletable\">\n",
       "<caption>OLS Regression Results</caption>\n",
       "<tr>\n",
       "  <th>Dep. Variable:</th>            <td>y</td>        <th>  R-squared:         </th> <td>   0.014</td>\n",
       "</tr>\n",
       "<tr>\n",
       "  <th>Model:</th>                   <td>OLS</td>       <th>  Adj. R-squared:    </th> <td>   0.014</td>\n",
       "</tr>\n",
       "<tr>\n",
       "  <th>Method:</th>             <td>Least Squares</td>  <th>  F-statistic:       </th> <td>   42.57</td>\n",
       "</tr>\n",
       "<tr>\n",
       "  <th>Date:</th>             <td>Fri, 20 Jan 2023</td> <th>  Prob (F-statistic):</th> <td>7.95e-11</td>\n",
       "</tr>\n",
       "<tr>\n",
       "  <th>Time:</th>                 <td>00:15:02</td>     <th>  Log-Likelihood:    </th> <td> -2136.2</td>\n",
       "</tr>\n",
       "<tr>\n",
       "  <th>No. Observations:</th>      <td>  3020</td>      <th>  AIC:               </th> <td>   4276.</td>\n",
       "</tr>\n",
       "<tr>\n",
       "  <th>Df Residuals:</th>          <td>  3018</td>      <th>  BIC:               </th> <td>   4288.</td>\n",
       "</tr>\n",
       "<tr>\n",
       "  <th>Df Model:</th>              <td>     1</td>      <th>                     </th>     <td> </td>   \n",
       "</tr>\n",
       "<tr>\n",
       "  <th>Covariance Type:</th>      <td>nonrobust</td>    <th>                     </th>     <td> </td>   \n",
       "</tr>\n",
       "</table>\n",
       "<table class=\"simpletable\">\n",
       "<tr>\n",
       "      <td></td>         <th>coef</th>     <th>std err</th>      <th>t</th>      <th>P>|t|</th>  <th>[0.025</th>    <th>0.975]</th>  \n",
       "</tr>\n",
       "<tr>\n",
       "  <th>Intercept</th> <td>    0.6484</td> <td>    0.014</td> <td>   45.194</td> <td> 0.000</td> <td>    0.620</td> <td>    0.677</td>\n",
       "</tr>\n",
       "<tr>\n",
       "  <th>dist100</th>   <td>   -0.1515</td> <td>    0.023</td> <td>   -6.525</td> <td> 0.000</td> <td>   -0.197</td> <td>   -0.106</td>\n",
       "</tr>\n",
       "</table>\n",
       "<table class=\"simpletable\">\n",
       "<tr>\n",
       "  <th>Omnibus:</th>       <td>11769.028</td> <th>  Durbin-Watson:     </th> <td>   1.406</td> \n",
       "</tr>\n",
       "<tr>\n",
       "  <th>Prob(Omnibus):</th>  <td> 0.000</td>   <th>  Jarque-Bera (JB):  </th> <td> 478.263</td> \n",
       "</tr>\n",
       "<tr>\n",
       "  <th>Skew:</th>           <td>-0.305</td>   <th>  Prob(JB):          </th> <td>1.40e-104</td>\n",
       "</tr>\n",
       "<tr>\n",
       "  <th>Kurtosis:</th>       <td> 1.148</td>   <th>  Cond. No.          </th> <td>    3.29</td> \n",
       "</tr>\n",
       "</table><br/><br/>Notes:<br/>[1] Standard Errors assume that the covariance matrix of the errors is correctly specified."
      ],
      "text/plain": [
       "<class 'statsmodels.iolib.summary.Summary'>\n",
       "\"\"\"\n",
       "                            OLS Regression Results                            \n",
       "==============================================================================\n",
       "Dep. Variable:                      y   R-squared:                       0.014\n",
       "Model:                            OLS   Adj. R-squared:                  0.014\n",
       "Method:                 Least Squares   F-statistic:                     42.57\n",
       "Date:                Fri, 20 Jan 2023   Prob (F-statistic):           7.95e-11\n",
       "Time:                        00:15:02   Log-Likelihood:                -2136.2\n",
       "No. Observations:                3020   AIC:                             4276.\n",
       "Df Residuals:                    3018   BIC:                             4288.\n",
       "Df Model:                           1                                         \n",
       "Covariance Type:            nonrobust                                         \n",
       "==============================================================================\n",
       "                 coef    std err          t      P>|t|      [0.025      0.975]\n",
       "------------------------------------------------------------------------------\n",
       "Intercept      0.6484      0.014     45.194      0.000       0.620       0.677\n",
       "dist100       -0.1515      0.023     -6.525      0.000      -0.197      -0.106\n",
       "==============================================================================\n",
       "Omnibus:                    11769.028   Durbin-Watson:                   1.406\n",
       "Prob(Omnibus):                  0.000   Jarque-Bera (JB):              478.263\n",
       "Skew:                          -0.305   Prob(JB):                    1.40e-104\n",
       "Kurtosis:                       1.148   Cond. No.                         3.29\n",
       "==============================================================================\n",
       "\n",
       "Notes:\n",
       "[1] Standard Errors assume that the covariance matrix of the errors is correctly specified.\n",
       "\"\"\""
      ]
     },
     "execution_count": 14,
     "metadata": {},
     "output_type": "execute_result"
    }
   ],
   "source": [
    "ml_ols.summary()"
   ]
  },
  {
   "cell_type": "code",
   "execution_count": null,
   "metadata": {},
   "outputs": [],
   "source": [
    "# De las metricas anteriores podemos decir que cuando una persona\n",
    "# tiene 0 metros de distancia de un pozo mejor, entonces tiene un 65% de probabilidades\n",
    "# de cambiarse de pozo. Por otro lado, cuando se aleja 100 metros de un pozo seguro, entonces la\n",
    "# probabilidad de cambiarse de pozo baja en 15% aprox"
   ]
  },
  {
   "cell_type": "code",
   "execution_count": 17,
   "metadata": {},
   "outputs": [
    {
     "data": {
      "image/png": "[encoded data removed]",
      "text/plain": [
       "<Figure size 500x500 with 1 Axes>"
      ]
     },
     "metadata": {},
     "output_type": "display_data"
    },
    {
     "data": {
      "image/png": "[encoded data removed]",
      "text/plain": [
       "<Figure size 500x500 with 1 Axes>"
      ]
     },
     "metadata": {},
     "output_type": "display_data"
    }
   ],
   "source": [
    "sns.lmplot('dist100', 'y', df,\n",
    "           line_kws={'color': 'tomato'},\n",
    "           scatter_kws= {'color': 'grey',\n",
    "                         'alpha': .5})\n",
    "plt.show()"
   ]
  },
  {
   "cell_type": "code",
   "execution_count": null,
   "metadata": {},
   "outputs": [],
   "source": []
  }
 ],
 "metadata": {
  "kernelspec": {
   "display_name": "base",
   "language": "python",
   "name": "python3"
  },
  "language_info": {
   "codemirror_mode": {
    "name": "ipython",
    "version": 3
   },
   "file_extension": ".py",
   "mimetype": "text/x-python",
   "name": "python",
   "nbconvert_exporter": "python",
   "pygments_lexer": "ipython3",
   "version": "3.9.13"
  },
  "orig_nbformat": 4,
  "vscode": {
   "interpreter": {
    "hash": "a677eee07fae7a05dc0065b321405b89ac79028a918e58c71b412840ee16c11e"
   }
  }
 },
 "nbformat": 4,
 "nbformat_minor": 2
}
