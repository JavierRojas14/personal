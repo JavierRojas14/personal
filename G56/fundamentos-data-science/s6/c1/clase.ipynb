{
 "cells": [
  {
   "attachments": {},
   "cell_type": "markdown",
   "metadata": {},
   "source": [
    "# Clase Atrasada\n",
    "\n",
    "# Repaso\n",
    "\n",
    "Para esta clase no fui :c, estaba en La Serena e igual valio la pena jasjasj.\n",
    "\n",
    "Se ha estado mezclado el area de la econometria y el machine learning.\n",
    "\n",
    "## Econometria\n",
    "\n",
    "Clasicamente, NO separa los datos en test y train, el modelo se mide segun diversas metricas: R2, test t, test F, verosimilitud, etc. Hay pruebas de hipotesis\n",
    "\n",
    "## Machine Learning\n",
    "\n",
    "Separa los datos en test y train! No hay pruebas de hipotesis. Hay diversas metricas para saber si un modelo de Machine Learning es bueno o no (R2, Mean Squared Error, Mean Absolute Error, etc)\n",
    "\n",
    "- Aqui hay dos fases: Entrenarlo y testearlo\n",
    "\n",
    "Los modelos pueden servir para predecir cosas!\n",
    "\n",
    "Es mejor tener un modelo parsimonioso! O sea, que sea un modelo que se explique con poquitas variables y buenas.\n",
    "\n",
    "# Predicciones\n",
    "\n",
    "Recordemos que todos los modelos que estabamos haciendo eran para predecir un numero (cantidad de salario, cantidad de precio de una casa, etc). Sin embargo, como predigo si algo va a ser rojo, azul, etc. Como predigo una clasificacion? Para eso es esta clases"
   ]
  },
  {
   "attachments": {},
   "cell_type": "markdown",
   "metadata": {},
   "source": [
    "# Clasificacion\n",
    "\n",
    "\n",
    "\n"
   ]
  }
 ],
 "metadata": {
  "language_info": {
   "name": "python"
  },
  "orig_nbformat": 4
 },
 "nbformat": 4,
 "nbformat_minor": 2
}
