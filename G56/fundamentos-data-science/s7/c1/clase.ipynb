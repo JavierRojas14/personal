{
 "cells": [
  {
   "cell_type": "markdown",
   "metadata": {},
   "source": [
    "# Repaso"
   ]
  },
  {
   "attachments": {},
   "cell_type": "markdown",
   "metadata": {},
   "source": [
    "# Dimensionalidad"
   ]
  },
  {
   "attachments": {},
   "cell_type": "markdown",
   "metadata": {},
   "source": [
    "# Aprendize No Supervisado\n",
    "\n",
    "Corresponde a la ausencia de informacion sobre el vector objetivo. Lo que se quiere hacer es agrupar\n",
    "o tratar las variables de X.\n",
    "\n",
    "Usualmente lo que se hace es agrupar datos (clustering) o reducir la dimension (cantidad de \n",
    "variables)"
   ]
  },
  {
   "attachments": {},
   "cell_type": "markdown",
   "metadata": {},
   "source": [
    "# La maldicion de la dimensionalidad\n",
    "\n",
    "Cuando se va aumentando la cantidad de variables/dimensiones/columnas/X dentro de un modelo, \n",
    "entonces la distancia entre puntos va aumentando!\n",
    "\n",
    "- Si tengo una linea recta (dimension 2), entonces las distancias estan acotadas a dos dimensiones.\n",
    "Debido a esto, las distancias son pequenas\n",
    "- Ahora, si aumento la dimensionalidad a 10, las distancias aumentaran, ya que tenemos mas opciones\n",
    "para hacerlo.\n",
    "\n",
    "Este problema hace que los modelos NO convergan correctamente cuando hay muchas dimensiones o\n",
    "variables"
   ]
  },
  {
   "attachments": {},
   "cell_type": "markdown",
   "metadata": {},
   "source": [
    "# Psicometria"
   ]
  },
  {
   "attachments": {},
   "cell_type": "markdown",
   "metadata": {},
   "source": [
    "# Analisis Factorial - No se ocupa tanto\n",
    "\n",
    "Permite resumir la informacion o variables en un grupo mas pequeno! Por ejemplo: Pasar de 100 \n",
    "variables a 2 variables. Se hace un ponderado de las 100 variables para resumir en 2 variables.\n",
    "\n",
    "Claramente se pierde informacion!\n",
    "\n",
    "Una forma alocada es sumar todas las variables!\n",
    "\n",
    "## Analisis factorial\n",
    "\n",
    "X1 = n + m1x1 + m2x2 + m3x3 ... + e1\n",
    "\n",
    "Al final es hacer combinaciones lineales de todos, y simplemente ocultar algunos segun las cargas/contribuciones/coeficientes/pendientes de cada variable."
   ]
  },
  {
   "cell_type": "code",
   "execution_count": 14,
   "metadata": {},
   "outputs": [],
   "source": [
    "import pandas as pd\n",
    "import numpy as np\n",
    "import matplotlib.pyplot as plt\n",
    "import scipy.stats as stats\n",
    "import seaborn as sns\n",
    "import lec7_graphs as gfx"
   ]
  },
  {
   "cell_type": "code",
   "execution_count": 15,
   "metadata": {},
   "outputs": [],
   "source": [
    "df = pd.read_csv('cep45.csv')\n",
    "trust_df = df.filter(regex='p17 *')"
   ]
  },
  {
   "cell_type": "code",
   "execution_count": 16,
   "metadata": {},
   "outputs": [
    {
     "data": {
      "text/html": [
       "<div>\n",
       "<style scoped>\n",
       "    .dataframe tbody tr th:only-of-type {\n",
       "        vertical-align: middle;\n",
       "    }\n",
       "\n",
       "    .dataframe tbody tr th {\n",
       "        vertical-align: top;\n",
       "    }\n",
       "\n",
       "    .dataframe thead th {\n",
       "        text-align: right;\n",
       "    }\n",
       "</style>\n",
       "<table border=\"1\" class=\"dataframe\">\n",
       "  <thead>\n",
       "    <tr style=\"text-align: right;\">\n",
       "      <th></th>\n",
       "      <th>p17_a</th>\n",
       "      <th>p17_b</th>\n",
       "      <th>p17_c</th>\n",
       "      <th>p17_d</th>\n",
       "      <th>p17_e</th>\n",
       "      <th>p17_f</th>\n",
       "      <th>p17_g</th>\n",
       "      <th>p17_h</th>\n",
       "      <th>p17_i</th>\n",
       "      <th>p17_j</th>\n",
       "      <th>p17_k</th>\n",
       "      <th>p17_l</th>\n",
       "      <th>p17_m</th>\n",
       "      <th>p17_n</th>\n",
       "    </tr>\n",
       "  </thead>\n",
       "  <tbody>\n",
       "    <tr>\n",
       "      <th>0</th>\n",
       "      <td>2</td>\n",
       "      <td>4</td>\n",
       "      <td>3</td>\n",
       "      <td>2</td>\n",
       "      <td>3</td>\n",
       "      <td>3</td>\n",
       "      <td>3</td>\n",
       "      <td>4</td>\n",
       "      <td>3</td>\n",
       "      <td>3</td>\n",
       "      <td>2</td>\n",
       "      <td>3</td>\n",
       "      <td>2</td>\n",
       "      <td>2</td>\n",
       "    </tr>\n",
       "    <tr>\n",
       "      <th>1</th>\n",
       "      <td>2</td>\n",
       "      <td>3</td>\n",
       "      <td>3</td>\n",
       "      <td>3</td>\n",
       "      <td>3</td>\n",
       "      <td>3</td>\n",
       "      <td>2</td>\n",
       "      <td>2</td>\n",
       "      <td>3</td>\n",
       "      <td>4</td>\n",
       "      <td>3</td>\n",
       "      <td>3</td>\n",
       "      <td>3</td>\n",
       "      <td>3</td>\n",
       "    </tr>\n",
       "    <tr>\n",
       "      <th>2</th>\n",
       "      <td>4</td>\n",
       "      <td>4</td>\n",
       "      <td>4</td>\n",
       "      <td>4</td>\n",
       "      <td>3</td>\n",
       "      <td>3</td>\n",
       "      <td>4</td>\n",
       "      <td>4</td>\n",
       "      <td>4</td>\n",
       "      <td>4</td>\n",
       "      <td>4</td>\n",
       "      <td>3</td>\n",
       "      <td>4</td>\n",
       "      <td>2</td>\n",
       "    </tr>\n",
       "    <tr>\n",
       "      <th>3</th>\n",
       "      <td>1</td>\n",
       "      <td>3</td>\n",
       "      <td>2</td>\n",
       "      <td>2</td>\n",
       "      <td>3</td>\n",
       "      <td>2</td>\n",
       "      <td>3</td>\n",
       "      <td>3</td>\n",
       "      <td>3</td>\n",
       "      <td>4</td>\n",
       "      <td>3</td>\n",
       "      <td>3</td>\n",
       "      <td>3</td>\n",
       "      <td>3</td>\n",
       "    </tr>\n",
       "    <tr>\n",
       "      <th>4</th>\n",
       "      <td>3</td>\n",
       "      <td>3</td>\n",
       "      <td>2</td>\n",
       "      <td>1</td>\n",
       "      <td>2</td>\n",
       "      <td>2</td>\n",
       "      <td>1</td>\n",
       "      <td>1</td>\n",
       "      <td>2</td>\n",
       "      <td>3</td>\n",
       "      <td>2</td>\n",
       "      <td>2</td>\n",
       "      <td>2</td>\n",
       "      <td>2</td>\n",
       "    </tr>\n",
       "    <tr>\n",
       "      <th>...</th>\n",
       "      <td>...</td>\n",
       "      <td>...</td>\n",
       "      <td>...</td>\n",
       "      <td>...</td>\n",
       "      <td>...</td>\n",
       "      <td>...</td>\n",
       "      <td>...</td>\n",
       "      <td>...</td>\n",
       "      <td>...</td>\n",
       "      <td>...</td>\n",
       "      <td>...</td>\n",
       "      <td>...</td>\n",
       "      <td>...</td>\n",
       "      <td>...</td>\n",
       "    </tr>\n",
       "    <tr>\n",
       "      <th>1498</th>\n",
       "      <td>4</td>\n",
       "      <td>4</td>\n",
       "      <td>4</td>\n",
       "      <td>4</td>\n",
       "      <td>4</td>\n",
       "      <td>4</td>\n",
       "      <td>4</td>\n",
       "      <td>4</td>\n",
       "      <td>4</td>\n",
       "      <td>4</td>\n",
       "      <td>4</td>\n",
       "      <td>4</td>\n",
       "      <td>3</td>\n",
       "      <td>4</td>\n",
       "    </tr>\n",
       "    <tr>\n",
       "      <th>1499</th>\n",
       "      <td>9</td>\n",
       "      <td>9</td>\n",
       "      <td>3</td>\n",
       "      <td>3</td>\n",
       "      <td>3</td>\n",
       "      <td>2</td>\n",
       "      <td>3</td>\n",
       "      <td>2</td>\n",
       "      <td>2</td>\n",
       "      <td>3</td>\n",
       "      <td>3</td>\n",
       "      <td>2</td>\n",
       "      <td>3</td>\n",
       "      <td>3</td>\n",
       "    </tr>\n",
       "    <tr>\n",
       "      <th>1500</th>\n",
       "      <td>1</td>\n",
       "      <td>9</td>\n",
       "      <td>3</td>\n",
       "      <td>3</td>\n",
       "      <td>3</td>\n",
       "      <td>3</td>\n",
       "      <td>3</td>\n",
       "      <td>2</td>\n",
       "      <td>3</td>\n",
       "      <td>3</td>\n",
       "      <td>3</td>\n",
       "      <td>3</td>\n",
       "      <td>2</td>\n",
       "      <td>3</td>\n",
       "    </tr>\n",
       "    <tr>\n",
       "      <th>1501</th>\n",
       "      <td>3</td>\n",
       "      <td>3</td>\n",
       "      <td>3</td>\n",
       "      <td>3</td>\n",
       "      <td>3</td>\n",
       "      <td>3</td>\n",
       "      <td>3</td>\n",
       "      <td>3</td>\n",
       "      <td>2</td>\n",
       "      <td>3</td>\n",
       "      <td>4</td>\n",
       "      <td>3</td>\n",
       "      <td>3</td>\n",
       "      <td>2</td>\n",
       "    </tr>\n",
       "    <tr>\n",
       "      <th>1502</th>\n",
       "      <td>2</td>\n",
       "      <td>9</td>\n",
       "      <td>2</td>\n",
       "      <td>3</td>\n",
       "      <td>3</td>\n",
       "      <td>4</td>\n",
       "      <td>3</td>\n",
       "      <td>3</td>\n",
       "      <td>9</td>\n",
       "      <td>9</td>\n",
       "      <td>9</td>\n",
       "      <td>9</td>\n",
       "      <td>8</td>\n",
       "      <td>3</td>\n",
       "    </tr>\n",
       "  </tbody>\n",
       "</table>\n",
       "<p>1503 rows × 14 columns</p>\n",
       "</div>"
      ],
      "text/plain": [
       "      p17_a  p17_b  p17_c  p17_d  p17_e  p17_f  p17_g  p17_h  p17_i  p17_j  \\\n",
       "0         2      4      3      2      3      3      3      4      3      3   \n",
       "1         2      3      3      3      3      3      2      2      3      4   \n",
       "2         4      4      4      4      3      3      4      4      4      4   \n",
       "3         1      3      2      2      3      2      3      3      3      4   \n",
       "4         3      3      2      1      2      2      1      1      2      3   \n",
       "...     ...    ...    ...    ...    ...    ...    ...    ...    ...    ...   \n",
       "1498      4      4      4      4      4      4      4      4      4      4   \n",
       "1499      9      9      3      3      3      2      3      2      2      3   \n",
       "1500      1      9      3      3      3      3      3      2      3      3   \n",
       "1501      3      3      3      3      3      3      3      3      2      3   \n",
       "1502      2      9      2      3      3      4      3      3      9      9   \n",
       "\n",
       "      p17_k  p17_l  p17_m  p17_n  \n",
       "0         2      3      2      2  \n",
       "1         3      3      3      3  \n",
       "2         4      3      4      2  \n",
       "3         3      3      3      3  \n",
       "4         2      2      2      2  \n",
       "...     ...    ...    ...    ...  \n",
       "1498      4      4      3      4  \n",
       "1499      3      2      3      3  \n",
       "1500      3      3      2      3  \n",
       "1501      4      3      3      2  \n",
       "1502      9      9      8      3  \n",
       "\n",
       "[1503 rows x 14 columns]"
      ]
     },
     "execution_count": 16,
     "metadata": {},
     "output_type": "execute_result"
    }
   ],
   "source": [
    "trust_df"
   ]
  },
  {
   "cell_type": "code",
   "execution_count": 17,
   "metadata": {},
   "outputs": [],
   "source": [
    "# Aqui en la clase un analisis exploratorio sencillo, para ver que onda"
   ]
  },
  {
   "attachments": {},
   "cell_type": "markdown",
   "metadata": {},
   "source": [
    "# Prueba de esferacidad de Bartlett\n",
    "\n",
    "Tenemos una  matriz de correlaciones! df.corr()\n",
    "\n",
    "Si tenemos dos variables:\n",
    "\n",
    "||var1|var2|\n",
    "|-|----|----|\n",
    "var1|1|0.8|\n",
    "var2|0.8|1|\n",
    "\n",
    "La diagonal esta correlacionada\n",
    "\n",
    "## Matriz de identidad\n",
    "\n",
    "Es cuando las variables NO tienen ninguna relacion para nada. O sea, seria:\n",
    "\n",
    "\n",
    "||var1|var2|\n",
    "|-|----|----|\n",
    "var1|1|0|\n",
    "var2|0|1|\n",
    "\n",
    "En la prueba, lo primero que se quiere ver es si se rechaza la hipotesis nula:\n",
    "\n",
    "Hipotesis nula: La matriz de correlaciones es una matriz de identidad\n",
    "Hipotesis alternativa: La matriz de correlaciones NO es una matriz de identidad (Al menos una o \n",
    "mas variables tienen relacion entre si).\n",
    "\n",
    "Si las variables tienen alguna relacion, entonces pueden ser resumidas y se disminuye la\n",
    "dimensionalidad\n"
   ]
  },
  {
   "cell_type": "markdown",
   "metadata": {},
   "source": []
  },
  {
   "cell_type": "code",
   "execution_count": 18,
   "metadata": {},
   "outputs": [],
   "source": [
    "import factor_analyzer as fact"
   ]
  },
  {
   "cell_type": "code",
   "execution_count": 19,
   "metadata": {},
   "outputs": [
    {
     "ename": "NameError",
     "evalue": "name 'matriz' is not defined",
     "output_type": "error",
     "traceback": [
      "\u001b[0;31m---------------------------------------------------------------------------\u001b[0m",
      "\u001b[0;31mNameError\u001b[0m                                 Traceback (most recent call last)",
      "\u001b[0;32m/tmp/ipykernel_3970/362022527.py\u001b[0m in \u001b[0;36m<module>\u001b[0;34m\u001b[0m\n\u001b[0;32m----> 1\u001b[0;31m \u001b[0mfact\u001b[0m\u001b[0;34m.\u001b[0m\u001b[0mcalculate_bartlett_sphericity\u001b[0m\u001b[0;34m(\u001b[0m\u001b[0mmatriz\u001b[0m\u001b[0;34m)\u001b[0m\u001b[0;34m\u001b[0m\u001b[0;34m\u001b[0m\u001b[0m\n\u001b[0m",
      "\u001b[0;31mNameError\u001b[0m: name 'matriz' is not defined"
     ]
    }
   ],
   "source": [
    "fact.calculate_bartlett_sphericity(matriz)"
   ]
  },
  {
   "attachments": {},
   "cell_type": "markdown",
   "metadata": {},
   "source": [
    "# Prueba Kaiser-Meyer-Olkin\n",
    "\n",
    "NO es un test de hipotesis.\n",
    "\n",
    "Pregunta: Son las correlaciones parciales entre dos items cercanas a 0?\n",
    "\n",
    "KMO = Si el valor es mayor a 0.7, entonces estan relacionadas. Si es menor o igual a 0.7, entonces\n",
    "NO estan relacionadas y las variables se pueden sacar.\n"
   ]
  },
  {
   "attachments": {},
   "cell_type": "markdown",
   "metadata": {},
   "source": [
    "# Definiendo cantidad de factores\n",
    "\n",
    "Cuantos factores necesitamos? Al final seleccionamos los coeficientes/factores que sean mayores a 1,\n",
    "lo que significa que una o mas variables se pueden compactar|\n",
    "\n",
    "Al final se permite ver la cantidad de factores/disminuciones que se generan y los valores que tienen.\n",
    "Aqui esta el criterio del codo. Se selecciona el coeficiente que tenga la menor cantidad de\n",
    "factores latentes/variables, y con la mayor pendiente mayor a 1!"
   ]
  },
  {
   "attachments": {},
   "cell_type": "markdown",
   "metadata": {},
   "source": [
    "# Interpretacion de factores\n",
    "\n",
    "Nos fijamos en la magnitud (valor del coeficiente) y la direccion (el signo del coeficiente) de las cargas\n",
    "\n"
   ]
  },
  {
   "cell_type": "code",
   "execution_count": null,
   "metadata": {},
   "outputs": [
    {
     "name": "stdout",
     "output_type": "stream",
     "text": [
      "\u001b[1;31mType:\u001b[0m        FactorAnalyzer\n",
      "\u001b[1;31mString form:\u001b[0m FactorAnalyzer(n_factors=2, rotation='varimax', rotation_kwargs={})\n",
      "\u001b[1;31mFile:\u001b[0m        c:\\users\\javier\\anaconda3\\lib\\site-packages\\factor_analyzer\\factor_analyzer.py\n",
      "\u001b[1;31mDocstring:\u001b[0m  \n",
      "A FactorAnalyzer class, which -\n",
      "    (1) Fits a factor analysis model using minres, maximum likelihood,\n",
      "        or principal factor extraction and returns the loading matrix\n",
      "    (2) Optionally performs a rotation, with method including:\n",
      "\n",
      "        (a) varimax (orthogonal rotation)\n",
      "        (b) promax (oblique rotation)\n",
      "        (c) oblimin (oblique rotation)\n",
      "        (d) oblimax (orthogonal rotation)\n",
      "        (e) quartimin (oblique rotation)\n",
      "        (f) quartimax (orthogonal rotation)\n",
      "        (g) equamax (orthogonal rotation)\n",
      "\n",
      "Parameters\n",
      "----------\n",
      "n_factors : int, optional\n",
      "    The number of factors to select.\n",
      "    Defaults to 3.\n",
      "rotation : str, optional\n",
      "    The type of rotation to perform after\n",
      "    fitting the factor analysis model.\n",
      "    If set to None, no rotation will be performed,\n",
      "    nor will any associated Kaiser normalization.\n",
      "\n",
      "    Methods include:\n",
      "\n",
      "        (a) varimax (orthogonal rotation)\n",
      "        (b) promax (oblique rotation)\n",
      "        (c) oblimin (oblique rotation)\n",
      "        (d) oblimax (orthogonal rotation)\n",
      "        (e) quartimin (oblique rotation)\n",
      "        (f) quartimax (orthogonal rotation)\n",
      "        (g) equamax (orthogonal rotation)\n",
      "\n",
      "    Defaults to 'promax'.\n",
      "\n",
      "method : {'minres', 'ml', 'principal'}, optional\n",
      "    The fitting method to use, either MINRES or\n",
      "    Maximum Likelihood.\n",
      "    Defaults to 'minres'.\n",
      "use_smc : bool, optional\n",
      "    Whether to use squared multiple correlation\n",
      "    as starting guesses for factor analysis.\n",
      "    Defaults to True.\n",
      "bounds : tuple, optional\n",
      "    The lower and upper bounds on the variables\n",
      "    for \"L-BFGS-B\" optimization.\n",
      "    Defaults to (0.005, 1).\n",
      "impute : {'drop', 'mean', 'median'}, optional\n",
      "    If missing values are present in the data, either use\n",
      "    list-wise deletion ('drop') or impute the column median\n",
      "    ('median') or column mean ('mean').\n",
      "use_corr_matrix : bool, optional\n",
      "    Set to true if the `data` is the correlation\n",
      "    matrix.\n",
      "    Defaults to False.\n",
      "rotation_kwargs, optional\n",
      "    Additional key word arguments\n",
      "    are passed to the rotation method.\n",
      "\n",
      "Attributes\n",
      "----------\n",
      "loadings : numpy array\n",
      "    The factor loadings matrix.\n",
      "    Default to None, if `analyze()` has not\n",
      "    been called.\n",
      "corr : numpy array\n",
      "    The original correlation matrix.\n",
      "    Default to None, if `analyze()` has not\n",
      "    been called.\n",
      "rotation_matrix : numpy array\n",
      "    The rotation matrix, if a rotation\n",
      "    has been performed.\n",
      "structure :numpy array or None\n",
      "    The structure loading matrix.\n",
      "    This only exists if the rotation\n",
      "    is promax.\n",
      "psi : numpy array or None\n",
      "    The factor correlations\n",
      "    matrix. This only exists\n",
      "    if the rotation is oblique.\n",
      "\n",
      "Notes\n",
      "-----\n",
      "This code was partly derived from the excellent R package\n",
      "`psych`.\n",
      "\n",
      "References\n",
      "----------\n",
      "[1] https://github.com/cran/psych/blob/master/R/fa.R\n",
      "\n",
      "Examples\n",
      "--------\n",
      ">>> import pandas as pd\n",
      ">>> from factor_analyzer import FactorAnalyzer\n",
      ">>> df_features = pd.read_csv('tests/data/test02.csv')\n",
      ">>> fa = FactorAnalyzer(rotation=None)\n",
      ">>> fa.fit(df_features)\n",
      "FactorAnalyzer(bounds=(0.005, 1), impute='median', is_corr_matrix=False,\n",
      "        method='minres', n_factors=3, rotation=None, rotation_kwargs={},\n",
      "        use_smc=True)\n",
      ">>> fa.loadings_\n",
      "array([[-0.12991218,  0.16398154,  0.73823498],\n",
      "       [ 0.03899558,  0.04658425,  0.01150343],\n",
      "       [ 0.34874135,  0.61452341, -0.07255667],\n",
      "       [ 0.45318006,  0.71926681, -0.07546472],\n",
      "       [ 0.36688794,  0.44377343, -0.01737067],\n",
      "       [ 0.74141382, -0.15008235,  0.29977512],\n",
      "       [ 0.741675  , -0.16123009, -0.20744495],\n",
      "       [ 0.82910167, -0.20519428,  0.04930817],\n",
      "       [ 0.76041819, -0.23768727, -0.1206858 ],\n",
      "       [ 0.81533404, -0.12494695,  0.17639683]])\n",
      ">>> fa.get_communalities()\n",
      "array([0.588758  , 0.00382308, 0.50452402, 0.72841183, 0.33184336,\n",
      "       0.66208428, 0.61911036, 0.73194557, 0.64929612, 0.71149718])\n"
     ]
    }
   ],
   "source": [
    "factorize_dos = fact.FactorAnalyzer(n_factors=2, rotation='varimax')\n",
    "factorize_dos?"
   ]
  },
  {
   "attachments": {},
   "cell_type": "markdown",
   "metadata": {},
   "source": [
    "Al final, luego de ver todos los factores, se puede ver el desglose de cada uno y cuanto explica a\n",
    "cada una de las variables que engloba.\n",
    "\n",
    "Luego, solamente se dejan las variables que tengan una explicacion de por lo menos 0.4 (mayor o\n",
    "igual a 0.4)"
   ]
  },
  {
   "attachments": {},
   "cell_type": "markdown",
   "metadata": {},
   "source": [
    "# Analisis de PCA (Principal Component Analysis)\n",
    "\n",
    "- Es un metodo que permite mapear datos a otro sistema de coordenadas. Esta transformacion se hace\n",
    "a traves de una transformacion lineal\n",
    "\n",
    "$Xtransformado = P*X$\n",
    "\n",
    "Al final, encuentra una recta que pase por la mayor cantidad de datos. Luego, se obtiene la perpendicular de esa recta. Finalmente, se obtiene la proyeccion de n - 1 dimensionalidad a la nueva recta, bajando 1 dimension en cada paso.\n",
    "\n",
    "Permite compactar variables no relacionadas\n"
   ]
  },
  {
   "cell_type": "code",
   "execution_count": null,
   "metadata": {},
   "outputs": [],
   "source": [
    "from sklearn.datasets import load_digits\n",
    "df = load_digits()"
   ]
  },
  {
   "cell_type": "code",
   "execution_count": null,
   "metadata": {},
   "outputs": [
    {
     "data": {
      "text/plain": [
       "array([ 0.,  0.,  9., 14.,  8.,  1.,  0.,  0.,  0.,  0., 12., 14., 14.,\n",
       "       12.,  0.,  0.,  0.,  0.,  9., 10.,  0., 15.,  4.,  0.,  0.,  0.,\n",
       "        3., 16., 12., 14.,  2.,  0.,  0.,  0.,  4., 16., 16.,  2.,  0.,\n",
       "        0.,  0.,  3., 16.,  8., 10., 13.,  2.,  0.,  0.,  1., 15.,  1.,\n",
       "        3., 16.,  8.,  0.,  0.,  0., 11., 16., 15., 11.,  1.,  0.])"
      ]
     },
     "execution_count": 20,
     "metadata": {},
     "output_type": "execute_result"
    }
   ],
   "source": [
    "df.data[8]"
   ]
  },
  {
   "cell_type": "code",
   "execution_count": null,
   "metadata": {},
   "outputs": [],
   "source": [
    "from sklearn.decomposition import PCA\n",
    "\n",
    "pca = PCA(n_components=2)\n",
    "proj = pca.fit_transform(df.data\n",
    ")\n"
   ]
  },
  {
   "attachments": {},
   "cell_type": "markdown",
   "metadata": {},
   "source": [
    "Ta super rara la clase wn, no entendi casi nada."
   ]
  },
  {
   "attachments": {},
   "cell_type": "markdown",
   "metadata": {},
   "source": [
    "# K Means\n",
    "\n",
    "Agrupa datos segun un centroide. Clasifica los datos segun la proximidad al centroide."
   ]
  },
  {
   "attachments": {},
   "cell_type": "markdown",
   "metadata": {},
   "source": [
    "# Repaso clases\n",
    "\n",
    "## Problema de la dimensionalidad\n",
    "\n",
    "Hace referencia al fenomeno donde nuestros modelos empeoran al utilizar demasiada variables. Hay\n",
    "3 formas en que los modelos empeoran:\n",
    "\n",
    "- Computacionalmente se hace muy costoso\n",
    "- Cuesta mucho que convergan los resultados (por ende, el modelo es inestable)\n",
    "- Ademas, las aproximaciones van aumentando de valor\n",
    "\n",
    "Debido a esto, se hace imperante disminuir la cantidad de variables que tiene un modelo.\n",
    "\n",
    "# Analisis Factorial\n",
    "\n",
    "Es una metodo para reducir la dimensionalidad de un set de datos. Si se tienen muchas variables, estan se pueden reducir si es que estan correlacionadas.\n",
    "\n",
    "Se basa en la correlacion entre variables. Las variables mas correlacionadas entre si son agrupadas en un unico grupo, reduciendo la dimensionalidad.\n",
    "\n",
    "La correlacion dentro de un mismo grupo debe ser alta, mientras que entre grupos debe ser baja.\n",
    "\n",
    "# Que es un factor?\n",
    "\n",
    "Un factor es una **variable ESCONDIDA** que afecta a un grupo de variables relacionadas. Este factor es la razon del por que estas variables estan correlacionadas. Los factores son imposibles de medir.\n",
    "\n",
    "Por ejemplo: Queremos saber si hay tipos de personalidades que se agrupan entre si. Ademas, queremos saber si es que hay caracteristicas comunes que agrupan a estos tipos de personalidades.\n",
    "\n",
    "|Tipo Personalidad|Caracteristica que la agrupa|\n",
    "|-----------------|----------------------------|\n",
    "Extrovertido\n",
    "Sociable\n",
    "\n",
    "## Dimensionalidad desde la Psicometria\n",
    "\n",
    "Objetivo: Disminuir la cantidad de variables.\n",
    "\n",
    "Las variables se condensan en una o mas variables. Esto se hace a traves de una combinacion lineal\n",
    "de factores\n",
    "\n",
    "$X1 = n + m1x1 + m2x2 + m3x3$"
   ]
  },
  {
   "attachments": {},
   "cell_type": "markdown",
   "metadata": {},
   "source": [
    "# Pasos de implementacion\n",
    "\n",
    "## Datos a utilizar\n",
    "\n",
    "Corresponder a los datos de una encuesta en cuanto a la confianza que se tiene de diversos entes\n",
    "publicos. La escala va de 1 a 4, y 8 o 9 corresponden a notas faltantes/na.\n",
    "\n",
    "1. Definimos una bateria de preguntas\n",
    "   1. Los datos son heterogeneos? Si lo son, estandarizarlo\n",
    "2. Eliminamos/imputamos valores perdidos\n",
    "3. Generamos metricas de validacion\n",
    "4. Evaluamos la cantidad de factores\n",
    "5. Inferimos caracteristicas de los factores\n",
    "\n",
    "Se utiliza FactorAnalyzer"
   ]
  },
  {
   "attachments": {},
   "cell_type": "markdown",
   "metadata": {},
   "source": [
    "# Analisis exploratorio"
   ]
  },
  {
   "attachments": {},
   "cell_type": "markdown",
   "metadata": {},
   "source": [
    "        "
   ]
  },
  {
   "cell_type": "code",
   "execution_count": 20,
   "metadata": {},
   "outputs": [],
   "source": [
    "import pandas as pd\n",
    "import numpy as np\n",
    "import matplotlib.pyplot as plt\n",
    "from scipy import stats\n",
    "import seaborn as sns\n",
    "import warnings\n",
    "\n",
    "warnings.filterwarnings('ignore')\n",
    "plt.style.use('seaborn-whitegrid')\n",
    "plt.rcParams['figure.figsize'] = (12, 6)"
   ]
  },
  {
   "cell_type": "code",
   "execution_count": 22,
   "metadata": {},
   "outputs": [],
   "source": [
    "import factor_analyzer as factor\n",
    "import missingno as magn\n",
    "\n",
    "df = pd.read_csv('cep45.csv')"
   ]
  },
  {
   "cell_type": "code",
   "execution_count": 23,
   "metadata": {},
   "outputs": [
    {
     "data": {
      "text/plain": [
       "Index(['corr', 'filtro', 'psu', 'region', 'p1_1', 'p1_2', 'p1_3', 'p2', 'p3',\n",
       "       'p4',\n",
       "       ...\n",
       "       'de14_b', 'de14_c', 'de14_d', 'de14_e', 'de14_f', 'de15', 'de16',\n",
       "       'de17', 'b5', 'pond'],\n",
       "      dtype='object', length=188)"
      ]
     },
     "execution_count": 23,
     "metadata": {},
     "output_type": "execute_result"
    }
   ],
   "source": [
    "df.columns\n",
    "\n",
    "# Las columnas que empiezan con p17_ son las de las instituciones"
   ]
  },
  {
   "cell_type": "code",
   "execution_count": 24,
   "metadata": {},
   "outputs": [],
   "source": [
    "trust_df = df.filter(regex='p17_*')"
   ]
  },
  {
   "cell_type": "code",
   "execution_count": 25,
   "metadata": {},
   "outputs": [
    {
     "data": {
      "text/html": [
       "<div>\n",
       "<style scoped>\n",
       "    .dataframe tbody tr th:only-of-type {\n",
       "        vertical-align: middle;\n",
       "    }\n",
       "\n",
       "    .dataframe tbody tr th {\n",
       "        vertical-align: top;\n",
       "    }\n",
       "\n",
       "    .dataframe thead th {\n",
       "        text-align: right;\n",
       "    }\n",
       "</style>\n",
       "<table border=\"1\" class=\"dataframe\">\n",
       "  <thead>\n",
       "    <tr style=\"text-align: right;\">\n",
       "      <th></th>\n",
       "      <th>p17_a</th>\n",
       "      <th>p17_b</th>\n",
       "      <th>p17_c</th>\n",
       "      <th>p17_d</th>\n",
       "      <th>p17_e</th>\n",
       "      <th>p17_f</th>\n",
       "      <th>p17_g</th>\n",
       "      <th>p17_h</th>\n",
       "      <th>p17_i</th>\n",
       "      <th>p17_j</th>\n",
       "      <th>p17_k</th>\n",
       "      <th>p17_l</th>\n",
       "      <th>p17_m</th>\n",
       "      <th>p17_n</th>\n",
       "    </tr>\n",
       "  </thead>\n",
       "  <tbody>\n",
       "    <tr>\n",
       "      <th>1157</th>\n",
       "      <td>4</td>\n",
       "      <td>4</td>\n",
       "      <td>3</td>\n",
       "      <td>3</td>\n",
       "      <td>2</td>\n",
       "      <td>3</td>\n",
       "      <td>2</td>\n",
       "      <td>2</td>\n",
       "      <td>3</td>\n",
       "      <td>3</td>\n",
       "      <td>3</td>\n",
       "      <td>3</td>\n",
       "      <td>2</td>\n",
       "      <td>2</td>\n",
       "    </tr>\n",
       "  </tbody>\n",
       "</table>\n",
       "</div>"
      ],
      "text/plain": [
       "      p17_a  p17_b  p17_c  p17_d  p17_e  p17_f  p17_g  p17_h  p17_i  p17_j  \\\n",
       "1157      4      4      3      3      2      3      2      2      3      3   \n",
       "\n",
       "      p17_k  p17_l  p17_m  p17_n  \n",
       "1157      3      3      2      2  "
      ]
     },
     "execution_count": 25,
     "metadata": {},
     "output_type": "execute_result"
    }
   ],
   "source": [
    "trust_df.sample()\n",
    "# 4 = Mucha desconfianza\n",
    "# 1 = Nada de desconfianza"
   ]
  },
  {
   "cell_type": "code",
   "execution_count": 26,
   "metadata": {},
   "outputs": [],
   "source": [
    "# esta funcion permite ver la cantidad de valores na en una columna\n",
    "def fetch_missing(df, missing_vals=[8, 9]):\n",
    "    for colname, serie in df.iteritems():\n",
    "        print(colname, serie.isin(missing_vals).value_counts('%')[1].round(2))"
   ]
  },
  {
   "cell_type": "code",
   "execution_count": 27,
   "metadata": {},
   "outputs": [
    {
     "name": "stdout",
     "output_type": "stream",
     "text": [
      "p17_a 0.03\n",
      "p17_b 0.07\n",
      "p17_c 0.04\n",
      "p17_d 0.04\n",
      "p17_e 0.03\n",
      "p17_f 0.02\n",
      "p17_g 0.09\n",
      "p17_h 0.02\n",
      "p17_i 0.03\n",
      "p17_j 0.03\n",
      "p17_k 0.05\n",
      "p17_l 0.04\n",
      "p17_m 0.07\n",
      "p17_n 0.03\n"
     ]
    }
   ],
   "source": [
    "fetch_missing(trust_df)"
   ]
  },
  {
   "cell_type": "code",
   "execution_count": 28,
   "metadata": {},
   "outputs": [
    {
     "data": {
      "text/plain": [
       "<AxesSubplot:>"
      ]
     },
     "execution_count": 28,
     "metadata": {},
     "output_type": "execute_result"
    },
    {
     "data": {
      "image/png": "[encoded data removed]",
      "text/plain": [
       "<Figure size 2500x1000 with 2 Axes>"
      ]
     },
     "metadata": {},
     "output_type": "display_data"
    }
   ],
   "source": [
    "# Tambien se puede ver con la libreria missingo\n",
    "\n",
    "magn.matrix(trust_df.replace([8, 9], [np.nan, np.nan]))\n",
    "\n",
    "# De aqui, graficamente se puede ver que p17_g tiene la mayor cantidad de valores nulos"
   ]
  },
  {
   "cell_type": "code",
   "execution_count": 29,
   "metadata": {},
   "outputs": [],
   "source": [
    "# Ahora, veremos las medias de cada uno de las columnas\n",
    "variable, mean = [], []\n",
    "\n",
    "for colname, serie in trust_df.iteritems():\n",
    "    variable.append(colname)\n",
    "    mean.append(serie.mean())\n",
    "\n",
    "tmp_df = pd.DataFrame({'var': variable, 'mean': mean}).sort_values(by='mean')"
   ]
  },
  {
   "cell_type": "code",
   "execution_count": 30,
   "metadata": {},
   "outputs": [
    {
     "data": {
      "text/plain": [
       "[<matplotlib.lines.Line2D at 0x7f9a501a8190>]"
      ]
     },
     "execution_count": 30,
     "metadata": {},
     "output_type": "execute_result"
    },
    {
     "data": {
      "image/png": "[encoded data removed]",
      "text/plain": [
       "<Figure size 1200x600 with 1 Axes>"
      ]
     },
     "metadata": {},
     "output_type": "display_data"
    }
   ],
   "source": [
    "plt.plot(tmp_df['mean'], tmp_df['var'], 'o')\n",
    "\n",
    "# Con el replace, se puede ver que los partidos politicos y sindicatos son los que generan mas\n",
    "# desconfianza"
   ]
  },
  {
   "attachments": {},
   "cell_type": "markdown",
   "metadata": {},
   "source": [
    "# Extraccion de Valores\n",
    "\n",
    "Inicialmente es innecesario indicar cuantos factores queremos extraer con FactorAnalyzer. Por default obtiene 3.\n",
    "\n",
    "- Aqui se utiliza varimax como rotacion. Esto significa que hara una linea recta que fitee a las diversas variables, y maximizara la varianza de cada una de las variables. Creo que es muy similar al PCA, al final maximiza la distancia entre la proyeccion de los puntos a la recta y el centro???.\n",
    "\n",
    "# 1. Instanciar nuestro Analizador de factores\n",
    "\n",
    "- Sin necesidad de poner cuantos factores"
   ]
  },
  {
   "cell_type": "code",
   "execution_count": 32,
   "metadata": {},
   "outputs": [],
   "source": [
    "factorize = factor.FactorAnalyzer(rotation='varimax')"
   ]
  },
  {
   "attachments": {},
   "cell_type": "markdown",
   "metadata": {},
   "source": [
    "# 2. Pasar los datos a un fit"
   ]
  },
  {
   "cell_type": "code",
   "execution_count": 33,
   "metadata": {},
   "outputs": [
    {
     "data": {
      "text/plain": [
       "FactorAnalyzer(rotation='varimax', rotation_kwargs={})"
      ]
     },
     "execution_count": 33,
     "metadata": {},
     "output_type": "execute_result"
    }
   ],
   "source": [
    "factorize.fit(trust_df)"
   ]
  },
  {
   "attachments": {},
   "cell_type": "markdown",
   "metadata": {},
   "source": [
    "3. Obtener los eigenvalues con .get_eigenvalues()\n",
    "\n",
    "Recordar que los eigenvalues se obtienen de la siguiente manera:\n",
    "- Generar una linea recta\n",
    "- Proyectar los puntos o datos a la linea recta (trazar las distancias)\n",
    "- Calcular la distancia del punto al centro de la recta\n",
    "- Obtener la suma de los cuadrados de las distancias de cada punto\n",
    "- Este es el eigenvalue de la recta\n",
    "\n",
    "Para obtener la varianza alrededor de la recta (Cuanto esta explicando cada factor), se utiliza la siguiente formula:\n",
    "\n",
    "$\\frac{SumaCuadradosDistanciaDelFactor}{n-1} = Variacion explicada por el factor$\n",
    "\n",
    "Al final, siempre se generan todos los posibles factores que se pueden representar (que es igual a la cantidad de variables que tienen nuestros datos). Ahora, cada factor (o componente principal por lo que estoy cachando) explica una cantidad de la varianza total de los datos (La distancia de los puntos al centro del componente). Debido a lo anterior, "
   ]
  },
  {
   "cell_type": "code",
   "execution_count": 36,
   "metadata": {},
   "outputs": [
    {
     "data": {
      "text/plain": [
       "(array([5.49842419, 1.14587292, 0.89926341, 0.85550809, 0.72165128,\n",
       "        0.69572011, 0.63389523, 0.62396403, 0.60609083, 0.57058745,\n",
       "        0.49919319, 0.46208615, 0.40448333, 0.38325979]),\n",
       " array([ 4.95224693,  0.64086626,  0.34932044,  0.12526742,  0.1157515 ,\n",
       "         0.08296153,  0.06490486,  0.01623975,  0.00572857, -0.04603453,\n",
       "        -0.05980125, -0.07163102, -0.10448114, -0.12890717]))"
      ]
     },
     "execution_count": 36,
     "metadata": {},
     "output_type": "execute_result"
    }
   ],
   "source": [
    "factorize.get_eigenvalues()\n",
    "\n",
    "# Aqui se extraen la mayor cantidad de factores latentes que se pueden\n",
    "# obtener (la misma cantidad de columnas que los datos)\n",
    "\n",
    "# Estos son valores propios"
   ]
  },
  {
   "cell_type": "code",
   "execution_count": null,
   "metadata": {},
   "outputs": [],
   "source": [
    "# Factor propio = Pendiente"
   ]
  }
 ],
 "metadata": {
  "kernelspec": {
   "display_name": "base",
   "language": "python",
   "name": "python3"
  },
  "language_info": {
   "codemirror_mode": {
    "name": "ipython",
    "version": 3
   },
   "file_extension": ".py",
   "mimetype": "text/x-python",
   "name": "python",
   "nbconvert_exporter": "python",
   "pygments_lexer": "ipython3",
   "version": "3.9.13"
  },
  "orig_nbformat": 4,
  "vscode": {
   "interpreter": {
    "hash": "a677eee07fae7a05dc0065b321405b89ac79028a918e58c71b412840ee16c11e"
   }
  }
 },
 "nbformat": 4,
 "nbformat_minor": 2
}
