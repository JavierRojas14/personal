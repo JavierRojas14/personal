{
 "cells": [
  {
   "cell_type": "markdown",
   "metadata": {},
   "source": [
    "# Repaso"
   ]
  },
  {
   "attachments": {},
   "cell_type": "markdown",
   "metadata": {},
   "source": [
    "# Dimensionalidad"
   ]
  },
  {
   "attachments": {},
   "cell_type": "markdown",
   "metadata": {},
   "source": [
    "# Aprendize No Supervisado\n",
    "\n",
    "Corresponde a la ausencia de informacion sobre el vector objetivo. Lo que se quiere hacer es agrupar\n",
    "o tratar las variables de X.\n",
    "\n",
    "Usualmente lo que se hace es agrupar datos (clustering) o reducir la dimension (cantidad de \n",
    "variables)"
   ]
  },
  {
   "attachments": {},
   "cell_type": "markdown",
   "metadata": {},
   "source": [
    "# La maldicion de la dimensionalidad\n",
    "\n",
    "Cuando se va aumentando la cantidad de variables/dimensiones/columnas/X dentro de un modelo, \n",
    "entonces la distancia entre puntos va aumentando!\n",
    "\n",
    "- Si tengo una linea recta (dimension 2), entonces las distancias estan acotadas a dos dimensiones.\n",
    "Debido a esto, las distancias son pequenas\n",
    "- Ahora, si aumento la dimensionalidad a 10, las distancias aumentaran, ya que tenemos mas opciones\n",
    "para hacerlo.\n",
    "\n",
    "Este problema hace que los modelos NO convergan correctamente cuando hay muchas dimensiones o\n",
    "variables"
   ]
  },
  {
   "attachments": {},
   "cell_type": "markdown",
   "metadata": {},
   "source": [
    "# Psicometria"
   ]
  },
  {
   "attachments": {},
   "cell_type": "markdown",
   "metadata": {},
   "source": [
    "# Analisis Factorial - No se ocupa tanto\n",
    "\n",
    "Permite resumir la informacion o variables en un grupo mas pequeno! Por ejemplo: Pasar de 100 \n",
    "variables a 2 variables. Se hace un ponderado de las 100 variables para resumir en 2 variables.\n",
    "\n",
    "Claramente se pierde informacion!\n",
    "\n",
    "Una forma alocada es sumar todas las variables!\n",
    "\n",
    "## Analisis factorial\n",
    "\n",
    "X1 = n + m1x1 + m2x2 + m3x3 ... + e1\n",
    "\n",
    "Al final es hacer combinaciones lineales de todos, y simplemente ocultar algunos segun las cargas/contribuciones/coeficientes/pendientes de cada variable."
   ]
  },
  {
   "cell_type": "code",
   "execution_count": 5,
   "metadata": {},
   "outputs": [],
   "source": [
    "import pandas as pd\n",
    "import numpy as np\n",
    "import matplotlib.pyplot as plt\n",
    "import scipy.stats as stats\n",
    "import seaborn as sns\n",
    "import lec7_graphs as gfx"
   ]
  },
  {
   "cell_type": "code",
   "execution_count": 6,
   "metadata": {},
   "outputs": [],
   "source": [
    "df = pd.read_csv('cep45.csv')\n",
    "trust_df = df.filter(regex='p17 *')"
   ]
  },
  {
   "cell_type": "code",
   "execution_count": 7,
   "metadata": {},
   "outputs": [
    {
     "data": {
      "text/html": [
       "<div>\n",
       "<style scoped>\n",
       "    .dataframe tbody tr th:only-of-type {\n",
       "        vertical-align: middle;\n",
       "    }\n",
       "\n",
       "    .dataframe tbody tr th {\n",
       "        vertical-align: top;\n",
       "    }\n",
       "\n",
       "    .dataframe thead th {\n",
       "        text-align: right;\n",
       "    }\n",
       "</style>\n",
       "<table border=\"1\" class=\"dataframe\">\n",
       "  <thead>\n",
       "    <tr style=\"text-align: right;\">\n",
       "      <th></th>\n",
       "      <th>p17_a</th>\n",
       "      <th>p17_b</th>\n",
       "      <th>p17_c</th>\n",
       "      <th>p17_d</th>\n",
       "      <th>p17_e</th>\n",
       "      <th>p17_f</th>\n",
       "      <th>p17_g</th>\n",
       "      <th>p17_h</th>\n",
       "      <th>p17_i</th>\n",
       "      <th>p17_j</th>\n",
       "      <th>p17_k</th>\n",
       "      <th>p17_l</th>\n",
       "      <th>p17_m</th>\n",
       "      <th>p17_n</th>\n",
       "    </tr>\n",
       "  </thead>\n",
       "  <tbody>\n",
       "    <tr>\n",
       "      <th>0</th>\n",
       "      <td>2</td>\n",
       "      <td>4</td>\n",
       "      <td>3</td>\n",
       "      <td>2</td>\n",
       "      <td>3</td>\n",
       "      <td>3</td>\n",
       "      <td>3</td>\n",
       "      <td>4</td>\n",
       "      <td>3</td>\n",
       "      <td>3</td>\n",
       "      <td>2</td>\n",
       "      <td>3</td>\n",
       "      <td>2</td>\n",
       "      <td>2</td>\n",
       "    </tr>\n",
       "    <tr>\n",
       "      <th>1</th>\n",
       "      <td>2</td>\n",
       "      <td>3</td>\n",
       "      <td>3</td>\n",
       "      <td>3</td>\n",
       "      <td>3</td>\n",
       "      <td>3</td>\n",
       "      <td>2</td>\n",
       "      <td>2</td>\n",
       "      <td>3</td>\n",
       "      <td>4</td>\n",
       "      <td>3</td>\n",
       "      <td>3</td>\n",
       "      <td>3</td>\n",
       "      <td>3</td>\n",
       "    </tr>\n",
       "    <tr>\n",
       "      <th>2</th>\n",
       "      <td>4</td>\n",
       "      <td>4</td>\n",
       "      <td>4</td>\n",
       "      <td>4</td>\n",
       "      <td>3</td>\n",
       "      <td>3</td>\n",
       "      <td>4</td>\n",
       "      <td>4</td>\n",
       "      <td>4</td>\n",
       "      <td>4</td>\n",
       "      <td>4</td>\n",
       "      <td>3</td>\n",
       "      <td>4</td>\n",
       "      <td>2</td>\n",
       "    </tr>\n",
       "    <tr>\n",
       "      <th>3</th>\n",
       "      <td>1</td>\n",
       "      <td>3</td>\n",
       "      <td>2</td>\n",
       "      <td>2</td>\n",
       "      <td>3</td>\n",
       "      <td>2</td>\n",
       "      <td>3</td>\n",
       "      <td>3</td>\n",
       "      <td>3</td>\n",
       "      <td>4</td>\n",
       "      <td>3</td>\n",
       "      <td>3</td>\n",
       "      <td>3</td>\n",
       "      <td>3</td>\n",
       "    </tr>\n",
       "    <tr>\n",
       "      <th>4</th>\n",
       "      <td>3</td>\n",
       "      <td>3</td>\n",
       "      <td>2</td>\n",
       "      <td>1</td>\n",
       "      <td>2</td>\n",
       "      <td>2</td>\n",
       "      <td>1</td>\n",
       "      <td>1</td>\n",
       "      <td>2</td>\n",
       "      <td>3</td>\n",
       "      <td>2</td>\n",
       "      <td>2</td>\n",
       "      <td>2</td>\n",
       "      <td>2</td>\n",
       "    </tr>\n",
       "    <tr>\n",
       "      <th>...</th>\n",
       "      <td>...</td>\n",
       "      <td>...</td>\n",
       "      <td>...</td>\n",
       "      <td>...</td>\n",
       "      <td>...</td>\n",
       "      <td>...</td>\n",
       "      <td>...</td>\n",
       "      <td>...</td>\n",
       "      <td>...</td>\n",
       "      <td>...</td>\n",
       "      <td>...</td>\n",
       "      <td>...</td>\n",
       "      <td>...</td>\n",
       "      <td>...</td>\n",
       "    </tr>\n",
       "    <tr>\n",
       "      <th>1498</th>\n",
       "      <td>4</td>\n",
       "      <td>4</td>\n",
       "      <td>4</td>\n",
       "      <td>4</td>\n",
       "      <td>4</td>\n",
       "      <td>4</td>\n",
       "      <td>4</td>\n",
       "      <td>4</td>\n",
       "      <td>4</td>\n",
       "      <td>4</td>\n",
       "      <td>4</td>\n",
       "      <td>4</td>\n",
       "      <td>3</td>\n",
       "      <td>4</td>\n",
       "    </tr>\n",
       "    <tr>\n",
       "      <th>1499</th>\n",
       "      <td>9</td>\n",
       "      <td>9</td>\n",
       "      <td>3</td>\n",
       "      <td>3</td>\n",
       "      <td>3</td>\n",
       "      <td>2</td>\n",
       "      <td>3</td>\n",
       "      <td>2</td>\n",
       "      <td>2</td>\n",
       "      <td>3</td>\n",
       "      <td>3</td>\n",
       "      <td>2</td>\n",
       "      <td>3</td>\n",
       "      <td>3</td>\n",
       "    </tr>\n",
       "    <tr>\n",
       "      <th>1500</th>\n",
       "      <td>1</td>\n",
       "      <td>9</td>\n",
       "      <td>3</td>\n",
       "      <td>3</td>\n",
       "      <td>3</td>\n",
       "      <td>3</td>\n",
       "      <td>3</td>\n",
       "      <td>2</td>\n",
       "      <td>3</td>\n",
       "      <td>3</td>\n",
       "      <td>3</td>\n",
       "      <td>3</td>\n",
       "      <td>2</td>\n",
       "      <td>3</td>\n",
       "    </tr>\n",
       "    <tr>\n",
       "      <th>1501</th>\n",
       "      <td>3</td>\n",
       "      <td>3</td>\n",
       "      <td>3</td>\n",
       "      <td>3</td>\n",
       "      <td>3</td>\n",
       "      <td>3</td>\n",
       "      <td>3</td>\n",
       "      <td>3</td>\n",
       "      <td>2</td>\n",
       "      <td>3</td>\n",
       "      <td>4</td>\n",
       "      <td>3</td>\n",
       "      <td>3</td>\n",
       "      <td>2</td>\n",
       "    </tr>\n",
       "    <tr>\n",
       "      <th>1502</th>\n",
       "      <td>2</td>\n",
       "      <td>9</td>\n",
       "      <td>2</td>\n",
       "      <td>3</td>\n",
       "      <td>3</td>\n",
       "      <td>4</td>\n",
       "      <td>3</td>\n",
       "      <td>3</td>\n",
       "      <td>9</td>\n",
       "      <td>9</td>\n",
       "      <td>9</td>\n",
       "      <td>9</td>\n",
       "      <td>8</td>\n",
       "      <td>3</td>\n",
       "    </tr>\n",
       "  </tbody>\n",
       "</table>\n",
       "<p>1503 rows × 14 columns</p>\n",
       "</div>"
      ],
      "text/plain": [
       "      p17_a  p17_b  p17_c  p17_d  p17_e  p17_f  p17_g  p17_h  p17_i  p17_j  \\\n",
       "0         2      4      3      2      3      3      3      4      3      3   \n",
       "1         2      3      3      3      3      3      2      2      3      4   \n",
       "2         4      4      4      4      3      3      4      4      4      4   \n",
       "3         1      3      2      2      3      2      3      3      3      4   \n",
       "4         3      3      2      1      2      2      1      1      2      3   \n",
       "...     ...    ...    ...    ...    ...    ...    ...    ...    ...    ...   \n",
       "1498      4      4      4      4      4      4      4      4      4      4   \n",
       "1499      9      9      3      3      3      2      3      2      2      3   \n",
       "1500      1      9      3      3      3      3      3      2      3      3   \n",
       "1501      3      3      3      3      3      3      3      3      2      3   \n",
       "1502      2      9      2      3      3      4      3      3      9      9   \n",
       "\n",
       "      p17_k  p17_l  p17_m  p17_n  \n",
       "0         2      3      2      2  \n",
       "1         3      3      3      3  \n",
       "2         4      3      4      2  \n",
       "3         3      3      3      3  \n",
       "4         2      2      2      2  \n",
       "...     ...    ...    ...    ...  \n",
       "1498      4      4      3      4  \n",
       "1499      3      2      3      3  \n",
       "1500      3      3      2      3  \n",
       "1501      4      3      3      2  \n",
       "1502      9      9      8      3  \n",
       "\n",
       "[1503 rows x 14 columns]"
      ]
     },
     "execution_count": 7,
     "metadata": {},
     "output_type": "execute_result"
    }
   ],
   "source": [
    "trust_df"
   ]
  },
  {
   "cell_type": "code",
   "execution_count": 8,
   "metadata": {},
   "outputs": [],
   "source": [
    "# Aqui en la clase un analisis exploratorio sencillo, para ver que onda"
   ]
  },
  {
   "attachments": {},
   "cell_type": "markdown",
   "metadata": {},
   "source": [
    "# Prueba de esferacidad de Bartlett\n",
    "\n",
    "Tenemos una  matriz de correlaciones! df.corr()\n",
    "\n",
    "Si tenemos dos variables:\n",
    "\n",
    "||var1|var2|\n",
    "|-|----|----|\n",
    "var1|1|0.8|\n",
    "var2|0.8|1|\n",
    "\n",
    "La diagonal esta correlacionada\n",
    "\n",
    "## Matriz de identidad\n",
    "\n",
    "Es cuando las variables NO tienen ninguna relacion para nada. O sea, seria:\n",
    "\n",
    "\n",
    "||var1|var2|\n",
    "|-|----|----|\n",
    "var1|1|0|\n",
    "var2|0|1|\n",
    "\n",
    "En la prueba, lo primero que se quiere ver es si se rechaza la hipotesis nula:\n",
    "\n",
    "Hipotesis nula: La matriz de correlaciones es una matriz de identidad\n",
    "Hipotesis alternativa: La matriz de correlaciones NO es una matriz de identidad (Al menos una o \n",
    "mas variables tienen relacion entre si).\n",
    "\n",
    "Si las variables tienen alguna relacion, entonces pueden ser resumidas y se disminuye la\n",
    "dimensionalidad\n"
   ]
  },
  {
   "cell_type": "markdown",
   "metadata": {},
   "source": []
  },
  {
   "cell_type": "code",
   "execution_count": 9,
   "metadata": {},
   "outputs": [],
   "source": [
    "import factor_analyzer as fact"
   ]
  },
  {
   "cell_type": "code",
   "execution_count": 10,
   "metadata": {},
   "outputs": [
    {
     "ename": "NameError",
     "evalue": "name 'matriz' is not defined",
     "output_type": "error",
     "traceback": [
      "\u001b[1;31m---------------------------------------------------------------------------\u001b[0m",
      "\u001b[1;31mNameError\u001b[0m                                 Traceback (most recent call last)",
      "\u001b[1;32m~\\AppData\\Local\\Temp\\ipykernel_15472\\362022527.py\u001b[0m in \u001b[0;36m<module>\u001b[1;34m\u001b[0m\n\u001b[1;32m----> 1\u001b[1;33m \u001b[0mfact\u001b[0m\u001b[1;33m.\u001b[0m\u001b[0mcalculate_bartlett_sphericity\u001b[0m\u001b[1;33m(\u001b[0m\u001b[0mmatriz\u001b[0m\u001b[1;33m)\u001b[0m\u001b[1;33m\u001b[0m\u001b[1;33m\u001b[0m\u001b[0m\n\u001b[0m",
      "\u001b[1;31mNameError\u001b[0m: name 'matriz' is not defined"
     ]
    }
   ],
   "source": [
    "fact.calculate_bartlett_sphericity(matriz)"
   ]
  },
  {
   "attachments": {},
   "cell_type": "markdown",
   "metadata": {},
   "source": [
    "# Prueba Kaiser-Meyer-Olkin\n",
    "\n",
    "NO es un test de hipotesis.\n",
    "\n",
    "Pregunta: Son las correlaciones parciales entre dos items cercanas a 0?\n",
    "\n",
    "KMO = Si el valor es mayor a 0.7, entonces estan relacionadas. Si es menor o igual a 0.7, entonces\n",
    "NO estan relacionadas y las variables se pueden sacar.\n"
   ]
  },
  {
   "attachments": {},
   "cell_type": "markdown",
   "metadata": {},
   "source": [
    "# Definiendo cantidad de factores\n",
    "\n",
    "Cuantos factores necesitamos? Al final seleccionamos los coeficientes/factores que sean mayores a 1,\n",
    "lo que significa que una o mas variables se pueden compactar|\n",
    "\n",
    "Al final se permite ver la cantidad de factores/disminuciones que se generan y los valores que tienen.\n",
    "Aqui esta el criterio del codo. Se selecciona el coeficiente que tenga la menor cantidad de\n",
    "factores latentes/variables, y con la mayor pendiente mayor a 1!"
   ]
  },
  {
   "attachments": {},
   "cell_type": "markdown",
   "metadata": {},
   "source": [
    "# Interpretacion de factores\n",
    "\n",
    "Nos fijamos en la magnitud (valor del coeficiente) y la direccion (el signo del coeficiente) de las cargas\n",
    "\n"
   ]
  },
  {
   "cell_type": "code",
   "execution_count": null,
   "metadata": {},
   "outputs": [
    {
     "name": "stdout",
     "output_type": "stream",
     "text": [
      "\u001b[1;31mType:\u001b[0m        FactorAnalyzer\n",
      "\u001b[1;31mString form:\u001b[0m FactorAnalyzer(n_factors=2, rotation='varimax', rotation_kwargs={})\n",
      "\u001b[1;31mFile:\u001b[0m        c:\\users\\javier\\anaconda3\\lib\\site-packages\\factor_analyzer\\factor_analyzer.py\n",
      "\u001b[1;31mDocstring:\u001b[0m  \n",
      "A FactorAnalyzer class, which -\n",
      "    (1) Fits a factor analysis model using minres, maximum likelihood,\n",
      "        or principal factor extraction and returns the loading matrix\n",
      "    (2) Optionally performs a rotation, with method including:\n",
      "\n",
      "        (a) varimax (orthogonal rotation)\n",
      "        (b) promax (oblique rotation)\n",
      "        (c) oblimin (oblique rotation)\n",
      "        (d) oblimax (orthogonal rotation)\n",
      "        (e) quartimin (oblique rotation)\n",
      "        (f) quartimax (orthogonal rotation)\n",
      "        (g) equamax (orthogonal rotation)\n",
      "\n",
      "Parameters\n",
      "----------\n",
      "n_factors : int, optional\n",
      "    The number of factors to select.\n",
      "    Defaults to 3.\n",
      "rotation : str, optional\n",
      "    The type of rotation to perform after\n",
      "    fitting the factor analysis model.\n",
      "    If set to None, no rotation will be performed,\n",
      "    nor will any associated Kaiser normalization.\n",
      "\n",
      "    Methods include:\n",
      "\n",
      "        (a) varimax (orthogonal rotation)\n",
      "        (b) promax (oblique rotation)\n",
      "        (c) oblimin (oblique rotation)\n",
      "        (d) oblimax (orthogonal rotation)\n",
      "        (e) quartimin (oblique rotation)\n",
      "        (f) quartimax (orthogonal rotation)\n",
      "        (g) equamax (orthogonal rotation)\n",
      "\n",
      "    Defaults to 'promax'.\n",
      "\n",
      "method : {'minres', 'ml', 'principal'}, optional\n",
      "    The fitting method to use, either MINRES or\n",
      "    Maximum Likelihood.\n",
      "    Defaults to 'minres'.\n",
      "use_smc : bool, optional\n",
      "    Whether to use squared multiple correlation\n",
      "    as starting guesses for factor analysis.\n",
      "    Defaults to True.\n",
      "bounds : tuple, optional\n",
      "    The lower and upper bounds on the variables\n",
      "    for \"L-BFGS-B\" optimization.\n",
      "    Defaults to (0.005, 1).\n",
      "impute : {'drop', 'mean', 'median'}, optional\n",
      "    If missing values are present in the data, either use\n",
      "    list-wise deletion ('drop') or impute the column median\n",
      "    ('median') or column mean ('mean').\n",
      "use_corr_matrix : bool, optional\n",
      "    Set to true if the `data` is the correlation\n",
      "    matrix.\n",
      "    Defaults to False.\n",
      "rotation_kwargs, optional\n",
      "    Additional key word arguments\n",
      "    are passed to the rotation method.\n",
      "\n",
      "Attributes\n",
      "----------\n",
      "loadings : numpy array\n",
      "    The factor loadings matrix.\n",
      "    Default to None, if `analyze()` has not\n",
      "    been called.\n",
      "corr : numpy array\n",
      "    The original correlation matrix.\n",
      "    Default to None, if `analyze()` has not\n",
      "    been called.\n",
      "rotation_matrix : numpy array\n",
      "    The rotation matrix, if a rotation\n",
      "    has been performed.\n",
      "structure :numpy array or None\n",
      "    The structure loading matrix.\n",
      "    This only exists if the rotation\n",
      "    is promax.\n",
      "psi : numpy array or None\n",
      "    The factor correlations\n",
      "    matrix. This only exists\n",
      "    if the rotation is oblique.\n",
      "\n",
      "Notes\n",
      "-----\n",
      "This code was partly derived from the excellent R package\n",
      "`psych`.\n",
      "\n",
      "References\n",
      "----------\n",
      "[1] https://github.com/cran/psych/blob/master/R/fa.R\n",
      "\n",
      "Examples\n",
      "--------\n",
      ">>> import pandas as pd\n",
      ">>> from factor_analyzer import FactorAnalyzer\n",
      ">>> df_features = pd.read_csv('tests/data/test02.csv')\n",
      ">>> fa = FactorAnalyzer(rotation=None)\n",
      ">>> fa.fit(df_features)\n",
      "FactorAnalyzer(bounds=(0.005, 1), impute='median', is_corr_matrix=False,\n",
      "        method='minres', n_factors=3, rotation=None, rotation_kwargs={},\n",
      "        use_smc=True)\n",
      ">>> fa.loadings_\n",
      "array([[-0.12991218,  0.16398154,  0.73823498],\n",
      "       [ 0.03899558,  0.04658425,  0.01150343],\n",
      "       [ 0.34874135,  0.61452341, -0.07255667],\n",
      "       [ 0.45318006,  0.71926681, -0.07546472],\n",
      "       [ 0.36688794,  0.44377343, -0.01737067],\n",
      "       [ 0.74141382, -0.15008235,  0.29977512],\n",
      "       [ 0.741675  , -0.16123009, -0.20744495],\n",
      "       [ 0.82910167, -0.20519428,  0.04930817],\n",
      "       [ 0.76041819, -0.23768727, -0.1206858 ],\n",
      "       [ 0.81533404, -0.12494695,  0.17639683]])\n",
      ">>> fa.get_communalities()\n",
      "array([0.588758  , 0.00382308, 0.50452402, 0.72841183, 0.33184336,\n",
      "       0.66208428, 0.61911036, 0.73194557, 0.64929612, 0.71149718])\n"
     ]
    }
   ],
   "source": [
    "factorize_dos = fact.FactorAnalyzer(n_factors=2, rotation='varimax')\n",
    "factorize_dos?"
   ]
  },
  {
   "attachments": {},
   "cell_type": "markdown",
   "metadata": {},
   "source": [
    "Al final, luego de ver todos los factores, se puede ver el desglose de cada uno y cuanto explica a\n",
    "cada una de las variables que engloba.\n",
    "\n",
    "Luego, solamente se dejan las variables que tengan una explicacion de por lo menos 0.4 (mayor o\n",
    "igual a 0.4)"
   ]
  },
  {
   "attachments": {},
   "cell_type": "markdown",
   "metadata": {},
   "source": [
    "# Analisis de PCA (Principal Component Analysis)\n",
    "\n",
    "- Es un metodo que permite mapear datos a otro sistema de coordenadas. Esta transformacion se hace\n",
    "a traves de una transformacion lineal\n",
    "\n",
    "$Xtransformado = P*X$\n",
    "\n",
    "Al final, encuentra una recta que pase por la mayor cantidad de datos. Luego, se obtiene la perpendicular de esa recta. Finalmente, se obtiene la proyeccion de n - 1 dimensionalidad a la nueva recta, bajando 1 dimension en cada paso.\n",
    "\n",
    "Permite compactar variables no relacionadas\n"
   ]
  },
  {
   "cell_type": "code",
   "execution_count": null,
   "metadata": {},
   "outputs": [],
   "source": [
    "from sklearn.datasets import load_digits\n",
    "df = load_digits()"
   ]
  },
  {
   "cell_type": "code",
   "execution_count": null,
   "metadata": {},
   "outputs": [
    {
     "data": {
      "text/plain": [
       "array([ 0.,  0.,  9., 14.,  8.,  1.,  0.,  0.,  0.,  0., 12., 14., 14.,\n",
       "       12.,  0.,  0.,  0.,  0.,  9., 10.,  0., 15.,  4.,  0.,  0.,  0.,\n",
       "        3., 16., 12., 14.,  2.,  0.,  0.,  0.,  4., 16., 16.,  2.,  0.,\n",
       "        0.,  0.,  3., 16.,  8., 10., 13.,  2.,  0.,  0.,  1., 15.,  1.,\n",
       "        3., 16.,  8.,  0.,  0.,  0., 11., 16., 15., 11.,  1.,  0.])"
      ]
     },
     "execution_count": 20,
     "metadata": {},
     "output_type": "execute_result"
    }
   ],
   "source": [
    "df.data[8]"
   ]
  },
  {
   "cell_type": "code",
   "execution_count": null,
   "metadata": {},
   "outputs": [],
   "source": [
    "from sklearn.decomposition import PCA\n",
    "\n",
    "pca = PCA(n_components=2)\n",
    "proj = pca.fit_transform(df.data\n",
    ")\n"
   ]
  },
  {
   "attachments": {},
   "cell_type": "markdown",
   "metadata": {},
   "source": [
    "Ta super rara la clase wn, no entendi casi nada."
   ]
  },
  {
   "attachments": {},
   "cell_type": "markdown",
   "metadata": {},
   "source": [
    "# K Means\n",
    "\n",
    "Agrupa datos segun un centroide. Clasifica los datos segun la proximidad al centroide."
   ]
  },
  {
   "attachments": {},
   "cell_type": "markdown",
   "metadata": {},
   "source": [
    "# Repaso clases\n",
    "\n",
    "## Problema de la dimensionalidad\n",
    "\n",
    "Hace referencia al fenomeno donde nuestros modelos empeoran al utilizar demasiada variables. Hay\n",
    "3 formas en que los modelos empeoran:\n",
    "\n",
    "- Computacionalmente se hace muy costoso\n",
    "- Cuesta mucho que convergan los resultados (por ende, el modelo es inestable)\n",
    "- Ademas, las aproximaciones van aumentando de valor\n",
    "\n",
    "Debido a esto, se hace imperante disminuir la cantidad de variables que tiene un modelo.\n",
    "\n",
    "# Analisis Factorial\n",
    "\n",
    "Es una metodo para reducir la dimensionalidad de un set de datos. Si se tienen muchas variables, estan se pueden reducir si es que estan correlacionadas.\n",
    "\n",
    "Se basa en la correlacion entre variables. Las variables mas correlacionadas entre si son agrupadas en un unico grupo, reduciendo la dimensionalidad.\n",
    "\n",
    "La correlacion dentro de un mismo grupo debe ser alta, mientras que entre grupos debe ser baja.\n",
    "\n",
    "# Que es un factor?\n",
    "\n",
    "Un factor es una **variable ESCONDIDA** que afecta a un grupo de variables relacionadas. Este factor es la razon del por que estas variables estan correlacionadas. Los factores son imposibles de medir.\n",
    "\n",
    "Por ejemplo: Queremos saber si hay tipos de personalidades que se agrupan entre si. Ademas, queremos saber si es que hay caracteristicas comunes que agrupan a estos tipos de personalidades.\n",
    "\n",
    "|Tipo Personalidad|Caracteristica que la agrupa|\n",
    "|-----------------|----------------------------|\n",
    "Extrovertido| Extravert|\n",
    "Sociable| Extraver|\n",
    "\n",
    "# Como se agrupa en analisis factorial?\n",
    "\n",
    "Como ya vimos, en analisis factorial se intentan agrupar variables relacionadas, y luego \n",
    "resumirlas a traves de sus covarianzas. O sea, encontrar un factor latente/factor, que es una\n",
    "variable escondida, inmesurable, que pueda explicar gran parte de la variabilidad (al final es\n",
    "una forma de mencionar la distribucion?) de los datos.\n",
    "\n",
    "Uno de los puntos importantes del analisis factorial es que las variables dentro de un grupo son\n",
    "muy similares entre si (tienen alta correlacion), pero la correlacion entre grupos es muy baja.\n",
    "Por lo tanto, se hace una combinacion entre variables CORRELACIONADAS!\n",
    "\n",
    "## Dimensionalidad desde la Psicometria\n",
    "\n",
    "Objetivo: Disminuir la cantidad de variables.\n",
    "\n",
    "Las variables se condensan en una o mas variables. Esto se hace a traves de una combinacion lineal\n",
    "de variables similares!\n",
    "\n",
    "$X1 = n + m1x1 + m2x2 + m3x3$"
   ]
  },
  {
   "attachments": {},
   "cell_type": "markdown",
   "metadata": {},
   "source": [
    "# Pasos de implementacion\n",
    "\n",
    "## Datos a utilizar\n",
    "\n",
    "Corresponder a los datos de una encuesta en cuanto a la confianza que se tiene de diversos entes\n",
    "publicos. La escala va de 1 a 4, y 8 o 9 corresponden a notas faltantes/na.\n",
    "\n",
    "1. Definimos una bateria de preguntas\n",
    "   1. Los datos son heterogeneos? Si lo son, estandarizarlo\n",
    "2. Eliminamos/imputamos valores perdidos\n",
    "3. Generamos metricas de validacion\n",
    "4. Evaluamos la cantidad de factores\n",
    "5. Inferimos caracteristicas de los factores\n",
    "\n",
    "Se utiliza FactorAnalyzer"
   ]
  },
  {
   "attachments": {},
   "cell_type": "markdown",
   "metadata": {},
   "source": [
    "# Analisis exploratorio"
   ]
  },
  {
   "attachments": {},
   "cell_type": "markdown",
   "metadata": {},
   "source": [
    "        "
   ]
  },
  {
   "cell_type": "code",
   "execution_count": 11,
   "metadata": {},
   "outputs": [],
   "source": [
    "import pandas as pd\n",
    "import numpy as np\n",
    "import matplotlib.pyplot as plt\n",
    "from scipy import stats\n",
    "import seaborn as sns\n",
    "import warnings\n",
    "\n",
    "warnings.filterwarnings('ignore')\n",
    "plt.style.use('seaborn-whitegrid')\n",
    "plt.rcParams['figure.figsize'] = (12, 6)"
   ]
  },
  {
   "cell_type": "code",
   "execution_count": 12,
   "metadata": {},
   "outputs": [],
   "source": [
    "import factor_analyzer as factor\n",
    "import missingno as magn\n",
    "\n",
    "df = pd.read_csv('cep45.csv')"
   ]
  },
  {
   "cell_type": "code",
   "execution_count": 13,
   "metadata": {},
   "outputs": [
    {
     "data": {
      "text/plain": [
       "Index(['corr', 'filtro', 'psu', 'region', 'p1_1', 'p1_2', 'p1_3', 'p2', 'p3',\n",
       "       'p4',\n",
       "       ...\n",
       "       'de14_b', 'de14_c', 'de14_d', 'de14_e', 'de14_f', 'de15', 'de16',\n",
       "       'de17', 'b5', 'pond'],\n",
       "      dtype='object', length=188)"
      ]
     },
     "execution_count": 13,
     "metadata": {},
     "output_type": "execute_result"
    }
   ],
   "source": [
    "df.columns\n",
    "\n",
    "# Las columnas que empiezan con p17_ son las de las instituciones"
   ]
  },
  {
   "cell_type": "code",
   "execution_count": 14,
   "metadata": {},
   "outputs": [],
   "source": [
    "trust_df = df.filter(regex='p17_*')\n",
    "trust_df = trust_df.rename(columns= {\n",
    "    'p17_a': 'I. Catolica', 'p17_b': 'I.Evangelica',\n",
    "    'p17_c': 'FF.AA', 'p17_d': 'Justicia', 'p17_e': 'Prensa',\n",
    "    'p17_f': 'Television', 'p17_g': 'Sindicatos', 'p17_h': 'Carabineros',\n",
    "    'p17_i': 'Gobierno', 'p17_j': 'Partidos Politicos', 'p17_k': 'Congreso',\n",
    "    'p17_l': 'Empresas', 'p17_m': 'Universidades', 'p17_n': 'Radio'\n",
    "})"
   ]
  },
  {
   "cell_type": "code",
   "execution_count": 15,
   "metadata": {},
   "outputs": [
    {
     "data": {
      "text/html": [
       "<div>\n",
       "<style scoped>\n",
       "    .dataframe tbody tr th:only-of-type {\n",
       "        vertical-align: middle;\n",
       "    }\n",
       "\n",
       "    .dataframe tbody tr th {\n",
       "        vertical-align: top;\n",
       "    }\n",
       "\n",
       "    .dataframe thead th {\n",
       "        text-align: right;\n",
       "    }\n",
       "</style>\n",
       "<table border=\"1\" class=\"dataframe\">\n",
       "  <thead>\n",
       "    <tr style=\"text-align: right;\">\n",
       "      <th></th>\n",
       "      <th>I. Catolica</th>\n",
       "      <th>I.Evangelica</th>\n",
       "      <th>FF.AA</th>\n",
       "      <th>Justicia</th>\n",
       "      <th>Prensa</th>\n",
       "      <th>Television</th>\n",
       "      <th>Sindicatos</th>\n",
       "      <th>Carabineros</th>\n",
       "      <th>Gobierno</th>\n",
       "      <th>Partidos Politicos</th>\n",
       "      <th>Congreso</th>\n",
       "      <th>Empresas</th>\n",
       "      <th>Universidades</th>\n",
       "      <th>Radio</th>\n",
       "    </tr>\n",
       "  </thead>\n",
       "  <tbody>\n",
       "    <tr>\n",
       "      <th>860</th>\n",
       "      <td>1</td>\n",
       "      <td>2</td>\n",
       "      <td>2</td>\n",
       "      <td>2</td>\n",
       "      <td>3</td>\n",
       "      <td>3</td>\n",
       "      <td>3</td>\n",
       "      <td>2</td>\n",
       "      <td>4</td>\n",
       "      <td>4</td>\n",
       "      <td>4</td>\n",
       "      <td>3</td>\n",
       "      <td>4</td>\n",
       "      <td>3</td>\n",
       "    </tr>\n",
       "  </tbody>\n",
       "</table>\n",
       "</div>"
      ],
      "text/plain": [
       "     I. Catolica  I.Evangelica  FF.AA  Justicia  Prensa  Television  \\\n",
       "860            1             2      2         2       3           3   \n",
       "\n",
       "     Sindicatos  Carabineros  Gobierno  Partidos Politicos  Congreso  \\\n",
       "860           3            2         4                   4         4   \n",
       "\n",
       "     Empresas  Universidades  Radio  \n",
       "860         3              4      3  "
      ]
     },
     "execution_count": 15,
     "metadata": {},
     "output_type": "execute_result"
    }
   ],
   "source": [
    "trust_df.sample()\n",
    "# 4 = Mucha desconfianza\n",
    "# 1 = Nada de desconfianza"
   ]
  },
  {
   "cell_type": "code",
   "execution_count": 16,
   "metadata": {},
   "outputs": [],
   "source": [
    "# esta funcion permite ver la cantidad de valores na en una columna\n",
    "def fetch_missing(df, missing_vals=[8, 9]):\n",
    "    for colname, serie in df.iteritems():\n",
    "        print(colname, serie.isin(missing_vals).value_counts('%')[1].round(2))"
   ]
  },
  {
   "cell_type": "code",
   "execution_count": 17,
   "metadata": {},
   "outputs": [
    {
     "name": "stdout",
     "output_type": "stream",
     "text": [
      "I. Catolica 0.03\n",
      "I.Evangelica 0.07\n",
      "FF.AA 0.04\n",
      "Justicia 0.04\n",
      "Prensa 0.03\n",
      "Television 0.02\n",
      "Sindicatos 0.09\n",
      "Carabineros 0.02\n",
      "Gobierno 0.03\n",
      "Partidos Politicos 0.03\n",
      "Congreso 0.05\n",
      "Empresas 0.04\n",
      "Universidades 0.07\n",
      "Radio 0.03\n"
     ]
    }
   ],
   "source": [
    "fetch_missing(trust_df)\n",
    "# Los datos de los sindicatos son los que tienen la mayor cantidad de np.NaN"
   ]
  },
  {
   "cell_type": "code",
   "execution_count": 18,
   "metadata": {},
   "outputs": [
    {
     "data": {
      "text/plain": [
       "<AxesSubplot:>"
      ]
     },
     "execution_count": 18,
     "metadata": {},
     "output_type": "execute_result"
    },
    {
     "data": {
      "image/png": "[encoded data removed]",
      "text/plain": [
       "<Figure size 2500x1000 with 2 Axes>"
      ]
     },
     "metadata": {},
     "output_type": "display_data"
    }
   ],
   "source": [
    "# Tambien se puede ver con la libreria missingo\n",
    "\n",
    "magn.matrix(trust_df.replace([8, 9], [np.nan, np.nan]))\n",
    "\n",
    "# De aqui, graficamente se puede ver que p17_g tiene la mayor cantidad de valores nulos"
   ]
  },
  {
   "cell_type": "code",
   "execution_count": 19,
   "metadata": {},
   "outputs": [],
   "source": [
    "# Ahora, veremos las medias de cada uno de las columnas\n",
    "variable, mean = [], []\n",
    "\n",
    "for colname, serie in trust_df.iteritems():\n",
    "    variable.append(colname)\n",
    "    mean.append(serie.mean())\n",
    "\n",
    "tmp_df = pd.DataFrame({'var': variable, 'mean': mean}).sort_values(by='mean')"
   ]
  },
  {
   "cell_type": "code",
   "execution_count": 20,
   "metadata": {},
   "outputs": [
    {
     "data": {
      "text/plain": [
       "[<matplotlib.lines.Line2D at 0x14404b2e3a0>]"
      ]
     },
     "execution_count": 20,
     "metadata": {},
     "output_type": "execute_result"
    },
    {
     "data": {
      "image/png": "[encoded data removed]",
      "text/plain": [
       "<Figure size 1200x600 with 1 Axes>"
      ]
     },
     "metadata": {},
     "output_type": "display_data"
    }
   ],
   "source": [
    "plt.plot(tmp_df['mean'], tmp_df['var'], 'o')\n",
    "\n",
    "# Con el replace, se puede ver que los partidos politicos y sindicatos son los que generan mas\n",
    "# desconfianza, justicia, congreso, etc..."
   ]
  },
  {
   "attachments": {},
   "cell_type": "markdown",
   "metadata": {},
   "source": [
    "# Supuestos de idoneidad factorial\n",
    "\n",
    "Antes de hacer cualquier analisis factorial, es necesario que se cumpla el principio de esferacidad\n",
    "de Bartlett. Este indica que al observar la matriz de correlacion entre variables, al menos\n",
    "existen 2 variables que SI estan correlacionadas.\n",
    "\n",
    "$H_{o} $= La matriz de correlacion es una matriz de identidad (No existe ninguna correlacion entre variables)\n",
    "\n",
    "$H_{i} $= La matriz de correlacion NO es una matriz de identidad (Existe al menos una correlacion entre variables)\n",
    "\n",
    "Para realizar este test se utiliza el modulo factor, con el metodo calculate_bartlett_sphericity()"
   ]
  },
  {
   "cell_type": "code",
   "execution_count": 21,
   "metadata": {},
   "outputs": [
    {
     "data": {
      "text/plain": [
       "(6644.835705911945, 0.0)"
      ]
     },
     "execution_count": 21,
     "metadata": {},
     "output_type": "execute_result"
    }
   ],
   "source": [
    "factor.calculate_bartlett_sphericity(trust_df)\n",
    "\n",
    "# En este caso se obtiene el estadistico, y el p-value. Como p < 0.05, se rechaza la hipotesis nula\n",
    "# y existen al menos 2 variables correlacionadas en la matriz."
   ]
  },
  {
   "attachments": {},
   "cell_type": "markdown",
   "metadata": {},
   "source": [
    "# Verificar la existencia de algun factor latente\n",
    "\n",
    "Luego de haber confirmado que existen al menos 2 variables que estan correlacionadas, es necesario\n",
    "verificar si es que existe al menos 1 factor latente en nuestro set de datos. Esto se hace con\n",
    "la prueba de Kaiser-Meyer-Olkin"
   ]
  },
  {
   "attachments": {},
   "cell_type": "markdown",
   "metadata": {},
   "source": [
    "$Prueba Kaiser-Meyer-Olkin$ = Si es > 0.7, entonces existe al menos 1 factor latente en nuestro set de datos\n",
    "\n",
    "Si es < 0.7, entonces NO existe un factor latente en nuestro set de datos."
   ]
  },
  {
   "cell_type": "code",
   "execution_count": 22,
   "metadata": {},
   "outputs": [
    {
     "data": {
      "text/plain": [
       "(array([0.93853431, 0.92717654, 0.93176781, 0.95285454, 0.91971575,\n",
       "        0.88552639, 0.93671982, 0.91120486, 0.93981619, 0.91291311,\n",
       "        0.91928052, 0.94234885, 0.95178434, 0.93221226]),\n",
       " 0.9274657194111268)"
      ]
     },
     "execution_count": 22,
     "metadata": {},
     "output_type": "execute_result"
    }
   ],
   "source": [
    "factor.calculate_kmo(trust_df)\n",
    "\n",
    "# En este array se ve la importancia especifica de cada una de las variables, y el KMO global del modelo\n",
    "# Como el valor global es mayor que 0.7, entonces existe al menos 1 factor latente en el modelo\n",
    "# Si el valor fuera menor a 0.7, entonces hay que eliminar las variables que aporten poco al KMO\n",
    "# global, y ver si es que aumenta el KMO."
   ]
  },
  {
   "attachments": {},
   "cell_type": "markdown",
   "metadata": {},
   "source": [
    "# Extraccion de Valores\n",
    "\n",
    "Una vez que ya vimos que nuestros datos estan correlacionados, y que existe al menos 1 factor\n",
    "latente, entonces debemos extraer este/estos factores.\n",
    "\n",
    "Inicialmente es innecesario indicar cuantos factores queremos extraer con FactorAnalyzer. Por default obtiene 3.\n",
    "\n",
    "- Aqui se utiliza varimax como rotacion. Esto significa que hara una linea recta que fitee a las diversas variables, y maximizara la varianza de cada una de las variables. Creo que es muy similar al PCA, al final maximiza la distancia entre la proyeccion de los puntos a la recta y el centro???.\n",
    "\n",
    "# 1. Instanciar nuestro Analizador de factores\n",
    "\n",
    "- Sin necesidad de poner cuantos factores queremos obtener"
   ]
  },
  {
   "cell_type": "code",
   "execution_count": 23,
   "metadata": {},
   "outputs": [],
   "source": [
    "factorize = factor.FactorAnalyzer(rotation='varimax')"
   ]
  },
  {
   "attachments": {},
   "cell_type": "markdown",
   "metadata": {},
   "source": [
    "# 2. Pasar los datos a un fit"
   ]
  },
  {
   "cell_type": "code",
   "execution_count": 24,
   "metadata": {},
   "outputs": [
    {
     "data": {
      "text/plain": [
       "FactorAnalyzer(rotation='varimax', rotation_kwargs={})"
      ]
     },
     "execution_count": 24,
     "metadata": {},
     "output_type": "execute_result"
    }
   ],
   "source": [
    "factorize.fit(trust_df)"
   ]
  },
  {
   "attachments": {},
   "cell_type": "markdown",
   "metadata": {},
   "source": [
    "# 3. Obtener los eigenvalues con .get_eigenvalues()\n",
    "\n",
    "Recordar que los eigenvalues se obtienen de la siguiente manera:\n",
    "- Generar una linea recta\n",
    "- Proyectar los puntos o datos a la linea recta (trazar las distancias)\n",
    "- Calcular la distancia del punto al centro de la recta\n",
    "- Obtener la suma de los cuadrados de las distancias de cada punto\n",
    "- Este es el eigenvalue de la recta\n",
    "\n",
    "Para obtener la varianza alrededor de la recta (Cuanto esta explicando cada factor), se utiliza la siguiente formula:\n",
    "\n",
    "$\\frac{SumaCuadradosDistanciaDelFactor}{n-1} = Variacion explicada por el factor$\n",
    "\n",
    "Al final, siempre se generan todos los posibles factores que se pueden representar (que es igual a la cantidad de variables que tienen nuestros datos). Ahora, cada factor (o componente principal por lo que estoy cachando) explica una cantidad de la varianza total de los datos (La distancia de los puntos al centro del componente).\n",
    "\n",
    "## Eigenvalues decrecientes\n",
    "\n",
    "Recordemos que varimax maximiza la cantidad de varianza explicada por cada factor. Debido a lo anterior, el primer factor latente explicara la mayor cantidad de varianza de los datos. El segundo valor latente explicara menor que el primero, pero mas que el tercero. Por lo tanto, los factores latentes van decreciendo en varianza explicada."
   ]
  },
  {
   "attachments": {},
   "cell_type": "markdown",
   "metadata": {},
   "source": [
    "# Obtener los valores de cada factor propio"
   ]
  },
  {
   "cell_type": "code",
   "execution_count": 25,
   "metadata": {},
   "outputs": [],
   "source": [
    "factor_eigenvalue = factorize.get_eigenvalues()[0]\n",
    "\n",
    "# Aqui se extraen la mayor cantidad de factores latentes que se pueden\n",
    "# obtener (la misma cantidad de columnas que los datos)\n",
    "\n",
    "# Estos son valores propios"
   ]
  },
  {
   "cell_type": "code",
   "execution_count": 26,
   "metadata": {},
   "outputs": [
    {
     "data": {
      "text/plain": [
       "<matplotlib.lines.Line2D at 0x14400d41bb0>"
      ]
     },
     "execution_count": 26,
     "metadata": {},
     "output_type": "execute_result"
    },
    {
     "data": {
      "image/png": "[encoded data removed]",
      "text/plain": [
       "<Figure size 1200x600 with 1 Axes>"
      ]
     },
     "metadata": {},
     "output_type": "display_data"
    }
   ],
   "source": [
    "plt.plot(range(len(factor_eigenvalue)), factor_eigenvalue, 'o-')\n",
    "plt.xlabel('Numero de Factores Latentes')\n",
    "plt.ylabel('Valor del factor latente')\n",
    "plt.axhline(1)\n",
    "\n",
    "# Como se puede ver, hay 2 factores con un valor mayor a 1 (Por lo que explican mas de\n",
    "# 1 variable/columna de nuestros datos)\n",
    "\n",
    "# Con estos resultados, entonces extraeremos solamente 2 factores latentes!"
   ]
  },
  {
   "cell_type": "code",
   "execution_count": 27,
   "metadata": {},
   "outputs": [
    {
     "data": {
      "text/plain": [
       "array([5.49842419, 1.14587292, 0.89926341, 0.85550809, 0.72165128,\n",
       "       0.69572011, 0.63389523, 0.62396403, 0.60609083, 0.57058745,\n",
       "       0.49919319, 0.46208615, 0.40448333, 0.38325979])"
      ]
     },
     "execution_count": 27,
     "metadata": {},
     "output_type": "execute_result"
    }
   ],
   "source": [
    "factorize_2 = factor.FactorAnalyzer(n_factors=2, rotation='varimax')\n",
    "factorize_2.fit(trust_df)\n",
    "factorize_2.get_eigenvalues()[0]"
   ]
  },
  {
   "attachments": {},
   "cell_type": "markdown",
   "metadata": {},
   "source": [
    "# Extraccion e interpretacion de cargas factoriales\n",
    "\n",
    "Una vez que ya se tienen los valores de cuanto estan explicando los factores latentes, es necesario extraer los factores propios como tal. Con esto podemos ver el detalle de cuanto explica cada uno de los factores"
   ]
  },
  {
   "attachments": {},
   "cell_type": "markdown",
   "metadata": {},
   "source": [
    "# Cargas Factoriales"
   ]
  },
  {
   "cell_type": "code",
   "execution_count": 28,
   "metadata": {},
   "outputs": [
    {
     "data": {
      "text/plain": [
       "array([[0.2115378 , 0.48207631],\n",
       "       [0.18909242, 0.31556017],\n",
       "       [0.44635957, 0.4410592 ],\n",
       "       [0.49501859, 0.36986145],\n",
       "       [0.39299559, 0.50611705],\n",
       "       [0.20838918, 0.7000665 ],\n",
       "       [0.50838434, 0.18316639],\n",
       "       [0.24972885, 0.5685152 ],\n",
       "       [0.51311237, 0.45708089],\n",
       "       [0.66688535, 0.28831161],\n",
       "       [0.72624282, 0.21479004],\n",
       "       [0.56733533, 0.31276563],\n",
       "       [0.44188951, 0.33202866],\n",
       "       [0.24208803, 0.57256938]])"
      ]
     },
     "execution_count": 28,
     "metadata": {},
     "output_type": "execute_result"
    }
   ],
   "source": [
    "factorize_2.loadings_\n",
    "\n",
    "# La primera columna es el factor 1, la segunda columna es\n",
    "# el factor 2\n",
    "\n",
    "# Cada una de las filas corresponde a las variables entregadas"
   ]
  },
  {
   "cell_type": "code",
   "execution_count": 29,
   "metadata": {},
   "outputs": [
    {
     "data": {
      "text/html": [
       "<div>\n",
       "<style scoped>\n",
       "    .dataframe tbody tr th:only-of-type {\n",
       "        vertical-align: middle;\n",
       "    }\n",
       "\n",
       "    .dataframe tbody tr th {\n",
       "        vertical-align: top;\n",
       "    }\n",
       "\n",
       "    .dataframe thead th {\n",
       "        text-align: right;\n",
       "    }\n",
       "</style>\n",
       "<table border=\"1\" class=\"dataframe\">\n",
       "  <thead>\n",
       "    <tr style=\"text-align: right;\">\n",
       "      <th></th>\n",
       "      <th>Factor 1</th>\n",
       "      <th>Factor 2</th>\n",
       "    </tr>\n",
       "  </thead>\n",
       "  <tbody>\n",
       "    <tr>\n",
       "      <th>I. Catolica</th>\n",
       "      <td>0.211538</td>\n",
       "      <td>0.482076</td>\n",
       "    </tr>\n",
       "    <tr>\n",
       "      <th>I.Evangelica</th>\n",
       "      <td>0.189092</td>\n",
       "      <td>0.315560</td>\n",
       "    </tr>\n",
       "    <tr>\n",
       "      <th>FF.AA</th>\n",
       "      <td>0.446360</td>\n",
       "      <td>0.441059</td>\n",
       "    </tr>\n",
       "    <tr>\n",
       "      <th>Justicia</th>\n",
       "      <td>0.495019</td>\n",
       "      <td>0.369861</td>\n",
       "    </tr>\n",
       "    <tr>\n",
       "      <th>Prensa</th>\n",
       "      <td>0.392996</td>\n",
       "      <td>0.506117</td>\n",
       "    </tr>\n",
       "    <tr>\n",
       "      <th>Television</th>\n",
       "      <td>0.208389</td>\n",
       "      <td>0.700067</td>\n",
       "    </tr>\n",
       "    <tr>\n",
       "      <th>Sindicatos</th>\n",
       "      <td>0.508384</td>\n",
       "      <td>0.183166</td>\n",
       "    </tr>\n",
       "    <tr>\n",
       "      <th>Carabineros</th>\n",
       "      <td>0.249729</td>\n",
       "      <td>0.568515</td>\n",
       "    </tr>\n",
       "    <tr>\n",
       "      <th>Gobierno</th>\n",
       "      <td>0.513112</td>\n",
       "      <td>0.457081</td>\n",
       "    </tr>\n",
       "    <tr>\n",
       "      <th>Partidos Politicos</th>\n",
       "      <td>0.666885</td>\n",
       "      <td>0.288312</td>\n",
       "    </tr>\n",
       "    <tr>\n",
       "      <th>Congreso</th>\n",
       "      <td>0.726243</td>\n",
       "      <td>0.214790</td>\n",
       "    </tr>\n",
       "    <tr>\n",
       "      <th>Empresas</th>\n",
       "      <td>0.567335</td>\n",
       "      <td>0.312766</td>\n",
       "    </tr>\n",
       "    <tr>\n",
       "      <th>Universidades</th>\n",
       "      <td>0.441890</td>\n",
       "      <td>0.332029</td>\n",
       "    </tr>\n",
       "    <tr>\n",
       "      <th>Radio</th>\n",
       "      <td>0.242088</td>\n",
       "      <td>0.572569</td>\n",
       "    </tr>\n",
       "  </tbody>\n",
       "</table>\n",
       "</div>"
      ],
      "text/plain": [
       "                    Factor 1  Factor 2\n",
       "I. Catolica         0.211538  0.482076\n",
       "I.Evangelica        0.189092  0.315560\n",
       "FF.AA               0.446360  0.441059\n",
       "Justicia            0.495019  0.369861\n",
       "Prensa              0.392996  0.506117\n",
       "Television          0.208389  0.700067\n",
       "Sindicatos          0.508384  0.183166\n",
       "Carabineros         0.249729  0.568515\n",
       "Gobierno            0.513112  0.457081\n",
       "Partidos Politicos  0.666885  0.288312\n",
       "Congreso            0.726243  0.214790\n",
       "Empresas            0.567335  0.312766\n",
       "Universidades       0.441890  0.332029\n",
       "Radio               0.242088  0.572569"
      ]
     },
     "execution_count": 29,
     "metadata": {},
     "output_type": "execute_result"
    }
   ],
   "source": [
    "carga_factores = pd.DataFrame(factorize_2.loadings_, columns=['Factor 1', 'Factor 2'], index=trust_df.columns)\n",
    "carga_factores"
   ]
  },
  {
   "cell_type": "code",
   "execution_count": 30,
   "metadata": {},
   "outputs": [
    {
     "data": {
      "text/plain": [
       "<AxesSubplot:>"
      ]
     },
     "execution_count": 30,
     "metadata": {},
     "output_type": "execute_result"
    },
    {
     "data": {
      "image/png": "[encoded data removed]",
      "text/plain": [
       "<Figure size 1200x600 with 2 Axes>"
      ]
     },
     "metadata": {},
     "output_type": "display_data"
    }
   ],
   "source": [
    "filtro_carga = carga_factores.applymap(lambda x: np.where(x > 0.4, round(x, 2), 0))\n",
    "sns.heatmap(filtro_carga, cmap='Blues', annot=True)\n",
    "# Cada uno de los factores de cada variable se pueden interpretar como pendientes de una regresion\n",
    "# lineal de cada uno de los factores. "
   ]
  },
  {
   "cell_type": "code",
   "execution_count": 31,
   "metadata": {},
   "outputs": [],
   "source": [
    "# Al parecer el factor 1 captura la desconfianza de instituciones politicas \"mas serias\"\n",
    "# El factor 2 al parecer explica la desconfianza de instituciones menos conocidas en ese tiempo"
   ]
  },
  {
   "attachments": {},
   "cell_type": "markdown",
   "metadata": {},
   "source": [
    "# Visualizacion de cargas\n",
    "\n",
    "Con un scatterplot se puede ver la distribucion de cargas de nuestros factores"
   ]
  },
  {
   "cell_type": "code",
   "execution_count": 32,
   "metadata": {},
   "outputs": [
    {
     "data": {
      "text/plain": [
       "<matplotlib.lines.Line2D at 0x14405dda9d0>"
      ]
     },
     "execution_count": 32,
     "metadata": {},
     "output_type": "execute_result"
    },
    {
     "data": {
      "image/png": "[encoded data removed]",
      "text/plain": [
       "<Figure size 1200x600 with 1 Axes>"
      ]
     },
     "metadata": {},
     "output_type": "display_data"
    }
   ],
   "source": [
    "sns.scatterplot(data=carga_factores, x='Factor 1', y='Factor 2', hue=carga_factores.index)\n",
    "plt.axvline(carga_factores['Factor 1'].mean())\n",
    "plt.axhline(carga_factores['Factor 2'].mean())\n",
    "\n",
    "# Aqui se puede ver que los datos de ambos factores estan medianamente\n",
    "# separados, lo que es bueno! Y se puede ver una agrupacion de datos, que es el fin\n",
    "# de este metodo"
   ]
  },
  {
   "attachments": {},
   "cell_type": "markdown",
   "metadata": {},
   "source": [
    "# Varianza explicada por los factores\n",
    "\n",
    "Ahora, podemos ver cuanto varianza esta explicando cada uno de los factores creados! La suma de todos los factores suma el total de la varianza de los datos originales"
   ]
  },
  {
   "cell_type": "code",
   "execution_count": 33,
   "metadata": {},
   "outputs": [],
   "source": [
    "factor_var = factorize_2.get_factor_variance()"
   ]
  },
  {
   "cell_type": "code",
   "execution_count": 34,
   "metadata": {},
   "outputs": [],
   "source": [
    "df = pd.DataFrame(factor_var, columns=['Factor 1', 'Factor 2'],\n",
    "                  index=['Sum of squared loadings (variance)', 'Proportional Variance', 'Cumulative variance'])"
   ]
  },
  {
   "cell_type": "code",
   "execution_count": 35,
   "metadata": {},
   "outputs": [
    {
     "data": {
      "text/html": [
       "<div>\n",
       "<style scoped>\n",
       "    .dataframe tbody tr th:only-of-type {\n",
       "        vertical-align: middle;\n",
       "    }\n",
       "\n",
       "    .dataframe tbody tr th {\n",
       "        vertical-align: top;\n",
       "    }\n",
       "\n",
       "    .dataframe thead th {\n",
       "        text-align: right;\n",
       "    }\n",
       "</style>\n",
       "<table border=\"1\" class=\"dataframe\">\n",
       "  <thead>\n",
       "    <tr style=\"text-align: right;\">\n",
       "      <th></th>\n",
       "      <th>Factor 1</th>\n",
       "      <th>Factor 2</th>\n",
       "    </tr>\n",
       "  </thead>\n",
       "  <tbody>\n",
       "    <tr>\n",
       "      <th>Sum of squared loadings (variance)</th>\n",
       "      <td>2.854667</td>\n",
       "      <td>2.640396</td>\n",
       "    </tr>\n",
       "    <tr>\n",
       "      <th>Proportional Variance</th>\n",
       "      <td>0.203905</td>\n",
       "      <td>0.188600</td>\n",
       "    </tr>\n",
       "    <tr>\n",
       "      <th>Cumulative variance</th>\n",
       "      <td>0.203905</td>\n",
       "      <td>0.392504</td>\n",
       "    </tr>\n",
       "  </tbody>\n",
       "</table>\n",
       "</div>"
      ],
      "text/plain": [
       "                                    Factor 1  Factor 2\n",
       "Sum of squared loadings (variance)  2.854667  2.640396\n",
       "Proportional Variance               0.203905  0.188600\n",
       "Cumulative variance                 0.203905  0.392504"
      ]
     },
     "execution_count": 35,
     "metadata": {},
     "output_type": "execute_result"
    }
   ],
   "source": [
    "df"
   ]
  },
  {
   "cell_type": "code",
   "execution_count": 36,
   "metadata": {},
   "outputs": [],
   "source": [
    "# Por lo tanto, el factor 1 explica el 20% de la varianza total de los datos\n",
    "# El factor 2 explica el 18.8% de la varianza total!s"
   ]
  },
  {
   "attachments": {},
   "cell_type": "markdown",
   "metadata": {},
   "source": [
    "# Transformar los datos!\n",
    "\n",
    "Finalmente, como ya tenemos nuestros factores y los analizamos, ahora podemos transformar nuestras 14 variables en 2!. Para esto utilizamos el analizador de factores con transform:"
   ]
  },
  {
   "cell_type": "code",
   "execution_count": 37,
   "metadata": {},
   "outputs": [
    {
     "data": {
      "text/plain": [
       "array([[-0.67809168,  0.33784116],\n",
       "       [-0.04809729, -0.00985878],\n",
       "       [ 0.54219961,  0.42465027],\n",
       "       ...,\n",
       "       [-0.22806842,  0.13539122],\n",
       "       [-0.03749916, -0.04883833],\n",
       "       [ 4.13069653, -0.00732222]])"
      ]
     },
     "execution_count": 37,
     "metadata": {},
     "output_type": "execute_result"
    }
   ],
   "source": [
    "factorize_2.transform(trust_df)\n",
    "# Y listo, ya transformamos todos nuestros datos :D!"
   ]
  },
  {
   "attachments": {},
   "cell_type": "markdown",
   "metadata": {},
   "source": [
    "# ------------------------------------------------------------------"
   ]
  },
  {
   "attachments": {},
   "cell_type": "markdown",
   "metadata": {},
   "source": [
    "# Analisis de Componentes Principales (PCA)\n",
    "\n",
    "No es metodo analitico. Mapea las coordenadas/variables en una variable que resume a varias.\n",
    "Es similar al analisis de factores, pero sin agrupar variables por su correlacion. Aqui tambien\n",
    "se hace una recta que fittea a varias variables. El mejor fit es el que maximiza la varianza\n",
    "o la suma de la distancia de los datos al centro de la recta hecha.\n",
    "\n",
    "- Los componentes deben ser perpendiculares entre si\n",
    "\n",
    "## Caso de uso de PCA\n",
    "\n",
    "Cuando hay muchas variables, pero pocos datos"
   ]
  },
  {
   "cell_type": "code",
   "execution_count": 38,
   "metadata": {},
   "outputs": [],
   "source": [
    "from sklearn.datasets import load_digits\n",
    "df = load_digits()"
   ]
  },
  {
   "cell_type": "code",
   "execution_count": 40,
   "metadata": {},
   "outputs": [
    {
     "data": {
      "text/plain": [
       "<matplotlib.image.AxesImage at 0x144062204f0>"
      ]
     },
     "execution_count": 40,
     "metadata": {},
     "output_type": "execute_result"
    },
    {
     "data": {
      "image/png": "[encoded data removed]",
      "text/plain": [
       "<Figure size 1200x600 with 1 Axes>"
      ]
     },
     "metadata": {},
     "output_type": "display_data"
    }
   ],
   "source": [
    "df.data[8]\n",
    "\n",
    "# Es un array unidimensional. Los datos van de 0 a 1, y corresponden a saturaciones en la escala\n",
    "# de los grises\n",
    "\n",
    "plt.imshow(df.data[8].reshape([8, 8]), cmap='bone')"
   ]
  },
  {
   "attachments": {},
   "cell_type": "markdown",
   "metadata": {},
   "source": [
    "## Implementacion de PCA"
   ]
  },
  {
   "cell_type": "code",
   "execution_count": 41,
   "metadata": {},
   "outputs": [],
   "source": [
    "from sklearn.decomposition import PCA"
   ]
  },
  {
   "cell_type": "code",
   "execution_count": 42,
   "metadata": {},
   "outputs": [],
   "source": [
    "# La cantidad de dimensiones que se quieren obtener son arbitrarias\n",
    "dimred = PCA(n_components=2)"
   ]
  },
  {
   "cell_type": "code",
   "execution_count": 44,
   "metadata": {},
   "outputs": [],
   "source": [
    "# fit_transform primero estandariza los datos (los centra en 0, que es el primer paso muy necesario\n",
    "# en PCA) y luego los fittea y hace los componentes\n",
    "project_x = dimred.fit_transform(df.data)"
   ]
  },
  {
   "cell_type": "code",
   "execution_count": 45,
   "metadata": {},
   "outputs": [
    {
     "data": {
      "text/plain": [
       "(1797, 64)"
      ]
     },
     "execution_count": 45,
     "metadata": {},
     "output_type": "execute_result"
    }
   ],
   "source": [
    "df.data.shape"
   ]
  },
  {
   "cell_type": "code",
   "execution_count": 49,
   "metadata": {},
   "outputs": [
    {
     "data": {
      "text/plain": [
       "(1797, 2)"
      ]
     },
     "execution_count": 49,
     "metadata": {},
     "output_type": "execute_result"
    }
   ],
   "source": [
    "project_x.shape\n",
    "# Como se puede ver, se redujo la cantidad de variables desde 64 a 2!"
   ]
  },
  {
   "cell_type": "code",
   "execution_count": null,
   "metadata": {},
   "outputs": [],
   "source": []
  }
 ],
 "metadata": {
  "kernelspec": {
   "display_name": "base",
   "language": "python",
   "name": "python3"
  },
  "language_info": {
   "codemirror_mode": {
    "name": "ipython",
    "version": 3
   },
   "file_extension": ".py",
   "mimetype": "text/x-python",
   "name": "python",
   "nbconvert_exporter": "python",
   "pygments_lexer": "ipython3",
   "version": "3.9.13"
  },
  "orig_nbformat": 4,
  "vscode": {
   "interpreter": {
    "hash": "af5f59eafcfa7ad9c06f1a742af686e767f586fd272c2b55836f60c5affb1887"
   }
  }
 },
 "nbformat": 4,
 "nbformat_minor": 2
}
