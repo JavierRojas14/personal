{
 "cells": [
  {
   "attachments": {},
   "cell_type": "markdown",
   "metadata": {},
   "source": [
    "# Histograma\n",
    "\n",
    "Permite ver la distribucion empirica de una variable continua. En python se hace con matplotlib \n",
    "plt.histplot()\n",
    "\n",
    "# Datos perdidos\n",
    "\n",
    "Son los datos nulos, y los obtienen con .isnull()\n",
    "\n",
    "# Variables aleatorias\n",
    "\n",
    "Es una funcion que mapea un resultado de un espacio muestral discreto (resultados de un dado, azul,\n",
    " rojo, etc) a uno de numeros.\n",
    "\n",
    "# Distribucion Normal\n",
    "\n",
    "Se define con la media y la desviacion estandar, y se puede crear completamente. Se puede ver la \n",
    "funcion de densidad y la funcion acumulada. \n",
    "\n",
    "La probabilidad de obtener solamente un unico valor en la distribucion normal es 0!. Sin embargo, \n",
    "si uno pregunta por un rango, ahi si se obtiene una probabilidad.\n",
    "\n",
    "# Transformacion de datos\n",
    "\n",
    "Algunos datos no obedecen a una distribucion normal. Debido a lo anterior, estos se trasnforman\n",
    "mediante una funcion (Ej: Logaritmo, 1/x, etc) y usualmente se obtiene una distribucion normal.\n",
    "\n",
    "# Distribucion normal estandarizada\n",
    "\n",
    "Cualquier distribucion normal (independiente de su media o desviacion estandar) se puede transformar\n",
    "a una distribucion normal estandarizada.\n",
    "\n",
    "# Puntaje Z\n",
    "\n",
    "Permite analizar el comportamiento especifico de una observacion con respecto a la media y\n",
    "desviacion estandar. Se calcula con:\n",
    "\n",
    "z = (obs - media) / desv estandar\n",
    "\n",
    "Permite detectar outliers! Y permite homogenizar variables y compararlas entre si.\n",
    "\n",
    "# Variables aleatorias discretas\n",
    "\n",
    "La mas importante es la distribucion binomial. Nos permite resumir una variable discreta segun\n",
    "el conteo y la frecuencia de los eventos. \n",
    "\n",
    "## Ensayo de Bernoulli\n",
    "\n",
    "Es solamente una iteracion, y el evento debe ser binario (si/no, cara/sello, etc). No entendi muy\n",
    "bien esto la verdad. Se tiene mu y sigma. En scipy.stats se puede obtener a mu (media) y sigma \n",
    "(std), requiere solamente 1 valor. 1 ensayo bernoulli es lanzar 1 vez 1 moneda. 2 ensayos bernoulli\n",
    "es lanzar 2 veces 1 moneda (y ambos eventos son independientes)."
   ]
  },
  {
   "cell_type": "code",
   "execution_count": 11,
   "metadata": {},
   "outputs": [],
   "source": [
    "from scipy.stats import bernoulli\n",
    "\n",
    "# La funcion bernoulli recibe mu\n",
    "mu, sigma = bernoulli.stats(0.7)"
   ]
  },
  {
   "attachments": {},
   "cell_type": "markdown",
   "metadata": {},
   "source": [
    "# Binomial\n",
    "\n",
    "Con np.random.binomial se pueden simular ensayos bernoulli. La binomial converge a la distribucion\n",
    "normal!"
   ]
  },
  {
   "cell_type": "code",
   "execution_count": 15,
   "metadata": {},
   "outputs": [
    {
     "data": {
      "text/plain": [
       "array([782])"
      ]
     },
     "execution_count": 15,
     "metadata": {},
     "output_type": "execute_result"
    }
   ],
   "source": [
    "import numpy as np\n",
    "import matplotlib.pyplot as plt\n",
    "\n",
    "\n",
    "# Size corresponde a la cantidad de experimentos, o puntos que se van a graficar \n",
    "# n es la cantidad de eventos que se van a realizar dentro de cada experimento (cada experimento tendra 1000 lanzadas de monedas)\n",
    "\n",
    "\n",
    "# Size: Cantidad de datos a simular\n",
    "# n: Cantdad de eventos que ocurren en cada ensayo/experimento\n",
    "np.random.binomial(size=1, n=1000, p=0.8)\n",
    "\n",
    "# un ensayo bernoulli es un caso especial de la binomial, ya que es cuando dentro de un experimento\n",
    "# se realiza solamente un unico evento"
   ]
  },
  {
   "cell_type": "code",
   "execution_count": 18,
   "metadata": {},
   "outputs": [
    {
     "data": {
      "text/plain": [
       "(array([   9.,   46.,  321.,  952., 2107., 3841., 1940.,  633.,  136.,\n",
       "          15.]),\n",
       " array([63. , 66.2, 69.4, 72.6, 75.8, 79. , 82.2, 85.4, 88.6, 91.8, 95. ]),\n",
       " <BarContainer object of 10 artists>)"
      ]
     },
     "execution_count": 18,
     "metadata": {},
     "output_type": "execute_result"
    },
    {
     "data": {
      "image/png": "[encoded data removed]",
      "text/plain": [
       "<Figure size 640x480 with 1 Axes>"
      ]
     },
     "metadata": {},
     "output_type": "display_data"
    }
   ],
   "source": [
    "# En este caso, serian 100 monedas distintas, donde cada una se tira 100 veces, y la probabilidad\n",
    "# de que se obtenga cara es del 80%. En terminos estadisticos, es probable que en cada experimento\n",
    "# se obtengan alrededor de 80 caras!.\n",
    "x = np.random.binomial(size=10000, n=100, p=0.8)\n",
    "plt.hist(x)"
   ]
  },
  {
   "cell_type": "code",
   "execution_count": 20,
   "metadata": {},
   "outputs": [
    {
     "data": {
      "text/plain": [
       "(array([  57.,  218., 1347., 2164., 2534., 2479.,  877.,  286.,   34.,\n",
       "           4.]),\n",
       " array([15. , 18.4, 21.8, 25.2, 28.6, 32. , 35.4, 38.8, 42.2, 45.6, 49. ]),\n",
       " <BarContainer object of 10 artists>)"
      ]
     },
     "execution_count": 20,
     "metadata": {},
     "output_type": "execute_result"
    },
    {
     "data": {
      "image/png": "[encoded data removed]",
      "text/plain": [
       "<Figure size 640x480 with 1 Axes>"
      ]
     },
     "metadata": {},
     "output_type": "display_data"
    }
   ],
   "source": [
    "# Si uno cambia la probabilidad del evento, entonces la distribucion normal cambia su eje x.\n",
    "# En el caso anterior, es mas probable que la cantidad de las caras sea cerca del 30% (y asi cambia\n",
    "# el grafico)\n",
    "x = np.random.binomial(size=10000, n=100, p=0.3)\n",
    "plt.hist(x)"
   ]
  },
  {
   "attachments": {},
   "cell_type": "markdown",
   "metadata": {},
   "source": [
    "# Asintotico\n",
    "\n",
    "Esto significa que el tamano de la muestra tiende a infinito (un numero infinito de experimentos/\n",
    "monedas por tirar, o numero de eventos por experimento)."
   ]
  },
  {
   "attachments": {},
   "cell_type": "markdown",
   "metadata": {},
   "source": [
    "# Ley de los grandes numeros\n",
    "\n",
    "Entre mas datos/experimentos se hagan, entonces mas se acercara la media empirica a la media\n",
    "teorica. Si tengo infinitos ensayos (asintoticamente), entonces la media empirica sera la media\n",
    "teorica!"
   ]
  },
  {
   "attachments": {},
   "cell_type": "markdown",
   "metadata": {},
   "source": [
    "# Teorema del Limite Central\n",
    "\n",
    "Es super central para la inferencia estadistica, pero ni idea que weas. Si tenemos un promedio y le\n",
    "restamos la media y lo dividimos por la desv estandar/la cantidad de experimentos, entonces eso\n",
    "tiende a una distribucion normal!\n",
    "\n",
    "Ej:\n",
    "\n",
    "\n",
    "```python\n",
    "mu, sigma = bernoulli.stats(0.65)\n",
    "\n",
    "tamano_muestra = 100\n",
    "ensayos = np.random.binomial(size=tamano_muestra, n=1, p=0.65)\n",
    "\n",
    "calculo_limite_central = (np.mean(ensayos) - mu) / (np.std(ensayos) / tamano_muestra)\n",
    "\n",
    "```"
   ]
  },
  {
   "attachments": {},
   "cell_type": "markdown",
   "metadata": {},
   "source": [
    "# Seaborn\n",
    "\n",
    "Permite centrarse mas en el analisis que en escribir el codigo!\n",
    "\n",
    "## Graficar histogramas\n",
    "\n",
    "- Se hace con sns.distplot(). Si se agrega el argumento rug, entonces se agregan los datos que se estan graficando!. Lo fome es que se va a dejar de utilizar. Por lo tanto, es mejor graficar un histplot y un kdeplot en un mismo eje\n",
    "\n",
    "## Subplots\n",
    "\n",
    "# Correlaciones - Relacion entre variables\n",
    "\n",
    "Recordemos que la correlacion no tiene nada que ver con la causalidad!. Puede que dos variables\n",
    "esten correlacionadas, pero que no tengan causalidad. \n",
    "\n",
    "# Test de Hipotesis - Rechazo o No rechazo hipotesis\n",
    "\n"
   ]
  },
  {
   "cell_type": "code",
   "execution_count": 27,
   "metadata": {},
   "outputs": [],
   "source": [
    "import pandas as pd\n",
    "import numpy as np\n",
    "import matplotlib.pyplot as plt\n",
    "from scipy import stats\n",
    "import seaborn as sns\n",
    "import lec4_graphs\n",
    "\n",
    "plt.style.use('seaborn')\n",
    "plt.rcParams['figure.figsize'] = (10, 5)"
   ]
  },
  {
   "cell_type": "code",
   "execution_count": 25,
   "metadata": {},
   "outputs": [],
   "source": [
    "df = pd.read_csv('qog_std_cs_jan18.csv')"
   ]
  },
  {
   "cell_type": "code",
   "execution_count": 30,
   "metadata": {},
   "outputs": [
    {
     "name": "stderr",
     "output_type": "stream",
     "text": [
      "c:\\Users\\Javier\\anaconda3\\lib\\site-packages\\seaborn\\distributions.py:2619: FutureWarning: `distplot` is a deprecated function and will be removed in a future version. Please adapt your code to use either `displot` (a figure-level function with similar flexibility) or `histplot` (an axes-level function for histograms).\n",
      "  warnings.warn(msg, FutureWarning)\n"
     ]
    },
    {
     "data": {
      "text/plain": [
       "<AxesSubplot:xlabel='undp_hdi', ylabel='Density'>"
      ]
     },
     "execution_count": 30,
     "metadata": {},
     "output_type": "execute_result"
    },
    {
     "data": {
      "image/png": "[encoded data removed]",
      "text/plain": [
       "<Figure size 1000x500 with 1 Axes>"
      ]
     },
     "metadata": {},
     "output_type": "display_data"
    }
   ],
   "source": [
    "sns.distplot(df['undp_hdi'])"
   ]
  },
  {
   "cell_type": "code",
   "execution_count": 46,
   "metadata": {},
   "outputs": [
    {
     "data": {
      "text/plain": [
       "<AxesSubplot:xlabel='undp_hdi', ylabel='Density'>"
      ]
     },
     "execution_count": 46,
     "metadata": {},
     "output_type": "execute_result"
    },
    {
     "data": {
      "image/png": "[encoded data removed]",
      "text/plain": [
       "<Figure size 1000x500 with 1 Axes>"
      ]
     },
     "metadata": {},
     "output_type": "display_data"
    }
   ],
   "source": [
    "fig, axis = plt.subplots()\n",
    "sns.histplot(df['undp_hdi'].dropna(), stat='density', ax=axis, lw=0)\n",
    "sns.kdeplot(df['undp_hdi'].dropna(), ax=axis)\n",
    "sns.rugplot(df['undp_hdi'].dropna(), ax=axis)"
   ]
  },
  {
   "attachments": {},
   "cell_type": "markdown",
   "metadata": {},
   "source": [
    "# Conteo de frecuencias\n",
    "\n",
    "Con seaborn se puede hacer con la funcion sns.countplot(). Con el parametro order se pueden ordenar los datos!"
   ]
  },
  {
   "cell_type": "code",
   "execution_count": 50,
   "metadata": {},
   "outputs": [
    {
     "name": "stderr",
     "output_type": "stream",
     "text": [
      "c:\\Users\\Javier\\anaconda3\\lib\\site-packages\\seaborn\\_decorators.py:36: FutureWarning: Pass the following variable as a keyword arg: x. From version 0.12, the only valid positional argument will be `data`, and passing other arguments without an explicit keyword will result in an error or misinterpretation.\n",
      "  warnings.warn(\n"
     ]
    },
    {
     "data": {
      "text/plain": [
       "<AxesSubplot:xlabel='cname', ylabel='count'>"
      ]
     },
     "execution_count": 50,
     "metadata": {},
     "output_type": "execute_result"
    },
    {
     "data": {
      "image/png": "[encoded data removed]",
      "text/plain": [
       "<Figure size 1000x500 with 1 Axes>"
      ]
     },
     "metadata": {},
     "output_type": "display_data"
    }
   ],
   "source": [
    "sns.countplot(df['cname'])"
   ]
  },
  {
   "cell_type": "code",
   "execution_count": 49,
   "metadata": {},
   "outputs": [
    {
     "data": {
      "text/html": [
       "<div>\n",
       "<style scoped>\n",
       "    .dataframe tbody tr th:only-of-type {\n",
       "        vertical-align: middle;\n",
       "    }\n",
       "\n",
       "    .dataframe tbody tr th {\n",
       "        vertical-align: top;\n",
       "    }\n",
       "\n",
       "    .dataframe thead th {\n",
       "        text-align: right;\n",
       "    }\n",
       "</style>\n",
       "<table border=\"1\" class=\"dataframe\">\n",
       "  <thead>\n",
       "    <tr style=\"text-align: right;\">\n",
       "      <th></th>\n",
       "      <th>ccode</th>\n",
       "      <th>cname</th>\n",
       "      <th>ccodealp</th>\n",
       "      <th>ccodecow</th>\n",
       "      <th>ccodewb</th>\n",
       "      <th>version</th>\n",
       "      <th>aid_cpnc</th>\n",
       "      <th>aid_cpsc</th>\n",
       "      <th>aid_crnc</th>\n",
       "      <th>aid_crnio</th>\n",
       "      <th>...</th>\n",
       "      <th>wvs_relacc</th>\n",
       "      <th>wvs_relsch</th>\n",
       "      <th>wvs_relsci</th>\n",
       "      <th>wvs_satfin</th>\n",
       "      <th>wvs_satlif</th>\n",
       "      <th>wvs_screl</th>\n",
       "      <th>wvs_subh</th>\n",
       "      <th>wvs_survself</th>\n",
       "      <th>wvs_tradrat</th>\n",
       "      <th>wvs_trust</th>\n",
       "    </tr>\n",
       "  </thead>\n",
       "  <tbody>\n",
       "    <tr>\n",
       "      <th>0</th>\n",
       "      <td>4</td>\n",
       "      <td>Afghanistan</td>\n",
       "      <td>AFG</td>\n",
       "      <td>700.0</td>\n",
       "      <td>4.0</td>\n",
       "      <td>QoGStdCSJan18</td>\n",
       "      <td>NaN</td>\n",
       "      <td>NaN</td>\n",
       "      <td>29.0</td>\n",
       "      <td>13.0</td>\n",
       "      <td>...</td>\n",
       "      <td>NaN</td>\n",
       "      <td>NaN</td>\n",
       "      <td>NaN</td>\n",
       "      <td>NaN</td>\n",
       "      <td>NaN</td>\n",
       "      <td>NaN</td>\n",
       "      <td>NaN</td>\n",
       "      <td>NaN</td>\n",
       "      <td>NaN</td>\n",
       "      <td>NaN</td>\n",
       "    </tr>\n",
       "    <tr>\n",
       "      <th>1</th>\n",
       "      <td>8</td>\n",
       "      <td>Albania</td>\n",
       "      <td>ALB</td>\n",
       "      <td>339.0</td>\n",
       "      <td>8.0</td>\n",
       "      <td>QoGStdCSJan18</td>\n",
       "      <td>NaN</td>\n",
       "      <td>NaN</td>\n",
       "      <td>26.0</td>\n",
       "      <td>13.0</td>\n",
       "      <td>...</td>\n",
       "      <td>NaN</td>\n",
       "      <td>NaN</td>\n",
       "      <td>NaN</td>\n",
       "      <td>NaN</td>\n",
       "      <td>NaN</td>\n",
       "      <td>NaN</td>\n",
       "      <td>NaN</td>\n",
       "      <td>NaN</td>\n",
       "      <td>NaN</td>\n",
       "      <td>NaN</td>\n",
       "    </tr>\n",
       "    <tr>\n",
       "      <th>2</th>\n",
       "      <td>12</td>\n",
       "      <td>Algeria</td>\n",
       "      <td>DZA</td>\n",
       "      <td>615.0</td>\n",
       "      <td>12.0</td>\n",
       "      <td>QoGStdCSJan18</td>\n",
       "      <td>NaN</td>\n",
       "      <td>NaN</td>\n",
       "      <td>21.0</td>\n",
       "      <td>6.0</td>\n",
       "      <td>...</td>\n",
       "      <td>3.710616</td>\n",
       "      <td>1.704692</td>\n",
       "      <td>3.681347</td>\n",
       "      <td>5.988125</td>\n",
       "      <td>6.301029</td>\n",
       "      <td>5.339371</td>\n",
       "      <td>3.805579</td>\n",
       "      <td>-0.409807</td>\n",
       "      <td>-0.498164</td>\n",
       "      <td>0.179286</td>\n",
       "    </tr>\n",
       "    <tr>\n",
       "      <th>3</th>\n",
       "      <td>20</td>\n",
       "      <td>Andorra</td>\n",
       "      <td>AND</td>\n",
       "      <td>232.0</td>\n",
       "      <td>20.0</td>\n",
       "      <td>QoGStdCSJan18</td>\n",
       "      <td>NaN</td>\n",
       "      <td>NaN</td>\n",
       "      <td>NaN</td>\n",
       "      <td>NaN</td>\n",
       "      <td>...</td>\n",
       "      <td>NaN</td>\n",
       "      <td>NaN</td>\n",
       "      <td>NaN</td>\n",
       "      <td>NaN</td>\n",
       "      <td>NaN</td>\n",
       "      <td>NaN</td>\n",
       "      <td>NaN</td>\n",
       "      <td>NaN</td>\n",
       "      <td>NaN</td>\n",
       "      <td>NaN</td>\n",
       "    </tr>\n",
       "    <tr>\n",
       "      <th>4</th>\n",
       "      <td>24</td>\n",
       "      <td>Angola</td>\n",
       "      <td>AGO</td>\n",
       "      <td>540.0</td>\n",
       "      <td>24.0</td>\n",
       "      <td>QoGStdCSJan18</td>\n",
       "      <td>NaN</td>\n",
       "      <td>NaN</td>\n",
       "      <td>22.0</td>\n",
       "      <td>13.0</td>\n",
       "      <td>...</td>\n",
       "      <td>NaN</td>\n",
       "      <td>NaN</td>\n",
       "      <td>NaN</td>\n",
       "      <td>NaN</td>\n",
       "      <td>NaN</td>\n",
       "      <td>NaN</td>\n",
       "      <td>NaN</td>\n",
       "      <td>NaN</td>\n",
       "      <td>NaN</td>\n",
       "      <td>NaN</td>\n",
       "    </tr>\n",
       "    <tr>\n",
       "      <th>...</th>\n",
       "      <td>...</td>\n",
       "      <td>...</td>\n",
       "      <td>...</td>\n",
       "      <td>...</td>\n",
       "      <td>...</td>\n",
       "      <td>...</td>\n",
       "      <td>...</td>\n",
       "      <td>...</td>\n",
       "      <td>...</td>\n",
       "      <td>...</td>\n",
       "      <td>...</td>\n",
       "      <td>...</td>\n",
       "      <td>...</td>\n",
       "      <td>...</td>\n",
       "      <td>...</td>\n",
       "      <td>...</td>\n",
       "      <td>...</td>\n",
       "      <td>...</td>\n",
       "      <td>...</td>\n",
       "      <td>...</td>\n",
       "      <td>...</td>\n",
       "    </tr>\n",
       "    <tr>\n",
       "      <th>189</th>\n",
       "      <td>860</td>\n",
       "      <td>Uzbekistan</td>\n",
       "      <td>UZB</td>\n",
       "      <td>704.0</td>\n",
       "      <td>860.0</td>\n",
       "      <td>QoGStdCSJan18</td>\n",
       "      <td>NaN</td>\n",
       "      <td>NaN</td>\n",
       "      <td>21.0</td>\n",
       "      <td>16.0</td>\n",
       "      <td>...</td>\n",
       "      <td>3.247667</td>\n",
       "      <td>2.191377</td>\n",
       "      <td>2.171875</td>\n",
       "      <td>4.076407</td>\n",
       "      <td>7.888145</td>\n",
       "      <td>5.364856</td>\n",
       "      <td>3.950634</td>\n",
       "      <td>NaN</td>\n",
       "      <td>NaN</td>\n",
       "      <td>0.140921</td>\n",
       "    </tr>\n",
       "    <tr>\n",
       "      <th>190</th>\n",
       "      <td>862</td>\n",
       "      <td>Venezuela</td>\n",
       "      <td>VEN</td>\n",
       "      <td>101.0</td>\n",
       "      <td>862.0</td>\n",
       "      <td>QoGStdCSJan18</td>\n",
       "      <td>NaN</td>\n",
       "      <td>NaN</td>\n",
       "      <td>20.0</td>\n",
       "      <td>6.0</td>\n",
       "      <td>...</td>\n",
       "      <td>NaN</td>\n",
       "      <td>NaN</td>\n",
       "      <td>NaN</td>\n",
       "      <td>NaN</td>\n",
       "      <td>NaN</td>\n",
       "      <td>NaN</td>\n",
       "      <td>NaN</td>\n",
       "      <td>NaN</td>\n",
       "      <td>NaN</td>\n",
       "      <td>NaN</td>\n",
       "    </tr>\n",
       "    <tr>\n",
       "      <th>191</th>\n",
       "      <td>882</td>\n",
       "      <td>Samoa</td>\n",
       "      <td>WSM</td>\n",
       "      <td>990.0</td>\n",
       "      <td>882.0</td>\n",
       "      <td>QoGStdCSJan18</td>\n",
       "      <td>NaN</td>\n",
       "      <td>NaN</td>\n",
       "      <td>10.0</td>\n",
       "      <td>7.0</td>\n",
       "      <td>...</td>\n",
       "      <td>NaN</td>\n",
       "      <td>NaN</td>\n",
       "      <td>NaN</td>\n",
       "      <td>NaN</td>\n",
       "      <td>NaN</td>\n",
       "      <td>NaN</td>\n",
       "      <td>NaN</td>\n",
       "      <td>NaN</td>\n",
       "      <td>NaN</td>\n",
       "      <td>NaN</td>\n",
       "    </tr>\n",
       "    <tr>\n",
       "      <th>192</th>\n",
       "      <td>887</td>\n",
       "      <td>Yemen</td>\n",
       "      <td>YEM</td>\n",
       "      <td>679.0</td>\n",
       "      <td>887.0</td>\n",
       "      <td>QoGStdCSJan18</td>\n",
       "      <td>NaN</td>\n",
       "      <td>NaN</td>\n",
       "      <td>26.0</td>\n",
       "      <td>16.0</td>\n",
       "      <td>...</td>\n",
       "      <td>3.598178</td>\n",
       "      <td>1.697442</td>\n",
       "      <td>3.752032</td>\n",
       "      <td>4.671357</td>\n",
       "      <td>5.887310</td>\n",
       "      <td>3.384707</td>\n",
       "      <td>3.892000</td>\n",
       "      <td>-0.591479</td>\n",
       "      <td>-0.875164</td>\n",
       "      <td>0.403987</td>\n",
       "    </tr>\n",
       "    <tr>\n",
       "      <th>193</th>\n",
       "      <td>894</td>\n",
       "      <td>Zambia</td>\n",
       "      <td>ZMB</td>\n",
       "      <td>551.0</td>\n",
       "      <td>894.0</td>\n",
       "      <td>QoGStdCSJan18</td>\n",
       "      <td>NaN</td>\n",
       "      <td>NaN</td>\n",
       "      <td>22.0</td>\n",
       "      <td>18.0</td>\n",
       "      <td>...</td>\n",
       "      <td>NaN</td>\n",
       "      <td>NaN</td>\n",
       "      <td>NaN</td>\n",
       "      <td>NaN</td>\n",
       "      <td>NaN</td>\n",
       "      <td>NaN</td>\n",
       "      <td>NaN</td>\n",
       "      <td>NaN</td>\n",
       "      <td>NaN</td>\n",
       "      <td>NaN</td>\n",
       "    </tr>\n",
       "  </tbody>\n",
       "</table>\n",
       "<p>194 rows × 1882 columns</p>\n",
       "</div>"
      ],
      "text/plain": [
       "     ccode        cname ccodealp  ccodecow  ccodewb        version  aid_cpnc  \\\n",
       "0        4  Afghanistan      AFG     700.0      4.0  QoGStdCSJan18       NaN   \n",
       "1        8      Albania      ALB     339.0      8.0  QoGStdCSJan18       NaN   \n",
       "2       12      Algeria      DZA     615.0     12.0  QoGStdCSJan18       NaN   \n",
       "3       20      Andorra      AND     232.0     20.0  QoGStdCSJan18       NaN   \n",
       "4       24       Angola      AGO     540.0     24.0  QoGStdCSJan18       NaN   \n",
       "..     ...          ...      ...       ...      ...            ...       ...   \n",
       "189    860   Uzbekistan      UZB     704.0    860.0  QoGStdCSJan18       NaN   \n",
       "190    862    Venezuela      VEN     101.0    862.0  QoGStdCSJan18       NaN   \n",
       "191    882        Samoa      WSM     990.0    882.0  QoGStdCSJan18       NaN   \n",
       "192    887        Yemen      YEM     679.0    887.0  QoGStdCSJan18       NaN   \n",
       "193    894       Zambia      ZMB     551.0    894.0  QoGStdCSJan18       NaN   \n",
       "\n",
       "     aid_cpsc  aid_crnc  aid_crnio  ...  wvs_relacc  wvs_relsch  wvs_relsci  \\\n",
       "0         NaN      29.0       13.0  ...         NaN         NaN         NaN   \n",
       "1         NaN      26.0       13.0  ...         NaN         NaN         NaN   \n",
       "2         NaN      21.0        6.0  ...    3.710616    1.704692    3.681347   \n",
       "3         NaN       NaN        NaN  ...         NaN         NaN         NaN   \n",
       "4         NaN      22.0       13.0  ...         NaN         NaN         NaN   \n",
       "..        ...       ...        ...  ...         ...         ...         ...   \n",
       "189       NaN      21.0       16.0  ...    3.247667    2.191377    2.171875   \n",
       "190       NaN      20.0        6.0  ...         NaN         NaN         NaN   \n",
       "191       NaN      10.0        7.0  ...         NaN         NaN         NaN   \n",
       "192       NaN      26.0       16.0  ...    3.598178    1.697442    3.752032   \n",
       "193       NaN      22.0       18.0  ...         NaN         NaN         NaN   \n",
       "\n",
       "     wvs_satfin  wvs_satlif  wvs_screl  wvs_subh  wvs_survself  wvs_tradrat  \\\n",
       "0           NaN         NaN        NaN       NaN           NaN          NaN   \n",
       "1           NaN         NaN        NaN       NaN           NaN          NaN   \n",
       "2      5.988125    6.301029   5.339371  3.805579     -0.409807    -0.498164   \n",
       "3           NaN         NaN        NaN       NaN           NaN          NaN   \n",
       "4           NaN         NaN        NaN       NaN           NaN          NaN   \n",
       "..          ...         ...        ...       ...           ...          ...   \n",
       "189    4.076407    7.888145   5.364856  3.950634           NaN          NaN   \n",
       "190         NaN         NaN        NaN       NaN           NaN          NaN   \n",
       "191         NaN         NaN        NaN       NaN           NaN          NaN   \n",
       "192    4.671357    5.887310   3.384707  3.892000     -0.591479    -0.875164   \n",
       "193         NaN         NaN        NaN       NaN           NaN          NaN   \n",
       "\n",
       "     wvs_trust  \n",
       "0          NaN  \n",
       "1          NaN  \n",
       "2     0.179286  \n",
       "3          NaN  \n",
       "4          NaN  \n",
       "..         ...  \n",
       "189   0.140921  \n",
       "190        NaN  \n",
       "191        NaN  \n",
       "192   0.403987  \n",
       "193        NaN  \n",
       "\n",
       "[194 rows x 1882 columns]"
      ]
     },
     "execution_count": 49,
     "metadata": {},
     "output_type": "execute_result"
    }
   ],
   "source": [
    "df"
   ]
  },
  {
   "cell_type": "code",
   "execution_count": null,
   "metadata": {},
   "outputs": [],
   "source": []
  }
 ],
 "metadata": {
  "kernelspec": {
   "display_name": "base",
   "language": "python",
   "name": "python3"
  },
  "language_info": {
   "codemirror_mode": {
    "name": "ipython",
    "version": 3
   },
   "file_extension": ".py",
   "mimetype": "text/x-python",
   "name": "python",
   "nbconvert_exporter": "python",
   "pygments_lexer": "ipython3",
   "version": "3.9.13"
  },
  "orig_nbformat": 4,
  "vscode": {
   "interpreter": {
    "hash": "af5f59eafcfa7ad9c06f1a742af686e767f586fd272c2b55836f60c5affb1887"
   }
  }
 },
 "nbformat": 4,
 "nbformat_minor": 2
}
