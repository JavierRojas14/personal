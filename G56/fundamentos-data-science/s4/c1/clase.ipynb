{
 "cells": [
  {
   "attachments": {},
   "cell_type": "markdown",
   "metadata": {},
   "source": [
    "# Histograma\n",
    "\n",
    "Permite ver la distribucion empirica de una variable continua. En python se hace con matplotlib plt.histplot()\n",
    "\n",
    "# Datos perdidos\n",
    "\n",
    "Son los datos nulos, y los obtienen con .isnull()\n",
    "\n",
    "# Variables aleatorias\n",
    "\n",
    "Es una funcion que mapea un resultado de un espacio muestral discreto (resultados de un dado, azul, rojo, etc) a uno de numeros.\n",
    "\n",
    "# Distribucion Normal\n",
    "\n",
    "Se define con la media y la desviacion estandar, y se puede crear completamente. Se puede ver la funcion de densidad y la funcion acumulada"
   ]
  },
  {
   "cell_type": "markdown",
   "metadata": {},
   "source": []
  }
 ],
 "metadata": {
  "language_info": {
   "name": "python"
  },
  "orig_nbformat": 4
 },
 "nbformat": 4,
 "nbformat_minor": 2
}
