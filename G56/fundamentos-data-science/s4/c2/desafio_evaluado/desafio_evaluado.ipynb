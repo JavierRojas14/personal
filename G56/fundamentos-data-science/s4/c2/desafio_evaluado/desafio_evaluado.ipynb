{
 "cells": [
  {
   "attachments": {},
   "cell_type": "markdown",
   "metadata": {},
   "source": [
    "1. Evaluar juicios de hipótesis (2 puntos): para evaluar la pertinencia de diversas\n",
    "hipótesis, se te solicita discernir si es posible rechazar la hipótesis nula.\n",
    "- 75 individuos elegidos al azar fueron alcanzados por activistas pro-LGTB que se\n",
    "identificaron como homosexuales, y 75 alcanzados por activistas pro-LGTB que se\n",
    "identificaron como heterosexuales. El objetivo era medir actitudes frente a la\n",
    "adopción homoparental. La organización encargada de procesar los datos obtuvo\n",
    "los siguientes resultados:\n",
    "\n",
    "  - El 67% de los encuestados por heterosexuales se mostró a favor de la\n",
    "  adopción homoparental, mientras que un 72% de los encuestados por\n",
    "  activistas que se identificaron como homosexuales se mostraron a favor\n",
    "  de la adopción homoparental.\n",
    "  - Asumiendo que la hipótesis nula es que ambos porcentajes no son\n",
    "  diferentes, y la hipótesis alternativa es que existe una diferencia\n",
    "  substancial entre ambos.\n",
    "  - Con p-valor de 0.1183 ¿es posible rechazar la hipótesis nula en favor de la\n",
    "  alternativa con una confianza de 95%?, ¿Cuanta es la confianza máxima\n",
    "  con la que sería posible rechazar la hipótesis nula en favor de la alternativa\n",
    "  con estos resultados?"
   ]
  },
  {
   "attachments": {},
   "cell_type": "markdown",
   "metadata": {},
   "source": [
    "- Hipotesis Nula: Las medias de ambos encuestados son iguales **Hhet = Hhom**\n",
    "- Hipotesis Alternativa: Las medias de ambos encuestados no son iguales **Hhet != Hhom**"
   ]
  },
  {
   "cell_type": "code",
   "execution_count": 19,
   "metadata": {},
   "outputs": [],
   "source": [
    "import pandas as pd\n",
    "import numpy as np\n",
    "from scipy.stats import ttest_ind"
   ]
  },
  {
   "cell_type": "code",
   "execution_count": 20,
   "metadata": {},
   "outputs": [],
   "source": [
    "df = pd.read_csv('nations.csv', encoding='iso-8859-1', index_col=0)"
   ]
  },
  {
   "cell_type": "code",
   "execution_count": 21,
   "metadata": {},
   "outputs": [],
   "source": [
    "df['is_Africa'] = np.where(df['region'] == 'Africa', 1, 0)\n",
    "df['is_Americas'] = np.where(df['region'] == 'Americas', 1, 0)\n",
    "df['is_Asia'] = np.where(df['region'] == 'Asia', 1, 0)\n",
    "df['is_Europe'] = np.where(df['region'] == 'Europe', 1, 0)\n",
    "df['is_Oceania'] = np.where(df['region'] == 'Oceania', 1, 0)"
   ]
  },
  {
   "cell_type": "code",
   "execution_count": 26,
   "metadata": {},
   "outputs": [],
   "source": [
    "def prueba_hipotesis(df, variable, binarize):\n",
    "    tmp = df.copy()\n",
    "\n",
    "    grupo_0 = df[df[binarize] == 0].dropna()\n",
    "    grupo_1 = df[df[binarize] == 1].dropna()\n",
    "\n",
    "    variable_grupo_0 = grupo_0[variable]\n",
    "    variable_grupo_1 = grupo_1[variable]\n",
    "\n",
    "    media_grupo_0 = np.mean(variable_grupo_0)\n",
    "    media_grupo_1 = np.mean(variable_grupo_1)\n",
    "\n",
    "    diferencias_media = media_grupo_0 - media_grupo_1\n",
    "\n",
    "    statistic, pvalue = ttest_ind(variable_grupo_0, variable_grupo_1)\n",
    "\n",
    "    print(f'> Media Grupo 0 {binarize} - {variable}: {media_grupo_0} \\n'\n",
    "          f'> Media Grupo 1 {binarize} - {variable}: {media_grupo_1} \\n'\n",
    "          f'> La diferencia entre medias fue de: {diferencias_media} \\n\\n'\n",
    "          f'> Valor t: {statistic} \\n'\n",
    "          f'> Valor p: {pvalue}')\n",
    "\n",
    "\n"
   ]
  },
  {
   "cell_type": "code",
   "execution_count": 27,
   "metadata": {},
   "outputs": [
    {
     "name": "stdout",
     "output_type": "stream",
     "text": [
      "> Media Grupo 0 is_Americas - gdp: 6487.73332562363 \n",
      "> Media Grupo 1 is_Americas - gdp: 8383.757167271206 \n",
      "> La diferencia entre medias fue de: -1896.0238416475759 \n",
      "\n",
      "> Valor t: -0.6647414944022901 \n",
      "> Valor p: 0.5084314928863444\n"
     ]
    }
   ],
   "source": [
    "prueba_hipotesis(df, 'gdp', 'is_Americas')"
   ]
  },
  {
   "cell_type": "code",
   "execution_count": null,
   "metadata": {},
   "outputs": [],
   "source": [
    "def graficar_histogramas_dos_poblaciones(df, )"
   ]
  }
 ],
 "metadata": {
  "kernelspec": {
   "display_name": "base",
   "language": "python",
   "name": "python3"
  },
  "language_info": {
   "codemirror_mode": {
    "name": "ipython",
    "version": 3
   },
   "file_extension": ".py",
   "mimetype": "text/x-python",
   "name": "python",
   "nbconvert_exporter": "python",
   "pygments_lexer": "ipython3",
   "version": "3.9.13"
  },
  "orig_nbformat": 4,
  "vscode": {
   "interpreter": {
    "hash": "af5f59eafcfa7ad9c06f1a742af686e767f586fd272c2b55836f60c5affb1887"
   }
  }
 },
 "nbformat": 4,
 "nbformat_minor": 2
}
