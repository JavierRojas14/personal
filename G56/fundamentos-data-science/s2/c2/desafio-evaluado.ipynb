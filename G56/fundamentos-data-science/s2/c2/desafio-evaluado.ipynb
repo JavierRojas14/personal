{
 "cells": [
  {
   "cell_type": "code",
   "execution_count": 1,
   "metadata": {},
   "outputs": [],
   "source": [
    "import pandas as pd\n",
    "import numpy as np"
   ]
  },
  {
   "attachments": {},
   "cell_type": "markdown",
   "metadata": {},
   "source": [
    "Desafío 1: Generación de funciones\n",
    "- Genere funciones para calcular la media y varianza de un vector. Debe cumplir con\n",
    "los siguientes requisitos:\n",
    "  - Ambas funciones deben ingresar un argumento x correspondiente al vector.\n",
    "  - Las funciones deben contener docstrings con la documentación asociada a\n",
    "la variable y retornar un valor utilizando return.\n",
    "  - La función de la varianza se debe llamar a la función de la media.\n",
    "- Utilice las funciones para reportar la información sobre goles_favor, goles_contra\n",
    "y puntos.\n"
   ]
  },
  {
   "cell_type": "code",
   "execution_count": 2,
   "metadata": {},
   "outputs": [],
   "source": [
    "def calcular_media(vector):\n",
    "    \"\"\"Función para calcular la media de un vector (una lista-array)\n",
    "\n",
    "    :param vector: Es el vector-lista-array ingresado a la función\n",
    "    :type list:\n",
    "\n",
    "    :return: Retorna la media del vector\n",
    "    :rtype: float64\n",
    "    \"\"\"\n",
    "    suma = 0\n",
    "    for i in vector:\n",
    "        suma += i\n",
    "\n",
    "    media = suma / len(vector)\n",
    "\n",
    "    return media\n",
    "\n",
    "def calcular_varianza(vector):\n",
    "    \"\"\"Función para calcular la varianza de un vector (una lista-array)\n",
    "\n",
    "    :param vector: Es el vector-lista-array ingresado a la función\n",
    "    :type list:\n",
    "\n",
    "    :return: Retorna la varianza del vector\n",
    "    :rtype: float64\n",
    "    \"\"\"\n",
    "    media = calcular_media(vector)\n",
    "\n",
    "    suma = 0\n",
    "    for i in vector:\n",
    "        suma += ((i - media) ** 2)\n",
    "    \n",
    "    varianza = suma / len(vector)\n",
    "\n",
    "    return varianza"
   ]
  },
  {
   "cell_type": "code",
   "execution_count": 3,
   "metadata": {},
   "outputs": [],
   "source": [
    "df = pd.read_csv('worldcup2014.csv')"
   ]
  },
  {
   "cell_type": "code",
   "execution_count": 4,
   "metadata": {},
   "outputs": [
    {
     "name": "stdout",
     "output_type": "stream",
     "text": [
      "Analizando la columna \"goles_favor\"\n",
      "Media: 4.25\n",
      "Varianza: 5.1875\n",
      "\n",
      "Analizando la columna \"goles_contra\"\n",
      "Media: 4.25\n",
      "Varianza: 4.8125\n",
      "\n",
      "Analizando la columna \"puntos\"\n",
      "Media: 4.21875\n",
      "Varianza: 8.0458984375\n",
      "\n"
     ]
    }
   ],
   "source": [
    "columnas_a_analizar = ['goles_favor', 'goles_contra', 'puntos']\n",
    "for columna in columnas_a_analizar:\n",
    "    media = calcular_media(df[columna])\n",
    "    varianza = calcular_varianza(df[columna])\n",
    "\n",
    "    print(f'Analizando la columna \"{columna}\"\\n'\n",
    "          f'Media: {media}\\n'\n",
    "          f'Varianza: {varianza}\\n')\n"
   ]
  },
  {
   "attachments": {},
   "cell_type": "markdown",
   "metadata": {},
   "source": [
    "Desafío 2:\n",
    "\n",
    "Utilizando el método groupby de la clase DataFrame, en conjunto con la función .agg de\n",
    "pandas, calcule la media, la varianza y desviación estándar de la cantidad de goles a favor,\n",
    "en contra y de la cantidad de puntos por continente."
   ]
  },
  {
   "cell_type": "code",
   "execution_count": 5,
   "metadata": {},
   "outputs": [
    {
     "data": {
      "text/html": [
       "<div>\n",
       "<style scoped>\n",
       "    .dataframe tbody tr th:only-of-type {\n",
       "        vertical-align: middle;\n",
       "    }\n",
       "\n",
       "    .dataframe tbody tr th {\n",
       "        vertical-align: top;\n",
       "    }\n",
       "\n",
       "    .dataframe thead tr th {\n",
       "        text-align: left;\n",
       "    }\n",
       "\n",
       "    .dataframe thead tr:last-of-type th {\n",
       "        text-align: right;\n",
       "    }\n",
       "</style>\n",
       "<table border=\"1\" class=\"dataframe\">\n",
       "  <thead>\n",
       "    <tr>\n",
       "      <th></th>\n",
       "      <th colspan=\"3\" halign=\"left\">goles_favor</th>\n",
       "      <th colspan=\"3\" halign=\"left\">goles_contra</th>\n",
       "      <th colspan=\"3\" halign=\"left\">puntos</th>\n",
       "    </tr>\n",
       "    <tr>\n",
       "      <th></th>\n",
       "      <th>calcular_media</th>\n",
       "      <th>calcular_varianza</th>\n",
       "      <th>std</th>\n",
       "      <th>calcular_media</th>\n",
       "      <th>calcular_varianza</th>\n",
       "      <th>std</th>\n",
       "      <th>calcular_media</th>\n",
       "      <th>calcular_varianza</th>\n",
       "      <th>std</th>\n",
       "    </tr>\n",
       "    <tr>\n",
       "      <th>continent</th>\n",
       "      <th></th>\n",
       "      <th></th>\n",
       "      <th></th>\n",
       "      <th></th>\n",
       "      <th></th>\n",
       "      <th></th>\n",
       "      <th></th>\n",
       "      <th></th>\n",
       "      <th></th>\n",
       "    </tr>\n",
       "  </thead>\n",
       "  <tbody>\n",
       "    <tr>\n",
       "      <th>africa</th>\n",
       "      <td>3.600000</td>\n",
       "      <td>2.640000</td>\n",
       "      <td>1.816590</td>\n",
       "      <td>5.600000</td>\n",
       "      <td>3.840000</td>\n",
       "      <td>2.190890</td>\n",
       "      <td>2.400000</td>\n",
       "      <td>2.640000</td>\n",
       "      <td>1.816590</td>\n",
       "    </tr>\n",
       "    <tr>\n",
       "      <th>asia</th>\n",
       "      <td>2.250000</td>\n",
       "      <td>0.687500</td>\n",
       "      <td>0.957427</td>\n",
       "      <td>6.250000</td>\n",
       "      <td>3.187500</td>\n",
       "      <td>2.061553</td>\n",
       "      <td>0.750000</td>\n",
       "      <td>0.187500</td>\n",
       "      <td>0.500000</td>\n",
       "    </tr>\n",
       "    <tr>\n",
       "      <th>europe</th>\n",
       "      <td>4.769231</td>\n",
       "      <td>6.331361</td>\n",
       "      <td>2.618964</td>\n",
       "      <td>4.000000</td>\n",
       "      <td>3.538462</td>\n",
       "      <td>1.957890</td>\n",
       "      <td>4.692308</td>\n",
       "      <td>6.366864</td>\n",
       "      <td>2.626297</td>\n",
       "    </tr>\n",
       "    <tr>\n",
       "      <th>northamerica</th>\n",
       "      <td>3.250000</td>\n",
       "      <td>1.687500</td>\n",
       "      <td>1.500000</td>\n",
       "      <td>3.500000</td>\n",
       "      <td>8.250000</td>\n",
       "      <td>3.316625</td>\n",
       "      <td>4.500000</td>\n",
       "      <td>8.250000</td>\n",
       "      <td>3.316625</td>\n",
       "    </tr>\n",
       "    <tr>\n",
       "      <th>southamerica</th>\n",
       "      <td>5.666667</td>\n",
       "      <td>3.888889</td>\n",
       "      <td>2.160247</td>\n",
       "      <td>2.833333</td>\n",
       "      <td>0.472222</td>\n",
       "      <td>0.752773</td>\n",
       "      <td>6.833333</td>\n",
       "      <td>3.138889</td>\n",
       "      <td>1.940790</td>\n",
       "    </tr>\n",
       "  </tbody>\n",
       "</table>\n",
       "</div>"
      ],
      "text/plain": [
       "                goles_favor                               goles_contra  \\\n",
       "             calcular_media calcular_varianza       std calcular_media   \n",
       "continent                                                                \n",
       "africa             3.600000          2.640000  1.816590       5.600000   \n",
       "asia               2.250000          0.687500  0.957427       6.250000   \n",
       "europe             4.769231          6.331361  2.618964       4.000000   \n",
       "northamerica       3.250000          1.687500  1.500000       3.500000   \n",
       "southamerica       5.666667          3.888889  2.160247       2.833333   \n",
       "\n",
       "                                                 puntos                    \\\n",
       "             calcular_varianza       std calcular_media calcular_varianza   \n",
       "continent                                                                   \n",
       "africa                3.840000  2.190890       2.400000          2.640000   \n",
       "asia                  3.187500  2.061553       0.750000          0.187500   \n",
       "europe                3.538462  1.957890       4.692308          6.366864   \n",
       "northamerica          8.250000  3.316625       4.500000          8.250000   \n",
       "southamerica          0.472222  0.752773       6.833333          3.138889   \n",
       "\n",
       "                        \n",
       "                   std  \n",
       "continent               \n",
       "africa        1.816590  \n",
       "asia          0.500000  \n",
       "europe        2.626297  \n",
       "northamerica  3.316625  \n",
       "southamerica  1.940790  "
      ]
     },
     "execution_count": 5,
     "metadata": {},
     "output_type": "execute_result"
    }
   ],
   "source": [
    "df.groupby('continent')[columnas_a_analizar].agg([calcular_media, calcular_varianza,\n",
    "                                                  pd.DataFrame.std])\n"
   ]
  },
  {
   "attachments": {},
   "cell_type": "markdown",
   "metadata": {},
   "source": [
    "- ¿En qué continente se observa una mayor cantidad de goles a favor? En sudamérica se observa\n",
    "una mayor cantidad de goles a favor en promedio (media de 5.66, con una desviacion estandar de 2.16)\n",
    "\n",
    "- ¿En qué continente se observa una mayor cantidad de goles en contra? En asia se observa una mayor\n",
    "cantidad de goles en contra en promedio (media de 6.25, con una desviación estándar de 2.06)\n",
    "\n",
    "- ¿En qué continente se observa una mayor cantidad de puntos en promedio? En sudamerica se observa\n",
    "una mayor cantidad de puntos en promedio (media de 6.83, con una desviación estándar de 1.94)"
   ]
  },
  {
   "attachments": {},
   "cell_type": "markdown",
   "metadata": {},
   "source": [
    "Desafío 3: Simulaciones\n",
    "- Genere una función generate_pet que devuelva de forma aleatoria un string\n",
    "'perro' o 'gato' un número n de veces. Ejecútela un par de veces.\n",
    "Tip: Puede utilizar la función np.random.choice para retornar elementos al azar."
   ]
  },
  {
   "cell_type": "code",
   "execution_count": 14,
   "metadata": {},
   "outputs": [
    {
     "name": "stdout",
     "output_type": "stream",
     "text": [
      "['perro']\n",
      "['gato', 'perro', 'perro', 'gato', 'perro']\n",
      "['perro', 'gato', 'gato', 'perro', 'gato', 'gato', 'gato', 'gato', 'perro', 'perro']\n",
      "['perro', 'gato', 'perro', 'gato', 'perro', 'gato', 'perro', 'perro', 'perro', 'gato', 'gato', 'perro', 'perro', 'gato', 'gato', 'gato', 'gato', 'gato', 'gato', 'perro', 'perro', 'perro', 'perro', 'gato', 'gato', 'gato', 'gato', 'perro', 'gato', 'perro']\n"
     ]
    }
   ],
   "source": [
    "def generate_pet(numero):\n",
    "    \"\"\"Función para generar una lista con los strings aleatorios 'perro' o 'gato'\n",
    "\n",
    "    :param numero: Es la cantidad de elementos que va a tener la lista retornada\n",
    "    :type: int\n",
    "\n",
    "    :return: Retorna una lista con una cantidad numero de strings aleatorios 'perro' o 'gato'\n",
    "    :rtype: list\n",
    "    \"\"\"\n",
    "    opciones = ['perro', 'gato']\n",
    "\n",
    "    lista_contenedora = []\n",
    "    for i in range(numero):\n",
    "        eleccion = np.random.choice(opciones)\n",
    "        lista_contenedora.append(eleccion)\n",
    "    \n",
    "    return lista_contenedora\n",
    "\n",
    "print(generate_pet(1))\n",
    "print(generate_pet(5))\n",
    "print(generate_pet(10))\n",
    "print(generate_pet(30))"
   ]
  },
  {
   "attachments": {},
   "cell_type": "markdown",
   "metadata": {},
   "source": [
    "- Aplique la función generate_pet para generar 20 muestras."
   ]
  },
  {
   "cell_type": "code",
   "execution_count": 7,
   "metadata": {},
   "outputs": [],
   "source": [
    "muestra_20 = generate_pet(20)"
   ]
  },
  {
   "attachments": {},
   "cell_type": "markdown",
   "metadata": {},
   "source": [
    "- ¿Cuál es la probabilidad de elegir un perro al azar? ¿Y un gato?"
   ]
  },
  {
   "cell_type": "code",
   "execution_count": 8,
   "metadata": {},
   "outputs": [
    {
     "name": "stdout",
     "output_type": "stream",
     "text": [
      "La probabilidad de elegir a un perro en una muestra de 20 es de: 0.15\n",
      "La probabilidad de elegir a un gato en una muestra de 20 es de: 0.85\n"
     ]
    }
   ],
   "source": [
    "prob_perro = muestra_20.count('perro') / len(muestra_20)\n",
    "prob_gato = muestra_20.count('gato') / len(muestra_20)\n",
    "\n",
    "print(f'La probabilidad de elegir a un perro en una muestra de 20 es de: {prob_perro}\\n'\n",
    "      f'La probabilidad de elegir a un gato en una muestra de 20 es de: {prob_gato}')"
   ]
  },
  {
   "attachments": {},
   "cell_type": "markdown",
   "metadata": {},
   "source": [
    "- Agregue np.random.seed(2) al inicio del chunk. ¿Qué diferencia hay cuando se\n",
    "ejecuta la función varias veces luego de fijar la semilla?"
   ]
  },
  {
   "cell_type": "code",
   "execution_count": 17,
   "metadata": {},
   "outputs": [],
   "source": [
    "def generate_pet(numero):\n",
    "    \"\"\"Función para generar una lista con los strings aleatorios 'perro' o 'gato'. Tiene un \n",
    "    random seed de 2\n",
    "\n",
    "    :param numero: Es la cantidad de elementos que va a tener la lista retornada\n",
    "    :type: int\n",
    "\n",
    "    :return: Retorna una lista con una cantidad numero de strings aleatorios 'perro' o 'gato'\n",
    "    :rtype: list\n",
    "    \"\"\"\n",
    "    opciones = ['perro', 'gato']\n",
    "\n",
    "    np.random.seed(2)\n",
    "    lista_contenedora = []\n",
    "    for i in range(numero):\n",
    "        eleccion = np.random.choice(opciones)\n",
    "        lista_contenedora.append(eleccion)\n",
    "    \n",
    "    return lista_contenedora"
   ]
  },
  {
   "cell_type": "code",
   "execution_count": 18,
   "metadata": {},
   "outputs": [
    {
     "name": "stdout",
     "output_type": "stream",
     "text": [
      "La probabilidad de elegir a un perro en una muestra de 20 es de: 0.4\n",
      "La probabilidad de elegir a un gato en una muestra de 20 es de: 0.6\n"
     ]
    }
   ],
   "source": [
    "muestra_20 = generate_pet(20)\n",
    "prob_perro = muestra_20.count('perro') / len(muestra_20)\n",
    "prob_gato = muestra_20.count('gato') / len(muestra_20)\n",
    "\n",
    "print(f'La probabilidad de elegir a un perro en una muestra de 20 es de: {prob_perro}\\n'\n",
    "      f'La probabilidad de elegir a un gato en una muestra de 20 es de: {prob_gato}')"
   ]
  },
  {
   "attachments": {},
   "cell_type": "markdown",
   "metadata": {},
   "source": [
    "Al fijar la semilla se genera siempre el mismo estado random (siempre se generan la misma cantidad\n",
    "de gatos/perros, y en el mismo orden siempre). Por lo tanto, las probabilidades de sacar a un perro\n",
    "o un gato son constantes."
   ]
  },
  {
   "attachments": {},
   "cell_type": "markdown",
   "metadata": {},
   "source": [
    "Desafío 4: Función simuladora\n",
    "- Genere una función llamada simulate_pets_prob que tome como argumento un\n",
    "número finito de simulaciones a generar.\n",
    "- La función debe simular dos situaciones young_pet y old_pet, y contar la\n",
    "ocurrencia de los siguientes casos:\n",
    "  - De las dos mascotas simuladas (young y old), contar las ocasiones donde\n",
    "por lo menos una de las mascotas sea un perro.\n",
    "  - De las dos mascotas simuladas, contar las ocasiones donde old_pet sea un\n",
    "perro.\n",
    "  - De las dos mascotas simuladas, contar las ocasiones donde los dos sean\n",
    "perros.\n",
    "- El método debe tener una semilla pseudoaleatoria de 1.\n",
    "- El output de la función debe entregarse en términos de Probabilidad.\n"
   ]
  },
  {
   "cell_type": "code",
   "execution_count": 15,
   "metadata": {},
   "outputs": [],
   "source": [
    "def simulate_pets_prob(numero_simulaciones):\n",
    "    \"\"\"Función que simula dos situaciones que generan una lista de animales aleatoria. Utiliza\n",
    "    la función generate_pet para generar la lista de animales aleatorias. Además, calcula\n",
    "    3 probabilidades distintas.\n",
    "\n",
    "    :param numero_simulaciones: Es la cantidad de animales que van a ser generados por la función\n",
    "    generate_pet\n",
    "    :type: int\n",
    "\n",
    "    :return: Nada\n",
    "    :rtype: None\n",
    "    \"\"\"\n",
    "\n",
    "    np.random.seed(1)\n",
    "    young_pet = generate_pet(numero_simulaciones)\n",
    "    old_pet = generate_pet(numero_simulaciones)\n",
    "\n",
    "    df = pd.DataFrame(data={'young_pet': young_pet, 'old_pet': old_pet})\n",
    "\n",
    "    df_tiene_perro = df.query('young_pet == \"perro\" or old_pet == \"perro\"')\n",
    "    cantidad_tiene_perro = df_tiene_perro.shape[0]\n",
    "    prob_tiene_perro = cantidad_tiene_perro / numero_simulaciones\n",
    "\n",
    "    df_old_pet_perro = df.query('old_pet == \"perro\"')\n",
    "    cantidad_old_pet_perro = df_old_pet_perro.shape[0]\n",
    "    prob_old_pet_perro = cantidad_old_pet_perro / numero_simulaciones\n",
    "\n",
    "    df_ambos_perro = df.query('young_pet == \"perro\" and old_pet == \"perro\"')\n",
    "    cantidad_ambos_perro = df_ambos_perro.shape[0]\n",
    "    prob_ambos_perro = cantidad_ambos_perro / numero_simulaciones\n",
    "\n",
    "    print(f'La probabilidad de que young_pet u old_pet tengan un perro es del: {prob_tiene_perro}')\n",
    "    print(f'La probabilidad de que old_pet tenga un perro es del: {prob_old_pet_perro}')\n",
    "    print(f'La probabilidad de que ambos tengan un perro es del: {prob_ambos_perro}')\n"
   ]
  },
  {
   "cell_type": "code",
   "execution_count": 16,
   "metadata": {},
   "outputs": [
    {
     "name": "stdout",
     "output_type": "stream",
     "text": [
      "La probabilidad de que young_pet u old_pet tengan un perro es del: 0.75\n",
      "La probabilidad de que old_pet tenga un perro es del: 0.54\n",
      "La probabilidad de que ambos tengan un perro es del: 0.24\n"
     ]
    }
   ],
   "source": [
    "simulate_pets_prob(100)"
   ]
  },
  {
   "attachments": {},
   "cell_type": "markdown",
   "metadata": {},
   "source": [
    "- De los tres escenarios, ¿Cuál es el menos probable? ¿Cuál es el más probable? ¿Por\n",
    "qué?\n",
    "\n",
    "- El escenario menos probable es que young_pet y old_pet tengan \"perro\". El escenario más probable\n",
    "es que young_pet u old_pet tengan \"perro\". \n",
    "\n",
    "1. El primer escenario mencionado es mucho menos probable\n",
    "que ocurra debido a que es una intersección de eventos (que young_pet **Y** old_pet tengan el mismo \n",
    "resultado), por lo que la cantidad de observaciones de tal evento es menor. \n",
    "2. Por otro lado, el\n",
    "segundo evento mencionado es mayor, ya que corresponde a una unión de eventos (que young_pet \n",
    "**O** old_pet tengan a perro), por lo que la cantidad de observaciones de tal evento es mayor."
   ]
  }
 ],
 "metadata": {
  "kernelspec": {
   "display_name": "base",
   "language": "python",
   "name": "python3"
  },
  "language_info": {
   "codemirror_mode": {
    "name": "ipython",
    "version": 3
   },
   "file_extension": ".py",
   "mimetype": "text/x-python",
   "name": "python",
   "nbconvert_exporter": "python",
   "pygments_lexer": "ipython3",
   "version": "3.9.13"
  },
  "orig_nbformat": 4,
  "vscode": {
   "interpreter": {
    "hash": "a677eee07fae7a05dc0065b321405b89ac79028a918e58c71b412840ee16c11e"
   }
  }
 },
 "nbformat": 4,
 "nbformat_minor": 2
}
