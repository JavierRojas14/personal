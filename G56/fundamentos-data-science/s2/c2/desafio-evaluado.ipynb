{
 "cells": [
  {
   "attachments": {},
   "cell_type": "markdown",
   "metadata": {},
   "source": [
    "Desafío 1: Generación de funciones\n",
    "- Genere funciones para calcular la media y varianza de un vector. Debe cumplir con\n",
    "los siguientes requisitos:\n",
    "  - Ambas funciones deben ingresar un argumento x correspondiente al vector.\n",
    "  - Las funciones deben contener docstrings con la documentación asociada a\n",
    "la variable y retornar un valor utilizando return.\n",
    "  - La función de la varianza se debe llamar a la función de la media.\n",
    "- Utilice las funciones para reportar la información sobre goles_favor, goles_contra\n",
    "y puntos.\n"
   ]
  },
  {
   "cell_type": "code",
   "execution_count": 1,
   "metadata": {},
   "outputs": [],
   "source": [
    "import numpy as np\n",
    "\n",
    "def calcular_media(vector):\n",
    "    return np.mean(vector)\n",
    "\n",
    "def calcular_varianza(vector):\n",
    "    return np.var(vector)\n",
    "\n"
   ]
  },
  {
   "attachments": {},
   "cell_type": "markdown",
   "metadata": {},
   "source": [
    "Desafío 2:\n",
    "\n",
    "Utilizando el método groupby de la clase DataFrame, en conjunto con la función .agg de\n",
    "pandas, calcule la media, la varianza y desviación estándar de la cantidad de goles a favor,\n",
    "en contra y de la cantidad de puntos por continente.\n",
    "- ¿En qué continente se observa una mayor cantidad de goles a favor?\n",
    "- ¿En qué continente se observa una mayor cantidad de goles en contra?\n",
    "- ¿En qué continente se observa una mayor cantidad de puntos en promedio?\n"
   ]
  },
  {
   "attachments": {},
   "cell_type": "markdown",
   "metadata": {},
   "source": [
    "Desafío 3: Simulaciones\n",
    "- Genere una función generate_pet que devuelva de forma aleatoria un string\n",
    "'perro' o 'gato' un número n de veces. Ejecútela un par de veces.\n",
    "Tip: Puede utilizar la función np.random.choice para retornar elementos al azar.\n",
    "- Aplique la función generate_pet para generar 20 muestras.\n",
    "- ¿Cuál es la probabilidad de elegir un perro al azar? ¿Y un gato?\n",
    "- Agregue np.random.seed(2) al inicio del chunk. ¿Qué diferencia hay cuando se\n",
    "ejecuta la función varias veces luego de fijar la semilla?\n"
   ]
  },
  {
   "attachments": {},
   "cell_type": "markdown",
   "metadata": {},
   "source": [
    "Desafío 4: Función simuladora\n",
    "- Genere una función llamada simulate_pets_prob que tome como argumento un\n",
    "número finito de simulaciones a generar.\n",
    "- La función debe simular dos situaciones young_pet y old_pet, y contar la\n",
    "ocurrencia de los siguientes casos:\n",
    "  - De las dos mascotas simuladas (young y old), contar las ocasiones donde\n",
    "por lo menos una de las mascotas sea un perro.\n",
    "  - De las dos mascotas simuladas, contar las ocasiones donde old_pet sea un\n",
    "perro.\n",
    "  - De las dos mascotas simuladas, contar las ocasiones donde los dos sean\n",
    "perros.\n",
    "- El método debe tener una semilla pseudoaleatoria de 1.\n",
    "- El output de la función debe entregarse en términos de Probabilidad.\n",
    "- De los tres escenarios, ¿Cuál es el menos probable? ¿Cuál es el más probable? ¿Por\n",
    "qué?\n"
   ]
  },
  {
   "cell_type": "code",
   "execution_count": null,
   "metadata": {},
   "outputs": [],
   "source": []
  }
 ],
 "metadata": {
  "kernelspec": {
   "display_name": "base",
   "language": "python",
   "name": "python3"
  },
  "language_info": {
   "codemirror_mode": {
    "name": "ipython",
    "version": 3
   },
   "file_extension": ".py",
   "mimetype": "text/x-python",
   "name": "python",
   "nbconvert_exporter": "python",
   "pygments_lexer": "ipython3",
   "version": "3.9.13"
  },
  "orig_nbformat": 4,
  "vscode": {
   "interpreter": {
    "hash": "af5f59eafcfa7ad9c06f1a742af686e767f586fd272c2b55836f60c5affb1887"
   }
  }
 },
 "nbformat": 4,
 "nbformat_minor": 2
}
