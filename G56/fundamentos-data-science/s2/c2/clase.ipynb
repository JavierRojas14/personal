{
 "cells": [
  {
   "attachments": {},
   "cell_type": "markdown",
   "metadata": {},
   "source": [
    "# Clase 2 Semana 1 - Fundamentos de Data Science "
   ]
  },
  {
   "attachments": {},
   "cell_type": "markdown",
   "metadata": {},
   "source": [
    "En estas clases estamos viendo todo lo que es las definiciones teóricas de las probabilidades, e igual es bien interesante. Me sineto bien motivado a entender a fondo sobre estos temas!"
   ]
  },
  {
   "attachments": {},
   "cell_type": "markdown",
   "metadata": {},
   "source": [
    "# Tipos de Probabilidades\n",
    "\n",
    "Existen 2 tipos\n",
    "- Laplace: Es la clásica ()\n",
    "- Bayes: Es distinta, donde se toma en cuenta nociones previas sobre los resultado (Ej: Partido de Chile vs Brasil, se sabe a priori que puede que Brasil tenga mas probabilidades de ganar)\n",
    "\n",
    "# Espacio muestral\n",
    "\n",
    "Corresponden a todos los resultados que pueden ocurrir dentro de un experimento (Ej: 1, 2, 3, 4, 5\n",
    "o 6 al tirar un dado; Cara, Sello al tirar una moneda)\n",
    "\n",
    "# Reglas de la probabilidad\n",
    "\n",
    "Habian 3\n",
    "- No negatividad\n",
    "- Todos los resultados suman 1\n",
    "- No recuerdo lel\n",
    "\n",
    "# Probabilidad Condicional\n",
    "\n",
    "Corresponde a la probabilidad de que 2 eventos ocurran (A y B), cuando B depende de que A ocurra. En\n",
    "este caso, la probabilidad de que ocurra B es: # Eventos B / # Eventos A. \n",
    "\n",
    "------------------------------------------------------\n",
    "\n",
    "# Funciones\n",
    "\n",
    "Ahora estan viendo algunas utilizaciones de funciones en pandas lel. Es necesario definir bien las funciones (definir parametros si es necesario, utilizar los parametros, ocupar argumentos, default parameters, etc)\n",
    "\n",
    "# Docstrings\n",
    "\n",
    "Es muy importante definir los docstrings en las funciones, ya que permiten ocuparlas de formas mas faciles. Hay distintos tipos de docstrings, por ejemplo:\n",
    "\n",
    "- Google\n",
    "- NumPy\n",
    "- Sphinx (Texto estructurado): Es más compacto\n",
    "\n",
    "Es bacan porque se pueden generar páginas de documentación automáticas\n",
    "\n",
    "El formato docstring de Sphynx es:\n",
    "\n",
    "```\n",
    "\"\"\"[Summary]\n",
    "\n",
    ":param [ParamName]: [ParamDescription], defaults to [DefaultParamVal]\n",
    ":type [ParamName]: [ParamType](, optional)\n",
    "...\n",
    ":raises [ErrorType]: [ErrorDescription]\n",
    "...\n",
    ":return: [ReturnDescription]\n",
    ":rtype: [ReturnType]\n",
    "\"\"\"\n",
    "```\n",
    "\n",
    "Es mejor ser específico con los tipos de datos que acepta una función\n",
    "\n",
    "Se vió isinstance para controlar las entradas de la función. No se si así sea mejor controlar las excepciones, o con try-except. Pero weno. Ahora vimos raise!\n",
    "\n",
    "# Raise\n",
    "\n",
    "A veces es mejor que nuestro programa genere errores para que se brinden los argumentos que se requieren uwu.\n",
    "\n",
    "Acabamos de ver try-except. Omg, mostró except Exception as e, muy mala práctica oye jasjsaj. \n",
    "\n",
    "¿Por qué ocupar try-except en vez de if-else? Porque es más general para agarrar errores. Sin embargo, aún así es mala práctica utilizar except Exception!!.\n",
    "\n",
    "Muy bieeen, menciono que tengamos cuidado al utilizar except Exception, ya que parcha el código. Yasss, dijo que es mala práctica, amo.\n"
   ]
  },
  {
   "attachments": {},
   "cell_type": "markdown",
   "metadata": {},
   "source": [
    "# Desafio guiado"
   ]
  },
  {
   "cell_type": "code",
   "execution_count": 1,
   "metadata": {},
   "outputs": [],
   "source": [
    "import pandas as pd"
   ]
  }
 ],
 "metadata": {
  "kernelspec": {
   "display_name": "base",
   "language": "python",
   "name": "python3"
  },
  "language_info": {
   "codemirror_mode": {
    "name": "ipython",
    "version": 3
   },
   "file_extension": ".py",
   "mimetype": "text/x-python",
   "name": "python",
   "nbconvert_exporter": "python",
   "pygments_lexer": "ipython3",
   "version": "3.9.13"
  },
  "orig_nbformat": 4,
  "vscode": {
   "interpreter": {
    "hash": "a677eee07fae7a05dc0065b321405b89ac79028a918e58c71b412840ee16c11e"
   }
  }
 },
 "nbformat": 4,
 "nbformat_minor": 2
}
