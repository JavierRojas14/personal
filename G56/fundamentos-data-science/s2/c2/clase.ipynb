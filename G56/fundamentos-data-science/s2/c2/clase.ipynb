{
 "cells": [
  {
   "attachments": {},
   "cell_type": "markdown",
   "metadata": {},
   "source": [
    "# Clase 2 Semana 1 - Fundamentos de Data Science "
   ]
  },
  {
   "attachments": {},
   "cell_type": "markdown",
   "metadata": {},
   "source": [
    "En estas clases estamos viendo todo lo que es las definiciones teóricas de las probabilidades, e igual es bien interesante. Me sineto bien motivado a entender a fondo sobre estos temas!"
   ]
  },
  {
   "attachments": {},
   "cell_type": "markdown",
   "metadata": {},
   "source": [
    "# Tipos de Probabilidades\n",
    "\n",
    "Existen 2 tipos\n",
    "- Laplace: Es la clásica ()\n",
    "- Bayes: Es distinta, donde se toma en cuenta nociones previas sobre los resultado (Ej: Partido de Chile vs Brasil, se sabe a priori que puede que Brasil tenga mas probabilidades de ganar)\n",
    "\n",
    "# Espacio muestral\n",
    "\n",
    "Corresponden a todos los resultados que pueden ocurrir dentro de un experimento (Ej: 1, 2, 3, 4, 5\n",
    "o 6 al tirar un dado; Cara, Sello al tirar una moneda)\n",
    "\n",
    "# Reglas de la probabilidad\n",
    "\n",
    "Habian 3\n",
    "- No negatividad\n",
    "- Todos los resultados suman 1\n",
    "- No recuerdo lel\n",
    "\n",
    "# Probabilidad Condicional\n",
    "\n",
    "Corresponde a la probabilidad de que 2 eventos ocurran (A y B), cuando B depende de que A ocurra. En\n",
    "este caso, la probabilidad de que ocurra B es: # Eventos B / # Eventos A. "
   ]
  },
  {
   "cell_type": "code",
   "execution_count": null,
   "metadata": {},
   "outputs": [],
   "source": []
  },
  {
   "cell_type": "code",
   "execution_count": null,
   "metadata": {},
   "outputs": [],
   "source": []
  },
  {
   "cell_type": "code",
   "execution_count": null,
   "metadata": {},
   "outputs": [],
   "source": []
  },
  {
   "cell_type": "code",
   "execution_count": null,
   "metadata": {},
   "outputs": [],
   "source": []
  },
  {
   "cell_type": "code",
   "execution_count": null,
   "metadata": {},
   "outputs": [],
   "source": []
  },
  {
   "cell_type": "code",
   "execution_count": null,
   "metadata": {},
   "outputs": [],
   "source": []
  }
 ],
 "metadata": {
  "kernelspec": {
   "display_name": "base",
   "language": "python",
   "name": "python3"
  },
  "language_info": {
   "name": "python",
   "version": "3.9.13 (main, Aug 25 2022, 23:26:10) \n[GCC 11.2.0]"
  },
  "orig_nbformat": 4,
  "vscode": {
   "interpreter": {
    "hash": "a677eee07fae7a05dc0065b321405b89ac79028a918e58c71b412840ee16c11e"
   }
  }
 },
 "nbformat": 4,
 "nbformat_minor": 2
}
