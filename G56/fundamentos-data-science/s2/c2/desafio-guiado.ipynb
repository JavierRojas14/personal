{
 "cells": [
  {
   "attachments": {},
   "cell_type": "markdown",
   "metadata": {},
   "source": [
    "1. Lectura de archivos\n",
    "- Importa pandas y numpy siguiendo las convenciones.\n",
    "- Lee la base de datosworldcup2014.csv y asígnela aun objetodf.\n",
    "- Solicita las primeras 5 observaciones conhead."
   ]
  },
  {
   "cell_type": "code",
   "execution_count": 1,
   "metadata": {},
   "outputs": [
    {
     "data": {
      "text/html": [
       "<div>\n",
       "<style scoped>\n",
       "    .dataframe tbody tr th:only-of-type {\n",
       "        vertical-align: middle;\n",
       "    }\n",
       "\n",
       "    .dataframe tbody tr th {\n",
       "        vertical-align: top;\n",
       "    }\n",
       "\n",
       "    .dataframe thead th {\n",
       "        text-align: right;\n",
       "    }\n",
       "</style>\n",
       "<table border=\"1\" class=\"dataframe\">\n",
       "  <thead>\n",
       "    <tr style=\"text-align: right;\">\n",
       "      <th></th>\n",
       "      <th>team</th>\n",
       "      <th>continent</th>\n",
       "      <th>group</th>\n",
       "      <th>group_pos</th>\n",
       "      <th>cantidad_juegos</th>\n",
       "      <th>juegos_ganados</th>\n",
       "      <th>juegos_empatados</th>\n",
       "      <th>juegos_perdidos</th>\n",
       "      <th>goles_favor</th>\n",
       "      <th>goles_contra</th>\n",
       "      <th>goles_diferencia</th>\n",
       "      <th>puntos</th>\n",
       "      <th>clasificado</th>\n",
       "    </tr>\n",
       "  </thead>\n",
       "  <tbody>\n",
       "    <tr>\n",
       "      <th>0</th>\n",
       "      <td>Brazil</td>\n",
       "      <td>southamerica</td>\n",
       "      <td>A</td>\n",
       "      <td>1</td>\n",
       "      <td>3</td>\n",
       "      <td>2</td>\n",
       "      <td>1</td>\n",
       "      <td>0</td>\n",
       "      <td>7</td>\n",
       "      <td>2</td>\n",
       "      <td>5</td>\n",
       "      <td>7</td>\n",
       "      <td>1</td>\n",
       "    </tr>\n",
       "    <tr>\n",
       "      <th>1</th>\n",
       "      <td>Mexico</td>\n",
       "      <td>northamerica</td>\n",
       "      <td>A</td>\n",
       "      <td>2</td>\n",
       "      <td>3</td>\n",
       "      <td>2</td>\n",
       "      <td>1</td>\n",
       "      <td>0</td>\n",
       "      <td>4</td>\n",
       "      <td>1</td>\n",
       "      <td>3</td>\n",
       "      <td>7</td>\n",
       "      <td>1</td>\n",
       "    </tr>\n",
       "    <tr>\n",
       "      <th>2</th>\n",
       "      <td>Croatia</td>\n",
       "      <td>europe</td>\n",
       "      <td>A</td>\n",
       "      <td>3</td>\n",
       "      <td>3</td>\n",
       "      <td>1</td>\n",
       "      <td>0</td>\n",
       "      <td>2</td>\n",
       "      <td>6</td>\n",
       "      <td>6</td>\n",
       "      <td>0</td>\n",
       "      <td>3</td>\n",
       "      <td>0</td>\n",
       "    </tr>\n",
       "    <tr>\n",
       "      <th>3</th>\n",
       "      <td>Cameroon</td>\n",
       "      <td>africa</td>\n",
       "      <td>A</td>\n",
       "      <td>4</td>\n",
       "      <td>3</td>\n",
       "      <td>0</td>\n",
       "      <td>0</td>\n",
       "      <td>3</td>\n",
       "      <td>1</td>\n",
       "      <td>9</td>\n",
       "      <td>−8</td>\n",
       "      <td>0</td>\n",
       "      <td>0</td>\n",
       "    </tr>\n",
       "    <tr>\n",
       "      <th>4</th>\n",
       "      <td>Netherlands</td>\n",
       "      <td>europe</td>\n",
       "      <td>B</td>\n",
       "      <td>1</td>\n",
       "      <td>3</td>\n",
       "      <td>3</td>\n",
       "      <td>0</td>\n",
       "      <td>0</td>\n",
       "      <td>10</td>\n",
       "      <td>3</td>\n",
       "      <td>7</td>\n",
       "      <td>9</td>\n",
       "      <td>1</td>\n",
       "    </tr>\n",
       "  </tbody>\n",
       "</table>\n",
       "</div>"
      ],
      "text/plain": [
       "          team     continent group  group_pos  cantidad_juegos  \\\n",
       "0       Brazil  southamerica     A          1                3   \n",
       "1       Mexico  northamerica     A          2                3   \n",
       "2      Croatia        europe     A          3                3   \n",
       "3     Cameroon        africa     A          4                3   \n",
       "4  Netherlands        europe     B          1                3   \n",
       "\n",
       "   juegos_ganados  juegos_empatados  juegos_perdidos  goles_favor  \\\n",
       "0               2                 1                0            7   \n",
       "1               2                 1                0            4   \n",
       "2               1                 0                2            6   \n",
       "3               0                 0                3            1   \n",
       "4               3                 0                0           10   \n",
       "\n",
       "   goles_contra goles_diferencia  puntos  clasificado  \n",
       "0             2                5       7            1  \n",
       "1             1                3       7            1  \n",
       "2             6                0       3            0  \n",
       "3             9               −8       0            0  \n",
       "4             3                7       9            1  "
      ]
     },
     "execution_count": 1,
     "metadata": {},
     "output_type": "execute_result"
    }
   ],
   "source": [
    "import pandas as pd\n",
    "import numpy as np\n",
    "\n",
    "df = pd.read_csv('worldcup2014.csv')\n",
    "\n",
    "df.head(5)"
   ]
  },
  {
   "attachments": {},
   "cell_type": "markdown",
   "metadata": {},
   "source": [
    "2. Frecuencia de continent: utilizando value_counts responde lo siguiente:\n",
    "- ¿Cuál es el continente con una mayor presencia en la muestra?\n",
    "- ¿Cuál es la probabilidad de elegir un equipo asiático al azar?\n",
    "- ¿Cuál es la probabilidad de elegir un equipo africano al azar?"
   ]
  },
  {
   "cell_type": "code",
   "execution_count": 2,
   "metadata": {},
   "outputs": [
    {
     "data": {
      "text/plain": [
       "europe          0.40625\n",
       "southamerica    0.18750\n",
       "africa          0.15625\n",
       "northamerica    0.12500\n",
       "asia            0.12500\n",
       "Name: continent, dtype: float64"
      ]
     },
     "execution_count": 2,
     "metadata": {},
     "output_type": "execute_result"
    }
   ],
   "source": [
    "df['continent'].value_counts('%')"
   ]
  },
  {
   "attachments": {},
   "cell_type": "markdown",
   "metadata": {},
   "source": [
    "- El continente con mayor presencia es Europa, con un 40.625% de los equipos siendo de este continente\n",
    "\n",
    "- La probabilidad de elegir un equipo asiatico es del 12.5%\n",
    "\n",
    "- La probabilidad de elegir un equipo africano es del 15.625%"
   ]
  },
  {
   "attachments": {},
   "cell_type": "markdown",
   "metadata": {},
   "source": [
    "3. Generación de un subconjunto de datos: por cada continente, genere un nuevo\n",
    "objeto que almacene sólo las observaciones del continente.\n",
    "Tip: Para ello puede utilizar la siguiente sintaxis: df[df['variable'] ==\n",
    "condicion].\n"
   ]
  },
  {
   "cell_type": "code",
   "execution_count": null,
   "metadata": {},
   "outputs": [],
   "source": [
    "europe = df[df['continent'] == 'europe']\n",
    "soutamerica = df[df['continent'] == 'soutamerica']\n",
    "africa = df[df['continent'] == 'africa']\n",
    "northamerica = df[df['continent'] == 'northamerica']\n",
    "asia = df[df['continent'] == 'asia']"
   ]
  },
  {
   "attachments": {},
   "cell_type": "markdown",
   "metadata": {},
   "source": [
    "4. Probabilidad de clasificación a la siguiente ronda: calcula la probabilidad de que un\n",
    "país pase a la siguiente ronda (clasifique) por continente.\n",
    "- ¿Cuál es la probabilidad de que un país asiático pase a la siguiente ronda?\n",
    "- ¿Cuáles son los dos continentes con la mayor probabilidad de clasificar?\n",
    "- ¿Cuál es la probabilidad de que un país europeo no clasifique?"
   ]
  },
  {
   "cell_type": "code",
   "execution_count": null,
   "metadata": {},
   "outputs": [],
   "source": []
  }
 ],
 "metadata": {
  "kernelspec": {
   "display_name": "base",
   "language": "python",
   "name": "python3"
  },
  "language_info": {
   "codemirror_mode": {
    "name": "ipython",
    "version": 3
   },
   "file_extension": ".py",
   "mimetype": "text/x-python",
   "name": "python",
   "nbconvert_exporter": "python",
   "pygments_lexer": "ipython3",
   "version": "3.9.13"
  },
  "orig_nbformat": 4,
  "vscode": {
   "interpreter": {
    "hash": "af5f59eafcfa7ad9c06f1a742af686e767f586fd272c2b55836f60c5affb1887"
   }
  }
 },
 "nbformat": 4,
 "nbformat_minor": 2
}
