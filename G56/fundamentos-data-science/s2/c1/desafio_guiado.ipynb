{
 "cells": [
  {
   "cell_type": "code",
   "execution_count": 1,
   "metadata": {},
   "outputs": [
    {
     "ename": "ModuleNotFoundError",
     "evalue": "No module named 'pandas'",
     "output_type": "error",
     "traceback": [
      "\u001b[0;31m---------------------------------------------------------------------------\u001b[0m",
      "\u001b[0;31mModuleNotFoundError\u001b[0m                       Traceback (most recent call last)",
      "Cell \u001b[0;32mIn[1], line 1\u001b[0m\n\u001b[0;32m----> 1\u001b[0m \u001b[39mimport\u001b[39;00m \u001b[39mpandas\u001b[39;00m \u001b[39mas\u001b[39;00m \u001b[39mpd\u001b[39;00m\n",
      "\u001b[0;31mModuleNotFoundError\u001b[0m: No module named 'pandas'"
     ]
    }
   ],
   "source": [
    "import pandas as pd\n",
    "import numpy as np"
   ]
  },
  {
   "cell_type": "markdown",
   "metadata": {},
   "source": [
    "1. Generar un par de arrays ficticios con numpy.\n",
    "\n",
    "Tip: Utilice la función linspace para generar un array entre 1 y 50, y un array entre 50 y\n",
    "150."
   ]
  },
  {
   "cell_type": "code",
   "execution_count": 2,
   "metadata": {},
   "outputs": [
    {
     "ename": "NameError",
     "evalue": "name 'np' is not defined",
     "output_type": "error",
     "traceback": [
      "\u001b[0;31m---------------------------------------------------------------------------\u001b[0m",
      "\u001b[0;31mNameError\u001b[0m                                 Traceback (most recent call last)",
      "Cell \u001b[0;32mIn[2], line 1\u001b[0m\n\u001b[0;32m----> 1\u001b[0m uno_cincuenta_array \u001b[39m=\u001b[39m np\u001b[39m.\u001b[39mlinspace(\u001b[39m1\u001b[39m, \u001b[39m50\u001b[39m)\n\u001b[1;32m      2\u001b[0m cincuenta_cientocincuneta_array \u001b[39m=\u001b[39m np\u001b[39m.\u001b[39mlinspace(\u001b[39m50\u001b[39m, \u001b[39m150\u001b[39m)\n",
      "\u001b[0;31mNameError\u001b[0m: name 'np' is not defined"
     ]
    }
   ],
   "source": [
    "uno_cincuenta_array = np.linspace(1, 50)\n",
    "cincuenta_cientocincuneta_array = np.linspace(50, 150)"
   ]
  },
  {
   "cell_type": "markdown",
   "metadata": {},
   "source": [
    "2. Ejecuta un loop que devuelva si el número en el primer array es par o impar.\n",
    "\n",
    "Tip: Utilice la función módulo para encontrar si el número es divisible por 2."
   ]
  },
  {
   "cell_type": "markdown",
   "metadata": {},
   "source": []
  },
  {
   "cell_type": "code",
   "execution_count": 1,
   "metadata": {},
   "outputs": [
    {
     "ename": "NameError",
     "evalue": "name 'uno_cincuenta_array' is not defined",
     "output_type": "error",
     "traceback": [
      "\u001b[0;31m---------------------------------------------------------------------------\u001b[0m",
      "\u001b[0;31mNameError\u001b[0m                                 Traceback (most recent call last)",
      "Cell \u001b[0;32mIn[1], line 1\u001b[0m\n\u001b[0;32m----> 1\u001b[0m primer_numero \u001b[39m=\u001b[39m uno_cincuenta_array[\u001b[39m0\u001b[39m]\n\u001b[1;32m      3\u001b[0m \u001b[39mif\u001b[39;00m primer_numero \u001b[39m%\u001b[39m \u001b[39m2\u001b[39m \u001b[39m==\u001b[39m \u001b[39m0\u001b[39m:\n\u001b[1;32m      4\u001b[0m     resultado \u001b[39m=\u001b[39m \u001b[39m'\u001b[39m\u001b[39mpar\u001b[39m\u001b[39m'\u001b[39m\n",
      "\u001b[0;31mNameError\u001b[0m: name 'uno_cincuenta_array' is not defined"
     ]
    }
   ],
   "source": [
    "primer_numero = uno_cincuenta_array[0]\n",
    "\n",
    "if primer_numero % 2 == 0:\n",
    "    resultado = 'par'\n",
    "\n",
    "elif primer_numero % 2 == 1:\n",
    "    resultado = 'impar'\n",
    "\n",
    "print(f'El primer numero del array es: {resultado}')"
   ]
  },
  {
   "cell_type": "markdown",
   "metadata": {},
   "source": [
    "3. Genere un loop con el segundo array que cuente las siguientes condiciones:\n",
    "\n",
    "- Si el número es divisible por 2 o 3.\n",
    "- Si el número es divisible por 2 y 3.\n",
    "- Si el número es divisible por 3 pero no por 2.\n",
    "- si el número no es divisible por 2 ni 3."
   ]
  },
  {
   "cell_type": "markdown",
   "metadata": {},
   "source": []
  },
  {
   "cell_type": "code",
   "execution_count": null,
   "metadata": {},
   "outputs": [],
   "source": [
    "for numero in cincuenta_cientocincuneta_array:\n",
    "    if numero % 2 == 0 or numero % 3 == 0:\n",
    "        resultado = 'dos o tres'\n",
    "    \n",
    "    elif numero % 2 == 0 and numero % 3 == 0:\n",
    "        resultado = 'dos y tres'\n",
    "    \n",
    "    elif numero % 3 == 0 and numero % 2 != 0:\n",
    "        resultado = 'tres y no dos'\n",
    "    \n",
    "    elif numero % 2 != 0 and numero % 3 != 0:\n",
    "        resultado = 'no tres y no dos'\n",
    "    \n",
    "    print(f'El resultado es: {resultado}')"
   ]
  },
  {
   "cell_type": "markdown",
   "metadata": {},
   "source": [
    "4. Corrección de errores: Revisa el siguiente código y encuentra los errores a corregir.\n",
    "\n",
    "```\n",
    "for i in range(100):\n",
    "    print(I**2)\n",
    "```"
   ]
  },
  {
   "cell_type": "code",
   "execution_count": 2,
   "metadata": {},
   "outputs": [
    {
     "name": "stdout",
     "output_type": "stream",
     "text": [
      "0\n",
      "1\n",
      "4\n",
      "9\n",
      "16\n",
      "25\n",
      "36\n",
      "49\n",
      "64\n",
      "81\n",
      "100\n",
      "121\n",
      "144\n",
      "169\n",
      "196\n",
      "225\n",
      "256\n",
      "289\n",
      "324\n",
      "361\n",
      "400\n",
      "441\n",
      "484\n",
      "529\n",
      "576\n",
      "625\n",
      "676\n",
      "729\n",
      "784\n",
      "841\n",
      "900\n",
      "961\n",
      "1024\n",
      "1089\n",
      "1156\n",
      "1225\n",
      "1296\n",
      "1369\n",
      "1444\n",
      "1521\n",
      "1600\n",
      "1681\n",
      "1764\n",
      "1849\n",
      "1936\n",
      "2025\n",
      "2116\n",
      "2209\n",
      "2304\n",
      "2401\n",
      "2500\n",
      "2601\n",
      "2704\n",
      "2809\n",
      "2916\n",
      "3025\n",
      "3136\n",
      "3249\n",
      "3364\n",
      "3481\n",
      "3600\n",
      "3721\n",
      "3844\n",
      "3969\n",
      "4096\n",
      "4225\n",
      "4356\n",
      "4489\n",
      "4624\n",
      "4761\n",
      "4900\n",
      "5041\n",
      "5184\n",
      "5329\n",
      "5476\n",
      "5625\n",
      "5776\n",
      "5929\n",
      "6084\n",
      "6241\n",
      "6400\n",
      "6561\n",
      "6724\n",
      "6889\n",
      "7056\n",
      "7225\n",
      "7396\n",
      "7569\n",
      "7744\n",
      "7921\n",
      "8100\n",
      "8281\n",
      "8464\n",
      "8649\n",
      "8836\n",
      "9025\n",
      "9216\n",
      "9409\n",
      "9604\n",
      "9801\n"
     ]
    }
   ],
   "source": [
    "for i in range(100):\n",
    "    print(i**2)"
   ]
  },
  {
   "cell_type": "markdown",
   "metadata": {},
   "source": [
    "5. Utilizando la misma base flights.csv debes hacer un loop y clasificar los meses\n",
    "con una cantidad de pasajeros menor a la media. Para ello:\n",
    "- Genera un nuevo objeto que represente la media de passengers.\n",
    "- Genera una columna en la base de datos que se llame underperforming y\n",
    "asígnele 0.\n",
    "- Ejecuta un loop que recorra cada observación de passengers, donde si la\n",
    "observación es menor a la media de passengers se le asigne a\n",
    "underperforming un 1.\n",
    "- Asignar unos en la columna underperforming ya creada, para ello utilice la\n",
    "función at de pandas."
   ]
  },
  {
   "cell_type": "code",
   "execution_count": null,
   "metadata": {},
   "outputs": [],
   "source": [
    "df = pd.read_csv('flights.csv')\n",
    "\n",
    "media = df['passengers'].mean()\n",
    "df['underperforming'] = 0\n",
    "\n",
    "for index, row_series in df.iterrows():\n",
    "    "
   ]
  }
 ],
 "metadata": {
  "kernelspec": {
   "display_name": "Python 3.10.6 64-bit",
   "language": "python",
   "name": "python3"
  },
  "language_info": {
   "codemirror_mode": {
    "name": "ipython",
    "version": 3
   },
   "file_extension": ".py",
   "mimetype": "text/x-python",
   "name": "python",
   "nbconvert_exporter": "python",
   "pygments_lexer": "ipython3",
   "version": "3.10.6"
  },
  "orig_nbformat": 4,
  "vscode": {
   "interpreter": {
    "hash": "916dbcbb3f70747c44a77c7bcd40155683ae19c65e1c03b4aa3499c5328201f1"
   }
  }
 },
 "nbformat": 4,
 "nbformat_minor": 2
}
