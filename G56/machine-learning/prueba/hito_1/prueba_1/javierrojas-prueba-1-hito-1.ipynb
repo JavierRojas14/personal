{
 "cells": [
  {
   "attachments": {},
   "cell_type": "markdown",
   "metadata": {},
   "source": [
    "### Prueba 1 - Hito 1 - Javier Rojas Benitez - G56"
   ]
  },
  {
   "attachments": {},
   "cell_type": "markdown",
   "metadata": {},
   "source": [
    "# Preliminares\n",
    "\n",
    "Este esun problema donde se quiere ver la nocion de un eneunciado de texto. Se quiere ver si tiene\n",
    "una nocion positiva, negativa o neutral basado en el contenido del texto.\n",
    "- Clarificar enunciado.\n",
    "- Mencionar el tipo de problema que se quiere resolver\n",
    "- Mencionar como se van a dividir las muestras\n",
    "- Mencionar el preprocesamiento que se va a utilizar (Recodificar variables independientes y\n",
    "el vector objetivo)\n",
    "- Mencionar los modelos que se van a utilizar. Para cada modelo mencionar la grilla de hiperparametros\n",
    "tentativa"
   ]
  },
  {
   "attachments": {},
   "cell_type": "markdown",
   "metadata": {},
   "source": [
    "\n",
    "# Aspectos Computacionales\n",
    "- Mencionar las librerias a utilizar\n"
   ]
  },
  {
   "attachments": {},
   "cell_type": "markdown",
   "metadata": {},
   "source": [
    "# Análisis Exploratorio\n",
    "- Analizar el comportamiento del vector objetivo\n",
    "- Reportar el patron de datos perdidos"
   ]
  },
  {
   "cell_type": "markdown",
   "metadata": {},
   "source": [
    "# Feature Engineering"
   ]
  }
 ],
 "metadata": {
  "language_info": {
   "name": "python"
  },
  "orig_nbformat": 4
 },
 "nbformat": 4,
 "nbformat_minor": 2
}
