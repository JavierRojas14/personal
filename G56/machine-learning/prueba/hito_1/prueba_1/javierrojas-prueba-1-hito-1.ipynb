{
 "cells": [
  {
   "attachments": {},
   "cell_type": "markdown",
   "metadata": {},
   "source": [
    "### Prueba 1 - Hito 1 - Javier Rojas Benitez - G56"
   ]
  },
  {
   "attachments": {},
   "cell_type": "markdown",
   "metadata": {},
   "source": [
    "# Preliminares\n",
    "\n",
    "- Este es un problema de clasificacion. En este caso, se quiere clasificar si un enunciado de texto\n",
    "tiene un sentimiento negativo o positivo en cuanto a lo que expresa.\n",
    "\n",
    "- El vector objetivo corresponde a \n",
    "\n",
    "- Los pasos a seguir en el análisis son:\n",
    "\n",
    "1. Análisis del vector objetivo previo al preprocesamiento\n",
    "2. Preprocesamiento\n",
    "3. Análisis Exploratorio\n",
    "4. Feature Engineering\n",
    "\n",
    "\n",
    "\n",
    "- Clarificar enunciado.\n",
    "- Mencionar el tipo de problema que se quiere resolver\n",
    "- Mencionar como se van a dividir las muestras\n",
    "- Mencionar el preprocesamiento que se va a utilizar (Recodificar variables independientes y\n",
    "el vector objetivo)\n",
    "- Mencionar los modelos que se van a utilizar. Para cada modelo mencionar la grilla de hiperparametros\n",
    "tentativa"
   ]
  },
  {
   "attachments": {},
   "cell_type": "markdown",
   "metadata": {},
   "source": [
    "\n",
    "# Aspectos Computacionales\n",
    "- Mencionar las librerias a utilizar\n"
   ]
  },
  {
   "attachments": {},
   "cell_type": "markdown",
   "metadata": {},
   "source": [
    "# Análisis Exploratorio\n",
    "- Analizar el comportamiento del vector objetivo\n",
    "- Reportar el patron de datos perdidos"
   ]
  },
  {
   "cell_type": "code",
   "execution_count": 1,
   "metadata": {},
   "outputs": [],
   "source": [
    "import pandas as pd\n",
    "import numpy as np\n",
    "import polars as pl\n",
    "\n",
    "import matplotlib.pyplot as plt\n",
    "import seaborn as sns\n",
    "\n",
    "import warnings\n",
    "\n",
    "warnings.filterwarnings('ignore')\n",
    "sns.set_style()\n",
    "plt.rcParams['figure.figsize'] = (12, 6)"
   ]
  },
  {
   "cell_type": "code",
   "execution_count": 11,
   "metadata": {},
   "outputs": [],
   "source": [
    "import wget\n",
    "url = \"https://www.crowdflower.com/wp-content/uploads/2016/07/text_emotion.csv\"\n",
    "filename = wget.download(url)\n"
   ]
  },
  {
   "cell_type": "code",
   "execution_count": 12,
   "metadata": {},
   "outputs": [
    {
     "data": {
      "text/plain": [
       "'text_emotion.csv'"
      ]
     },
     "execution_count": 12,
     "metadata": {},
     "output_type": "execute_result"
    }
   ],
   "source": [
    "filename"
   ]
  },
  {
   "cell_type": "markdown",
   "metadata": {},
   "source": [
    "# Feature Engineering"
   ]
  }
 ],
 "metadata": {
  "kernelspec": {
   "display_name": "Python 3",
   "language": "python",
   "name": "python3"
  },
  "language_info": {
   "codemirror_mode": {
    "name": "ipython",
    "version": 3
   },
   "file_extension": ".py",
   "mimetype": "text/x-python",
   "name": "python",
   "nbconvert_exporter": "python",
   "pygments_lexer": "ipython3",
   "version": "3.10.9"
  },
  "orig_nbformat": 4
 },
 "nbformat": 4,
 "nbformat_minor": 2
}
