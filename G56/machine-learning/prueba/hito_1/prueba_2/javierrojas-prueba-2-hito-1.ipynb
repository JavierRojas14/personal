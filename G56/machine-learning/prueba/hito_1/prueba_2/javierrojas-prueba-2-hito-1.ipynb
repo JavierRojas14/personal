{
 "cells": [
  {
   "attachments": {},
   "cell_type": "markdown",
   "metadata": {},
   "source": [
    "### Prueba 1 - Hito 2 - Javier Rojas Benitez - G56"
   ]
  },
  {
   "attachments": {},
   "cell_type": "markdown",
   "metadata": {},
   "source": [
    "# Preliminares"
   ]
  },
  {
   "attachments": {},
   "cell_type": "markdown",
   "metadata": {},
   "source": [
    "\n",
    "# Aspectos Computacionales\n",
    "- Mencionar las librerias a utilizar\n"
   ]
  },
  {
   "attachments": {},
   "cell_type": "markdown",
   "metadata": {},
   "source": [
    "# Análisis Exploratorio\n",
    "- Analizar el comportamiento del vector objetivo\n",
    "- Reportar el patron de datos perdidos"
   ]
  },
  {
   "cell_type": "markdown",
   "metadata": {},
   "source": [
    "# Feature Engineering"
   ]
  }
 ],
 "metadata": {
  "language_info": {
   "name": "python"
  },
  "orig_nbformat": 4
 },
 "nbformat": 4,
 "nbformat_minor": 2
}
