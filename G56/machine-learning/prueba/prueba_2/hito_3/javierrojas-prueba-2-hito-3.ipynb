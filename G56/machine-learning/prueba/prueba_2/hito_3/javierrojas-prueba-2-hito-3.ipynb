{
 "cells": [
  {
   "cell_type": "code",
   "execution_count": 1,
   "metadata": {},
   "outputs": [],
   "source": [
    "import importlib\n",
    "import pickle\n",
    "\n",
    "import pandas as pd\n",
    "import numpy as np\n",
    "\n",
    "import matplotlib.pyplot as plt\n",
    "import seaborn as sns\n",
    "\n",
    "import warnings\n",
    "\n",
    "warnings.filterwarnings(\"ignore\")\n",
    "sns.set_style()\n",
    "plt.rcParams[\"figure.figsize\"] = (20, 10)\n"
   ]
  },
  {
   "attachments": {},
   "cell_type": "markdown",
   "metadata": {},
   "source": [
    "# Importacion de Modelos Entrenados\n",
    "\n",
    "Debido a que se entrenaron todos los modelos en el Hito 2, se procedera a importar cada uno de los\n",
    "modelos ya entrenados."
   ]
  },
  {
   "cell_type": "code",
   "execution_count": 3,
   "metadata": {},
   "outputs": [],
   "source": [
    "archivos_a_leer = [\n",
    "    \"modelo_logistic_problema_1.pickle\",\n",
    "    \"modelo_naive_bayes_problema_1.pickle\",\n",
    "    \"modelo_gradient_boosting_problema_1.pickle\",\n",
    "    \"modelo_logistic_problema_2.pickle\",\n",
    "    \"modelo_naive_bayes_problema_2.pickle\",\n",
    "    \"modelo_gradient_boosting_problema_2.pickle\",\n",
    "    \"modelo_arbol_problema_2.pickle\",\n",
    "    \"modelo_random_forest_problema_2.pickle\",\n",
    "]\n",
    "\n",
    "modelos = {}\n",
    "for nombre_archivo in archivos_a_leer:\n",
    "    with open(nombre_archivo, \"rb\") as file:\n",
    "        modelo = pickle.load(file)\n",
    "        modelos[nombre_archivo.split(\".\")[0]] = modelo"
   ]
  },
  {
   "attachments": {},
   "cell_type": "markdown",
   "metadata": {},
   "source": [
    "# Reporte comparativo de desempenos\n",
    "\n",
    "- En el Hito 2 se reportaron los desempenos de cada uno de los modelos ya entrenados. Esto se realizo\n",
    "tanto para el conjunto de entrenamiento y el conjunto de validacion. En la siguiente tabla se\n",
    "recopila a modo de resumen los resultados.\n",
    "\n",
    "- En este caso se reportara tambien el f1-score de la clase 1 para cada problema. Esto, ya que es\n",
    "la clase de mayor interes para cada problema\n",
    "\n",
    "## Problema 1 - Prediccion de Arresto\n",
    "\n",
    "|Modelo|Entrenamiento Accuracy|Validacion F1 Clase 1|Validacion Accuracy|Validacion ROC|\n",
    "|------|----------------------|---------------------|-------------------|--------------|\n",
    "|Logistico|0.97|0.75|0.97|0.82|\n",
    "|Naive Bayes|0.96|0.69|0.96|0.86|\n",
    "|Gradient Boosting|0.97|0.95|0.99|0.96|\n",
    "\n",
    "\n",
    "## Problema 2 - Detencion Violenta\n",
    "\n",
    "|Modelo|Entrenamiento Accuracy|Validacion F1 Clase 1|Validacion Accuracy|Validacion ROC|\n",
    "|------|----------------------|---------------------|-------------------|--------------|\n",
    "|Logistico|0.77|0.26|0.77|0.57|\n",
    "|Naive Bayes|0.76|0.39|0.76|0.61|\n",
    "|Gradient Boosting|0.76|0.65|0.87|0.74|\n",
    "|Arbol de Clasificacion|0.76|0.26|0.76|0.56|\n",
    "|Random Forest|0.77|0.37|0.81|0.62|"
   ]
  },
  {
   "attachments": {},
   "cell_type": "markdown",
   "metadata": {},
   "source": [
    "# Exportacion de Mejores Modelos\n",
    "\n",
    "Teniendo en cuenta los resultados anteriores, los mejores modelos son el modelo de regresion\n",
    "logistica y naive bayes. Por lo tanto, ambos seran exportados para validacion externa."
   ]
  },
  {
   "cell_type": "code",
   "execution_count": 4,
   "metadata": {},
   "outputs": [],
   "source": [
    "modelos_a_exportar = {\n",
    "    'javier_rojas-modelo-1.pickle': modelos['modelo_gradient_boosting_problema_1'],\n",
    "    'javier_rojas-modelo-2.pickle': modelos['modelo_gradient_boosting_problema_2'],\n",
    "}"
   ]
  },
  {
   "cell_type": "code",
   "execution_count": 5,
   "metadata": {},
   "outputs": [],
   "source": [
    "for archivo, modelo in modelos_a_exportar.items():\n",
    "    with open(archivo, 'wb') as file:\n",
    "        pickle.dump(modelo, file)"
   ]
  },
  {
   "cell_type": "code",
   "execution_count": null,
   "metadata": {},
   "outputs": [],
   "source": []
  }
 ],
 "metadata": {
  "kernelspec": {
   "display_name": "Python 3",
   "language": "python",
   "name": "python3"
  },
  "language_info": {
   "codemirror_mode": {
    "name": "ipython",
    "version": 3
   },
   "file_extension": ".py",
   "mimetype": "text/x-python",
   "name": "python",
   "nbconvert_exporter": "python",
   "pygments_lexer": "ipython3",
   "version": "3.10.9"
  },
  "orig_nbformat": 4
 },
 "nbformat": 4,
 "nbformat_minor": 2
}
