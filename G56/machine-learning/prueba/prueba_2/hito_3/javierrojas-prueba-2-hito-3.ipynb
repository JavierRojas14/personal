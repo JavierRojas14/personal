{
 "cells": [
  {
   "cell_type": "code",
   "execution_count": 4,
   "metadata": {},
   "outputs": [],
   "source": [
    "import importlib\n",
    "import pickle\n",
    "\n",
    "import pandas as pd\n",
    "import numpy as np\n",
    "\n",
    "import matplotlib.pyplot as plt\n",
    "import seaborn as sns\n",
    "\n",
    "import warnings\n",
    "\n",
    "import funciones_auxiliares_hito_2 as aux2\n",
    "\n",
    "warnings.filterwarnings(\"ignore\")\n",
    "sns.set_style()\n",
    "plt.rcParams[\"figure.figsize\"] = (20, 10)"
   ]
  },
  {
   "attachments": {},
   "cell_type": "markdown",
   "metadata": {},
   "source": [
    "# Modelacion"
   ]
  },
  {
   "attachments": {},
   "cell_type": "markdown",
   "metadata": {},
   "source": [
    "## Carga de datos de entrenamiento y validacion"
   ]
  },
  {
   "cell_type": "markdown",
   "metadata": {},
   "source": [
    "- En este caso, se optimizaran los modelos utilizando PCA en las variables independientes y utilizando SMOTE en los vectores objetivos"
   ]
  },
  {
   "cell_type": "code",
   "execution_count": 23,
   "metadata": {},
   "outputs": [
    {
     "name": "stdout",
     "output_type": "stream",
     "text": [
      "['perobs']\n",
      "[]\n"
     ]
    }
   ],
   "source": [
    "train_problema_1, train_problema_2 = aux2.preprocesar_todo_prueba_2_machine_learning(\n",
    "    \"input/2009_1perc.csv\"\n",
    ")\n",
    "test_problema_1, test_problema_2 = aux2.preprocesar_todo_prueba_2_machine_learning(\n",
    "    \"input/2010_1perc.csv\"\n",
    ")\n",
    "\n",
    "#####################################################\n",
    "X_train_problema_1 = train_problema_1.drop(columns=\"arstmade\")\n",
    "X_test_problema_1 = test_problema_1.drop(columns=\"arstmade\")\n",
    "\n",
    "dif_1_problema_1, dif_2_problema_1 = aux2.obtener_difs_columnas(\n",
    "    X_train_problema_1, X_test_problema_1\n",
    ")\n",
    "\n",
    "X_train_problema_1 = X_train_problema_1.drop(columns=dif_1_problema_1)\n",
    "X_test_problema_1 = X_test_problema_1.drop(columns=dif_2_problema_1)\n",
    "\n",
    "y_train_problema_1 = train_problema_1[\"arstmade\"]\n",
    "y_test_problema_1 = test_problema_1[\"arstmade\"]\n",
    "######################################################\n",
    "#####################################################\n",
    "X_train_problema_2 = train_problema_2.drop(columns=\"arstmade\")\n",
    "X_test_problema_2 = test_problema_2.drop(columns=\"arstmade\")\n",
    "\n",
    "dif_1_problema_2, dif_2_problema_2 = aux2.obtener_difs_columnas(\n",
    "    X_train_problema_2, X_test_problema_2\n",
    ")\n",
    "\n",
    "X_train_problema_2 = X_train_problema_2.drop(columns=dif_1_problema_2)\n",
    "X_test_problema_2 = X_test_problema_2.drop(columns=dif_2_problema_2)\n",
    "\n",
    "y_train_problema_2 = train_problema_2[\"arstmade\"]\n",
    "y_test_problema_2 = test_problema_2[\"arstmade\"]\n",
    "######################################################"
   ]
  },
  {
   "attachments": {},
   "cell_type": "markdown",
   "metadata": {},
   "source": [
    "## Optimizacion"
   ]
  },
  {
   "attachments": {},
   "cell_type": "markdown",
   "metadata": {},
   "source": [
    "### PCA"
   ]
  },
  {
   "cell_type": "code",
   "execution_count": 24,
   "metadata": {},
   "outputs": [],
   "source": [
    "from sklearn.decomposition import PCA\n",
    "\n",
    "pca_problema_1 = PCA(n_components=10)\n",
    "\n",
    "X_train_problema_1 = pca_problema_1.fit_transform(X_train_problema_1)\n",
    "X_test_problema_1 = pca_problema_1.transform(X_test_problema_1)\n",
    "\n",
    "pca_problema_2 = PCA(n_components=10)\n",
    "\n",
    "X_train_problema_2 = pca_problema_2.fit_transform(X_train_problema_2)\n",
    "X_test_problema_2 = pca_problema_2.transform(X_test_problema_2)\n"
   ]
  },
  {
   "attachments": {},
   "cell_type": "markdown",
   "metadata": {},
   "source": [
    "### SMOTE"
   ]
  },
  {
   "cell_type": "code",
   "execution_count": 26,
   "metadata": {},
   "outputs": [],
   "source": [
    "from imblearn.over_sampling import SMOTE\n",
    "\n",
    "oversampler_problema_1 = SMOTE(random_state=1, sampling_strategy=\"minority\")\n",
    "\n",
    "X_train_problema_1, y_train_problema_1 = oversampler_problema_1.fit_resample(\n",
    "    X_train_problema_1, y_train_problema_1\n",
    ")\n",
    "\n",
    "oversampler_problema_2 = SMOTE(random_state=1, sampling_strategy=\"minority\")\n",
    "X_train_problema_2, y_train_problema_2 = oversampler_problema_2.fit_resample(\n",
    "    X_train_problema_2, y_train_problema_2\n",
    ")"
   ]
  },
  {
   "cell_type": "code",
   "execution_count": 31,
   "metadata": {},
   "outputs": [
    {
     "data": {
      "text/plain": [
       "0    4355\n",
       "1    4355\n",
       "Name: arstmade, dtype: int64"
      ]
     },
     "execution_count": 31,
     "metadata": {},
     "output_type": "execute_result"
    }
   ],
   "source": [
    "y_train_problema_1.value_counts()"
   ]
  },
  {
   "cell_type": "code",
   "execution_count": 32,
   "metadata": {},
   "outputs": [
    {
     "data": {
      "text/plain": [
       "0    4355\n",
       "1    4355\n",
       "Name: arstmade, dtype: int64"
      ]
     },
     "execution_count": 32,
     "metadata": {},
     "output_type": "execute_result"
    }
   ],
   "source": [
    "y_train_problema_2.value_counts()"
   ]
  },
  {
   "attachments": {},
   "cell_type": "markdown",
   "metadata": {},
   "source": [
    "# Reporte comparativo de desempenos\n",
    "\n",
    "- En el Hito 2 se reportaron los desempenos de cada uno de los modelos ya entrenados. Esto se realizo\n",
    "tanto para el conjunto de entrenamiento y el conjunto de validacion. En la siguiente tabla se\n",
    "recopila a modo de resumen los resultados.\n",
    "\n",
    "- En este caso se reportara tambien el f1-score de la clase 1 para cada problema. Esto, ya que es\n",
    "la clase de mayor interes para cada problema\n",
    "\n",
    "## Problema 1 - Prediccion de Arresto\n",
    "\n",
    "|Modelo|Entrenamiento Accuracy|Validacion F1 Clase 1|Validacion Accuracy|Validacion ROC|\n",
    "|------|----------------------|---------------------|-------------------|--------------|\n",
    "|Logistico|0.97|0.75|0.97|0.82|\n",
    "|Naive Bayes|0.96|0.69|0.96|0.86|\n",
    "|Gradient Boosting|0.97|0.95|0.99|0.96|\n",
    "\n",
    "\n"
   ]
  },
  {
   "cell_type": "markdown",
   "metadata": {},
   "source": []
  },
  {
   "cell_type": "markdown",
   "metadata": {},
   "source": [
    "## Problema 2 - Detencion Violenta\n",
    "\n",
    "|Modelo|Entrenamiento Accuracy|Validacion F1 Clase 1|Validacion Accuracy|Validacion ROC|\n",
    "|------|----------------------|---------------------|-------------------|--------------|\n",
    "|Logistico|0.77|0.26|0.77|0.57|\n",
    "|Naive Bayes|0.76|0.39|0.76|0.61|\n",
    "|Gradient Boosting|0.76|0.65|0.87|0.74|\n",
    "|Arbol de Clasificacion|0.76|0.26|0.76|0.56|\n",
    "|Random Forest|0.77|0.37|0.81|0.62|"
   ]
  },
  {
   "attachments": {},
   "cell_type": "markdown",
   "metadata": {},
   "source": [
    "# Exportacion de Mejores Modelos\n",
    "\n",
    "Teniendo en cuenta los resultados anteriores, los mejores modelos son el modelo de regresion\n",
    "logistica y naive bayes. Por lo tanto, ambos seran exportados para validacion externa."
   ]
  },
  {
   "cell_type": "code",
   "execution_count": 4,
   "metadata": {},
   "outputs": [],
   "source": [
    "modelos_a_exportar = {\n",
    "    \"javier_rojas-modelo-1.pickle\": modelos[\"modelo_gradient_boosting_problema_1\"],\n",
    "    \"javier_rojas-modelo-2.pickle\": modelos[\"modelo_gradient_boosting_problema_2\"],\n",
    "}\n"
   ]
  },
  {
   "cell_type": "code",
   "execution_count": 5,
   "metadata": {},
   "outputs": [],
   "source": [
    "for archivo, modelo in modelos_a_exportar.items():\n",
    "    with open(archivo, \"wb\") as file:\n",
    "        pickle.dump(modelo, file)\n"
   ]
  },
  {
   "cell_type": "code",
   "execution_count": null,
   "metadata": {},
   "outputs": [],
   "source": []
  }
 ],
 "metadata": {
  "kernelspec": {
   "display_name": "Python 3",
   "language": "python",
   "name": "python3"
  },
  "language_info": {
   "codemirror_mode": {
    "name": "ipython",
    "version": 3
   },
   "file_extension": ".py",
   "mimetype": "text/x-python",
   "name": "python",
   "nbconvert_exporter": "python",
   "pygments_lexer": "ipython3",
   "version": "3.10.9"
  },
  "orig_nbformat": 4
 },
 "nbformat": 4,
 "nbformat_minor": 2
}
