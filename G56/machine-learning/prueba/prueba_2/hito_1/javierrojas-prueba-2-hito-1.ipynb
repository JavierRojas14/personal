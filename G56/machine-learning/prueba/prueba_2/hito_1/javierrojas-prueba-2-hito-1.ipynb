{
 "cells": [
  {
   "attachments": {},
   "cell_type": "markdown",
   "metadata": {},
   "source": [
    "### Prueba 2 - Hito 1 - Javier Rojas Benitez - G56"
   ]
  },
  {
   "attachments": {},
   "cell_type": "markdown",
   "metadata": {},
   "source": [
    "# Preliminares"
   ]
  },
  {
   "attachments": {},
   "cell_type": "markdown",
   "metadata": {},
   "source": [
    "## Enunciado\n",
    "\n",
    "Este enunciado posee dos problemas predictivos a resolver.\n",
    "\n",
    "- **Primer Problema - Prediccion de Arresto**\n",
    "\n",
    "    - Este es un problema de clasificacion. En especifico, corresponde a un problema de clasificacion\n",
    "    binaria. Esto, ya que se quiere clasificar si una detencion policial terminara en un arresto o no.\n",
    "\n",
    "    - En resumen, es un problema donde se quieren relacionar diversas variables sociodemograficas y\n",
    "    variables relacionadas al arresto en si (acciones del oficial, indumentaria, etc)\n",
    "    con el arresto de una persona.\n",
    "\n",
    "- **Segundo Problema - Detencion Violenta**\n",
    "    - El segundo problema predictivo corresponde a un problema de clasificacion. Nuevamente, corresponde\n",
    "    a un problema de clasificacion binaria. Esto, ya que se quiere clasificar si una detencion policial\n",
    "    sera violenta o no.\n",
    "\n",
    "    - En este caso, se quiere relacionar variables sociodemograficas y de la detencion en si con la ocurrencia de una\n",
    "    detencion violenta\n",
    "\n",
    "    - Se deben utilizar las variables disponibles en el conjunto de datos para definir que es\n",
    "    una detencion violenta."
   ]
  },
  {
   "attachments": {},
   "cell_type": "markdown",
   "metadata": {},
   "source": [
    "## Variables disponibles\n",
    "\n",
    "- **Primer Problema - Prediccion de Arresto**\n",
    "\n",
    "    - El vector objetivo (```arstmade```) corresponde a una variable binaria que indica si un\n",
    "    individuo fue arrestado durante una interrogacion policial. Tiene una codificacion de \"Y\" =\n",
    "    El individuo fue arrestado; \"N\" = El individuo no fue arrestado\n",
    "\n",
    "- **Segundo Problema - Detencion Violenta**\n",
    "\n",
    "    - El vector objetivo (```violent```) de este problema debe ser creado a partir del valor de otras variables presentes en el dataset.\n",
    "    Tiene una codificacion de 1 = La detencion fue violenta; 0 = La detencion no fue violenta. Se listan las variables que se utilizaran para indicar si un arresto\n",
    "    fue violento o no:\n",
    "\n",
    "        - ```Cualquier variable que empiece con pf (Ej: pf_hands)```: Indica si el oficial utilizo\n",
    "        fuerza fisica con alguna de las extremidades mencionadas. Si el oficial utilizo fuerza con\n",
    "        cualquier extremidad, entonces fue un asalto violento."
   ]
  },
  {
   "attachments": {},
   "cell_type": "markdown",
   "metadata": {},
   "source": [
    "## Resolución del problema\n",
    "\n",
    "- Como se menciono previamente, este es un enunciado que engloba dos problemas de clasificacion binaria.\n",
    "El primero de ellos relaciona diversas variables sociodemograficas y variables relacionadas al arresto en si (acciones del oficial, indumentaria, etc) con la probabilidad de arresto de una persona. El segundo problema relaciona las mismas variables, pero en este caso con la probabilidad de tener un arresto violento.\n",
    "\n",
    "- Para el primer problemas se utilizaran los siguientes modelos predictivos.\n",
    "    - Regresion logistica\n",
    "    - Naive Bayes Multinomial\n",
    "    - Arbol de Clasificacion con Boosting de Gradiente\n",
    "\n",
    "- La busqueda de hiperparametros que se utilizaran para cada modelo seran las siguientes:\n",
    "\n",
    "    - **Regresion Logistica:**\n",
    "        - **C**: Se modificara este parametro, ya que permite modificar la fuerza de la regularizacion del\n",
    "        modelo. Valores mas altos aumentan la varianza del modelo (mayor chance de overfitting), valores\n",
    "        mas bajos aumentan el sesgo del modelo (mayor chance de generalizacion, menos overfitting). Se\n",
    "        utilizaran los siguientes valores:\n",
    "        ```python\n",
    "        [0.0001, 0.001, 0.01, 0.1, 1, 10]\n",
    "        ```\n",
    "\n",
    "        - **solver**: Se modificara este parametro, ya que permite modifiar el algoritmo de optimizacion\n",
    "        para crear la curva de regresion logistica. Esto se traduce en modelos mas/menos exactos. Se utilizaran los siguientes valores: \n",
    "        ```python\n",
    "        ['newton-cg', 'lbfgs', 'liblinear', 'sag', 'saga']\n",
    "        ```\n",
    "\n",
    "\n",
    "    - **Naive Bayes Multinomial:**\n",
    "        - **alpha**: Se utilizara, ya que permite modificar la suavizacion del modelo. Altos valores de\n",
    "        alpha reducen el efecto de palabras raras en el modelo. Bajos valors de alpha hacel al modelo\n",
    "        mas sensible a palabras raras. Se utilizaran los siguientes valores:\n",
    "        ```python\n",
    "        [0.0001, 0.001, 0.01, 0.1, 1, 10, 100, 1000]\n",
    "        ```\n",
    "        - **fit_prior**: Permite aprender sobre la frecuencia de cada clase antes de realizar el modelo.\n",
    "        Se utilizarna los siguientes valores:\n",
    "\n",
    "        ```python\n",
    "        [True, False]\n",
    "        ```\n",
    "    \n",
    "    - **Arbol de Clasificacion con Boosting de Gradiente**\n",
    "        - **max_depth**: Se modificara este parametro, ya que modifica cuantos niveles puede tener un\n",
    "        arbol. Un arbol con muchos niveles puede incurrir en el overfitting. Se utilizaran los siguientes\n",
    "        valores:\n",
    "        ```python\n",
    "        range(5, 11)\n",
    "        ``` \n",
    "\n",
    "        - **learning_rate**: Permite cambiar cuanto contribuye cada arbol en el modelo completo. Un\n",
    "        learning rate mas pequeno demora mas tiempo en converger, pero tiene menos probabilidad de\n",
    "        caer en un overfiting. Un learning rate mas alto demora menos en converger, pero es mas\n",
    "        propenso a caer en overfitting. Se utilizaran los siguientes valores:\n",
    "\n",
    "        ```python\n",
    "        [0.001, 0.01, 0.1, 1]\n",
    "        ```\n",
    "\n",
    "\n",
    "- Para el segundo problema se utilizaran los siguientes modelos predictivos.\n",
    "    - Regresion logistica\n",
    "    - Naive Bayes Multinomial\n",
    "    - Arbol de Clasificacion Simple\n",
    "    - Random Forest\n",
    "    - Arbol de Clasificacion con Boosting de Gradiente\n",
    "\n",
    "- La busqueda de hiperparametros que se utilizaran para cada modelo seran las siguientes:\n",
    "\n",
    "    - **Regresion Logistica:**\n",
    "        - **C**: Se modificara este parametro, ya que permite modificar la fuerza de la regularizacion del\n",
    "        modelo. Valores mas altos aumentan la varianza del modelo (mayor chance de overfitting), valores\n",
    "        mas bajos aumentan el sesgo del modelo (mayor chance de generalizacion, menos overfitting). Se\n",
    "        utilizaran los siguientes valores:\n",
    "        ```python\n",
    "        [0.0001, 0.001, 0.01, 0.1, 1, 10]\n",
    "        ```\n",
    "\n",
    "        - **solver**: Se modificara este parametro, ya que permite modifiar el algoritmo de optimizacion\n",
    "        para crear la curva de regresion logistica. Esto se traduce en modelos mas/menos exactos. Se utilizaran los siguientes valores: \n",
    "        ```python\n",
    "        ['newton-cg', 'lbfgs', 'liblinear', 'sag', 'saga']\n",
    "        ```\n",
    "\n",
    "\n",
    "    - **Naive Bayes Multinomial:**\n",
    "        - **alpha**: Se utilizara, ya que permite modificar la suavizacion del modelo. Altos valores de\n",
    "        alpha reducen el efecto de palabras raras en el modelo. Bajos valors de alpha hacel al modelo\n",
    "        mas sensible a palabras raras. Se utilizaran los siguientes valores:\n",
    "        ```python\n",
    "        [0.0001, 0.001, 0.01, 0.1, 1, 10, 100, 1000]\n",
    "        ```\n",
    "        - **fit_prior**: Permite aprender sobre la frecuencia de cada clase antes de realizar el modelo.\n",
    "        Se utilizarna los siguientes valores:\n",
    "\n",
    "        ```python\n",
    "        [True, False]\n",
    "        ```\n",
    "    \n",
    "    - **Arbol de Clasificacion Simple**\n",
    "        - **max_depth**: Se modificara este parametro, ya que modifica cuantos niveles puede tener un\n",
    "        arbol. Un arbol con muchos niveles puede incurrir en el overfitting. Se utilizaran los siguientes\n",
    "        valores:\n",
    "        ```python\n",
    "        range(3, 11)\n",
    "        ```\n",
    "        - **max_leaf_nodes**: Se modificara este parametro, ya que permitira controlar la cantidad de\n",
    "        nodos hoja. Esto evitara el overfitting. Se utilizaran los siguientes\n",
    "        valores:\n",
    "        ```python\n",
    "        range(1, 6)\n",
    "        ```\n",
    "        - **criterion**: Este parametro permitira cambiar el modo en el que se calcula la impureza de\n",
    "        una division. Se utilizaran los siguientes valores:\n",
    "        ```python\n",
    "        ['gini', 'entropy']\n",
    "        ```\n",
    "\n",
    "    - **Random Forest de Clasificacion**\n",
    "        - **max_depth**: Se modificara este parametro, ya que modifica cuantos niveles puede tener un\n",
    "        arbol. Un arbol con muchos niveles puede incurrir en el overfitting. Se utilizaran los siguientes\n",
    "        valores:\n",
    "        ```python\n",
    "        range(5, 11)\n",
    "        ```\n",
    "\n",
    "        - **n_estimators**: Es la cantidad de arboles que existen en el ensamble de arboles. Una mayor cantidad\n",
    "        de arboles aumenta la exactitud de la prediccion, pero es mas costoso computacionalmente. Se utilizaran los siguientes valores:\n",
    "\n",
    "        ```python\n",
    "        range(500, 1001, 100)\n",
    "        ```\n",
    "\n",
    "        - **max_features**: Es la cantidad de variables independientes a utilizar para cada division en el\n",
    "        arbol. Se utilizaran los siguientes valores:\n",
    "        ```python\n",
    "        ['sqrt', 'log2']\n",
    "        ```\n",
    "\n",
    "    - **Arbol de Clasificacion con Boosting de Gradiente**\n",
    "        - **max_depth**: Se modificara este parametro, ya que modifica cuantos niveles puede tener un\n",
    "        arbol. Un arbol con muchos niveles puede incurrir en el overfitting. Se utilizaran los siguientes\n",
    "        valores:\n",
    "        ```python\n",
    "        range(5, 11)\n",
    "        ``` \n",
    "\n",
    "        - **learning_rate**: Permite cambiar cuanto contribuye cada arbol en el modelo completo. Un\n",
    "        learning rate mas pequeno demora mas tiempo en converger, pero tiene menos probabilidad de\n",
    "        caer en un overfiting. Un learning rate mas alto demora menos en converger, pero es mas\n",
    "        propenso a caer en overfitting. Se utilizaran los siguientes valores:\n",
    "\n",
    "        ```python\n",
    "        [0.001, 0.01, 0.1, 1]\n",
    "        ```\n",
    "\n",
    "\n",
    "El flujo general de la resolución del problema será la siguiente:\n",
    "\n",
    "1. **Análisis exploratorio de los datos y preprocesamiento**\n",
    "    1. Analizar la distribucion y valores faltantes del vector objetivo del problema 1 (```arstmade``)\n",
    "    2. Analizar la distribucion y valores faltantes de todas las demas variables (todas, exceptuando\n",
    "    ```arstmade```). Discutir resultados de variables a utilizar para crear el vector objetivo\n",
    "    del problema 2 (```pf_hands```,  ```pf_wall```, ```pf_grnd```, ```pf_drwep```, ```pf_ptwep```, \n",
    "    ```pf_baton```, ```pf_hcuff```, ```pf_pepsp```, ```pf_other```)\n",
    "    3. Analizar la probabiildad de que un individuo sea arrestado en uno de los cinco barrios (```state```), condicional al genero (```sex```) y la raza (```race```). Discutir los resultados\n",
    "    4. Recodificar el vector objetivo del problema 1 (```arstmade```) ([Preprocesamiento ```arstmade```](#vector-objetivo-problema-1---arstmade))\n",
    "    5. Crear el vector objetivo del problema 2 (```violent```)([Creacion de variable ```violent```](#creacion-vector-objetivo-problema-2---violent)).\n",
    "    6. Analizar la distribucion del vector objetivo del problema 2 y discutir los resultados.\n",
    "    7. Preprocesar todas las variables restantes de la base de datos ([Preprocesar variables independiente](#variables-independientes))\n",
    "\n",
    "\n",
    "2. **Separación de datos en entrenamiento y validación**\n",
    "    1. Para el problema 1, se separaran las variables en variable dependiente e independientes\n",
    "    2. Para el problema 2, se separaran las variables en variable dependiente e independientes. Ademas,\n",
    "    se eliminaran las columnas utilizadas para crear el vector objetivo ```violent```.\n",
    "    3. En este caso, se obviara el paso de separar en datos de entrenamiento y validacion. Esto, ya que\n",
    "    se utilizaran los datos de 2010 como datos de validacion.\n",
    "    4. Se cargaran los datos de 2010, y se preprocesaran de forma identica que los datos de 2009.\n",
    "\n",
    "3. **Búsqueda de parámetros óptimos para modelos de Machine Learning**\n",
    "    1. Se realizará un GridSearchCV para cada uno de los modelos listado, utilizando la grilla\n",
    "    adjunta previamente para cada modelo.\n",
    "    2. Se obtendrán los parámetros óptimos de cada tipo de modelo creado\n",
    "\n",
    "4. **Validación y elección de modelos optimizados**\n",
    "    1. Cada uno de los modelos con sus parámetros optimizados se validará con las detenciones\n",
    "    realizadas en el ano 2010.\n",
    "    2. Finalmente, se comparará el desempeño de cada modelo y se elegirá el mejor de todos\n",
    "    según la métrica de ROC-AUC."
   ]
  },
  {
   "attachments": {},
   "cell_type": "markdown",
   "metadata": {},
   "source": [
    "\n",
    "## Preprocesamiento\n",
    "\n",
    "### Vector objetivo problema 1 - ```arstmade```\n",
    "\n",
    "1. Se reemplazara los valores segun el siguiente diccionario:\n",
    "```python\n",
    "{\n",
    "    \"N\": 0,\n",
    "    \"Y\": 1\n",
    "}\n",
    "```\n",
    "\n",
    "### Creacion Vector objetivo problema 2 - ```violent```\n",
    "\n",
    "1. Se realizaran condicionales para cada una de las variables seleccionadas para crear la variable\n",
    "```violent```.  En el siguiente diagrama se muestran las condiciones para que un arresto se considere\n",
    "violento.\n",
    "\n",
    "    - ```Cualquier variable que empiece con pf (Ej: pf_hands)```: \"Y\" = Violento\n",
    "\n",
    "2. Un arresto violento sera codificado con el numero 1, y un arresto no violento sera codificado\n",
    "con el numero 0\n",
    "\n",
    "### Variables independientes\n",
    "\n",
    "Todas las demas variables presentes en la base de dato seran codificadas a un numero entero. Para\n",
    "codificar cada tipo de variable (numericas, categoricas binarias con valores \"Y\" y \"N\", vars restantes) se realizaran los siguientes\n",
    "pasos:\n",
    "\n",
    "- **Variables numericas:** Se dejaran tal como estan.\n",
    "- **Variable categoricas binarias con valores \"Y\" y \"N\":** Se recodificaran con el mismo diccionario\n",
    "utilizado para codificar el vector objetivo del problema 1.\n",
    "- **Vars restantes (No numericas y no vars categoricas con valores \"Y\" y \"N\"):** Se recodificaran con el\n",
    "metodo de Leave One Out Encoding. "
   ]
  },
  {
   "attachments": {},
   "cell_type": "markdown",
   "metadata": {},
   "source": [
    "## Division de muestras\n",
    "\n",
    "- Una vez realizado todo el preprocesamiento, se dividirá el conjunto de entrenamiento (arrestos de 2009) en variables independientes y dependientes (problema 1: ```arstmade```; problema 2: ```violent```).\n",
    "\n",
    "- En el problema 2, se eliminaran del conjunto de variables independientes todas las variables\n",
    "que fueron utilizadas para crear el vector objetivo (```pf_hands```,  ```pf_wall```, ```pf_grnd```, ```pf_drwep```, ```pf_ptwep```, \n",
    "    ```pf_baton```, ```pf_hcuff```, ```pf_pepsp```, ```pf_other```).\n",
    "\n",
    "- El set de entrenamiento será utilizado para realizar un GridSearch con Validación Cruzada\n",
    "para cada modelo. Se utilizarán 5 validaciones cruzadas para cada búsqueda en grilla.\n",
    "\n",
    "- El set de validacion corresponderan a las detenciones policiales hechas en 2010."
   ]
  },
  {
   "attachments": {},
   "cell_type": "markdown",
   "metadata": {},
   "source": [
    "\n",
    "## Métricas de Desempeño\n",
    "\n",
    "- Para cada una de las validaciones cruzadas durante del GridSearchCV, se calculará la métrica\n",
    "de accuracy\n",
    "\n",
    "- Para la validación de cada modelo con el conjunto de datos de testeo se calcularán las métricas\n",
    "de recall, precision, accuracy y f1-score (con la función ```classification_report``` de\n",
    "sklearn.metrics). Además, se calculará el ROC-AUC Score para discernir qué modelo es el más\n",
    "óptimo."
   ]
  },
  {
   "attachments": {},
   "cell_type": "markdown",
   "metadata": {},
   "source": [
    "\n",
    "\n",
    "## Optimización del Modelo\n",
    "\n",
    "- Se utilizará una búsqueda en grilla para elegir los hiperparámetros más óptimos de cada uno de los\n",
    "modelos disponibles.\n",
    "\n",
    "- Durante la validación de cada uno de los modelos, se utilizará la métrica de ROC-AUC Score\n",
    "para elegir el modelo más óptimo disponible.\n",
    "\n",
    "- Para balancear la cantidad de datos en los vectores objetivos, se utilizara la tecnica de\n",
    "\"Synthetic Minority Oversampling Technique\" (SMOTE). Por lo tanto, se hara una sobremuestra de\n",
    "la clase con el menor numero de datos."
   ]
  },
  {
   "attachments": {},
   "cell_type": "markdown",
   "metadata": {},
   "source": [
    "\n",
    "# Aspectos Computacionales\n",
    "\n",
    "- TODO\n"
   ]
  },
  {
   "attachments": {},
   "cell_type": "markdown",
   "metadata": {},
   "source": [
    "# Análisis Exploratorio"
   ]
  },
  {
   "cell_type": "code",
   "execution_count": 9,
   "metadata": {},
   "outputs": [
    {
     "data": {
      "text/plain": [
       "<module 'funciones_auxiliares_hito_1' from 'c:\\\\Users\\\\ppizarro\\\\Desktop\\\\Javier Rojas\\\\Javier\\\\propio\\\\personal\\\\G56\\\\machine-learning\\\\prueba\\\\prueba_2\\\\hito_1\\\\funciones_auxiliares_hito_1.py'>"
      ]
     },
     "execution_count": 9,
     "metadata": {},
     "output_type": "execute_result"
    }
   ],
   "source": [
    "import random\n",
    "\n",
    "import pandas as pd\n",
    "import numpy as np\n",
    "import polars as pl\n",
    "\n",
    "import matplotlib.pyplot as plt\n",
    "import seaborn as sns\n",
    "\n",
    "import funciones_auxiliares_hito_1 as aux\n",
    "import preproc_nyc_sqf as pre\n",
    "\n",
    "import warnings\n",
    "\n",
    "warnings.filterwarnings(\"ignore\")\n",
    "sns.set_style()\n",
    "plt.rcParams[\"figure.figsize\"] = (12, 6)"
   ]
  },
  {
   "cell_type": "code",
   "execution_count": 10,
   "metadata": {},
   "outputs": [
    {
     "name": "stdout",
     "output_type": "stream",
     "text": [
      "['perobs']\n"
     ]
    }
   ],
   "source": [
    "df = pd.read_csv(\"input/2009_1perc.csv\").drop(columns=\"Unnamed: 0\")\n",
    "df_suitable, vars_categoricas_perm, vars_numericas_perm = pre.create_suitable_dataframe(df)"
   ]
  },
  {
   "attachments": {},
   "cell_type": "markdown",
   "metadata": {},
   "source": [
    "## Problema 1 - ```arstmade```\n",
    "\n",
    "- A modo de comparacion, se vera la distribucion del vector objetivo sin el preprocesamiento con la\n",
    "funcion ```create_suitable_dataframe``` y con el preprocesamiento de esta funcion."
   ]
  },
  {
   "cell_type": "code",
   "execution_count": 11,
   "metadata": {},
   "outputs": [
    {
     "name": "stdout",
     "output_type": "stream",
     "text": [
      "Analizando todas las variables categoricas \n",
      "\n"
     ]
    },
    {
     "data": {
      "text/html": [
       "<div>\n",
       "<style scoped>\n",
       "    .dataframe tbody tr th:only-of-type {\n",
       "        vertical-align: middle;\n",
       "    }\n",
       "\n",
       "    .dataframe tbody tr th {\n",
       "        vertical-align: top;\n",
       "    }\n",
       "\n",
       "    .dataframe thead th {\n",
       "        text-align: right;\n",
       "    }\n",
       "</style>\n",
       "<table border=\"1\" class=\"dataframe\">\n",
       "  <thead>\n",
       "    <tr style=\"text-align: right;\">\n",
       "      <th></th>\n",
       "      <th>Frecuencia</th>\n",
       "      <th>Porcentaje</th>\n",
       "    </tr>\n",
       "  </thead>\n",
       "  <tbody>\n",
       "    <tr>\n",
       "      <th>N</th>\n",
       "      <td>5464</td>\n",
       "      <td>0.940124</td>\n",
       "    </tr>\n",
       "    <tr>\n",
       "      <th>Y</th>\n",
       "      <td>348</td>\n",
       "      <td>0.059876</td>\n",
       "    </tr>\n",
       "  </tbody>\n",
       "</table>\n",
       "</div>"
      ],
      "text/plain": [
       "   Frecuencia  Porcentaje\n",
       "N        5464    0.940124\n",
       "Y         348    0.059876"
      ]
     },
     "metadata": {},
     "output_type": "display_data"
    },
    {
     "data": {
      "image/png": "[encoded data removed]",
      "text/plain": [
       "<Figure size 1200x600 with 1 Axes>"
      ]
     },
     "metadata": {},
     "output_type": "display_data"
    },
    {
     "data": {
      "text/html": [
       "<div>\n",
       "<style scoped>\n",
       "    .dataframe tbody tr th:only-of-type {\n",
       "        vertical-align: middle;\n",
       "    }\n",
       "\n",
       "    .dataframe tbody tr th {\n",
       "        vertical-align: top;\n",
       "    }\n",
       "\n",
       "    .dataframe thead th {\n",
       "        text-align: right;\n",
       "    }\n",
       "</style>\n",
       "<table border=\"1\" class=\"dataframe\">\n",
       "  <thead>\n",
       "    <tr style=\"text-align: right;\">\n",
       "      <th></th>\n",
       "      <th>cantidad_na</th>\n",
       "      <th>porcentaje_na</th>\n",
       "    </tr>\n",
       "  </thead>\n",
       "  <tbody>\n",
       "    <tr>\n",
       "      <th>arstmade</th>\n",
       "      <td>0</td>\n",
       "      <td>0.0</td>\n",
       "    </tr>\n",
       "  </tbody>\n",
       "</table>\n",
       "</div>"
      ],
      "text/plain": [
       "          cantidad_na  porcentaje_na\n",
       "arstmade            0            0.0"
      ]
     },
     "metadata": {},
     "output_type": "display_data"
    },
    {
     "data": {
      "image/png": "[encoded data removed]",
      "text/plain": [
       "<Figure size 2500x1000 with 2 Axes>"
      ]
     },
     "metadata": {},
     "output_type": "display_data"
    }
   ],
   "source": [
    "aux.analizar_distribucion_y_faltantes_variables(df[\"arstmade\"].to_frame())\n"
   ]
  },
  {
   "attachments": {},
   "cell_type": "markdown",
   "metadata": {},
   "source": [
    "- Se puede observar que el vector objetivo ```arstmade``` tiene 5464 paradas sin arresto (94% de\n",
    "todas las paradas). Por otro lado, se puede observar que 348 paradas si terminaron en arresto\n",
    "(6% de todas las paradas). Por lo tanto, el vector objetivo se encuentra altamente desbalanceado.\n",
    "\n",
    "- El vector objetivo ```arstmade``` carece de valores faltantes."
   ]
  },
  {
   "cell_type": "code",
   "execution_count": 12,
   "metadata": {},
   "outputs": [
    {
     "name": "stdout",
     "output_type": "stream",
     "text": [
      "Analizando todas las variables categoricas \n",
      "\n"
     ]
    },
    {
     "data": {
      "text/html": [
       "<div>\n",
       "<style scoped>\n",
       "    .dataframe tbody tr th:only-of-type {\n",
       "        vertical-align: middle;\n",
       "    }\n",
       "\n",
       "    .dataframe tbody tr th {\n",
       "        vertical-align: top;\n",
       "    }\n",
       "\n",
       "    .dataframe thead th {\n",
       "        text-align: right;\n",
       "    }\n",
       "</style>\n",
       "<table border=\"1\" class=\"dataframe\">\n",
       "  <thead>\n",
       "    <tr style=\"text-align: right;\">\n",
       "      <th></th>\n",
       "      <th>Frecuencia</th>\n",
       "      <th>Porcentaje</th>\n",
       "    </tr>\n",
       "  </thead>\n",
       "  <tbody>\n",
       "    <tr>\n",
       "      <th>N</th>\n",
       "      <td>4355</td>\n",
       "      <td>0.939387</td>\n",
       "    </tr>\n",
       "    <tr>\n",
       "      <th>Y</th>\n",
       "      <td>281</td>\n",
       "      <td>0.060613</td>\n",
       "    </tr>\n",
       "  </tbody>\n",
       "</table>\n",
       "</div>"
      ],
      "text/plain": [
       "   Frecuencia  Porcentaje\n",
       "N        4355    0.939387\n",
       "Y         281    0.060613"
      ]
     },
     "metadata": {},
     "output_type": "display_data"
    },
    {
     "data": {
      "image/png": "[encoded data removed]",
      "text/plain": [
       "<Figure size 1200x600 with 1 Axes>"
      ]
     },
     "metadata": {},
     "output_type": "display_data"
    },
    {
     "data": {
      "text/html": [
       "<div>\n",
       "<style scoped>\n",
       "    .dataframe tbody tr th:only-of-type {\n",
       "        vertical-align: middle;\n",
       "    }\n",
       "\n",
       "    .dataframe tbody tr th {\n",
       "        vertical-align: top;\n",
       "    }\n",
       "\n",
       "    .dataframe thead th {\n",
       "        text-align: right;\n",
       "    }\n",
       "</style>\n",
       "<table border=\"1\" class=\"dataframe\">\n",
       "  <thead>\n",
       "    <tr style=\"text-align: right;\">\n",
       "      <th></th>\n",
       "      <th>cantidad_na</th>\n",
       "      <th>porcentaje_na</th>\n",
       "    </tr>\n",
       "  </thead>\n",
       "  <tbody>\n",
       "    <tr>\n",
       "      <th>arstmade</th>\n",
       "      <td>0</td>\n",
       "      <td>0.0</td>\n",
       "    </tr>\n",
       "  </tbody>\n",
       "</table>\n",
       "</div>"
      ],
      "text/plain": [
       "          cantidad_na  porcentaje_na\n",
       "arstmade            0            0.0"
      ]
     },
     "metadata": {},
     "output_type": "display_data"
    },
    {
     "data": {
      "image/png": "[encoded data removed]",
      "text/plain": [
       "<Figure size 2500x1000 with 2 Axes>"
      ]
     },
     "metadata": {},
     "output_type": "display_data"
    }
   ],
   "source": [
    "aux.analizar_distribucion_y_faltantes_variables(df_suitable[\"arstmade\"].to_frame())\n"
   ]
  },
  {
   "cell_type": "code",
   "execution_count": 13,
   "metadata": {},
   "outputs": [
    {
     "name": "stdout",
     "output_type": "stream",
     "text": [
      "Se eliminaron 40 columnas. Las columnas eliminadas son: {'perobs', 'arstoffn', 'datestop', 'dob', 'ycoord', 'premtype', 'comppct', 'age_individual', 'weight', 'crimsusp', 'premname', 'compyear', 'pct', 'timestop', 'year', 'detailcm', 'xcoord', 'ht_inch', 'ht_feet', 'adtlrept', 'repcmd', 'ser_num', 'perstop', 'sumoffen', 'addrpct', 'crossst', 'stname', 'state', 'addrtyp', 'addrnum', 'rescode', 'revcmd', 'othfeatr', 'aptnum', 'linecm', 'dettypcm', 'zip', 'stinter', 'machgun', 'age'}\n"
     ]
    }
   ],
   "source": [
    "columnas_eliminadas = set(df.columns) - set(df_suitable.columns)\n",
    "print(\n",
    "    f\"Se eliminaron {len(columnas_eliminadas)} columnas. Las columnas eliminadas son: {columnas_eliminadas}\"\n",
    ")\n"
   ]
  },
  {
   "attachments": {},
   "cell_type": "markdown",
   "metadata": {},
   "source": [
    "- Al comparar la distribucion del vector original y al aplicar la funcion ```create_suitable_dataframe```,\n",
    "se puede observar que se mantiene la proporcion de detenciones sin arresto y con arresto  (94% a 6%)\n",
    "\n",
    "- Se puede ver una disminucion de 5812 detenciones a 4636 detenciones (cambio de 1176 detenciones)\n",
    "\n",
    "- Se puede ver que se eliminaron 40 columnas.\n",
    "\n",
    "- Para todo el analisis posterior se utilizara la base de datos filtrada. Esto, ya que consolida diversos valores\n",
    "de cada variable, y elimina variables con alta cardinalidad (ej: ```ycoord```, ```xcoord```)."
   ]
  },
  {
   "attachments": {},
   "cell_type": "markdown",
   "metadata": {},
   "source": [
    "## Problema 2 - ```violent```"
   ]
  },
  {
   "cell_type": "code",
   "execution_count": 14,
   "metadata": {},
   "outputs": [
    {
     "name": "stdout",
     "output_type": "stream",
     "text": [
      "Analizando todas las variables categoricas \n",
      "\n"
     ]
    },
    {
     "data": {
      "text/html": [
       "<div>\n",
       "<style scoped>\n",
       "    .dataframe tbody tr th:only-of-type {\n",
       "        vertical-align: middle;\n",
       "    }\n",
       "\n",
       "    .dataframe tbody tr th {\n",
       "        vertical-align: top;\n",
       "    }\n",
       "\n",
       "    .dataframe thead th {\n",
       "        text-align: right;\n",
       "    }\n",
       "</style>\n",
       "<table border=\"1\" class=\"dataframe\">\n",
       "  <thead>\n",
       "    <tr style=\"text-align: right;\">\n",
       "      <th></th>\n",
       "      <th>Frecuencia</th>\n",
       "      <th>Porcentaje</th>\n",
       "    </tr>\n",
       "  </thead>\n",
       "  <tbody>\n",
       "    <tr>\n",
       "      <th>N</th>\n",
       "      <td>3640</td>\n",
       "      <td>0.78516</td>\n",
       "    </tr>\n",
       "    <tr>\n",
       "      <th>Y</th>\n",
       "      <td>996</td>\n",
       "      <td>0.21484</td>\n",
       "    </tr>\n",
       "  </tbody>\n",
       "</table>\n",
       "</div>"
      ],
      "text/plain": [
       "   Frecuencia  Porcentaje\n",
       "N        3640     0.78516\n",
       "Y         996     0.21484"
      ]
     },
     "metadata": {},
     "output_type": "display_data"
    },
    {
     "data": {
      "image/png": "[encoded data removed]",
      "text/plain": [
       "<Figure size 1200x600 with 1 Axes>"
      ]
     },
     "metadata": {},
     "output_type": "display_data"
    },
    {
     "data": {
      "text/html": [
       "<div>\n",
       "<style scoped>\n",
       "    .dataframe tbody tr th:only-of-type {\n",
       "        vertical-align: middle;\n",
       "    }\n",
       "\n",
       "    .dataframe tbody tr th {\n",
       "        vertical-align: top;\n",
       "    }\n",
       "\n",
       "    .dataframe thead th {\n",
       "        text-align: right;\n",
       "    }\n",
       "</style>\n",
       "<table border=\"1\" class=\"dataframe\">\n",
       "  <thead>\n",
       "    <tr style=\"text-align: right;\">\n",
       "      <th></th>\n",
       "      <th>Frecuencia</th>\n",
       "      <th>Porcentaje</th>\n",
       "    </tr>\n",
       "  </thead>\n",
       "  <tbody>\n",
       "    <tr>\n",
       "      <th>N</th>\n",
       "      <td>4490</td>\n",
       "      <td>0.968507</td>\n",
       "    </tr>\n",
       "    <tr>\n",
       "      <th>Y</th>\n",
       "      <td>146</td>\n",
       "      <td>0.031493</td>\n",
       "    </tr>\n",
       "  </tbody>\n",
       "</table>\n",
       "</div>"
      ],
      "text/plain": [
       "   Frecuencia  Porcentaje\n",
       "N        4490    0.968507\n",
       "Y         146    0.031493"
      ]
     },
     "metadata": {},
     "output_type": "display_data"
    },
    {
     "data": {
      "image/png": "[encoded data removed]",
      "text/plain": [
       "<Figure size 1200x600 with 1 Axes>"
      ]
     },
     "metadata": {},
     "output_type": "display_data"
    },
    {
     "data": {
      "text/html": [
       "<div>\n",
       "<style scoped>\n",
       "    .dataframe tbody tr th:only-of-type {\n",
       "        vertical-align: middle;\n",
       "    }\n",
       "\n",
       "    .dataframe tbody tr th {\n",
       "        vertical-align: top;\n",
       "    }\n",
       "\n",
       "    .dataframe thead th {\n",
       "        text-align: right;\n",
       "    }\n",
       "</style>\n",
       "<table border=\"1\" class=\"dataframe\">\n",
       "  <thead>\n",
       "    <tr style=\"text-align: right;\">\n",
       "      <th></th>\n",
       "      <th>Frecuencia</th>\n",
       "      <th>Porcentaje</th>\n",
       "    </tr>\n",
       "  </thead>\n",
       "  <tbody>\n",
       "    <tr>\n",
       "      <th>N</th>\n",
       "      <td>4608</td>\n",
       "      <td>0.99396</td>\n",
       "    </tr>\n",
       "    <tr>\n",
       "      <th>Y</th>\n",
       "      <td>28</td>\n",
       "      <td>0.00604</td>\n",
       "    </tr>\n",
       "  </tbody>\n",
       "</table>\n",
       "</div>"
      ],
      "text/plain": [
       "   Frecuencia  Porcentaje\n",
       "N        4608     0.99396\n",
       "Y          28     0.00604"
      ]
     },
     "metadata": {},
     "output_type": "display_data"
    },
    {
     "data": {
      "image/png": "[encoded data removed]",
      "text/plain": [
       "<Figure size 1200x600 with 1 Axes>"
      ]
     },
     "metadata": {},
     "output_type": "display_data"
    },
    {
     "data": {
      "text/html": [
       "<div>\n",
       "<style scoped>\n",
       "    .dataframe tbody tr th:only-of-type {\n",
       "        vertical-align: middle;\n",
       "    }\n",
       "\n",
       "    .dataframe tbody tr th {\n",
       "        vertical-align: top;\n",
       "    }\n",
       "\n",
       "    .dataframe thead th {\n",
       "        text-align: right;\n",
       "    }\n",
       "</style>\n",
       "<table border=\"1\" class=\"dataframe\">\n",
       "  <thead>\n",
       "    <tr style=\"text-align: right;\">\n",
       "      <th></th>\n",
       "      <th>Frecuencia</th>\n",
       "      <th>Porcentaje</th>\n",
       "    </tr>\n",
       "  </thead>\n",
       "  <tbody>\n",
       "    <tr>\n",
       "      <th>N</th>\n",
       "      <td>4622</td>\n",
       "      <td>0.99698</td>\n",
       "    </tr>\n",
       "    <tr>\n",
       "      <th>Y</th>\n",
       "      <td>14</td>\n",
       "      <td>0.00302</td>\n",
       "    </tr>\n",
       "  </tbody>\n",
       "</table>\n",
       "</div>"
      ],
      "text/plain": [
       "   Frecuencia  Porcentaje\n",
       "N        4622     0.99698\n",
       "Y          14     0.00302"
      ]
     },
     "metadata": {},
     "output_type": "display_data"
    },
    {
     "data": {
      "image/png": "[encoded data removed]",
      "text/plain": [
       "<Figure size 1200x600 with 1 Axes>"
      ]
     },
     "metadata": {},
     "output_type": "display_data"
    },
    {
     "data": {
      "text/html": [
       "<div>\n",
       "<style scoped>\n",
       "    .dataframe tbody tr th:only-of-type {\n",
       "        vertical-align: middle;\n",
       "    }\n",
       "\n",
       "    .dataframe tbody tr th {\n",
       "        vertical-align: top;\n",
       "    }\n",
       "\n",
       "    .dataframe thead th {\n",
       "        text-align: right;\n",
       "    }\n",
       "</style>\n",
       "<table border=\"1\" class=\"dataframe\">\n",
       "  <thead>\n",
       "    <tr style=\"text-align: right;\">\n",
       "      <th></th>\n",
       "      <th>Frecuencia</th>\n",
       "      <th>Porcentaje</th>\n",
       "    </tr>\n",
       "  </thead>\n",
       "  <tbody>\n",
       "    <tr>\n",
       "      <th>N</th>\n",
       "      <td>4618</td>\n",
       "      <td>0.996117</td>\n",
       "    </tr>\n",
       "    <tr>\n",
       "      <th>Y</th>\n",
       "      <td>18</td>\n",
       "      <td>0.003883</td>\n",
       "    </tr>\n",
       "  </tbody>\n",
       "</table>\n",
       "</div>"
      ],
      "text/plain": [
       "   Frecuencia  Porcentaje\n",
       "N        4618    0.996117\n",
       "Y          18    0.003883"
      ]
     },
     "metadata": {},
     "output_type": "display_data"
    },
    {
     "data": {
      "image/png": "[encoded data removed]",
      "text/plain": [
       "<Figure size 1200x600 with 1 Axes>"
      ]
     },
     "metadata": {},
     "output_type": "display_data"
    },
    {
     "data": {
      "text/html": [
       "<div>\n",
       "<style scoped>\n",
       "    .dataframe tbody tr th:only-of-type {\n",
       "        vertical-align: middle;\n",
       "    }\n",
       "\n",
       "    .dataframe tbody tr th {\n",
       "        vertical-align: top;\n",
       "    }\n",
       "\n",
       "    .dataframe thead th {\n",
       "        text-align: right;\n",
       "    }\n",
       "</style>\n",
       "<table border=\"1\" class=\"dataframe\">\n",
       "  <thead>\n",
       "    <tr style=\"text-align: right;\">\n",
       "      <th></th>\n",
       "      <th>Frecuencia</th>\n",
       "      <th>Porcentaje</th>\n",
       "    </tr>\n",
       "  </thead>\n",
       "  <tbody>\n",
       "    <tr>\n",
       "      <th>N</th>\n",
       "      <td>4634</td>\n",
       "      <td>0.999569</td>\n",
       "    </tr>\n",
       "    <tr>\n",
       "      <th>Y</th>\n",
       "      <td>2</td>\n",
       "      <td>0.000431</td>\n",
       "    </tr>\n",
       "  </tbody>\n",
       "</table>\n",
       "</div>"
      ],
      "text/plain": [
       "   Frecuencia  Porcentaje\n",
       "N        4634    0.999569\n",
       "Y           2    0.000431"
      ]
     },
     "metadata": {},
     "output_type": "display_data"
    },
    {
     "data": {
      "image/png": "[encoded data removed]",
      "text/plain": [
       "<Figure size 1200x600 with 1 Axes>"
      ]
     },
     "metadata": {},
     "output_type": "display_data"
    },
    {
     "data": {
      "text/html": [
       "<div>\n",
       "<style scoped>\n",
       "    .dataframe tbody tr th:only-of-type {\n",
       "        vertical-align: middle;\n",
       "    }\n",
       "\n",
       "    .dataframe tbody tr th {\n",
       "        vertical-align: top;\n",
       "    }\n",
       "\n",
       "    .dataframe thead th {\n",
       "        text-align: right;\n",
       "    }\n",
       "</style>\n",
       "<table border=\"1\" class=\"dataframe\">\n",
       "  <thead>\n",
       "    <tr style=\"text-align: right;\">\n",
       "      <th></th>\n",
       "      <th>Frecuencia</th>\n",
       "      <th>Porcentaje</th>\n",
       "    </tr>\n",
       "  </thead>\n",
       "  <tbody>\n",
       "    <tr>\n",
       "      <th>N</th>\n",
       "      <td>4472</td>\n",
       "      <td>0.964625</td>\n",
       "    </tr>\n",
       "    <tr>\n",
       "      <th>Y</th>\n",
       "      <td>164</td>\n",
       "      <td>0.035375</td>\n",
       "    </tr>\n",
       "  </tbody>\n",
       "</table>\n",
       "</div>"
      ],
      "text/plain": [
       "   Frecuencia  Porcentaje\n",
       "N        4472    0.964625\n",
       "Y         164    0.035375"
      ]
     },
     "metadata": {},
     "output_type": "display_data"
    },
    {
     "data": {
      "image/png": "[encoded data removed]",
      "text/plain": [
       "<Figure size 1200x600 with 1 Axes>"
      ]
     },
     "metadata": {},
     "output_type": "display_data"
    },
    {
     "data": {
      "text/html": [
       "<div>\n",
       "<style scoped>\n",
       "    .dataframe tbody tr th:only-of-type {\n",
       "        vertical-align: middle;\n",
       "    }\n",
       "\n",
       "    .dataframe tbody tr th {\n",
       "        vertical-align: top;\n",
       "    }\n",
       "\n",
       "    .dataframe thead th {\n",
       "        text-align: right;\n",
       "    }\n",
       "</style>\n",
       "<table border=\"1\" class=\"dataframe\">\n",
       "  <thead>\n",
       "    <tr style=\"text-align: right;\">\n",
       "      <th></th>\n",
       "      <th>Frecuencia</th>\n",
       "      <th>Porcentaje</th>\n",
       "    </tr>\n",
       "  </thead>\n",
       "  <tbody>\n",
       "    <tr>\n",
       "      <th>N</th>\n",
       "      <td>4635</td>\n",
       "      <td>0.999784</td>\n",
       "    </tr>\n",
       "    <tr>\n",
       "      <th>Y</th>\n",
       "      <td>1</td>\n",
       "      <td>0.000216</td>\n",
       "    </tr>\n",
       "  </tbody>\n",
       "</table>\n",
       "</div>"
      ],
      "text/plain": [
       "   Frecuencia  Porcentaje\n",
       "N        4635    0.999784\n",
       "Y           1    0.000216"
      ]
     },
     "metadata": {},
     "output_type": "display_data"
    },
    {
     "data": {
      "image/png": "[encoded data removed]",
      "text/plain": [
       "<Figure size 1200x600 with 1 Axes>"
      ]
     },
     "metadata": {},
     "output_type": "display_data"
    },
    {
     "data": {
      "text/html": [
       "<div>\n",
       "<style scoped>\n",
       "    .dataframe tbody tr th:only-of-type {\n",
       "        vertical-align: middle;\n",
       "    }\n",
       "\n",
       "    .dataframe tbody tr th {\n",
       "        vertical-align: top;\n",
       "    }\n",
       "\n",
       "    .dataframe thead th {\n",
       "        text-align: right;\n",
       "    }\n",
       "</style>\n",
       "<table border=\"1\" class=\"dataframe\">\n",
       "  <thead>\n",
       "    <tr style=\"text-align: right;\">\n",
       "      <th></th>\n",
       "      <th>Frecuencia</th>\n",
       "      <th>Porcentaje</th>\n",
       "    </tr>\n",
       "  </thead>\n",
       "  <tbody>\n",
       "    <tr>\n",
       "      <th>N</th>\n",
       "      <td>4617</td>\n",
       "      <td>0.995902</td>\n",
       "    </tr>\n",
       "    <tr>\n",
       "      <th>Y</th>\n",
       "      <td>19</td>\n",
       "      <td>0.004098</td>\n",
       "    </tr>\n",
       "  </tbody>\n",
       "</table>\n",
       "</div>"
      ],
      "text/plain": [
       "   Frecuencia  Porcentaje\n",
       "N        4617    0.995902\n",
       "Y          19    0.004098"
      ]
     },
     "metadata": {},
     "output_type": "display_data"
    },
    {
     "data": {
      "image/png": "[encoded data removed]",
      "text/plain": [
       "<Figure size 1200x600 with 1 Axes>"
      ]
     },
     "metadata": {},
     "output_type": "display_data"
    },
    {
     "data": {
      "text/html": [
       "<div>\n",
       "<style scoped>\n",
       "    .dataframe tbody tr th:only-of-type {\n",
       "        vertical-align: middle;\n",
       "    }\n",
       "\n",
       "    .dataframe tbody tr th {\n",
       "        vertical-align: top;\n",
       "    }\n",
       "\n",
       "    .dataframe thead th {\n",
       "        text-align: right;\n",
       "    }\n",
       "</style>\n",
       "<table border=\"1\" class=\"dataframe\">\n",
       "  <thead>\n",
       "    <tr style=\"text-align: right;\">\n",
       "      <th></th>\n",
       "      <th>cantidad_na</th>\n",
       "      <th>porcentaje_na</th>\n",
       "    </tr>\n",
       "  </thead>\n",
       "  <tbody>\n",
       "    <tr>\n",
       "      <th>pf_hands</th>\n",
       "      <td>0</td>\n",
       "      <td>0.0</td>\n",
       "    </tr>\n",
       "    <tr>\n",
       "      <th>pf_wall</th>\n",
       "      <td>0</td>\n",
       "      <td>0.0</td>\n",
       "    </tr>\n",
       "    <tr>\n",
       "      <th>pf_grnd</th>\n",
       "      <td>0</td>\n",
       "      <td>0.0</td>\n",
       "    </tr>\n",
       "    <tr>\n",
       "      <th>pf_drwep</th>\n",
       "      <td>0</td>\n",
       "      <td>0.0</td>\n",
       "    </tr>\n",
       "    <tr>\n",
       "      <th>pf_ptwep</th>\n",
       "      <td>0</td>\n",
       "      <td>0.0</td>\n",
       "    </tr>\n",
       "    <tr>\n",
       "      <th>pf_baton</th>\n",
       "      <td>0</td>\n",
       "      <td>0.0</td>\n",
       "    </tr>\n",
       "    <tr>\n",
       "      <th>pf_hcuff</th>\n",
       "      <td>0</td>\n",
       "      <td>0.0</td>\n",
       "    </tr>\n",
       "    <tr>\n",
       "      <th>pf_pepsp</th>\n",
       "      <td>0</td>\n",
       "      <td>0.0</td>\n",
       "    </tr>\n",
       "    <tr>\n",
       "      <th>pf_other</th>\n",
       "      <td>0</td>\n",
       "      <td>0.0</td>\n",
       "    </tr>\n",
       "  </tbody>\n",
       "</table>\n",
       "</div>"
      ],
      "text/plain": [
       "          cantidad_na  porcentaje_na\n",
       "pf_hands            0            0.0\n",
       "pf_wall             0            0.0\n",
       "pf_grnd             0            0.0\n",
       "pf_drwep            0            0.0\n",
       "pf_ptwep            0            0.0\n",
       "pf_baton            0            0.0\n",
       "pf_hcuff            0            0.0\n",
       "pf_pepsp            0            0.0\n",
       "pf_other            0            0.0"
      ]
     },
     "metadata": {},
     "output_type": "display_data"
    },
    {
     "data": {
      "image/png": "[encoded data removed]",
      "text/plain": [
       "<Figure size 2500x1000 with 2 Axes>"
      ]
     },
     "metadata": {},
     "output_type": "display_data"
    }
   ],
   "source": [
    "de_interes = df_suitable[\n",
    "    [\n",
    "        \"pf_hands\",\n",
    "        \"pf_wall\",\n",
    "        \"pf_grnd\",\n",
    "        \"pf_drwep\",\n",
    "        \"pf_ptwep\",\n",
    "        \"pf_baton\",\n",
    "        \"pf_hcuff\",\n",
    "        \"pf_pepsp\",\n",
    "        \"pf_other\",\n",
    "    ]\n",
    "]\n",
    "aux.analizar_distribucion_y_faltantes_variables(de_interes)"
   ]
  },
  {
   "attachments": {},
   "cell_type": "markdown",
   "metadata": {},
   "source": [
    "- Con un total de **4636 detenciones**, se obtuvieron los siguientes resultados:\n",
    "    - En el **21%** de las detenciones el oficial utilizo fuerza con las manos\n",
    "    - En el **3**% de las detenciones el oficial puso al sospechoso contra la pared\n",
    "    - En el **0.6**% de las detenciones el oficial puso al sospechoso contra el suelo\n",
    "    - En el **0.3**% de las detenciones el oficial tuvo que sacar su arma\n",
    "    - En el **0.3**% de las detenciones el oficial tuvo que sacar apuntar su arma\n",
    "    - En el **0.04**% de las detenciones el oficial tuvo que ocupar su baston para golpear\n",
    "    - En el **3**% de las detenciones el oficial tuvo que ocupar esposas\n",
    "    - En el **0.02**% de las detenciones el oficial tuvo que ocupar gas pimienta\n",
    "    - En el **0.04**% de las detenciones el oficial tuvo que ocupar otro tipo de fuerza\n",
    "\n",
    "- Ninguna variable presenta valores faltantes"
   ]
  },
  {
   "attachments": {},
   "cell_type": "markdown",
   "metadata": {},
   "source": [
    "## Arresto por barrio, condicional a sexo y genero\n",
    "\n",
    "- En el enunciado se menciona realizar un analisis exploratorio"
   ]
  },
  {
   "attachments": {},
   "cell_type": "markdown",
   "metadata": {},
   "source": [
    "# Feature Engineering"
   ]
  },
  {
   "attachments": {},
   "cell_type": "markdown",
   "metadata": {},
   "source": [
    "## Vector Objetivo - Problema 1 - ```arstmade```\n",
    "\n",
    "- La variable sera codificada segun el diccionario mostrado en la explicacion del problema.\n",
    "\n"
   ]
  },
  {
   "cell_type": "code",
   "execution_count": 15,
   "metadata": {},
   "outputs": [],
   "source": [
    "df_suitable[\"arstmade_codificada\"] = df_suitable[\"arstmade\"].replace({\"N\": 0, \"Y\": 1})"
   ]
  },
  {
   "attachments": {},
   "cell_type": "markdown",
   "metadata": {},
   "source": [
    "- La distribucion del vector objetivo posterior al preprocesamiento es:"
   ]
  },
  {
   "cell_type": "code",
   "execution_count": 16,
   "metadata": {},
   "outputs": [
    {
     "name": "stdout",
     "output_type": "stream",
     "text": [
      "Analizando todas las variables categoricas \n",
      "\n"
     ]
    },
    {
     "data": {
      "text/html": [
       "<div>\n",
       "<style scoped>\n",
       "    .dataframe tbody tr th:only-of-type {\n",
       "        vertical-align: middle;\n",
       "    }\n",
       "\n",
       "    .dataframe tbody tr th {\n",
       "        vertical-align: top;\n",
       "    }\n",
       "\n",
       "    .dataframe thead th {\n",
       "        text-align: right;\n",
       "    }\n",
       "</style>\n",
       "<table border=\"1\" class=\"dataframe\">\n",
       "  <thead>\n",
       "    <tr style=\"text-align: right;\">\n",
       "      <th></th>\n",
       "      <th>Frecuencia</th>\n",
       "      <th>Porcentaje</th>\n",
       "    </tr>\n",
       "  </thead>\n",
       "  <tbody>\n",
       "    <tr>\n",
       "      <th>N</th>\n",
       "      <td>4355</td>\n",
       "      <td>0.939387</td>\n",
       "    </tr>\n",
       "    <tr>\n",
       "      <th>Y</th>\n",
       "      <td>281</td>\n",
       "      <td>0.060613</td>\n",
       "    </tr>\n",
       "  </tbody>\n",
       "</table>\n",
       "</div>"
      ],
      "text/plain": [
       "   Frecuencia  Porcentaje\n",
       "N        4355    0.939387\n",
       "Y         281    0.060613"
      ]
     },
     "metadata": {},
     "output_type": "display_data"
    },
    {
     "data": {
      "image/png": "[encoded data removed]",
      "text/plain": [
       "<Figure size 1200x600 with 1 Axes>"
      ]
     },
     "metadata": {},
     "output_type": "display_data"
    },
    {
     "data": {
      "text/html": [
       "<div>\n",
       "<style scoped>\n",
       "    .dataframe tbody tr th:only-of-type {\n",
       "        vertical-align: middle;\n",
       "    }\n",
       "\n",
       "    .dataframe tbody tr th {\n",
       "        vertical-align: top;\n",
       "    }\n",
       "\n",
       "    .dataframe thead th {\n",
       "        text-align: right;\n",
       "    }\n",
       "</style>\n",
       "<table border=\"1\" class=\"dataframe\">\n",
       "  <thead>\n",
       "    <tr style=\"text-align: right;\">\n",
       "      <th></th>\n",
       "      <th>cantidad_na</th>\n",
       "      <th>porcentaje_na</th>\n",
       "    </tr>\n",
       "  </thead>\n",
       "  <tbody>\n",
       "    <tr>\n",
       "      <th>arstmade</th>\n",
       "      <td>0</td>\n",
       "      <td>0.0</td>\n",
       "    </tr>\n",
       "  </tbody>\n",
       "</table>\n",
       "</div>"
      ],
      "text/plain": [
       "          cantidad_na  porcentaje_na\n",
       "arstmade            0            0.0"
      ]
     },
     "metadata": {},
     "output_type": "display_data"
    },
    {
     "data": {
      "image/png": "[encoded data removed]",
      "text/plain": [
       "<Figure size 2500x1000 with 2 Axes>"
      ]
     },
     "metadata": {},
     "output_type": "display_data"
    }
   ],
   "source": [
    "aux.analizar_distribucion_y_faltantes_variables(df_suitable[\"arstmade\"].astype(str).to_frame())"
   ]
  },
  {
   "attachments": {},
   "cell_type": "markdown",
   "metadata": {},
   "source": [
    "## Vector Objetivo - Problema 2 - ```violent```"
   ]
  },
  {
   "attachments": {},
   "cell_type": "markdown",
   "metadata": {},
   "source": [
    "- Para crear la variable ```violent``` se utilizara la convencion explicada en la seccion preliminar.\n",
    "O sea, una detencion sera considerar violenta si es que cualquier variable que empiece con ```pf```\n",
    "tenga el valor \"Y\"."
   ]
  },
  {
   "cell_type": "code",
   "execution_count": 17,
   "metadata": {},
   "outputs": [],
   "source": [
    "mask = (\n",
    "    (df_suitable[\"pf_hands\"] == \"Y\")\n",
    "    | (df_suitable[\"pf_wall\"] == \"Y\")\n",
    "    | (df_suitable[\"pf_grnd\"] == \"Y\")\n",
    "    | (df_suitable[\"pf_drwep\"] == \"Y\")\n",
    "    | (df_suitable[\"pf_ptwep\"] == \"Y\")\n",
    "    | (df_suitable[\"pf_baton\"] == \"Y\")\n",
    "    | (df_suitable[\"pf_hcuff\"] == \"Y\")\n",
    "    | (df_suitable[\"pf_pepsp\"] == \"Y\")\n",
    "    | (df_suitable[\"pf_other\"] == \"Y\")\n",
    ")\n",
    "\n",
    "df_suitable[\"violent\"] = mask * 1"
   ]
  },
  {
   "attachments": {},
   "cell_type": "markdown",
   "metadata": {},
   "source": [
    "- La distribucion del vector objetivo posterior al preprocesamiento es:"
   ]
  },
  {
   "cell_type": "code",
   "execution_count": 18,
   "metadata": {},
   "outputs": [
    {
     "name": "stdout",
     "output_type": "stream",
     "text": [
      "Analizando todas las variables categoricas \n",
      "\n"
     ]
    },
    {
     "data": {
      "text/html": [
       "<div>\n",
       "<style scoped>\n",
       "    .dataframe tbody tr th:only-of-type {\n",
       "        vertical-align: middle;\n",
       "    }\n",
       "\n",
       "    .dataframe tbody tr th {\n",
       "        vertical-align: top;\n",
       "    }\n",
       "\n",
       "    .dataframe thead th {\n",
       "        text-align: right;\n",
       "    }\n",
       "</style>\n",
       "<table border=\"1\" class=\"dataframe\">\n",
       "  <thead>\n",
       "    <tr style=\"text-align: right;\">\n",
       "      <th></th>\n",
       "      <th>Frecuencia</th>\n",
       "      <th>Porcentaje</th>\n",
       "    </tr>\n",
       "  </thead>\n",
       "  <tbody>\n",
       "    <tr>\n",
       "      <th>0</th>\n",
       "      <td>3500</td>\n",
       "      <td>0.754961</td>\n",
       "    </tr>\n",
       "    <tr>\n",
       "      <th>1</th>\n",
       "      <td>1136</td>\n",
       "      <td>0.245039</td>\n",
       "    </tr>\n",
       "  </tbody>\n",
       "</table>\n",
       "</div>"
      ],
      "text/plain": [
       "   Frecuencia  Porcentaje\n",
       "0        3500    0.754961\n",
       "1        1136    0.245039"
      ]
     },
     "metadata": {},
     "output_type": "display_data"
    },
    {
     "data": {
      "image/png": "[encoded data removed]",
      "text/plain": [
       "<Figure size 1200x600 with 1 Axes>"
      ]
     },
     "metadata": {},
     "output_type": "display_data"
    },
    {
     "data": {
      "text/html": [
       "<div>\n",
       "<style scoped>\n",
       "    .dataframe tbody tr th:only-of-type {\n",
       "        vertical-align: middle;\n",
       "    }\n",
       "\n",
       "    .dataframe tbody tr th {\n",
       "        vertical-align: top;\n",
       "    }\n",
       "\n",
       "    .dataframe thead th {\n",
       "        text-align: right;\n",
       "    }\n",
       "</style>\n",
       "<table border=\"1\" class=\"dataframe\">\n",
       "  <thead>\n",
       "    <tr style=\"text-align: right;\">\n",
       "      <th></th>\n",
       "      <th>cantidad_na</th>\n",
       "      <th>porcentaje_na</th>\n",
       "    </tr>\n",
       "  </thead>\n",
       "  <tbody>\n",
       "    <tr>\n",
       "      <th>violent</th>\n",
       "      <td>0</td>\n",
       "      <td>0.0</td>\n",
       "    </tr>\n",
       "  </tbody>\n",
       "</table>\n",
       "</div>"
      ],
      "text/plain": [
       "         cantidad_na  porcentaje_na\n",
       "violent            0            0.0"
      ]
     },
     "metadata": {},
     "output_type": "display_data"
    },
    {
     "data": {
      "image/png": "[encoded data removed]",
      "text/plain": [
       "<Figure size 2500x1000 with 2 Axes>"
      ]
     },
     "metadata": {},
     "output_type": "display_data"
    }
   ],
   "source": [
    "aux.analizar_distribucion_y_faltantes_variables(df_suitable[\"violent\"].astype(str).to_frame())"
   ]
  },
  {
   "attachments": {},
   "cell_type": "markdown",
   "metadata": {},
   "source": [
    "- Por lo tanto, al crear la variable ```violent``` utilizando todas las variables relacionadas\n",
    "a la utilizacion de fuerza por el oficial (```pf_*```) se obtuvieron los siguientes resultados:\n",
    "\n",
    "    - El 24% (1136) de las detenciones es considerada violenta. Por lo tanto, el vector objetivo\n",
    "    presenta un desbalance.\n",
    "    - El vector objetivo carece de valores faltantes."
   ]
  },
  {
   "attachments": {},
   "cell_type": "markdown",
   "metadata": {},
   "source": [
    "- El preprocesamiento de los vectores objetivos se modularizara en una funcion"
   ]
  },
  {
   "cell_type": "code",
   "execution_count": 19,
   "metadata": {},
   "outputs": [],
   "source": [
    "def preprocesar_vectores_objetivos(df):\n",
    "    df_suitable, _, _ = pre.create_suitable_dataframe(df)\n",
    "    df_suitable[\"arstmad\"] = df_suitable[\"arstmade\"].replace({\"N\": 0, \"Y\": 1})\n",
    "\n",
    "    mask = (\n",
    "        (df_suitable[\"pf_hands\"] == \"Y\")\n",
    "        | (df_suitable[\"pf_wall\"] == \"Y\")\n",
    "        | (df_suitable[\"pf_grnd\"] == \"Y\")\n",
    "        | (df_suitable[\"pf_drwep\"] == \"Y\")\n",
    "        | (df_suitable[\"pf_ptwep\"] == \"Y\")\n",
    "        | (df_suitable[\"pf_baton\"] == \"Y\")\n",
    "        | (df_suitable[\"pf_hcuff\"] == \"Y\")\n",
    "        | (df_suitable[\"pf_pepsp\"] == \"Y\")\n",
    "        | (df_suitable[\"pf_other\"] == \"Y\")\n",
    "    )\n",
    "\n",
    "    df_suitable[\"violent\"] = mask * 1\n",
    "\n",
    "    return df_suitable"
   ]
  },
  {
   "cell_type": "code",
   "execution_count": 20,
   "metadata": {},
   "outputs": [
    {
     "name": "stdout",
     "output_type": "stream",
     "text": [
      "['perobs']\n"
     ]
    }
   ],
   "source": [
    "df = pd.read_csv(\"input/2009_1perc.csv\").drop(columns=\"Unnamed: 0\")\n",
    "df_final = preprocesar_vectores_objetivos(df)"
   ]
  }
 ],
 "metadata": {
  "kernelspec": {
   "display_name": "Python 3",
   "language": "python",
   "name": "python3"
  },
  "language_info": {
   "codemirror_mode": {
    "name": "ipython",
    "version": 3
   },
   "file_extension": ".py",
   "mimetype": "text/x-python",
   "name": "python",
   "nbconvert_exporter": "python",
   "pygments_lexer": "ipython3",
   "version": "3.10.9"
  },
  "orig_nbformat": 4
 },
 "nbformat": 4,
 "nbformat_minor": 2
}
