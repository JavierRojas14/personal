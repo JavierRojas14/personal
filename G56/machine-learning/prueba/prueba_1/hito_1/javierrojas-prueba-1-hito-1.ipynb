{
 "cells": [
  {
   "attachments": {},
   "cell_type": "markdown",
   "metadata": {},
   "source": [
    "### Prueba 1 - Hito 1 - Javier Rojas Benitez - G56"
   ]
  },
  {
   "attachments": {},
   "cell_type": "markdown",
   "metadata": {},
   "source": [
    "# Preliminares\n",
    "\n",
    "- Este es un problema de clasificacion. En especifico, corresponde a un problema de clasificacion\n",
    "binaria. Esto, ya que se quiere clasificar si un cuerpo de texto tiene un sentimiento negativo o positivo asociado.\n",
    "\n",
    "## Variables disponibles\n",
    "\n",
    "- El vector objetivo (```sentiment```) corresponde al sentimiento asociado a un cuerpo de texto.\n",
    "Existen diversos sentimientos disponibles. Sin embargo, esta variable sera codificada a una variable\n",
    "binaria (Positivo o Negativo). La codificacion esta explicada en el apartado de preprocesamiento.\n",
    "\n",
    "- Las variables independientes corresponden a todas las palabras disponibles en cada cuerpo de texto.\n",
    "Sin embargo, una parte importante de estas palabras seran filtradas luego del preprocesamiento \n",
    "(eliminacion de palabras \"stopwords\", consolidacion de palabras con una raiz comun). Por lo tanto,\n",
    "los atributos disponibles son las palabras remanentes en los cuerpos de texto luego del preprocesamiento.\n",
    "\n",
    "## Resolución del problema\n",
    "\n",
    "- Como se menciono previamente, este es un problema de clasificacion. En este caso, se relaciona\n",
    "el contenido de un texto con el sentimiento (especificamente, si es un sentimiento positivo o negativo)\n",
    "que este provoca.\n",
    "\n",
    "- Especificamente, este es un problema de clasificacion binaria (positivo o negativo). Debido a lo\n",
    "anterior, se utilizaran los siguientes modelos predictivos:\n",
    "\n",
    "    - Regresion logistica\n",
    "    - Arbol de Clasificacion\n",
    "    - Random Forest de Clasificacion\n",
    "    - SVM\n",
    "    - Naive Bayes\n",
    "\n",
    "- Para cada modelo se realizará una búsqueda de hiperparámetros óptimos en grilla. La grilla\n",
    "utilizada para cada modelo será la siguiente:\n",
    "\n",
    "```python\n",
    "{'Regresion logistica': TODO,\n",
    " 'Arbol de Clasificacion': TODO,\n",
    " 'Random Forest de Clasificacion': TODO,\n",
    " 'SVM': TODO,\n",
    " 'Naive Bayes': TODO}\n",
    "```\n",
    "\n",
    "- El flujo general de la resolución del problema será la siguiente:\n",
    "\n",
    "1. Análisis exploratorio de los datos y preprocesamiento\n",
    "    1. Analizar la distribucion y valores faltantes del vector objetivo\n",
    "    2. Recodificar el vector objetivo ([Preprocesamiento vector objetivo](#vector-objetivo))\n",
    "    3. Analizar la distribucion y valores faltantes del vector objetivo recodificado\n",
    "    4. Preprocesar todos los cuerpos de texto de la base de datos ([Preprocesar variables independiente](#variables-independientes))\n",
    "    5. Analizar la distribucion de palabras y valores faltantes de los cuerpos de texto preprocesados\n",
    "\n",
    "\n",
    "2. Separación de datos en entrenamiento y validación\n",
    "    1. Se separarán los datos en variables independientes y vector objetivo\n",
    "    2. Se separarán ambos tipos de variables en datos de entrenamiento y validación (Se utilizará\n",
    "    el 33.5% de los datos para la validación)\n",
    "\n",
    "3. Búsqueda de parámetros óptimos para modelos de Machine Learning\n",
    "    1. Se realizará un GridSearchCV para cada uno de los modelos listado, utilizando la grilla\n",
    "    adjunta previamente para cada modelo.\n",
    "    2. Se obtendrán los parámetros óptimos de cada tipo de modelo creado\n",
    "\n",
    "4. Validación y elección de modelos optimizados\n",
    "    1. Cada uno de los modelos con sus parámetros optimizados se validará con los datos de\n",
    "    validación de la división trietápica.\n",
    "    2. Finalmente, se comparará el desempeño de cada modelo y se elegirá el mejor de todos\n",
    "    según la métrica de ROC-AUC.\n",
    "\n",
    "\n",
    "## Preprocesamiento\n",
    "\n",
    "- Debido a que este es un problema de análisis de textos, es necesario preprocesar los cuerpos de\n",
    "texto a analizar. Se seguirán los siguientes pasos para realizar el preprocesamiento:\n",
    "\n",
    "### Variables independientes\n",
    "\n",
    "1. Se convertirán las letras a lower case (con la función lower)\n",
    "2. Se filtrarán todas las palabras comúnes (filtrando todas las palabras que existan en la lista\n",
    "de stopwords de nltk)\n",
    "3. Se realizará una lemantización de cada cuerpo de texto presente\n",
    "4. Se creará una matriz de ocurrencias de cada palabra en cada texto con CountVectorizer\n",
    "\n",
    "### Vector objetivo\n",
    "\n",
    "1. Se reemplazará cada sentimiento por su codificación a positivo o negativo según el enunciado.\n",
    "El resultado será asignado a una nueva columna llamada ```sentiment_cod```\n",
    "2. Los sentimientos neutros seran asignados eligiendo un valor aleatorio entre \"Positiva\" o \"Negativa\"\n",
    "Esto se realizará utilizando la función .choice(list) del módulo random (o sea: ```random.choice([\"Positiva\", \"Negativa\"])``` para cada ocurrencia de \"neutral\"). Esta recodificacion tambien sera\n",
    "asignada a la columna ```sentiment_cod```\n",
    "3. Se eliminará de la base de datos la columna original de sentimientos\n",
    "\n",
    "\n",
    "## Division de muestras\n",
    "\n",
    "- Una vez realizado todo el preprocesamiento, se dividirá la base de datos en un set de datos de\n",
    "entrenamiento y de validación. Se utilizará un ***33.5% de los datos para validación***, y ***el otro 66.5%\n",
    "para entrenar los modelos***\n",
    "\n",
    "- El set de entrenamiento será utilizado para realizar un GridSearch con Validación Cruzada\n",
    "para cada modelo (Por lo tanto, se utilizará una división trietápica). Se utilizarán 5 validaciones\n",
    "cruzadas para cada búsqueda en grilla.\n",
    "\n",
    "\n",
    "## Métricas de Desempeño\n",
    "\n",
    "- Debido a que este es un problema de clasificacion, se utilizaran las metricas de recall, precision, accuracy y f1-score. Para obtener todas estas metricas se utilizara la funcion ```classification_report```\n",
    "de sklearn.metrics. Esta metodología se utilizará al validar los modelos con los datos de validación\n",
    "\n",
    "- Se utilizará la métrica de ROC-AUC Score para comparar el desempeño entre modelos. El modelo\n",
    "que tenga el valor más alto de ROC-AUC será el más óptimo.\n",
    "\n",
    "- Para cada una de las validaciones cruzadas durante del GridSearchCV, se calculará la métrica\n",
    "de accuracy\n",
    "\n",
    "## Optimización del Modelo\n",
    "\n",
    "TODO"
   ]
  },
  {
   "attachments": {},
   "cell_type": "markdown",
   "metadata": {},
   "source": [
    "\n",
    "# Aspectos Computacionales\n",
    "- Se utiliza la siguiente version de Python:\n",
    "\n",
    "    - Python v3.10.9\n",
    "\n",
    "- Se utilizaran las siguientes librerias:\n",
    "  - **Para sanitizar el cuadernillo jupyter**:\n",
    "    - warnings de Python v3.10.9\n",
    "  \n",
    "  - **Para leer/manipular bases de datos y calcular diversas estadisticas**:\n",
    "    - pandas v1.4.4\n",
    "    - numpy v1.21.5\n",
    "  \n",
    "  - **Para graficar datos**:\n",
    "    - matplotlib v3.5.2\n",
    "    - seaborn v0.11.2\n",
    "  \n",
    "  - **Para observar visualmente valores faltantes**:\n",
    "    - missingno v0.4.2\n",
    "\n",
    "  - **Funciones auxiliares (alojadas en los archivos llamado funciones_auxiliares_hito_X.py)**\n",
    "\n"
   ]
  },
  {
   "attachments": {},
   "cell_type": "markdown",
   "metadata": {},
   "source": [
    "# Análisis Exploratorio\n",
    "- Analizar el comportamiento del vector objetivo\n",
    "- Reportar el patron de datos perdidos"
   ]
  },
  {
   "cell_type": "code",
   "execution_count": 23,
   "metadata": {},
   "outputs": [],
   "source": [
    "import pandas as pd\n",
    "import numpy as np\n",
    "import polars as pl\n",
    "\n",
    "import matplotlib.pyplot as plt\n",
    "import seaborn as sns\n",
    "\n",
    "import funciones_auxiliares as aux\n",
    "\n",
    "import warnings\n",
    "\n",
    "warnings.filterwarnings('ignore')\n",
    "sns.set_style()\n",
    "plt.rcParams['figure.figsize'] = (12, 6)"
   ]
  },
  {
   "cell_type": "code",
   "execution_count": 2,
   "metadata": {},
   "outputs": [],
   "source": [
    "import wget\n",
    "url = \"https://www.crowdflower.com/wp-content/uploads/2016/07/text_emotion.csv\"\n",
    "filename = wget.download(url)\n"
   ]
  },
  {
   "cell_type": "code",
   "execution_count": 3,
   "metadata": {},
   "outputs": [],
   "source": [
    "df = pd.read_csv('input/training_tweets.csv').drop(columns='Unnamed: 0')"
   ]
  },
  {
   "attachments": {},
   "cell_type": "markdown",
   "metadata": {},
   "source": [
    "# Análisis de vector objetivo"
   ]
  },
  {
   "cell_type": "code",
   "execution_count": 25,
   "metadata": {},
   "outputs": [
    {
     "data": {
      "text/html": [
       "<div>\n",
       "<style scoped>\n",
       "    .dataframe tbody tr th:only-of-type {\n",
       "        vertical-align: middle;\n",
       "    }\n",
       "\n",
       "    .dataframe tbody tr th {\n",
       "        vertical-align: top;\n",
       "    }\n",
       "\n",
       "    .dataframe thead th {\n",
       "        text-align: right;\n",
       "    }\n",
       "</style>\n",
       "<table border=\"1\" class=\"dataframe\">\n",
       "  <thead>\n",
       "    <tr style=\"text-align: right;\">\n",
       "      <th></th>\n",
       "      <th>Frecuencia</th>\n",
       "      <th>Porcentaje</th>\n",
       "    </tr>\n",
       "  </thead>\n",
       "  <tbody>\n",
       "    <tr>\n",
       "      <th>neutral</th>\n",
       "      <td>6451</td>\n",
       "      <td>0.215033</td>\n",
       "    </tr>\n",
       "    <tr>\n",
       "      <th>worry</th>\n",
       "      <td>6337</td>\n",
       "      <td>0.211233</td>\n",
       "    </tr>\n",
       "    <tr>\n",
       "      <th>happiness</th>\n",
       "      <td>3952</td>\n",
       "      <td>0.131733</td>\n",
       "    </tr>\n",
       "    <tr>\n",
       "      <th>sadness</th>\n",
       "      <td>3869</td>\n",
       "      <td>0.128967</td>\n",
       "    </tr>\n",
       "    <tr>\n",
       "      <th>love</th>\n",
       "      <td>2908</td>\n",
       "      <td>0.096933</td>\n",
       "    </tr>\n",
       "    <tr>\n",
       "      <th>surprise</th>\n",
       "      <td>1619</td>\n",
       "      <td>0.053967</td>\n",
       "    </tr>\n",
       "    <tr>\n",
       "      <th>fun</th>\n",
       "      <td>1331</td>\n",
       "      <td>0.044367</td>\n",
       "    </tr>\n",
       "    <tr>\n",
       "      <th>relief</th>\n",
       "      <td>1158</td>\n",
       "      <td>0.038600</td>\n",
       "    </tr>\n",
       "    <tr>\n",
       "      <th>hate</th>\n",
       "      <td>975</td>\n",
       "      <td>0.032500</td>\n",
       "    </tr>\n",
       "    <tr>\n",
       "      <th>empty</th>\n",
       "      <td>617</td>\n",
       "      <td>0.020567</td>\n",
       "    </tr>\n",
       "    <tr>\n",
       "      <th>enthusiasm</th>\n",
       "      <td>559</td>\n",
       "      <td>0.018633</td>\n",
       "    </tr>\n",
       "    <tr>\n",
       "      <th>boredom</th>\n",
       "      <td>135</td>\n",
       "      <td>0.004500</td>\n",
       "    </tr>\n",
       "    <tr>\n",
       "      <th>anger</th>\n",
       "      <td>89</td>\n",
       "      <td>0.002967</td>\n",
       "    </tr>\n",
       "  </tbody>\n",
       "</table>\n",
       "</div>"
      ],
      "text/plain": [
       "            Frecuencia  Porcentaje\n",
       "neutral           6451    0.215033\n",
       "worry             6337    0.211233\n",
       "happiness         3952    0.131733\n",
       "sadness           3869    0.128967\n",
       "love              2908    0.096933\n",
       "surprise          1619    0.053967\n",
       "fun               1331    0.044367\n",
       "relief            1158    0.038600\n",
       "hate               975    0.032500\n",
       "empty              617    0.020567\n",
       "enthusiasm         559    0.018633\n",
       "boredom            135    0.004500\n",
       "anger               89    0.002967"
      ]
     },
     "metadata": {},
     "output_type": "display_data"
    },
    {
     "data": {
      "image/png": "[encoded data removed]",
      "text/plain": [
       "<Figure size 1200x600 with 1 Axes>"
      ]
     },
     "metadata": {},
     "output_type": "display_data"
    },
    {
     "name": "stdout",
     "output_type": "stream",
     "text": [
      "La variable presentó 0 valores faltantes\n"
     ]
    },
    {
     "data": {
      "image/png": "[encoded data removed]",
      "text/plain": [
       "<Figure size 2500x1000 with 2 Axes>"
      ]
     },
     "metadata": {},
     "output_type": "display_data"
    }
   ],
   "source": [
    "vector_objetivo = df['sentiment']\n",
    "aux.analizar_vector_objetivo_discreto(vector_objetivo)"
   ]
  },
  {
   "attachments": {},
   "cell_type": "markdown",
   "metadata": {},
   "source": [
    "- Por lo tanto, la variable presentó una mayor cantidad de textos clasificados como neutrales.\n",
    "Con una cantidad de 6451 textos neutrales, que corresponden al 21.5% de los textos totales de la\n",
    "base de datos.\n",
    "\n",
    "- El sentimiento menos frecuente fue ```anger```, con 89 ocurrencias, lo que representa el 0.3%\n",
    "de textos en la base de datos.\n",
    "\n",
    "- El vector objetivo carece de valores faltantes."
   ]
  },
  {
   "attachments": {},
   "cell_type": "markdown",
   "metadata": {},
   "source": [
    "# Preprocesamiento"
   ]
  },
  {
   "cell_type": "code",
   "execution_count": 29,
   "metadata": {},
   "outputs": [],
   "source": [
    "cuerpos_lower = df.content.str.lower()"
   ]
  },
  {
   "cell_type": "code",
   "execution_count": 39,
   "metadata": {},
   "outputs": [],
   "source": [
    "from nltk.corpus import stopwords\n",
    "from nltk.tokenize import word_tokenize\n",
    "stop_words_ingles = stopwords.words('english')"
   ]
  },
  {
   "cell_type": "code",
   "execution_count": 42,
   "metadata": {},
   "outputs": [],
   "source": [
    "cuerpo_de_texto_normal = '''\n",
    "This is a pretty good shiets\n",
    "'''"
   ]
  },
  {
   "cell_type": "code",
   "execution_count": 43,
   "metadata": {},
   "outputs": [
    {
     "ename": "LookupError",
     "evalue": "\n**********************************************************************\n  Resource \u001b[93mpunkt\u001b[0m not found.\n  Please use the NLTK Downloader to obtain the resource:\n\n  \u001b[31m>>> import nltk\n  >>> nltk.download('punkt')\n  \u001b[0m\n  For more information see: https://www.nltk.org/data.html\n\n  Attempted to load \u001b[93mtokenizers/punkt/english.pickle\u001b[0m\n\n  Searched in:\n    - 'C:\\\\Users\\\\ppizarro/nltk_data'\n    - 'c:\\\\Users\\\\ppizarro\\\\AppData\\\\Local\\\\anaconda3\\\\nltk_data'\n    - 'c:\\\\Users\\\\ppizarro\\\\AppData\\\\Local\\\\anaconda3\\\\share\\\\nltk_data'\n    - 'c:\\\\Users\\\\ppizarro\\\\AppData\\\\Local\\\\anaconda3\\\\lib\\\\nltk_data'\n    - 'C:\\\\Users\\\\ppizarro\\\\AppData\\\\Roaming\\\\nltk_data'\n    - 'C:\\\\nltk_data'\n    - 'D:\\\\nltk_data'\n    - 'E:\\\\nltk_data'\n    - ''\n**********************************************************************\n",
     "output_type": "error",
     "traceback": [
      "\u001b[1;31m---------------------------------------------------------------------------\u001b[0m",
      "\u001b[1;31mLookupError\u001b[0m                               Traceback (most recent call last)",
      "Cell \u001b[1;32mIn[43], line 1\u001b[0m\n\u001b[1;32m----> 1\u001b[0m word_tokenize(cuerpo_de_texto_normal)\n",
      "File \u001b[1;32mc:\\Users\\ppizarro\\AppData\\Local\\anaconda3\\lib\\site-packages\\nltk\\tokenize\\__init__.py:129\u001b[0m, in \u001b[0;36mword_tokenize\u001b[1;34m(text, language, preserve_line)\u001b[0m\n\u001b[0;32m    114\u001b[0m \u001b[39mdef\u001b[39;00m \u001b[39mword_tokenize\u001b[39m(text, language\u001b[39m=\u001b[39m\u001b[39m\"\u001b[39m\u001b[39menglish\u001b[39m\u001b[39m\"\u001b[39m, preserve_line\u001b[39m=\u001b[39m\u001b[39mFalse\u001b[39;00m):\n\u001b[0;32m    115\u001b[0m     \u001b[39m\"\"\"\u001b[39;00m\n\u001b[0;32m    116\u001b[0m \u001b[39m    Return a tokenized copy of *text*,\u001b[39;00m\n\u001b[0;32m    117\u001b[0m \u001b[39m    using NLTK's recommended word tokenizer\u001b[39;00m\n\u001b[1;32m   (...)\u001b[0m\n\u001b[0;32m    127\u001b[0m \u001b[39m    :type preserve_line: bool\u001b[39;00m\n\u001b[0;32m    128\u001b[0m \u001b[39m    \"\"\"\u001b[39;00m\n\u001b[1;32m--> 129\u001b[0m     sentences \u001b[39m=\u001b[39m [text] \u001b[39mif\u001b[39;00m preserve_line \u001b[39melse\u001b[39;00m sent_tokenize(text, language)\n\u001b[0;32m    130\u001b[0m     \u001b[39mreturn\u001b[39;00m [\n\u001b[0;32m    131\u001b[0m         token \u001b[39mfor\u001b[39;00m sent \u001b[39min\u001b[39;00m sentences \u001b[39mfor\u001b[39;00m token \u001b[39min\u001b[39;00m _treebank_word_tokenizer\u001b[39m.\u001b[39mtokenize(sent)\n\u001b[0;32m    132\u001b[0m     ]\n",
      "File \u001b[1;32mc:\\Users\\ppizarro\\AppData\\Local\\anaconda3\\lib\\site-packages\\nltk\\tokenize\\__init__.py:106\u001b[0m, in \u001b[0;36msent_tokenize\u001b[1;34m(text, language)\u001b[0m\n\u001b[0;32m     96\u001b[0m \u001b[39mdef\u001b[39;00m \u001b[39msent_tokenize\u001b[39m(text, language\u001b[39m=\u001b[39m\u001b[39m\"\u001b[39m\u001b[39menglish\u001b[39m\u001b[39m\"\u001b[39m):\n\u001b[0;32m     97\u001b[0m     \u001b[39m\"\"\"\u001b[39;00m\n\u001b[0;32m     98\u001b[0m \u001b[39m    Return a sentence-tokenized copy of *text*,\u001b[39;00m\n\u001b[0;32m     99\u001b[0m \u001b[39m    using NLTK's recommended sentence tokenizer\u001b[39;00m\n\u001b[1;32m   (...)\u001b[0m\n\u001b[0;32m    104\u001b[0m \u001b[39m    :param language: the model name in the Punkt corpus\u001b[39;00m\n\u001b[0;32m    105\u001b[0m \u001b[39m    \"\"\"\u001b[39;00m\n\u001b[1;32m--> 106\u001b[0m     tokenizer \u001b[39m=\u001b[39m load(\u001b[39mf\u001b[39;49m\u001b[39m\"\u001b[39;49m\u001b[39mtokenizers/punkt/\u001b[39;49m\u001b[39m{\u001b[39;49;00mlanguage\u001b[39m}\u001b[39;49;00m\u001b[39m.pickle\u001b[39;49m\u001b[39m\"\u001b[39;49m)\n\u001b[0;32m    107\u001b[0m     \u001b[39mreturn\u001b[39;00m tokenizer\u001b[39m.\u001b[39mtokenize(text)\n",
      "File \u001b[1;32mc:\\Users\\ppizarro\\AppData\\Local\\anaconda3\\lib\\site-packages\\nltk\\data.py:750\u001b[0m, in \u001b[0;36mload\u001b[1;34m(resource_url, format, cache, verbose, logic_parser, fstruct_reader, encoding)\u001b[0m\n\u001b[0;32m    747\u001b[0m     \u001b[39mprint\u001b[39m(\u001b[39mf\u001b[39m\u001b[39m\"\u001b[39m\u001b[39m<<Loading \u001b[39m\u001b[39m{\u001b[39;00mresource_url\u001b[39m}\u001b[39;00m\u001b[39m>>\u001b[39m\u001b[39m\"\u001b[39m)\n\u001b[0;32m    749\u001b[0m \u001b[39m# Load the resource.\u001b[39;00m\n\u001b[1;32m--> 750\u001b[0m opened_resource \u001b[39m=\u001b[39m _open(resource_url)\n\u001b[0;32m    752\u001b[0m \u001b[39mif\u001b[39;00m \u001b[39mformat\u001b[39m \u001b[39m==\u001b[39m \u001b[39m\"\u001b[39m\u001b[39mraw\u001b[39m\u001b[39m\"\u001b[39m:\n\u001b[0;32m    753\u001b[0m     resource_val \u001b[39m=\u001b[39m opened_resource\u001b[39m.\u001b[39mread()\n",
      "File \u001b[1;32mc:\\Users\\ppizarro\\AppData\\Local\\anaconda3\\lib\\site-packages\\nltk\\data.py:876\u001b[0m, in \u001b[0;36m_open\u001b[1;34m(resource_url)\u001b[0m\n\u001b[0;32m    873\u001b[0m protocol, path_ \u001b[39m=\u001b[39m split_resource_url(resource_url)\n\u001b[0;32m    875\u001b[0m \u001b[39mif\u001b[39;00m protocol \u001b[39mis\u001b[39;00m \u001b[39mNone\u001b[39;00m \u001b[39mor\u001b[39;00m protocol\u001b[39m.\u001b[39mlower() \u001b[39m==\u001b[39m \u001b[39m\"\u001b[39m\u001b[39mnltk\u001b[39m\u001b[39m\"\u001b[39m:\n\u001b[1;32m--> 876\u001b[0m     \u001b[39mreturn\u001b[39;00m find(path_, path \u001b[39m+\u001b[39;49m [\u001b[39m\"\u001b[39;49m\u001b[39m\"\u001b[39;49m])\u001b[39m.\u001b[39mopen()\n\u001b[0;32m    877\u001b[0m \u001b[39melif\u001b[39;00m protocol\u001b[39m.\u001b[39mlower() \u001b[39m==\u001b[39m \u001b[39m\"\u001b[39m\u001b[39mfile\u001b[39m\u001b[39m\"\u001b[39m:\n\u001b[0;32m    878\u001b[0m     \u001b[39m# urllib might not use mode='rb', so handle this one ourselves:\u001b[39;00m\n\u001b[0;32m    879\u001b[0m     \u001b[39mreturn\u001b[39;00m find(path_, [\u001b[39m\"\u001b[39m\u001b[39m\"\u001b[39m])\u001b[39m.\u001b[39mopen()\n",
      "File \u001b[1;32mc:\\Users\\ppizarro\\AppData\\Local\\anaconda3\\lib\\site-packages\\nltk\\data.py:583\u001b[0m, in \u001b[0;36mfind\u001b[1;34m(resource_name, paths)\u001b[0m\n\u001b[0;32m    581\u001b[0m sep \u001b[39m=\u001b[39m \u001b[39m\"\u001b[39m\u001b[39m*\u001b[39m\u001b[39m\"\u001b[39m \u001b[39m*\u001b[39m \u001b[39m70\u001b[39m\n\u001b[0;32m    582\u001b[0m resource_not_found \u001b[39m=\u001b[39m \u001b[39mf\u001b[39m\u001b[39m\"\u001b[39m\u001b[39m\\n\u001b[39;00m\u001b[39m{\u001b[39;00msep\u001b[39m}\u001b[39;00m\u001b[39m\\n\u001b[39;00m\u001b[39m{\u001b[39;00mmsg\u001b[39m}\u001b[39;00m\u001b[39m\\n\u001b[39;00m\u001b[39m{\u001b[39;00msep\u001b[39m}\u001b[39;00m\u001b[39m\\n\u001b[39;00m\u001b[39m\"\u001b[39m\n\u001b[1;32m--> 583\u001b[0m \u001b[39mraise\u001b[39;00m \u001b[39mLookupError\u001b[39;00m(resource_not_found)\n",
      "\u001b[1;31mLookupError\u001b[0m: \n**********************************************************************\n  Resource \u001b[93mpunkt\u001b[0m not found.\n  Please use the NLTK Downloader to obtain the resource:\n\n  \u001b[31m>>> import nltk\n  >>> nltk.download('punkt')\n  \u001b[0m\n  For more information see: https://www.nltk.org/data.html\n\n  Attempted to load \u001b[93mtokenizers/punkt/english.pickle\u001b[0m\n\n  Searched in:\n    - 'C:\\\\Users\\\\ppizarro/nltk_data'\n    - 'c:\\\\Users\\\\ppizarro\\\\AppData\\\\Local\\\\anaconda3\\\\nltk_data'\n    - 'c:\\\\Users\\\\ppizarro\\\\AppData\\\\Local\\\\anaconda3\\\\share\\\\nltk_data'\n    - 'c:\\\\Users\\\\ppizarro\\\\AppData\\\\Local\\\\anaconda3\\\\lib\\\\nltk_data'\n    - 'C:\\\\Users\\\\ppizarro\\\\AppData\\\\Roaming\\\\nltk_data'\n    - 'C:\\\\nltk_data'\n    - 'D:\\\\nltk_data'\n    - 'E:\\\\nltk_data'\n    - ''\n**********************************************************************\n"
     ]
    }
   ],
   "source": [
    "word_tokenize(cuerpo_de_texto_normal)"
   ]
  },
  {
   "cell_type": "code",
   "execution_count": null,
   "metadata": {},
   "outputs": [],
   "source": []
  }
 ],
 "metadata": {
  "kernelspec": {
   "display_name": "Python 3",
   "language": "python",
   "name": "python3"
  },
  "language_info": {
   "codemirror_mode": {
    "name": "ipython",
    "version": 3
   },
   "file_extension": ".py",
   "mimetype": "text/x-python",
   "name": "python",
   "nbconvert_exporter": "python",
   "pygments_lexer": "ipython3",
   "version": "3.10.9"
  },
  "orig_nbformat": 4
 },
 "nbformat": 4,
 "nbformat_minor": 2
}
