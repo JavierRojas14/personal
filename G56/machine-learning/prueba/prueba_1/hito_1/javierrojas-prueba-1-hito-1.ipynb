{
 "cells": [
  {
   "attachments": {},
   "cell_type": "markdown",
   "metadata": {},
   "source": [
    "### Prueba 1 - Hito 1 - Javier Rojas Benitez - G56"
   ]
  },
  {
   "attachments": {},
   "cell_type": "markdown",
   "metadata": {},
   "source": [
    "# Preliminares\n",
    "\n",
    "- Este es un problema de clasificacion. En especifico, corresponde a un problema de clasificacion\n",
    "binaria. Esto, ya que se quiere clasificar si un cuerpo de texto tiene un sentimiento negativo o positivo asociado.\n",
    "\n",
    "## Variables disponibles\n",
    "\n",
    "- El vector objetivo (```sentiment```) corresponde al sentimiento asociado a un cuerpo de texto.\n",
    "Existen diversos sentimientos disponibles. Sin embargo, esta variable sera codificada a una variable\n",
    "binaria (Positivo o Negativo). La codificacion esta explicada en el apartado de preprocesamiento.\n",
    "\n",
    "- Las variables independientes corresponden a todas las palabras disponibles en cada cuerpo de texto.\n",
    "Sin embargo, una parte importante de estas palabras seran filtradas luego del preprocesamiento \n",
    "(eliminacion de palabras \"stopwords\", consolidacion de palabras con una raiz comun). Por lo tanto,\n",
    "los atributos disponibles son las palabras remanentes en los cuerpos de texto luego del preprocesamiento.\n",
    "\n",
    "## Resolución del problema\n",
    "\n",
    "- Como se menciono previamente, este es un problema de clasificacion. En este caso, se relaciona\n",
    "el contenido de un texto con el sentimiento (especificamente, si es un sentimiento positivo o negativo)\n",
    "que este provoca.\n",
    "\n",
    "- Especificamente, este es un problema de clasificacion binaria (positivo o negativo). Debido a lo\n",
    "anterior, se utilizaran los siguientes modelos predictivos:\n",
    "\n",
    "    - Regresion logistica\n",
    "    - Arbol de Clasificacion\n",
    "    - Random Forest de Clasificacion\n",
    "    - SVM\n",
    "    - Naive Bayes\n",
    "\n",
    "\n",
    "- Los pasos a seguir en el análisis son:\n",
    "\n",
    "1. Análisis del vector objetivo previo al preprocesamiento\n",
    "2. Preprocesamiento\n",
    "3. Análisis Exploratorio\n",
    "4. Feature Engineering\n",
    "\n",
    "## Optimizacion del modelo\n",
    "\n",
    "## Métricas de Desempeño\n",
    "\n",
    "- Debido a que este es un problema de clasificacion, se utilizaran las metricas de recall, precision, accuracy y f1-score. Para obtener todas estas metricas se utilizara la funcion ```classification_report```\n",
    "de sklearn.metrics."
   ]
  },
  {
   "attachments": {},
   "cell_type": "markdown",
   "metadata": {},
   "source": [
    "\n",
    "# Aspectos Computacionales\n",
    "- Se utiliza la siguiente version de Python:\n",
    "\n",
    "    - Python v3.10.9\n",
    "\n",
    "- Se utilizaran las siguientes librerias:\n",
    "  - **Para sanitizar el cuadernillo jupyter**:\n",
    "    - warnings de Python v3.10.9\n",
    "  \n",
    "  - **Para leer/manipular bases de datos y calcular diversas estadisticas**:\n",
    "    - pandas v1.4.4\n",
    "    - numpy v1.21.5\n",
    "  \n",
    "  - **Para graficar datos**:\n",
    "    - matplotlib v3.5.2\n",
    "    - seaborn v0.11.2\n",
    "  \n",
    "  - **Para observar visualmente valores faltantes**:\n",
    "    - missingno v0.4.2\n",
    "  \n",
    "  - **Para implementar el modelo de regresion logistica basado en la econometria**:\n",
    "    - statsmodels v0.13.2 (para importar la libreria .api y .formula.api)\n",
    "  \n",
    "  - **Para estandarizar los datos. Ademas, para crear, entrenar y testear el modelo de\n",
    "  regresion logistica basado en el Machine Learning**:\n",
    "    - sklearn.preprocessing v1.0.2 (para importar StandardScaler)\n",
    "    - sklearn.linear_model v1.0.2 (para importar LogisticRegression)\n",
    "    - sklearn.model_selection v1.0.2 (para importar cross_val_score)\n",
    "\n",
    "  - **Funciones auxiliares (alojadas en los archivos llamado funciones_auxiliares_hito_X.py)**\n",
    "\n"
   ]
  },
  {
   "attachments": {},
   "cell_type": "markdown",
   "metadata": {},
   "source": [
    "# Análisis Exploratorio\n",
    "- Analizar el comportamiento del vector objetivo\n",
    "- Reportar el patron de datos perdidos"
   ]
  },
  {
   "cell_type": "code",
   "execution_count": 1,
   "metadata": {},
   "outputs": [],
   "source": [
    "import pandas as pd\n",
    "import numpy as np\n",
    "import polars as pl\n",
    "\n",
    "import matplotlib.pyplot as plt\n",
    "import seaborn as sns\n",
    "\n",
    "import warnings\n",
    "\n",
    "warnings.filterwarnings('ignore')\n",
    "sns.set_style()\n",
    "plt.rcParams['figure.figsize'] = (12, 6)"
   ]
  },
  {
   "cell_type": "code",
   "execution_count": 13,
   "metadata": {},
   "outputs": [],
   "source": [
    "import wget\n",
    "url = \"https://www.crowdflower.com/wp-content/uploads/2016/07/text_emotion.csv\"\n",
    "filename = wget.download(url)\n"
   ]
  },
  {
   "cell_type": "code",
   "execution_count": 18,
   "metadata": {},
   "outputs": [],
   "source": [
    "df = pd.read_csv('input/training_tweets.csv').drop(columns='Unnamed: 0')"
   ]
  },
  {
   "cell_type": "code",
   "execution_count": 19,
   "metadata": {},
   "outputs": [
    {
     "data": {
      "text/html": [
       "<div>\n",
       "<style scoped>\n",
       "    .dataframe tbody tr th:only-of-type {\n",
       "        vertical-align: middle;\n",
       "    }\n",
       "\n",
       "    .dataframe tbody tr th {\n",
       "        vertical-align: top;\n",
       "    }\n",
       "\n",
       "    .dataframe thead th {\n",
       "        text-align: right;\n",
       "    }\n",
       "</style>\n",
       "<table border=\"1\" class=\"dataframe\">\n",
       "  <thead>\n",
       "    <tr style=\"text-align: right;\">\n",
       "      <th></th>\n",
       "      <th>content</th>\n",
       "      <th>sentiment</th>\n",
       "    </tr>\n",
       "  </thead>\n",
       "  <tbody>\n",
       "    <tr>\n",
       "      <th>0</th>\n",
       "      <td>Happy Mama's day to all mothers</td>\n",
       "      <td>love</td>\n",
       "    </tr>\n",
       "    <tr>\n",
       "      <th>1</th>\n",
       "      <td>@LysdelTellez I am lost. Please help me find a...</td>\n",
       "      <td>worry</td>\n",
       "    </tr>\n",
       "    <tr>\n",
       "      <th>2</th>\n",
       "      <td>@BoomKatt yes yes I AM, networking whore to th...</td>\n",
       "      <td>happiness</td>\n",
       "    </tr>\n",
       "    <tr>\n",
       "      <th>3</th>\n",
       "      <td>you@snapplynn Wish that would have been your t...</td>\n",
       "      <td>neutral</td>\n",
       "    </tr>\n",
       "    <tr>\n",
       "      <th>4</th>\n",
       "      <td>now i am doing the MicroEconomics project  iha...</td>\n",
       "      <td>worry</td>\n",
       "    </tr>\n",
       "    <tr>\n",
       "      <th>...</th>\n",
       "      <td>...</td>\n",
       "      <td>...</td>\n",
       "    </tr>\n",
       "    <tr>\n",
       "      <th>29995</th>\n",
       "      <td>I  do not want to work tomorrow!</td>\n",
       "      <td>sadness</td>\n",
       "    </tr>\n",
       "    <tr>\n",
       "      <th>29996</th>\n",
       "      <td>@KandyBee we shuld do  a dance like that its s...</td>\n",
       "      <td>fun</td>\n",
       "    </tr>\n",
       "    <tr>\n",
       "      <th>29997</th>\n",
       "      <td>Photo: Got my prints a few days ago, ready for...</td>\n",
       "      <td>happiness</td>\n",
       "    </tr>\n",
       "    <tr>\n",
       "      <th>29998</th>\n",
       "      <td>@tove_liden Thanks for the follow Tove!</td>\n",
       "      <td>fun</td>\n",
       "    </tr>\n",
       "    <tr>\n",
       "      <th>29999</th>\n",
       "      <td>@esmeeworld thanks</td>\n",
       "      <td>neutral</td>\n",
       "    </tr>\n",
       "  </tbody>\n",
       "</table>\n",
       "<p>30000 rows × 2 columns</p>\n",
       "</div>"
      ],
      "text/plain": [
       "                                                 content  sentiment\n",
       "0                        Happy Mama's day to all mothers       love\n",
       "1      @LysdelTellez I am lost. Please help me find a...      worry\n",
       "2      @BoomKatt yes yes I AM, networking whore to th...  happiness\n",
       "3      you@snapplynn Wish that would have been your t...    neutral\n",
       "4      now i am doing the MicroEconomics project  iha...      worry\n",
       "...                                                  ...        ...\n",
       "29995                   I  do not want to work tomorrow!    sadness\n",
       "29996  @KandyBee we shuld do  a dance like that its s...        fun\n",
       "29997  Photo: Got my prints a few days ago, ready for...  happiness\n",
       "29998            @tove_liden Thanks for the follow Tove!        fun\n",
       "29999                                 @esmeeworld thanks    neutral\n",
       "\n",
       "[30000 rows x 2 columns]"
      ]
     },
     "execution_count": 19,
     "metadata": {},
     "output_type": "execute_result"
    }
   ],
   "source": [
    "df"
   ]
  },
  {
   "cell_type": "markdown",
   "metadata": {},
   "source": [
    "# Feature Engineering"
   ]
  }
 ],
 "metadata": {
  "kernelspec": {
   "display_name": "Python 3",
   "language": "python",
   "name": "python3"
  },
  "language_info": {
   "codemirror_mode": {
    "name": "ipython",
    "version": 3
   },
   "file_extension": ".py",
   "mimetype": "text/x-python",
   "name": "python",
   "nbconvert_exporter": "python",
   "pygments_lexer": "ipython3",
   "version": "3.10.9"
  },
  "orig_nbformat": 4
 },
 "nbformat": 4,
 "nbformat_minor": 2
}
