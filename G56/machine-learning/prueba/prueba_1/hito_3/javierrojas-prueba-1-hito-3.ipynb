{
 "cells": [
  {
   "cell_type": "code",
   "execution_count": 4,
   "metadata": {},
   "outputs": [],
   "source": [
    "import importlib\n",
    "import pickle\n",
    "\n",
    "import pandas as pd\n",
    "import numpy as np\n",
    "\n",
    "import matplotlib.pyplot as plt\n",
    "import seaborn as sns\n",
    "\n",
    "import warnings\n",
    "\n",
    "warnings.filterwarnings(\"ignore\")\n",
    "sns.set_style()\n",
    "plt.rcParams[\"figure.figsize\"] = (20, 10)\n"
   ]
  },
  {
   "attachments": {},
   "cell_type": "markdown",
   "metadata": {},
   "source": [
    "# Importacion de Modelos Entrenados\n",
    "\n",
    "Debido a que se entrenaron todos los modelos en el Hito 2, se procedera a importar cada uno de los\n",
    "modelos ya entrenados."
   ]
  },
  {
   "cell_type": "code",
   "execution_count": 5,
   "metadata": {},
   "outputs": [],
   "source": [
    "archivos_a_leer = [\n",
    "    \"modelo_logistic.pickle\",\n",
    "    \"modelo_naive_bayes.pickle\",\n",
    "    \"modelo_arbol.pickle\",\n",
    "    \"modelo_random_forest.pickle\",\n",
    "    \"modelo_gradient_boosting.pickle\",\n",
    "]\n",
    "\n",
    "modelos = {}\n",
    "for nombre_archivo in archivos_a_leer:\n",
    "    with open(nombre_archivo, \"rb\") as file:\n",
    "        modelo = pickle.load(file)\n",
    "        modelos[nombre_archivo.split(\".\")[0]] = modelo"
   ]
  },
  {
   "attachments": {},
   "cell_type": "markdown",
   "metadata": {},
   "source": [
    "# Reporte comparativo de desempenos\n",
    "\n",
    "En el Hito 2 se reportaron los desempenos de cada uno de los modelos ya entrenados. Esto se realizo\n",
    "tanto para el conjunto de entrenamiento y el conjunto de validacion. En la siguiente tabla se\n",
    "recopila a modo de resumen los resultados.\n",
    "\n",
    "|Modelo|Entrenamiento Accuracy|Validacion Accuracy|Validacion ROC|\n",
    "|------|----------------------|-------------------|--------------|\n",
    "|Logistico|0.67|0.68|0.68|\n",
    "|Naive Bayes|0.67|0.68|0.68|\n",
    "|Arbol de clasificacion|0.57|0.57|0.56|\n",
    "|Random Forest|0.66|0.66|0.65|\n",
    "|Gradient Boosting|0.66|0.67|0.66|\n"
   ]
  },
  {
   "attachments": {},
   "cell_type": "markdown",
   "metadata": {},
   "source": [
    "- Se puede observar que los mejores modelos de clasificacion (segun el valor ROC) fueron el\n",
    "modelo de regresion logistica o naive bayes. Ambos modelos presentaron un desempeno identico,\n",
    "tanto en el conjunto de entrenamiento como en el de validacion. Ademas, fueron los modelos que\n",
    "tuvieron el menor coste computacional, demorando ~8 y ~2 segundos en entrenar, respectivamente.\n",
    "\n",
    "- El peor modelo fue el arbol de clasificacion, con un valor de ROC de 0.56. Por lo tanto, clasifica\n",
    "en 6% mejor que un clasificador aleatorio.\n",
    "\n",
    "- El modelo de Random Forest y Gradient Boosting fueron los modelos mas costosos computacionalmente,\n",
    "demorando ~3 y ~9 minutos en entrenar, respectivamente. A pesar de su alto costo computacional,\n",
    "estos modelos tuvieron un resultado comparable (levemente peor) al modelo logistico o naive bayes.\n",
    "\n",
    "- El valor ROC promedio de los 5 modelos fue de 0.65."
   ]
  },
  {
   "attachments": {},
   "cell_type": "markdown",
   "metadata": {},
   "source": [
    "# Exportacion de Mejores Modelos\n",
    "\n",
    "Teniendo en cuenta los resultados anteriores, los mejores modelos son el modelo de regresion\n",
    "logistica y naive bayes. Por lo tanto, ambos seran exportados para validacion externa."
   ]
  },
  {
   "cell_type": "code",
   "execution_count": 11,
   "metadata": {},
   "outputs": [],
   "source": [
    "modelos_a_exportar = {\n",
    "    'modelo_1_modelo_logistico.pickle': modelos['modelo_logistic'],\n",
    "    'modelo_2_modelo_naive_bayes.pickle': modelos['modelo_naive_bayes'],\n",
    "}"
   ]
  },
  {
   "cell_type": "code",
   "execution_count": 13,
   "metadata": {},
   "outputs": [],
   "source": [
    "for archivo, modelo in modelos_a_exportar.items():\n",
    "    with open(archivo, 'wb') as file:\n",
    "        pickle.dump(modelo, file)"
   ]
  }
 ],
 "metadata": {
  "kernelspec": {
   "display_name": "Python 3",
   "language": "python",
   "name": "python3"
  },
  "language_info": {
   "codemirror_mode": {
    "name": "ipython",
    "version": 3
   },
   "file_extension": ".py",
   "mimetype": "text/x-python",
   "name": "python",
   "nbconvert_exporter": "python",
   "pygments_lexer": "ipython3",
   "version": "3.10.9"
  },
  "orig_nbformat": 4
 },
 "nbformat": 4,
 "nbformat_minor": 2
}
