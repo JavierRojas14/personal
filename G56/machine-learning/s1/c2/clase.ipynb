{
 "cells": [
  {
   "attachments": {},
   "cell_type": "markdown",
   "metadata": {},
   "source": [
    "# Modelo Aditivos Generalizados"
   ]
  },
  {
   "attachments": {},
   "cell_type": "markdown",
   "metadata": {},
   "source": [
    "- Son utilizados principalmente para combatir al underfitting (cuando nuestro modelo es demasiado\n",
    "rígido, o tiene mucho sesgo/bias)\n",
    "- Soluciona problemas cuando nuestro modelo genera una linea recta, y en verdad nuestro datos\n",
    "tienen una curvatura (ej: exponenciales)\n",
    "\n",
    "## Soluciones a la nolinealidad\n",
    "\n",
    "- Modelo Lineal: Presenta alto sesgo, pero es fácil de interpretar\n",
    "- Polinomial: Se acoplan harto a los datos de entrenamiento, pero tienen una chance de generalización\n",
    "mucho más baja\n",
    "- GLM: Suaviza/Genera curvas en el modelo hecho. Deja a las variables del modelo en forma lineal\n",
    "aún así!\n",
    "\n",
    "## Elementos básicos de GAM - Solución propuesta por GAM\n",
    "\n",
    "Aquí se utilizan funciones en cada una de las variables. Por ejemplo:\n",
    "\n",
    "Modelo con 4 variables (A, B, C y D)\n",
    "\n",
    "y = intercepto + f(A) + f(B) + f(C) + f(D)\n",
    "\n",
    "Donde f son las funciones que se aplican a cada una de las variables. Por ejemplo: Función identidad\n",
    "(la variable se deja de la misma forma), función cuadrada (x elevado a 2), función cúbica, función\n",
    "logaritmica, etc... . Esto hace que nuestro modelo en si siga siendo lineal, pero se introducen\n",
    "curvaturas a la variable dependiente!\n",
    "\n",
    "## Implementación y entrenamiento\n",
    "\n",
    "El objetivo del GAM es encontrar qué función es más óptima para cada uno de las variables del \n",
    "modelo. Esto lo realiza utilizando el backfitting:\n",
    "\n",
    "### ¿Cómo se optimiza el GAM?\n",
    "\n",
    "Al final, se itera en cada una de las funciones utilizadas para cada variable. Para cada iteración,\n",
    "se evalua el modelo (por ejemplo, con Mean Squared Error), y...\n",
    "\n",
    "En cada uno de las funciones utilizadas, se utiliza un penalizador (Utilizando lambda como en \n",
    "Ridge o Lasso) para restringir el overfit. Además, se itera por cada variable del modelo para\n",
    "encontrar el lambda más óptimo!"
   ]
  },
  {
   "attachments": {},
   "cell_type": "markdown",
   "metadata": {},
   "source": [
    "# Implementación en Python"
   ]
  },
  {
   "cell_type": "code",
   "execution_count": 1,
   "metadata": {},
   "outputs": [],
   "source": [
    "import pandas as pd\n",
    "import numpy as np\n",
    "import matplotlib.pyplot as plt\n",
    "import seaborn as sns\n",
    "from pygam import LinearGAM, s\n",
    "import lec2_graphs as afx\n",
    "from sklearn.preprocessing import StandardScaler\n",
    "from sklearn.model_selection import train_test_split\n",
    "from sklearn.metrics import r2_score, mean_squared_error, median_absolute_error\n",
    "\n",
    "plt.rcParams['figure.figsize'] = (12, 6)\n",
    "plt.style.use('seaborn')"
   ]
  },
  {
   "cell_type": "code",
   "execution_count": 2,
   "metadata": {},
   "outputs": [],
   "source": [
    "df = pd.read_csv('kc_house_data.csv')"
   ]
  },
  {
   "cell_type": "code",
   "execution_count": 3,
   "metadata": {},
   "outputs": [],
   "source": [
    "df = df.drop(['zipcode', 'id', 'date'], axis=1)"
   ]
  },
  {
   "cell_type": "code",
   "execution_count": null,
   "metadata": {},
   "outputs": [],
   "source": [
    "sub = df[['bedrooms', 'bathrooms', 'sqft_living', 'sqft_lot']]\n",
    "X_train_pre, X_test_pre, y_train, y_test = train_test_split(sub, df['price'],\n",
    "                                                            test_size=0.3,\n",
    "                                                            random_state=63)\n",
    "\n",
    "scaler = StandardScaler().fit(X_train_pre)\n",
    "sca"
   ]
  }
 ],
 "metadata": {
  "kernelspec": {
   "display_name": "Python 3",
   "language": "python",
   "name": "python3"
  },
  "language_info": {
   "codemirror_mode": {
    "name": "ipython",
    "version": 3
   },
   "file_extension": ".py",
   "mimetype": "text/x-python",
   "name": "python",
   "nbconvert_exporter": "python",
   "pygments_lexer": "ipython3",
   "version": "3.11.1"
  },
  "orig_nbformat": 4
 },
 "nbformat": 4,
 "nbformat_minor": 2
}
