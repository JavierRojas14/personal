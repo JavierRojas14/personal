{
 "cells": [
  {
   "attachments": {},
   "cell_type": "markdown",
   "metadata": {},
   "source": [
    "# Modelo Aditivos Generalizados"
   ]
  },
  {
   "attachments": {},
   "cell_type": "markdown",
   "metadata": {},
   "source": [
    "- Son utilizados principalmente para combatir al underfitting (cuando nuestro modelo es demasiado\n",
    "rígido, o tiene mucho sesgo/bias)\n",
    "- Soluciona problemas cuando nuestro modelo genera una linea recta, y en verdad nuestro datos\n",
    "tienen una curvatura (ej: exponenciales)\n",
    "\n",
    "## Soluciones a la nolinealidad\n",
    "\n",
    "- Modelo Lineal: Presenta alto sesgo, pero es fácil de interpretar\n",
    "- Polinomial: Se acoplan harto a los datos de entrenamiento, pero tienen una chance de generalización\n",
    "mucho más baja\n",
    "- GLM: Suaviza/Genera curvas en el modelo hecho. Deja a las variables del modelo en forma lineal\n",
    "aún así!\n",
    "\n",
    "## Elementos básicos de GAM - Solución propuesta por GAM\n",
    "\n",
    "Aquí se utilizan funciones en cada una de las variables. Por ejemplo:\n",
    "\n",
    "Modelo con 4 variables (A, B, C y D)\n",
    "\n",
    "y = intercepto + f(A) + f(B) + f(C) + f(D)\n",
    "\n",
    "Donde f son las funciones que se aplican a cada una de las variables. Por ejemplo: Función identidad\n",
    "(la variable se deja de la misma forma), función cuadrada (x elevado a 2), función cúbica, función\n",
    "logaritmica, etc... . Esto hace que nuestro modelo en si siga siendo lineal, pero se introducen\n",
    "curvaturas a la variable dependiente!\n",
    "\n",
    "## Implementación y entrenamiento\n",
    "\n",
    "El objetivo del GAM es encontrar qué función es más óptima para cada uno de las variables del \n",
    "modelo. Esto lo realiza utilizando el backfitting:\n",
    "\n",
    "### ¿Cómo se optimiza el GAM?\n",
    "\n",
    "Al final, se itera en cada una de las funciones utilizadas para cada variable. Para cada iteración,\n",
    "se evalua el modelo (por ejemplo, con Mean Squared Error), y...\n",
    "\n",
    "En cada uno de las funciones utilizadas, se utiliza un penalizador (Utilizando lambda como en \n",
    "Ridge o Lasso) para restringir el overfit. Además, se itera por cada variable del modelo para\n",
    "encontrar el lambda más óptimo!"
   ]
  },
  {
   "attachments": {},
   "cell_type": "markdown",
   "metadata": {},
   "source": [
    "# Implementación en Python"
   ]
  },
  {
   "cell_type": "code",
   "execution_count": 25,
   "metadata": {},
   "outputs": [],
   "source": [
    "import pandas as pd\n",
    "import numpy as np\n",
    "import matplotlib.pyplot as plt\n",
    "import seaborn as sns\n",
    "from pygam import LinearGAM, s\n",
    "import lec2_graphs as afx\n",
    "from sklearn.preprocessing import StandardScaler\n",
    "from sklearn.model_selection import train_test_split\n",
    "from sklearn.metrics import r2_score, mean_squared_error, median_absolute_error\n",
    "\n",
    "plt.rcParams['figure.figsize'] = (12, 6)\n",
    "plt.style.use('seaborn')"
   ]
  },
  {
   "cell_type": "code",
   "execution_count": 26,
   "metadata": {},
   "outputs": [],
   "source": [
    "df = pd.read_csv('kc_house_data.csv')"
   ]
  },
  {
   "cell_type": "code",
   "execution_count": 27,
   "metadata": {},
   "outputs": [],
   "source": [
    "df = df.drop(['zipcode', 'id', 'date'], axis=1)"
   ]
  },
  {
   "cell_type": "code",
   "execution_count": 28,
   "metadata": {},
   "outputs": [],
   "source": [
    "sub = df[['bedrooms', 'bathrooms', 'sqft_living', 'sqft_lot']]\n",
    "X_train_pre, X_test_pre, y_train, y_test = train_test_split(sub, df['price'],\n",
    "                                                            test_size=0.3,\n",
    "                                                            random_state=63)\n",
    "\n",
    "scaler = StandardScaler().fit(X_train_pre)\n",
    "X_train = pd.DataFrame(scaler.transform(X_train_pre), columns=X_train_pre.columns)\n",
    "X_test = pd.DataFrame(scaler.transform(X_test_pre), columns=X_test_pre.columns)"
   ]
  },
  {
   "cell_type": "code",
   "execution_count": 29,
   "metadata": {},
   "outputs": [],
   "source": [
    "lams = np.logspace(-3, 3, 3)\n",
    "lams = [lams] * len(X_train.columns)\n",
    "# En la ultima linea, se copia 4 veces (o n veces, segun las variables que se vayan a ocupar\n",
    "# en el modelo) los lambdas a probar en la regularización de 1 variable!"
   ]
  },
  {
   "cell_type": "code",
   "execution_count": 30,
   "metadata": {},
   "outputs": [],
   "source": [
    "# s es la funcion con la que se va a modificar cada variable en este modelo. Dentro de la\n",
    "# documentacion se menciona que s es la funcion cubica. Por lo tanto, todas las variables son\n",
    "# tratadas con la funcion cubica (Identificar esta funcion creo que tambien es parte del algoritmo\n",
    "# de GAM)\n",
    "gam = LinearGAM(s(0) + s(1) + s(2) + s(3), fit_intercept=True)"
   ]
  },
  {
   "cell_type": "code",
   "execution_count": 32,
   "metadata": {},
   "outputs": [
    {
     "ename": "InvalidIndexError",
     "evalue": "(slice(None, None, None), 0)",
     "output_type": "error",
     "traceback": [
      "\u001b[1;31m---------------------------------------------------------------------------\u001b[0m",
      "\u001b[1;31mTypeError\u001b[0m                                 Traceback (most recent call last)",
      "File \u001b[1;32mc:\\Users\\finanzas\\AppData\\Local\\Programs\\Python\\Python311\\Lib\\site-packages\\pandas\\core\\indexes\\base.py:3802\u001b[0m, in \u001b[0;36mIndex.get_loc\u001b[1;34m(self, key, method, tolerance)\u001b[0m\n\u001b[0;32m   3801\u001b[0m \u001b[39mtry\u001b[39;00m:\n\u001b[1;32m-> 3802\u001b[0m     \u001b[39mreturn\u001b[39;00m \u001b[39mself\u001b[39;49m\u001b[39m.\u001b[39;49m_engine\u001b[39m.\u001b[39;49mget_loc(casted_key)\n\u001b[0;32m   3803\u001b[0m \u001b[39mexcept\u001b[39;00m \u001b[39mKeyError\u001b[39;00m \u001b[39mas\u001b[39;00m err:\n",
      "File \u001b[1;32mc:\\Users\\finanzas\\AppData\\Local\\Programs\\Python\\Python311\\Lib\\site-packages\\pandas\\_libs\\index.pyx:138\u001b[0m, in \u001b[0;36mpandas._libs.index.IndexEngine.get_loc\u001b[1;34m()\u001b[0m\n",
      "File \u001b[1;32mc:\\Users\\finanzas\\AppData\\Local\\Programs\\Python\\Python311\\Lib\\site-packages\\pandas\\_libs\\index.pyx:144\u001b[0m, in \u001b[0;36mpandas._libs.index.IndexEngine.get_loc\u001b[1;34m()\u001b[0m\n",
      "\u001b[1;31mTypeError\u001b[0m: '(slice(None, None, None), 0)' is an invalid key",
      "\nDuring handling of the above exception, another exception occurred:\n",
      "\u001b[1;31mInvalidIndexError\u001b[0m                         Traceback (most recent call last)",
      "Cell \u001b[1;32mIn[32], line 1\u001b[0m\n\u001b[1;32m----> 1\u001b[0m gam\u001b[39m.\u001b[39;49mgridsearch(X_train, y_train, lam\u001b[39m=\u001b[39;49mlams)\n",
      "File \u001b[1;32mc:\\Users\\finanzas\\AppData\\Local\\Programs\\Python\\Python311\\Lib\\site-packages\\pygam\\pygam.py:1773\u001b[0m, in \u001b[0;36mGAM.gridsearch\u001b[1;34m(self, X, y, weights, return_scores, keep_best, objective, progress, **param_grids)\u001b[0m\n\u001b[0;32m   1771\u001b[0m \u001b[39mif\u001b[39;00m \u001b[39mnot\u001b[39;00m \u001b[39mself\u001b[39m\u001b[39m.\u001b[39m_is_fitted:\n\u001b[0;32m   1772\u001b[0m     \u001b[39mself\u001b[39m\u001b[39m.\u001b[39m_validate_params()\n\u001b[1;32m-> 1773\u001b[0m     \u001b[39mself\u001b[39;49m\u001b[39m.\u001b[39;49m_validate_data_dep_params(X)\n\u001b[0;32m   1775\u001b[0m y \u001b[39m=\u001b[39m check_y(y, \u001b[39mself\u001b[39m\u001b[39m.\u001b[39mlink, \u001b[39mself\u001b[39m\u001b[39m.\u001b[39mdistribution, verbose\u001b[39m=\u001b[39m\u001b[39mself\u001b[39m\u001b[39m.\u001b[39mverbose)\n\u001b[0;32m   1776\u001b[0m X \u001b[39m=\u001b[39m check_X(X, verbose\u001b[39m=\u001b[39m\u001b[39mself\u001b[39m\u001b[39m.\u001b[39mverbose)\n",
      "File \u001b[1;32mc:\\Users\\finanzas\\AppData\\Local\\Programs\\Python\\Python311\\Lib\\site-packages\\pygam\\pygam.py:304\u001b[0m, in \u001b[0;36mGAM._validate_data_dep_params\u001b[1;34m(self, X)\u001b[0m\n\u001b[0;32m    301\u001b[0m \u001b[39mfor\u001b[39;00m k \u001b[39min\u001b[39;00m remove:\n\u001b[0;32m    302\u001b[0m     \u001b[39mdelattr\u001b[39m(\u001b[39mself\u001b[39m, k)\n\u001b[1;32m--> 304\u001b[0m \u001b[39mself\u001b[39;49m\u001b[39m.\u001b[39;49mterms\u001b[39m.\u001b[39;49mcompile(X)\n",
      "File \u001b[1;32mc:\\Users\\finanzas\\AppData\\Local\\Programs\\Python\\Python311\\Lib\\site-packages\\pygam\\terms.py:1623\u001b[0m, in \u001b[0;36mTermList.compile\u001b[1;34m(self, X, verbose)\u001b[0m\n\u001b[0;32m   1608\u001b[0m \u001b[39m\u001b[39m\u001b[39m\"\"\"method to validate and prepare data-dependent parameters\u001b[39;00m\n\u001b[0;32m   1609\u001b[0m \n\u001b[0;32m   1610\u001b[0m \u001b[39mParameters\u001b[39;00m\n\u001b[1;32m   (...)\u001b[0m\n\u001b[0;32m   1620\u001b[0m \u001b[39mNone\u001b[39;00m\n\u001b[0;32m   1621\u001b[0m \u001b[39m\"\"\"\u001b[39;00m\n\u001b[0;32m   1622\u001b[0m \u001b[39mfor\u001b[39;00m term \u001b[39min\u001b[39;00m \u001b[39mself\u001b[39m\u001b[39m.\u001b[39m_terms:\n\u001b[1;32m-> 1623\u001b[0m     term\u001b[39m.\u001b[39;49mcompile(X, verbose\u001b[39m=\u001b[39;49mverbose)\n\u001b[0;32m   1625\u001b[0m \u001b[39m# now remove duplicate intercepts\u001b[39;00m\n\u001b[0;32m   1626\u001b[0m n_intercepts \u001b[39m=\u001b[39m \u001b[39m0\u001b[39m\n",
      "File \u001b[1;32mc:\\Users\\finanzas\\AppData\\Local\\Programs\\Python\\Python311\\Lib\\site-packages\\pygam\\terms.py:762\u001b[0m, in \u001b[0;36mSplineTerm.compile\u001b[1;34m(self, X, verbose)\u001b[0m\n\u001b[0;32m    757\u001b[0m     \u001b[39mraise\u001b[39;00m \u001b[39mValueError\u001b[39;00m(\u001b[39m'\u001b[39m\u001b[39mby variable requires feature \u001b[39m\u001b[39m{}\u001b[39;00m\u001b[39m, \u001b[39m\u001b[39m'\u001b[39m\\\n\u001b[0;32m    758\u001b[0m                      \u001b[39m'\u001b[39m\u001b[39mbut X has only \u001b[39m\u001b[39m{}\u001b[39;00m\u001b[39m dimensions\u001b[39m\u001b[39m'\u001b[39m\\\n\u001b[0;32m    759\u001b[0m                      \u001b[39m.\u001b[39mformat(\u001b[39mself\u001b[39m\u001b[39m.\u001b[39mby, X\u001b[39m.\u001b[39mshape[\u001b[39m1\u001b[39m]))\n\u001b[0;32m    761\u001b[0m \u001b[39mif\u001b[39;00m \u001b[39mnot\u001b[39;00m \u001b[39mhasattr\u001b[39m(\u001b[39mself\u001b[39m, \u001b[39m'\u001b[39m\u001b[39medge_knots_\u001b[39m\u001b[39m'\u001b[39m):\n\u001b[1;32m--> 762\u001b[0m     \u001b[39mself\u001b[39m\u001b[39m.\u001b[39medge_knots_ \u001b[39m=\u001b[39m gen_edge_knots(X[:, \u001b[39mself\u001b[39;49m\u001b[39m.\u001b[39;49mfeature],\n\u001b[0;32m    763\u001b[0m                                       \u001b[39mself\u001b[39m\u001b[39m.\u001b[39mdtype,\n\u001b[0;32m    764\u001b[0m                                       verbose\u001b[39m=\u001b[39mverbose)\n\u001b[0;32m    765\u001b[0m \u001b[39mreturn\u001b[39;00m \u001b[39mself\u001b[39m\n",
      "File \u001b[1;32mc:\\Users\\finanzas\\AppData\\Local\\Programs\\Python\\Python311\\Lib\\site-packages\\pandas\\core\\frame.py:3807\u001b[0m, in \u001b[0;36mDataFrame.__getitem__\u001b[1;34m(self, key)\u001b[0m\n\u001b[0;32m   3805\u001b[0m \u001b[39mif\u001b[39;00m \u001b[39mself\u001b[39m\u001b[39m.\u001b[39mcolumns\u001b[39m.\u001b[39mnlevels \u001b[39m>\u001b[39m \u001b[39m1\u001b[39m:\n\u001b[0;32m   3806\u001b[0m     \u001b[39mreturn\u001b[39;00m \u001b[39mself\u001b[39m\u001b[39m.\u001b[39m_getitem_multilevel(key)\n\u001b[1;32m-> 3807\u001b[0m indexer \u001b[39m=\u001b[39m \u001b[39mself\u001b[39;49m\u001b[39m.\u001b[39;49mcolumns\u001b[39m.\u001b[39;49mget_loc(key)\n\u001b[0;32m   3808\u001b[0m \u001b[39mif\u001b[39;00m is_integer(indexer):\n\u001b[0;32m   3809\u001b[0m     indexer \u001b[39m=\u001b[39m [indexer]\n",
      "File \u001b[1;32mc:\\Users\\finanzas\\AppData\\Local\\Programs\\Python\\Python311\\Lib\\site-packages\\pandas\\core\\indexes\\base.py:3809\u001b[0m, in \u001b[0;36mIndex.get_loc\u001b[1;34m(self, key, method, tolerance)\u001b[0m\n\u001b[0;32m   3804\u001b[0m         \u001b[39mraise\u001b[39;00m \u001b[39mKeyError\u001b[39;00m(key) \u001b[39mfrom\u001b[39;00m \u001b[39merr\u001b[39;00m\n\u001b[0;32m   3805\u001b[0m     \u001b[39mexcept\u001b[39;00m \u001b[39mTypeError\u001b[39;00m:\n\u001b[0;32m   3806\u001b[0m         \u001b[39m# If we have a listlike key, _check_indexing_error will raise\u001b[39;00m\n\u001b[0;32m   3807\u001b[0m         \u001b[39m#  InvalidIndexError. Otherwise we fall through and re-raise\u001b[39;00m\n\u001b[0;32m   3808\u001b[0m         \u001b[39m#  the TypeError.\u001b[39;00m\n\u001b[1;32m-> 3809\u001b[0m         \u001b[39mself\u001b[39;49m\u001b[39m.\u001b[39;49m_check_indexing_error(key)\n\u001b[0;32m   3810\u001b[0m         \u001b[39mraise\u001b[39;00m\n\u001b[0;32m   3812\u001b[0m \u001b[39m# GH#42269\u001b[39;00m\n",
      "File \u001b[1;32mc:\\Users\\finanzas\\AppData\\Local\\Programs\\Python\\Python311\\Lib\\site-packages\\pandas\\core\\indexes\\base.py:5925\u001b[0m, in \u001b[0;36mIndex._check_indexing_error\u001b[1;34m(self, key)\u001b[0m\n\u001b[0;32m   5921\u001b[0m \u001b[39mdef\u001b[39;00m \u001b[39m_check_indexing_error\u001b[39m(\u001b[39mself\u001b[39m, key):\n\u001b[0;32m   5922\u001b[0m     \u001b[39mif\u001b[39;00m \u001b[39mnot\u001b[39;00m is_scalar(key):\n\u001b[0;32m   5923\u001b[0m         \u001b[39m# if key is not a scalar, directly raise an error (the code below\u001b[39;00m\n\u001b[0;32m   5924\u001b[0m         \u001b[39m# would convert to numpy arrays and raise later any way) - GH29926\u001b[39;00m\n\u001b[1;32m-> 5925\u001b[0m         \u001b[39mraise\u001b[39;00m InvalidIndexError(key)\n",
      "\u001b[1;31mInvalidIndexError\u001b[0m: (slice(None, None, None), 0)"
     ]
    }
   ],
   "source": [
    "gam.gridsearch(X_train, y_train, lam=lams)"
   ]
  },
  {
   "attachments": {},
   "cell_type": "markdown",
   "metadata": {},
   "source": [
    "## Dependencia Parcial\n",
    "\n",
    "Una vez generado el modelo aditivo generalizado, se puede ver el comportamiento de la variable\n",
    "y con respecto a cada una de las variables. De este modo, es posible observar tendencias en los\n",
    "distintos valores de cada variable."
   ]
  },
  {
   "cell_type": "markdown",
   "metadata": {},
   "source": []
  }
 ],
 "metadata": {
  "kernelspec": {
   "display_name": "Python 3",
   "language": "python",
   "name": "python3"
  },
  "language_info": {
   "codemirror_mode": {
    "name": "ipython",
    "version": 3
   },
   "file_extension": ".py",
   "mimetype": "text/x-python",
   "name": "python",
   "nbconvert_exporter": "python",
   "pygments_lexer": "ipython3",
   "version": "3.11.1"
  },
  "orig_nbformat": 4
 },
 "nbformat": 4,
 "nbformat_minor": 2
}
