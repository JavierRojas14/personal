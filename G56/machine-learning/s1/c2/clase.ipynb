{
 "cells": [
  {
   "attachments": {},
   "cell_type": "markdown",
   "metadata": {},
   "source": [
    "# Modelo Aditivos Generalizados"
   ]
  },
  {
   "attachments": {},
   "cell_type": "markdown",
   "metadata": {},
   "source": [
    "- Son utilizados principalmente para combatir al underfitting (cuando nuestro modelo es demasiado\n",
    "rígido, o tiene mucho sesgo/bias)\n",
    "- Soluciona problemas cuando nuestro modelo genera una linea recta, y en verdad nuestro datos\n",
    "tienen una curvatura (ej: exponenciales)\n",
    "\n",
    "## Soluciones a la nolinealidad\n",
    "\n",
    "- Modelo Lineal: Presenta alto sesgo, pero es fácil de interpretar\n",
    "- Polinomial: Se acoplan harto a los datos de entrenamiento, pero tienen una chance de generalización\n",
    "mucho más baja\n",
    "- GLM: Suaviza/Genera curvas en el modelo hecho. Deja a las variables del modelo en forma lineal\n",
    "aún así!\n",
    "\n",
    "## Elementos básicos de GAM - Solución propuesta por GAM\n",
    "\n",
    "Aquí se utilizan funciones en cada una de las variables. Por ejemplo:\n",
    "\n",
    "Modelo con 4 variables (A, B, C y D)\n",
    "\n",
    "y = intercepto + f(A) + f(B) + f(C) + f(D)\n",
    "\n",
    "Donde f son las funciones que se aplican a cada una de las variables. Por ejemplo: Función identidad\n",
    "(la variable se deja de la misma forma), función cuadrada (x elevado a 2), función cúbica, función\n",
    "logaritmica, etc... . Esto hace que nuestro modelo en si siga siendo lineal, pero se introducen\n",
    "curvaturas a la variable dependiente!"
   ]
  },
  {
   "cell_type": "markdown",
   "metadata": {},
   "source": []
  }
 ],
 "metadata": {
  "language_info": {
   "name": "python"
  },
  "orig_nbformat": 4
 },
 "nbformat": 4,
 "nbformat_minor": 2
}
