{
 "cells": [
  {
   "attachments": {},
   "cell_type": "markdown",
   "metadata": {},
   "source": [
    "# Elementos conformantes\n",
    "\n",
    "## Neurona\n",
    "\n",
    "## Capa\n",
    "\n",
    "## Capa oculta\n",
    "\n",
    "Son las capas de neuronas que estan internamente dentro de una red neuronal.\n",
    "\n",
    "## Sesgo y Pesos!\n",
    "\n",
    "Hay sesgos y pesos en cada neurona, que multiplican al input!. La funcion del sesgo y el peso responde a la forma de:\n",
    "\n",
    "y = mx + n\n",
    "\n",
    "Donde m es el sesgo, y n es el peso.\n",
    "\n",
    "Por lo tanto, antes de pasar los datos a la funcion de activacion, los datos son transformados con el peso y el sesgo!. Esto finalmente cambia la forma de la funcion de activacion!\n",
    "\n",
    "- El sesgo (m) modifica la curvatura de la funcion que tiene cada neurona!\n",
    "- El peso (n) modifica desde donde parte la funcion que tiene cada neurona!\n",
    "\n",
    "Al final es como cuando se modifica una funcion con la pendiente y el n. Pendiente modifica la inclinacion de la funcion, mientras que n en donde parte."
   ]
  },
  {
   "cell_type": "markdown",
   "metadata": {},
   "source": []
  }
 ],
 "metadata": {
  "language_info": {
   "name": "python"
  },
  "orig_nbformat": 4
 },
 "nbformat": 4,
 "nbformat_minor": 2
}
