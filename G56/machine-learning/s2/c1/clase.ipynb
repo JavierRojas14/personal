{
 "cells": [
  {
   "attachments": {},
   "cell_type": "markdown",
   "metadata": {},
   "source": [
    "# Motivacion\n",
    "\n",
    "Existen variadas formas de implementar modelos de clasificacion. Aqui veremos los generativos y discriminativos\n",
    "\n",
    "## Discriminativos\n",
    "\n",
    "La funcion logistica es uno tipo de algoritmo discriminativo. Aqui se utiliza una funcion que traza una frontera entre dos grupos de puntos y los diferencia. Hay un frente/linea de decision\n",
    "\n",
    "## Generativos\n",
    "\n",
    "Lo primero que hacen es agrupar los tipos de datos similares, y luego buscan caracteristicas similares entre elementos de un mismo grupo. Los generativos son mas flexibles en lo que podemos ingresar, y tienen mas ventajas con los discriminativos"
   ]
  },
  {
   "attachments": {},
   "cell_type": "markdown",
   "metadata": {},
   "source": [
    "# Teorema de Bayes\n",
    "\n",
    "Tiene que ver con la probabilidad condicional. \n",
    "\n",
    "- Por ejemplo: **Cual es la probabilidad de que le guste a alguien que me sonrie?**\n",
    "\n",
    "En este caso se quiere ver la probabilidad del evento \"Que le guste a alguien\", condicionado a que esa persona me sonria.\n",
    "\n",
    "Este teorema nos permite agregar informacion a nuestro analisis!\n",
    "\n",
    "Existe toda una teoria del teorema de Bayes, pero estaba confusa.\n",
    "\n",
    "$Pr(A posteriori) = \\frac{Pr(Verosimilitud) x Pr(A priori)}{Pr(Evidencia)}$\n",
    "\n",
    "Esa es la formula del Teorema de Bayes"
   ]
  },
  {
   "attachments": {},
   "cell_type": "markdown",
   "metadata": {},
   "source": [
    "Pero llevado al problema nuestro (de si le gusta o no). Nuestro problema es saber si yo le gusto a una persona. Sin embargo, yo estoy condicionando ese evento al 2do evento, que es que alguien me sonria. Por lo tanto, definiendo esto, en la formula seria:\n",
    "\n",
    "$Pr(A Posteriori) = Pr(Le guste|Me Sonrie)$\n",
    "\n",
    "$Pr(Verosimilitud) = Pr(Me Sonrie|Le guste)$ O sea, al final la verosimilitud es el evento inverso al que queremos buscar. Dicho en otras palabras del ejemplo, es: \"Cual es la probabilidad de que una persona me sonria, si es que le gusto\". Este probabilidad la podemos estimar\n",
    "\n",
    "$Pr(A Priori) = Pr(Le guste)$ O sea, la probabilidad a priori, es la probabilidad de que mi evento principal ocurra por si solo. Esto se puede obtener de estudios u otras fuentes.\n",
    "\n",
    "$Pr(Evidencia) = Pr(Sonrie)$ O sea, la probabilidad de la evidencia es la probabilidad de que alguien me sonria aleatoriamente. Esto se puede obtener de estudios u otras fuentes.\n",
    "\n",
    "Por lo tanto para el ejemplo:\n",
    "\n",
    "$Pr(Le Guste|Me Sonria) = \\frac{Pr(Me Sonria|Le guste) x Pr(Le Guste)}{Pr(Me Sonria)}$\n",
    "\n",
    "Lo que se puede parafrasear como: \"La probabilidad de que a alguien le guste, y que me haya sonreido es igual a la probabilidad de que me sonria, cuando esa persona yo le guste, multiplicado por la probabilidad de que yo le guste y dividido por la probabilidad de que alguien me sonria."
   ]
  },
  {
   "cell_type": "code",
   "execution_count": 1,
   "metadata": {},
   "outputs": [],
   "source": [
    "def bayes_solver(likelihood=0.95, priori=0.01, evidence=0.1):\n",
    "    return round(likelihood * priori/ evidence, 3)"
   ]
  },
  {
   "cell_type": "code",
   "execution_count": 2,
   "metadata": {},
   "outputs": [
    {
     "data": {
      "text/plain": [
       "0.095"
      ]
     },
     "execution_count": 2,
     "metadata": {},
     "output_type": "execute_result"
    }
   ],
   "source": [
    "bayes_solver()\n",
    "# Con los parametros default significaria:\n",
    "# La probabilidad de que me sonria alguien que le guste es del 95%\n",
    "# La probabilidad de que a una persona aleatoria le guste otra persona es del 1%\n",
    "# La probabilidad de que una persona sonria aleatoriamente es del 10%\n",
    "# Por lo tanto, la probabilidad de que le guste a alguien que me sonria es del 9.5%"
   ]
  },
  {
   "cell_type": "code",
   "execution_count": 3,
   "metadata": {},
   "outputs": [
    {
     "data": {
      "text/plain": [
       "0.047"
      ]
     },
     "execution_count": 3,
     "metadata": {},
     "output_type": "execute_result"
    }
   ],
   "source": [
    "# Que pasaria si la persona tiende a sonreir mas del promedio?\n",
    "# La probabilidad de que le guste baja aun mas!\n",
    "bayes_solver(evidence=0.2)"
   ]
  },
  {
   "cell_type": "code",
   "execution_count": 4,
   "metadata": {},
   "outputs": [
    {
     "data": {
      "text/plain": [
       "0.95"
      ]
     },
     "execution_count": 4,
     "metadata": {},
     "output_type": "execute_result"
    }
   ],
   "source": [
    "# Que pasaria si es que a la persona le gustan mas persona que el promedio? Que pasa\n",
    "# si a la persona le gusta el 20% de las personas que ve?\n",
    "# Y que pasaria si la persona tiende a sonreir mas que el comun de la gente?\n",
    "bayes_solver(priori=0.2, evidence=0.2)"
   ]
  },
  {
   "attachments": {},
   "cell_type": "markdown",
   "metadata": {},
   "source": [
    "# Formulacion del algoritmo Bayes ingenuo\n",
    "\n",
    "A modo de recordatorio, la formula del teorema de bayes es:\n",
    "\n",
    "Pr(A posteriori) = Pr(Inverso de nuestro evento/Likelihood) * Pr(A priori)/ Pr(Evidencia)\n",
    "\n",
    "En el caso del problema: \"Cual es la probabilidad de que le guste a alguien que me sonria?\" las variables son:\n",
    "\n",
    "Pr(Le guste|Me Sonrie) = Pr(Me Sonria|Le Gusto) * Pr(Gustarle a alguien aleatorio) / Pr(Sonria aleatoriamente)\n",
    "\n",
    "O sea, si es que la persona sonrie mas veces aleatoriamente, significa que es mucho menos probable que le guste!. Esto tiene sentido, ya que sonrie mas veces, y por lo tanto puede sonreir por muchas mas diversas razones que le guste.\n",
    "\n",
    "A diferencia, si a la persona le gustan mas personas en general, entonces aumentan las chances de que le guste!\n",
    "\n",
    "## Bayes Ingenuo en datos\n",
    "\n",
    "En un conjunto de datos cada uno de los parametros tiene una significancia y se calcula. Ademas, en el algoritmo queremos maximizar nuestra Pr(A posteriori). Esto significa que se debe aumentar el numerador del a posteriori, o sea:\n",
    "\n",
    "- Aumentar la probabilidad de mi evento a priori (En el caso anterior, aumentar las probabilidades de que a esa persona le guste alguien). **En un conjunto de datos, el a priori se calcula como la probabilidad de ocurrencia de cada clase! (Frecuencia/Total)**\n",
    "\n",
    "- Aumentar la probabilidad del likelihood (En el caso anterior, aumentar las probabilidades de que sonria si es que le gusta alguien). En un conjunto de datos, el likelihood es la frecuencia relativa de una clase y un atributo. Esto hace que el algoritmo sea ingenuo!\n",
    "\n",
    "- Disminuir la probabilidad de la evidencia (En el caso anterior, disminuir la probabilidad de que la persona sonria usualmente)"
   ]
  },
  {
   "attachments": {},
   "cell_type": "markdown",
   "metadata": {},
   "source": [
    "# Implementacion de Naive Bayes"
   ]
  },
  {
   "cell_type": "code",
   "execution_count": 11,
   "metadata": {},
   "outputs": [],
   "source": [
    "import pandas as pd\n",
    "import numpy as np\n",
    "\n",
    "import matplotlib.pyplot as plt\n",
    "import seaborn as sns\n",
    "\n",
    "import lec3_graphs as afx\n",
    "\n",
    "\n",
    "plt.rcParams['figure.figsize'] = (12, 6)\n",
    "plt.style.use('seaborn')"
   ]
  },
  {
   "cell_type": "code",
   "execution_count": 27,
   "metadata": {},
   "outputs": [],
   "source": [
    "df_deagg = pd.read_csv('ucbadmissions.csv').drop(columns='Unnamed: 0')"
   ]
  },
  {
   "cell_type": "code",
   "execution_count": 28,
   "metadata": {},
   "outputs": [
    {
     "data": {
      "text/html": [
       "<div>\n",
       "<style scoped>\n",
       "    .dataframe tbody tr th:only-of-type {\n",
       "        vertical-align: middle;\n",
       "    }\n",
       "\n",
       "    .dataframe tbody tr th {\n",
       "        vertical-align: top;\n",
       "    }\n",
       "\n",
       "    .dataframe thead th {\n",
       "        text-align: right;\n",
       "    }\n",
       "</style>\n",
       "<table border=\"1\" class=\"dataframe\">\n",
       "  <thead>\n",
       "    <tr style=\"text-align: right;\">\n",
       "      <th></th>\n",
       "      <th>Admit</th>\n",
       "      <th>Gender</th>\n",
       "      <th>Dept</th>\n",
       "      <th>Freq</th>\n",
       "    </tr>\n",
       "  </thead>\n",
       "  <tbody>\n",
       "    <tr>\n",
       "      <th>10</th>\n",
       "      <td>Admitted</td>\n",
       "      <td>Female</td>\n",
       "      <td>C</td>\n",
       "      <td>202</td>\n",
       "    </tr>\n",
       "  </tbody>\n",
       "</table>\n",
       "</div>"
      ],
      "text/plain": [
       "       Admit  Gender Dept  Freq\n",
       "10  Admitted  Female    C   202"
      ]
     },
     "execution_count": 28,
     "metadata": {},
     "output_type": "execute_result"
    }
   ],
   "source": [
    "df_deagg.sample()"
   ]
  },
  {
   "attachments": {},
   "cell_type": "markdown",
   "metadata": {},
   "source": [
    "Aqui se quiere predecir si una persona sera admitida en la Universidad de California, dado atributos de genero, departamento y frecuencia.\n",
    "\n",
    "En este data set esta el resumen, pero se quiere tener los registros de cada persona. Para esto, se aumentara artificalmente la cantidad de datos (o en verdad, se va a expandir la base de datos)"
   ]
  },
  {
   "cell_type": "code",
   "execution_count": 29,
   "metadata": {},
   "outputs": [],
   "source": [
    "df_deagg = afx.deaggregate_statistics(df_deagg)"
   ]
  },
  {
   "cell_type": "code",
   "execution_count": 30,
   "metadata": {},
   "outputs": [
    {
     "data": {
      "text/plain": [
       "True"
      ]
     },
     "execution_count": 30,
     "metadata": {},
     "output_type": "execute_result"
    }
   ],
   "source": [
    "df_deagg.shape[0] == df_deagg['Freq'].sum()\n",
    "\n",
    "# Esto significa que se expandio correctamente el data frame!"
   ]
  },
  {
   "cell_type": "code",
   "execution_count": 31,
   "metadata": {},
   "outputs": [
    {
     "data": {
      "image/png": "[encoded data removed]",
      "text/plain": [
       "<Figure size 800x550 with 3 Axes>"
      ]
     },
     "metadata": {},
     "output_type": "display_data"
    }
   ],
   "source": [
    "for i, columna in enumerate(df_deagg.columns):\n",
    "    plt.subplot(1, 3, i + 1)\n",
    "    sns.countplot(y=df_deagg[columna], order=df_deagg[columna].value_counts().index)\n",
    "    plt.title(f'Frecuencia para {columna}')\n",
    "    plt.tight_layout()"
   ]
  },
  {
   "attachments": {},
   "cell_type": "markdown",
   "metadata": {},
   "source": [
    "- La gran parte de los postulantes fue rechazado\n",
    "- La gran partre de los postulantes fueron hombres\n",
    "- La gran parte de los postulantes vino desde el departamenteo A y C"
   ]
  },
  {
   "attachments": {},
   "cell_type": "markdown",
   "metadata": {},
   "source": [
    "# Preprocesamiento de datos\n",
    "\n",
    "Los datos estan en formato string, por lo tanto, se deben cambiar a numeros. El cambio con LabelEncoder solamente se puede hacer con variables binarias!. Variable que tengan 2 o mas clases, se debe hacer el Leave One Out Hot Encoding!\n",
    "\n",
    "- LabelEncoder ordena por abecedario, y luego asigna el label numerico"
   ]
  },
  {
   "cell_type": "code",
   "execution_count": 32,
   "metadata": {},
   "outputs": [],
   "source": [
    "from sklearn.naive_bayes import BernoulliNB\n",
    "from sklearn.model_selection import train_test_split\n",
    "from sklearn.metrics import roc_auc_score, roc_curve, confusion_matrix\n",
    "from sklearn.preprocessing import LabelEncoder"
   ]
  },
  {
   "cell_type": "code",
   "execution_count": 33,
   "metadata": {},
   "outputs": [],
   "source": [
    "lbl = LabelEncoder()\n",
    "\n",
    "df_deagg['Gender'] = lbl.fit_transform(df_deagg['Gender'])\n",
    "df_deagg['Admit'] = lbl.fit_transform(df_deagg['Admit'])\n",
    "\n",
    "dummies_dept = pd.get_dummies(df_deagg['Dept'], drop_first=True, prefix='dept')\n",
    "df_deagg = pd.concat([df_deagg, dummies_dept], axis=1)\n",
    "df_deagg = df_deagg.drop(columns='Dept')"
   ]
  },
  {
   "cell_type": "code",
   "execution_count": 36,
   "metadata": {},
   "outputs": [
    {
     "data": {
      "text/html": [
       "<div>\n",
       "<style scoped>\n",
       "    .dataframe tbody tr th:only-of-type {\n",
       "        vertical-align: middle;\n",
       "    }\n",
       "\n",
       "    .dataframe tbody tr th {\n",
       "        vertical-align: top;\n",
       "    }\n",
       "\n",
       "    .dataframe thead th {\n",
       "        text-align: right;\n",
       "    }\n",
       "</style>\n",
       "<table border=\"1\" class=\"dataframe\">\n",
       "  <thead>\n",
       "    <tr style=\"text-align: right;\">\n",
       "      <th></th>\n",
       "      <th>Admit</th>\n",
       "      <th>Gender</th>\n",
       "      <th>dept_B</th>\n",
       "      <th>dept_C</th>\n",
       "      <th>dept_D</th>\n",
       "      <th>dept_E</th>\n",
       "      <th>dept_F</th>\n",
       "    </tr>\n",
       "  </thead>\n",
       "  <tbody>\n",
       "    <tr>\n",
       "      <th>1339</th>\n",
       "      <td>1</td>\n",
       "      <td>1</td>\n",
       "      <td>1</td>\n",
       "      <td>0</td>\n",
       "      <td>0</td>\n",
       "      <td>0</td>\n",
       "      <td>0</td>\n",
       "    </tr>\n",
       "  </tbody>\n",
       "</table>\n",
       "</div>"
      ],
      "text/plain": [
       "      Admit  Gender  dept_B  dept_C  dept_D  dept_E  dept_F\n",
       "1339      1       1       1       0       0       0       0"
      ]
     },
     "execution_count": 36,
     "metadata": {},
     "output_type": "execute_result"
    }
   ],
   "source": [
    "df_deagg.sample()"
   ]
  },
  {
   "cell_type": "code",
   "execution_count": 40,
   "metadata": {},
   "outputs": [],
   "source": [
    "X = df_deagg.drop(columns='Admit')\n",
    "y = df_deagg['Admit']\n",
    "\n",
    "X_train, X_test, y_train, y_test = train_test_split(X, y, test_size=0.33, random_state=11238)"
   ]
  },
  {
   "cell_type": "code",
   "execution_count": 47,
   "metadata": {},
   "outputs": [],
   "source": [
    "nb_classifier = BernoulliNB()\n",
    "nb_classifier.fit(X_train, y_train)\n",
    "y_hat_log_proba = nb_classifier.predict_log_proba(X_test)\n",
    "y_hat_prob = nb_classifier.predict_proba(X_test)"
   ]
  },
  {
   "cell_type": "code",
   "execution_count": 48,
   "metadata": {},
   "outputs": [
    {
     "data": {
      "text/plain": [
       "array([[0.35766931, 0.64233069],\n",
       "       [0.30891594, 0.69108406],\n",
       "       [0.30891594, 0.69108406],\n",
       "       ...,\n",
       "       [0.08369993, 0.91630007],\n",
       "       [0.28892279, 0.71107721],\n",
       "       [0.04599833, 0.95400167]])"
      ]
     },
     "execution_count": 48,
     "metadata": {},
     "output_type": "execute_result"
    }
   ],
   "source": [
    "y_hat_prob\n",
    "# En esta matriz se ve la probabilidad de pertenecer a la clase 0 (rechazado) y a la clase 1 (Aceptado)"
   ]
  },
  {
   "cell_type": "code",
   "execution_count": 49,
   "metadata": {},
   "outputs": [
    {
     "data": {
      "text/html": [
       "<div>\n",
       "<style scoped>\n",
       "    .dataframe tbody tr th:only-of-type {\n",
       "        vertical-align: middle;\n",
       "    }\n",
       "\n",
       "    .dataframe tbody tr th {\n",
       "        vertical-align: top;\n",
       "    }\n",
       "\n",
       "    .dataframe thead th {\n",
       "        text-align: right;\n",
       "    }\n",
       "</style>\n",
       "<table border=\"1\" class=\"dataframe\">\n",
       "  <thead>\n",
       "    <tr style=\"text-align: right;\">\n",
       "      <th></th>\n",
       "      <th>Admit</th>\n",
       "      <th>Gender</th>\n",
       "      <th>dept_B</th>\n",
       "      <th>dept_C</th>\n",
       "      <th>dept_D</th>\n",
       "      <th>dept_E</th>\n",
       "      <th>dept_F</th>\n",
       "    </tr>\n",
       "  </thead>\n",
       "  <tbody>\n",
       "    <tr>\n",
       "      <th>0</th>\n",
       "      <td>0</td>\n",
       "      <td>1</td>\n",
       "      <td>0</td>\n",
       "      <td>0</td>\n",
       "      <td>0</td>\n",
       "      <td>0</td>\n",
       "      <td>0</td>\n",
       "    </tr>\n",
       "    <tr>\n",
       "      <th>1</th>\n",
       "      <td>0</td>\n",
       "      <td>1</td>\n",
       "      <td>0</td>\n",
       "      <td>0</td>\n",
       "      <td>0</td>\n",
       "      <td>0</td>\n",
       "      <td>0</td>\n",
       "    </tr>\n",
       "    <tr>\n",
       "      <th>2</th>\n",
       "      <td>0</td>\n",
       "      <td>1</td>\n",
       "      <td>0</td>\n",
       "      <td>0</td>\n",
       "      <td>0</td>\n",
       "      <td>0</td>\n",
       "      <td>0</td>\n",
       "    </tr>\n",
       "    <tr>\n",
       "      <th>3</th>\n",
       "      <td>0</td>\n",
       "      <td>1</td>\n",
       "      <td>0</td>\n",
       "      <td>0</td>\n",
       "      <td>0</td>\n",
       "      <td>0</td>\n",
       "      <td>0</td>\n",
       "    </tr>\n",
       "    <tr>\n",
       "      <th>4</th>\n",
       "      <td>0</td>\n",
       "      <td>1</td>\n",
       "      <td>0</td>\n",
       "      <td>0</td>\n",
       "      <td>0</td>\n",
       "      <td>0</td>\n",
       "      <td>0</td>\n",
       "    </tr>\n",
       "    <tr>\n",
       "      <th>...</th>\n",
       "      <td>...</td>\n",
       "      <td>...</td>\n",
       "      <td>...</td>\n",
       "      <td>...</td>\n",
       "      <td>...</td>\n",
       "      <td>...</td>\n",
       "      <td>...</td>\n",
       "    </tr>\n",
       "    <tr>\n",
       "      <th>4521</th>\n",
       "      <td>1</td>\n",
       "      <td>0</td>\n",
       "      <td>0</td>\n",
       "      <td>0</td>\n",
       "      <td>0</td>\n",
       "      <td>0</td>\n",
       "      <td>1</td>\n",
       "    </tr>\n",
       "    <tr>\n",
       "      <th>4522</th>\n",
       "      <td>1</td>\n",
       "      <td>0</td>\n",
       "      <td>0</td>\n",
       "      <td>0</td>\n",
       "      <td>0</td>\n",
       "      <td>0</td>\n",
       "      <td>1</td>\n",
       "    </tr>\n",
       "    <tr>\n",
       "      <th>4523</th>\n",
       "      <td>1</td>\n",
       "      <td>0</td>\n",
       "      <td>0</td>\n",
       "      <td>0</td>\n",
       "      <td>0</td>\n",
       "      <td>0</td>\n",
       "      <td>1</td>\n",
       "    </tr>\n",
       "    <tr>\n",
       "      <th>4524</th>\n",
       "      <td>1</td>\n",
       "      <td>0</td>\n",
       "      <td>0</td>\n",
       "      <td>0</td>\n",
       "      <td>0</td>\n",
       "      <td>0</td>\n",
       "      <td>1</td>\n",
       "    </tr>\n",
       "    <tr>\n",
       "      <th>4525</th>\n",
       "      <td>1</td>\n",
       "      <td>0</td>\n",
       "      <td>0</td>\n",
       "      <td>0</td>\n",
       "      <td>0</td>\n",
       "      <td>0</td>\n",
       "      <td>1</td>\n",
       "    </tr>\n",
       "  </tbody>\n",
       "</table>\n",
       "<p>4526 rows × 7 columns</p>\n",
       "</div>"
      ],
      "text/plain": [
       "      Admit  Gender  dept_B  dept_C  dept_D  dept_E  dept_F\n",
       "0         0       1       0       0       0       0       0\n",
       "1         0       1       0       0       0       0       0\n",
       "2         0       1       0       0       0       0       0\n",
       "3         0       1       0       0       0       0       0\n",
       "4         0       1       0       0       0       0       0\n",
       "...     ...     ...     ...     ...     ...     ...     ...\n",
       "4521      1       0       0       0       0       0       1\n",
       "4522      1       0       0       0       0       0       1\n",
       "4523      1       0       0       0       0       0       1\n",
       "4524      1       0       0       0       0       0       1\n",
       "4525      1       0       0       0       0       0       1\n",
       "\n",
       "[4526 rows x 7 columns]"
      ]
     },
     "execution_count": 49,
     "metadata": {},
     "output_type": "execute_result"
    }
   ],
   "source": [
    "df_deagg"
   ]
  },
  {
   "cell_type": "code",
   "execution_count": null,
   "metadata": {},
   "outputs": [],
   "source": []
  }
 ],
 "metadata": {
  "kernelspec": {
   "display_name": "base",
   "language": "python",
   "name": "python3"
  },
  "language_info": {
   "codemirror_mode": {
    "name": "ipython",
    "version": 3
   },
   "file_extension": ".py",
   "mimetype": "text/x-python",
   "name": "python",
   "nbconvert_exporter": "python",
   "pygments_lexer": "ipython3",
   "version": "3.9.13"
  },
  "orig_nbformat": 4
 },
 "nbformat": 4,
 "nbformat_minor": 2
}
