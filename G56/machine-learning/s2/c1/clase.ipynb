{
 "cells": [
  {
   "attachments": {},
   "cell_type": "markdown",
   "metadata": {},
   "source": [
    "# Motivacion\n",
    "\n",
    "Existen variadas formas de implementar modelos de clasificacion. Aqui veremos los generativos y discriminativos\n",
    "\n",
    "## Discriminativos\n",
    "\n",
    "La funcion logistica es uno tipo de algoritmo discriminativo. Aqui se utiliza una funcion que traza una frontera entre dos grupos de puntos y los diferencia. Hay un frente/linea de decision\n",
    "\n",
    "## Generativos\n",
    "\n",
    "Lo primero que hacen es agrupar los tipos de datos similares, y luego buscan caracteristicas similares entre elementos de un mismo grupo. Los generativos son mas flexibles en lo que podemos ingresar, y tienen mas ventajas con los discriminativos"
   ]
  },
  {
   "attachments": {},
   "cell_type": "markdown",
   "metadata": {},
   "source": [
    "# Teorema de Bayes\n",
    "\n",
    "Tiene que ver con la probabilidad condicional. \n",
    "\n",
    "- Por ejemplo: **Cual es la probabilidad de que le guste a alguien que me sonrie?**\n",
    "\n",
    "En este caso se quiere ver la probabilidad del evento \"Que le guste a alguien\", condicionado a que esa persona me sonria.\n",
    "\n",
    "Este teorema nos permite agregar informacion a nuestro analisis!\n",
    "\n",
    "Existe toda una teoria del teorema de Bayes, pero estaba confusa."
   ]
  },
  {
   "cell_type": "markdown",
   "metadata": {},
   "source": []
  }
 ],
 "metadata": {
  "kernelspec": {
   "display_name": "base",
   "language": "python",
   "name": "python3"
  },
  "language_info": {
   "codemirror_mode": {
    "name": "ipython",
    "version": 3
   },
   "file_extension": ".py",
   "mimetype": "text/x-python",
   "name": "python",
   "nbconvert_exporter": "python",
   "pygments_lexer": "ipython3",
   "version": "3.9.13"
  },
  "orig_nbformat": 4
 },
 "nbformat": 4,
 "nbformat_minor": 2
}
