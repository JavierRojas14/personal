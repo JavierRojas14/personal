{
 "cells": [
  {
   "attachments": {},
   "cell_type": "markdown",
   "metadata": {},
   "source": [
    "# Ejercicio 1"
   ]
  },
  {
   "cell_type": "code",
   "execution_count": 2,
   "metadata": {},
   "outputs": [],
   "source": [
    "import pandas as pd\n",
    "import numpy as np\n",
    "\n",
    "import matplotlib.pyplot as plt\n",
    "import seaborn as sns\n",
    "\n",
    "from sklearn.model_selection import train_test_split\n",
    "from sklearn.ensemble import RandomForestRegressor\n",
    "from sklearn.metrics import mean_absolute_error, r2_score\n",
    "\n",
    "import warnings\n",
    "\n",
    "import funciones_auxiliares_machine_learning as aux\n",
    "\n",
    "warnings.filterwarnings('ignore')\n",
    "plt.rcParams['figure.figsize'] = (12, 6)\n",
    "plt.style.use('seaborn')\n",
    "\n",
    "df = pd.read_csv('ames_housing.csv').drop(columns='Unnamed: 0')"
   ]
  },
  {
   "attachments": {},
   "cell_type": "markdown",
   "metadata": {},
   "source": [
    "# Ejercicio 2"
   ]
  },
  {
   "cell_type": "code",
   "execution_count": 3,
   "metadata": {},
   "outputs": [],
   "source": [
    "import pickle\n",
    "\n",
    "modelo_propio = pickle.load(open('javier-rojas-actividad07.sav', 'rb'))\n",
    "X_train = pickle.load(open('javier-rojas-X-train-actividad07.sav', 'rb'))\n",
    "y_train = pickle.load(open('javier-rojas-y-train-actividad07.sav', 'rb'))\n",
    "X_test = pickle.load(open('javier-rojas-X-test-actividad07.sav', 'rb'))\n",
    "y_test = pickle.load(open('javier-rojas-y-test-actividad07.sav', 'rb'))"
   ]
  },
  {
   "cell_type": "code",
   "execution_count": 5,
   "metadata": {},
   "outputs": [
    {
     "name": "stdout",
     "output_type": "stream",
     "text": [
      "|     |      valores |\n",
      "|:----|-------------:|\n",
      "| MAE | 24419.6      |\n",
      "| R2  |     0.757795 |\n"
     ]
    }
   ],
   "source": [
    "aux.reportar_metricas_regresion(modelo_propio, X_test, y_test)"
   ]
  },
  {
   "attachments": {},
   "cell_type": "markdown",
   "metadata": {},
   "source": [
    "## Reportar metricas de modelo de companero TODO"
   ]
  },
  {
   "attachments": {},
   "cell_type": "markdown",
   "metadata": {},
   "source": [
    "# Ejercicio 3"
   ]
  },
  {
   "cell_type": "code",
   "execution_count": 6,
   "metadata": {},
   "outputs": [
    {
     "data": {
      "text/plain": [
       "RandomForestRegressor(random_state=1)"
      ]
     },
     "execution_count": 6,
     "metadata": {},
     "output_type": "execute_result"
    }
   ],
   "source": [
    "random_forest = RandomForestRegressor(random_state=1)\n",
    "random_forest.fit(X_train, y_train)"
   ]
  },
  {
   "cell_type": "code",
   "execution_count": 7,
   "metadata": {},
   "outputs": [
    {
     "name": "stdout",
     "output_type": "stream",
     "text": [
      "|     |      valores |\n",
      "|:----|-------------:|\n",
      "| MAE | 19723.4      |\n",
      "| R2  |     0.859388 |\n"
     ]
    }
   ],
   "source": [
    "aux.reportar_metricas_regresion(random_forest, X_test, y_test)"
   ]
  },
  {
   "attachments": {},
   "cell_type": "markdown",
   "metadata": {},
   "source": [
    "- La tabla comparativa de resultados son las siguientes:\n",
    "\n",
    "\n",
    "Modelo|MAE|R2\n",
    "------|---|--\n",
    "Grilla|24420|0.76|\n",
    "RandomForest|19723|0.85|\n",
    "\n",
    "- Por lo tanto, se puede observar un drastico aumento en el desempeno del modelo (disminucion del error, y aumento del poder explicativo r2)."
   ]
  }
 ],
 "metadata": {
  "kernelspec": {
   "display_name": "base",
   "language": "python",
   "name": "python3"
  },
  "language_info": {
   "codemirror_mode": {
    "name": "ipython",
    "version": 3
   },
   "file_extension": ".py",
   "mimetype": "text/x-python",
   "name": "python",
   "nbconvert_exporter": "python",
   "pygments_lexer": "ipython3",
   "version": "3.9.13"
  },
  "orig_nbformat": 4
 },
 "nbformat": 4,
 "nbformat_minor": 2
}
