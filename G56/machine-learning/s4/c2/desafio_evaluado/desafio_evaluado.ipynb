{
 "cells": [
  {
   "attachments": {},
   "cell_type": "markdown",
   "metadata": {},
   "source": [
    "# Ejercicio 1"
   ]
  },
  {
   "cell_type": "code",
   "execution_count": 2,
   "metadata": {},
   "outputs": [],
   "source": [
    "import pandas as pd\n",
    "import numpy as np\n",
    "\n",
    "import matplotlib.pyplot as plt\n",
    "import seaborn as sns\n",
    "\n",
    "from sklearn.model_selection import train_test_split\n",
    "from sklearn.ensemble import RandomForestRegressor\n",
    "from sklearn.metrics import mean_absolute_error, r2_score\n",
    "\n",
    "import warnings\n",
    "\n",
    "warnings.filterwarnings('ignore')\n",
    "plt.rcParams['figure.figsize'] = (12, 6)\n",
    "plt.style.use('seaborn')\n",
    "\n",
    "df = pd.read_csv('ames_housing.csv').drop(columns='Unnamed: 0')"
   ]
  },
  {
   "attachments": {},
   "cell_type": "markdown",
   "metadata": {},
   "source": [
    "# Ejercicio 2"
   ]
  },
  {
   "cell_type": "code",
   "execution_count": 4,
   "metadata": {},
   "outputs": [],
   "source": [
    "import pickle\n",
    "\n",
    "modelo_propio = pickle.load(open('javier-rojas-actividad07.sav', 'rb'))\n",
    "X_train = pickle.load(open('javier-rojas-X-train-actividad07.sav', 'rb'))\n",
    "y_train = pickle.load(open('javier-rojas-y-train-actividad07.sav', 'rb'))\n",
    "X_test = pickle.load(open('javier-rojas-X-test-actividad07.sav', 'rb'))\n",
    "y_test = pickle.load(open('javier-rojas-y-test-actividad07.sav', 'rb'))"
   ]
  },
  {
   "cell_type": "code",
   "execution_count": 11,
   "metadata": {},
   "outputs": [
    {
     "name": "stdout",
     "output_type": "stream",
     "text": [
      "El MAE del modelo fue: 24419.643421307446\n",
      "El R2 del modelo fue: 0.7577945162814402\n"
     ]
    }
   ],
   "source": [
    "yhat_propio = modelo_propio.predict(X_test)\n",
    "\n",
    "mae = mean_absolute_error(y_test, yhat_propio)\n",
    "r2 = r2_score(y_test, yhat_propio)\n",
    "\n",
    "print(f'El MAE del modelo fue: {mae}\\n'\n",
    "      f'El R2 del modelo fue: {r2}')"
   ]
  }
 ],
 "metadata": {
  "kernelspec": {
   "display_name": "base",
   "language": "python",
   "name": "python3"
  },
  "language_info": {
   "codemirror_mode": {
    "name": "ipython",
    "version": 3
   },
   "file_extension": ".py",
   "mimetype": "text/x-python",
   "name": "python",
   "nbconvert_exporter": "python",
   "pygments_lexer": "ipython3",
   "version": "3.9.13"
  },
  "orig_nbformat": 4
 },
 "nbformat": 4,
 "nbformat_minor": 2
}
