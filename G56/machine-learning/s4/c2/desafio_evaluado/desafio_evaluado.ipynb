{
 "cells": [
  {
   "attachments": {},
   "cell_type": "markdown",
   "metadata": {},
   "source": [
    "# Ejercicio 1"
   ]
  },
  {
   "cell_type": "code",
   "execution_count": 8,
   "metadata": {},
   "outputs": [],
   "source": [
    "import pandas as pd\n",
    "import numpy as np\n",
    "\n",
    "import matplotlib.pyplot as plt\n",
    "import seaborn as sns\n",
    "\n",
    "from sklearn.model_selection import train_test_split, GridSearchCV\n",
    "from sklearn.ensemble import RandomForestRegressor\n",
    "from sklearn.metrics import mean_absolute_error, r2_score\n",
    "\n",
    "import warnings\n",
    "\n",
    "import funciones_auxiliares_machine_learning as aux\n",
    "\n",
    "warnings.filterwarnings('ignore')\n",
    "plt.rcParams['figure.figsize'] = (12, 6)\n",
    "plt.style.use('seaborn')\n",
    "\n",
    "df = pd.read_csv('ames_housing.csv').drop(columns='Unnamed: 0')"
   ]
  },
  {
   "attachments": {},
   "cell_type": "markdown",
   "metadata": {},
   "source": [
    "# Ejercicio 2"
   ]
  },
  {
   "cell_type": "code",
   "execution_count": 3,
   "metadata": {},
   "outputs": [],
   "source": [
    "import pickle\n",
    "\n",
    "modelo_propio = pickle.load(open('javier-rojas-actividad07.sav', 'rb'))\n",
    "X_train = pickle.load(open('javier-rojas-X-train-actividad07.sav', 'rb'))\n",
    "y_train = pickle.load(open('javier-rojas-y-train-actividad07.sav', 'rb'))\n",
    "X_test = pickle.load(open('javier-rojas-X-test-actividad07.sav', 'rb'))\n",
    "y_test = pickle.load(open('javier-rojas-y-test-actividad07.sav', 'rb'))"
   ]
  },
  {
   "cell_type": "code",
   "execution_count": 5,
   "metadata": {},
   "outputs": [
    {
     "name": "stdout",
     "output_type": "stream",
     "text": [
      "|     |      valores |\n",
      "|:----|-------------:|\n",
      "| MAE | 24419.6      |\n",
      "| R2  |     0.757795 |\n"
     ]
    }
   ],
   "source": [
    "aux.reportar_metricas_regresion(modelo_propio, X_test, y_test)"
   ]
  },
  {
   "attachments": {},
   "cell_type": "markdown",
   "metadata": {},
   "source": [
    "## Reportar metricas de modelo de companero TODO"
   ]
  },
  {
   "attachments": {},
   "cell_type": "markdown",
   "metadata": {},
   "source": [
    "# Ejercicio 3"
   ]
  },
  {
   "cell_type": "code",
   "execution_count": 6,
   "metadata": {},
   "outputs": [
    {
     "data": {
      "text/plain": [
       "RandomForestRegressor(random_state=1)"
      ]
     },
     "execution_count": 6,
     "metadata": {},
     "output_type": "execute_result"
    }
   ],
   "source": [
    "random_forest = RandomForestRegressor(random_state=1)\n",
    "random_forest.fit(X_train, y_train)"
   ]
  },
  {
   "cell_type": "code",
   "execution_count": 7,
   "metadata": {},
   "outputs": [
    {
     "name": "stdout",
     "output_type": "stream",
     "text": [
      "|     |      valores |\n",
      "|:----|-------------:|\n",
      "| MAE | 19723.4      |\n",
      "| R2  |     0.859388 |\n"
     ]
    }
   ],
   "source": [
    "aux.reportar_metricas_regresion(random_forest, X_test, y_test)"
   ]
  },
  {
   "attachments": {},
   "cell_type": "markdown",
   "metadata": {},
   "source": [
    "- La tabla comparativa de resultados son las siguientes:\n",
    "\n",
    "\n",
    "Modelo|MAE|R2\n",
    "------|---|--\n",
    "Grilla|24420|0.76|\n",
    "RandomForest|19723|0.85|\n",
    "\n",
    "- Por lo tanto, se puede observar un drastico aumento en el desempeno del modelo (disminucion del error, y aumento del poder explicativo r2)."
   ]
  },
  {
   "attachments": {},
   "cell_type": "markdown",
   "metadata": {},
   "source": [
    "# Ejercicio 4"
   ]
  },
  {
   "cell_type": "code",
   "execution_count": 19,
   "metadata": {},
   "outputs": [
    {
     "name": "stdout",
     "output_type": "stream",
     "text": [
      "Fitting 5 folds for each of 60 candidates, totalling 300 fits\n"
     ]
    },
    {
     "data": {
      "text/plain": [
       "GridSearchCV(estimator=RandomForestRegressor(oob_score=True), n_jobs=-1,\n",
       "             param_grid={'max_features': [None, 'log2', 'sqrt'],\n",
       "                         'n_estimators': range(20, 1001, 50)},\n",
       "             verbose=5)"
      ]
     },
     "execution_count": 19,
     "metadata": {},
     "output_type": "execute_result"
    }
   ],
   "source": [
    "grilla = {\n",
    "    'max_features': [None, 'log2', 'sqrt'],\n",
    "    'n_estimators': range(20, 1001, 50)\n",
    "}\n",
    "\n",
    "random_forest_grilla = GridSearchCV(RandomForestRegressor(oob_score=True, bootstrap=True), param_grid=grilla,\n",
    "                                    verbose=5, n_jobs=-1)\n",
    "random_forest_grilla.fit(X_train, y_train)"
   ]
  },
  {
   "cell_type": "code",
   "execution_count": 31,
   "metadata": {},
   "outputs": [
    {
     "name": "stdout",
     "output_type": "stream",
     "text": [
      "Los mejores parametros son: {'max_features': 'sqrt', 'n_estimators': 370}\n",
      "El mejor desempeno es: 0.8517314409920766\n",
      "El mejor desempeno OOB es: 0.8547396987887688\n"
     ]
    }
   ],
   "source": [
    "print(f'Los mejores parametros son: {random_forest_grilla.best_params_}')\n",
    "print(f'El mejor desempeno es: {random_forest_grilla.best_score_}')\n",
    "print(f'El mejor desempeno OOB es: {random_forest_grilla.best_estimator_.oob_score_}')"
   ]
  },
  {
   "cell_type": "code",
   "execution_count": 32,
   "metadata": {},
   "outputs": [],
   "source": [
    "oob_score = random_forest_grilla.best_estimator_.oob_score_"
   ]
  },
  {
   "attachments": {},
   "cell_type": "markdown",
   "metadata": {},
   "source": [
    "## Graficar comportamiento del modelo TODO"
   ]
  },
  {
   "attachments": {},
   "cell_type": "markdown",
   "metadata": {},
   "source": [
    "# Ejercicio 5"
   ]
  },
  {
   "cell_type": "code",
   "execution_count": 36,
   "metadata": {},
   "outputs": [
    {
     "data": {
      "text/html": [
       "<div>\n",
       "<style scoped>\n",
       "    .dataframe tbody tr th:only-of-type {\n",
       "        vertical-align: middle;\n",
       "    }\n",
       "\n",
       "    .dataframe tbody tr th {\n",
       "        vertical-align: top;\n",
       "    }\n",
       "\n",
       "    .dataframe thead th {\n",
       "        text-align: right;\n",
       "    }\n",
       "</style>\n",
       "<table border=\"1\" class=\"dataframe\">\n",
       "  <thead>\n",
       "    <tr style=\"text-align: right;\">\n",
       "      <th></th>\n",
       "      <th>valores</th>\n",
       "    </tr>\n",
       "  </thead>\n",
       "  <tbody>\n",
       "    <tr>\n",
       "      <th>MAE</th>\n",
       "      <td>19449.119708</td>\n",
       "    </tr>\n",
       "    <tr>\n",
       "      <th>R2</th>\n",
       "      <td>0.857203</td>\n",
       "    </tr>\n",
       "  </tbody>\n",
       "</table>\n",
       "</div>"
      ],
      "text/plain": [
       "          valores\n",
       "MAE  19449.119708\n",
       "R2       0.857203"
      ]
     },
     "execution_count": 36,
     "metadata": {},
     "output_type": "execute_result"
    }
   ],
   "source": [
    "random_optimo = RandomForestRegressor(n_estimators=370, max_features='sqrt', oob_score=True, bootstrap=True,\n",
    "                                      random_state=1).fit(X_train, y_train)\n",
    "aux.calcular_metricas_regresion(random_optimo, X_test, y_test)"
   ]
  },
  {
   "attachments": {},
   "cell_type": "markdown",
   "metadata": {},
   "source": [
    "- La tabla resumen de todos los modelos son los siguientes:\n",
    "\n",
    "Modelo|MAE|R2\n",
    "------|---|--\n",
    "Grilla|24420|0.76|\n",
    "RandomForest|19723|0.859|\n",
    "RandomForest Optimo|19449|0.857|\n",
    "\n",
    "- Teniendo en cuenta estos resultados, el modelo optimo presenta el mae mas bajo y un r2 comparable al random forest sin optimizacion de hiperparametros. Por lo tanto, el modelo\n",
    "optimizado presenta el mejor desempeno."
   ]
  }
 ],
 "metadata": {
  "kernelspec": {
   "display_name": "base",
   "language": "python",
   "name": "python3"
  },
  "language_info": {
   "codemirror_mode": {
    "name": "ipython",
    "version": 3
   },
   "file_extension": ".py",
   "mimetype": "text/x-python",
   "name": "python",
   "nbconvert_exporter": "python",
   "pygments_lexer": "ipython3",
   "version": "3.9.13"
  },
  "orig_nbformat": 4
 },
 "nbformat": 4,
 "nbformat_minor": 2
}
