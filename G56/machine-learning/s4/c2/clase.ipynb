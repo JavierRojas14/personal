{
 "cells": [
  {
   "attachments": {},
   "cell_type": "markdown",
   "metadata": {},
   "source": [
    "# Bagging y Random Forest\n",
    "\n",
    "- Son un tipo de modelo de ensamble paralelo. Esto significa que se generan muchos arboles al mismo tiempo, y que estan al mismo nivel de jerarquia. Luego, se obtiene la prediccion de cada uno, y a traves de democracia se predice una regresion o clasificacion!\n",
    "\n",
    "- (Un modelo de ensamble secuencial es cuando se genera un primer arbol, y se obtiene el error de este. Luego, el segundo arbol aprende del error del anterior y lo intenta mejorar, y asi.)\n",
    "\n",
    "- El unico problema que tiene es que genera una representacion unica de los datos\n",
    "\n",
    "# Limitantes de modelos de instancia unica\n",
    "\n",
    "Recordemos que los arboles tienen alta tendencia a sobreajustar mucho (onda, al nivel de tener un accuracy del 0.99 o 1)\n",
    "\n",
    "# Bagging\n",
    "\n",
    "Es la metodologia para evitar sobreajustar los modelos de arboles. Es un mecanismo:\n",
    "\n",
    "1. Se tienen los datos de entrenamiento\n",
    "2. Se obtiene una submuestra de los datos, pero es una muestra con reemplazo. Esto significa que obtengo una submuestra, y luego la devuelvo al dataset. Por lo tanto, en los muestreos que se hagan es posible que se repitan datos!. Este proceso se llama bootstrap.\n",
    "3. Este proceso de bootstrapping se repite por la cantidad de modelos a generar.\n",
    "\n",
    "Un ejemplo del bootstrapping es el siguiente:\n",
    "\n",
    "1. Tener unos datos\n",
    "2. Sacar N veces una submuestra de los datos\n",
    "3. Calculo para cada submuestra su media y la anoto\n",
    "4. Termino de sacar las n submuestras\n",
    "5. Grafico las medias. Ya que es un muestreo aleatorio, se obtendra una distribucion normal!. De esta distribucion normal obtengo la media y esa es la media de mis datos!. \n",
    "\n",
    "Esta tecnica es mucho mejor para obtener la media, ya que se tiene toda la versatilidad de los datos, y se evita el sesgo!.\n",
    "\n",
    "En el caso del machine learning o Random Forest, el bootstrapping es el siguiente:\n",
    "\n",
    "1. Se tienen los datos de entrenamiento\n",
    "2. Se obtienen N submuestras (Ej: 10000, 100, 10)\n",
    "3. Para cada submuestra se entrena/genera un arbol de decision\n",
    "4. Una vez hecho todos los arboles, se obtiene la prediccion para cada uno de los arboles.\n",
    "5. Finalmente, la prediccion final sera la mayoria de la clase/regresion predicha. Tambien se puede calcular la probabilidad de obtener clases/regresiones. En este caso, la probabilidad es el promedio de la probabilidad de cada arbol!"
   ]
  },
  {
   "cell_type": "markdown",
   "metadata": {},
   "source": []
  }
 ],
 "metadata": {
  "language_info": {
   "name": "python"
  },
  "orig_nbformat": 4
 },
 "nbformat": 4,
 "nbformat_minor": 2
}
