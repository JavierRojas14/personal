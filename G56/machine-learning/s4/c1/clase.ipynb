{
 "cells": [
  {
   "attachments": {
    "image-2.png": {
     "image/png": "[encoded data removed]"
    },
    "image.png": {
     "image/png": "[encoded data removed]"
    }
   },
   "cell_type": "markdown",
   "metadata": {},
   "source": [
    "# Arboles de decision\n",
    "\n",
    "Al final, toma las variables independientes, y genera cortes para clasificar los datos!.\n",
    "\n",
    "- Este es un metodo no-parametrico\n",
    "- Tiene resultados que se pueden interpretar mejor\n",
    "\n",
    "Se puede resumir en lo siguiente:\n",
    "\n",
    "![image.png](attachment:image.png)\n",
    "\n",
    "Al final, se eligen criterios de corte por variables, y eso permite clasificar a los datos!\n",
    "\n",
    "Hay diversos criterios para decidir si un corte es bueno o no. Por ejemplo, la cantidad de cada clase en un nodo/hoja.\n",
    "\n",
    "## Hiperparametros\n",
    "\n",
    "- max_features: Permite elegir cuantas variables seran utilizadas para hacer los cortes en el arbol\n",
    "- max_depth: Elige cuantos niveles se quiere que tenga el arbol\n",
    "\n",
    "\n",
    "## Importancia Relativa\n",
    "\n",
    "Aqui se puede ver que tan importante es un variable dentro del modelo del arbol. Al final, esto es calcular que variables discrimininan mas, y cuales discriminan menos. \n",
    "\n",
    "La importancia de una variable se mide con las cargas. Variables mas importantes aparecen al principio del arbol (ya que discrimina la mayor cantidad de datos).\n",
    "\n",
    "- Cargas altas significan que la division fue mas pura\n",
    "- Cargas bajas no significan que el atributo sea irrelevante. Puede que el modelo haya estimado mal los atributos\n",
    "\n",
    "# Como se elige el mejor corte para una variable?\n",
    "\n",
    "Se iteran por todos los cortes posibles para una variable, y se calculan las metricas de desempeno!\n",
    "\n",
    "# Contenido de las hojas\n",
    "\n",
    "Cada hoja puede tener diversas cantidad de cada clase. Sin embargo, al momento de clasificar, se asigna la clase que tenga la mayor probabilidad dentro de la cajita (la que tenga la mayor frecuencia).\n",
    "\n",
    "# Como hago un arbol con una variable continua? (O sea, como hago un modelo de regresion?)\n",
    "\n",
    "Cuando ya se hacen las cajitas de clasificacion, se promedian las observaciones de las cajitas y se asigna este promedio.\n",
    "\n",
    "# Impureza\n",
    "\n",
    "- En un arbol de regresion, la evaluacion de las cajitas/hojas/split se hace al medir el error cuadratico medio de cada cajita.\n",
    "\n",
    "- En un arbol de clasificacion, se mide con:\n",
    "    - Error de clasificacion\n",
    "    - Gini\n",
    "    - Entropia\n",
    "\n",
    "    ![image.png](attachment:image-2.png)"
   ]
  },
  {
   "attachments": {},
   "cell_type": "markdown",
   "metadata": {},
   "source": [
    "# Random Forest\n",
    "\n",
    "Es una metodologia en donde se hacen muchos arboles (por ejemplo, en ves de 1 hacemos 1000 arboles). Luego, se obtiene el resultado de cada arbol, y se promedia (en caso de regresion) o se selecciona la categoria con mayoria de votacion\n",
    "\n",
    "# Boosting Tree\n",
    "\n",
    "Es un algoritmo en donde se genera 1 arbol y se ve en que se equivoco. Luego, se genera otro arbol que intenta corregir el error del arbol anterior. Por lo tanto, se va mejorando gradualmente el arbol hasta estar satisfecho\n",
    "\n",
    "Los arboles se pueden exportar a modo texto, como tambien a modo png. En ese grafico se muestran las divisiones hechas y todo!"
   ]
  },
  {
   "cell_type": "code",
   "execution_count": 1,
   "metadata": {},
   "outputs": [],
   "source": [
    "import pandas as pd\n",
    "import numpy as np\n",
    "\n",
    "import lec7_graphs as afx"
   ]
  },
  {
   "cell_type": "code",
   "execution_count": 10,
   "metadata": {},
   "outputs": [],
   "source": [
    "df = pd.read_csv('vertebrate.csv')"
   ]
  },
  {
   "cell_type": "code",
   "execution_count": 12,
   "metadata": {},
   "outputs": [],
   "source": [
    "X_mat = df.drop(columns=['name', 'class'])"
   ]
  },
  {
   "cell_type": "code",
   "execution_count": 15,
   "metadata": {},
   "outputs": [
    {
     "data": {
      "text/plain": [
       "array(['mammals', 'reptiles', 'fishes', 'mammals', 'amphibians',\n",
       "       'reptiles', 'mammals', 'birds', 'mammals', 'fishes', 'reptiles',\n",
       "       'birds', 'mammals', 'fishes', 'amphibians'], dtype=object)"
      ]
     },
     "execution_count": 15,
     "metadata": {},
     "output_type": "execute_result"
    }
   ],
   "source": [
    "from sklearn.tree import DecisionTreeClassifier\n",
    "\n",
    "clf = DecisionTreeClassifier(criterion='entropy', max_depth=3)\n",
    "clf.fit(X_mat, df['class'])\n",
    "clf.predict(X_mat)"
   ]
  },
  {
   "cell_type": "code",
   "execution_count": 22,
   "metadata": {},
   "outputs": [],
   "source": [
    "from sklearn.tree import export_graphviz\n",
    "import pydotplus\n",
    "\n",
    "dot_data = export_graphviz(clf, out_file=None, feature_names=X_mat.columns,\n",
    "                           filled=True, rounded=True, impurity=False)\n",
    "graph = pydotplus.graph_from_dot_data(dot_data)"
   ]
  },
  {
   "cell_type": "code",
   "execution_count": 23,
   "metadata": {},
   "outputs": [
    {
     "data": {
      "text/plain": [
       "<pydotplus.graphviz.Dot at 0x1eec2358700>"
      ]
     },
     "execution_count": 23,
     "metadata": {},
     "output_type": "execute_result"
    }
   ],
   "source": [
    "graph"
   ]
  },
  {
   "cell_type": "code",
   "execution_count": 8,
   "metadata": {},
   "outputs": [],
   "source": [
    "import numpy as np\n",
    "import pandas as pd\n",
    "import matplotlib.pyplot as plt\n",
    "import seaborn as sns\n",
    "import lec7_graphs as afx\n",
    "plt.style.use('ggplot')\n",
    "plt.rcParams['figure.figsize'] = (10, 6)\n",
    "\n",
    "df = pd.read_csv('cadata.csv', header=1).drop(columns='1')"
   ]
  },
  {
   "cell_type": "code",
   "execution_count": 9,
   "metadata": {},
   "outputs": [
    {
     "data": {
      "text/html": [
       "<div>\n",
       "<style scoped>\n",
       "    .dataframe tbody tr th:only-of-type {\n",
       "        vertical-align: middle;\n",
       "    }\n",
       "\n",
       "    .dataframe tbody tr th {\n",
       "        vertical-align: top;\n",
       "    }\n",
       "\n",
       "    .dataframe thead th {\n",
       "        text-align: right;\n",
       "    }\n",
       "</style>\n",
       "<table border=\"1\" class=\"dataframe\">\n",
       "  <thead>\n",
       "    <tr style=\"text-align: right;\">\n",
       "      <th></th>\n",
       "      <th>MedianHouseValue</th>\n",
       "      <th>MedianIncome</th>\n",
       "      <th>MedianHouseAge</th>\n",
       "      <th>TotalRooms</th>\n",
       "      <th>TotalBedrooms</th>\n",
       "      <th>Population</th>\n",
       "      <th>Households</th>\n",
       "      <th>Latitude</th>\n",
       "      <th>Longitude</th>\n",
       "    </tr>\n",
       "  </thead>\n",
       "  <tbody>\n",
       "    <tr>\n",
       "      <th>0</th>\n",
       "      <td>452600.0</td>\n",
       "      <td>8.3252</td>\n",
       "      <td>41.0</td>\n",
       "      <td>880.0</td>\n",
       "      <td>129.0</td>\n",
       "      <td>322.0</td>\n",
       "      <td>126.0</td>\n",
       "      <td>37.88</td>\n",
       "      <td>-122.23</td>\n",
       "    </tr>\n",
       "    <tr>\n",
       "      <th>1</th>\n",
       "      <td>358500.0</td>\n",
       "      <td>8.3014</td>\n",
       "      <td>21.0</td>\n",
       "      <td>7099.0</td>\n",
       "      <td>1106.0</td>\n",
       "      <td>2401.0</td>\n",
       "      <td>1138.0</td>\n",
       "      <td>37.86</td>\n",
       "      <td>-122.22</td>\n",
       "    </tr>\n",
       "    <tr>\n",
       "      <th>2</th>\n",
       "      <td>352100.0</td>\n",
       "      <td>7.2574</td>\n",
       "      <td>52.0</td>\n",
       "      <td>1467.0</td>\n",
       "      <td>190.0</td>\n",
       "      <td>496.0</td>\n",
       "      <td>177.0</td>\n",
       "      <td>37.85</td>\n",
       "      <td>-122.24</td>\n",
       "    </tr>\n",
       "    <tr>\n",
       "      <th>3</th>\n",
       "      <td>341300.0</td>\n",
       "      <td>5.6431</td>\n",
       "      <td>52.0</td>\n",
       "      <td>1274.0</td>\n",
       "      <td>235.0</td>\n",
       "      <td>558.0</td>\n",
       "      <td>219.0</td>\n",
       "      <td>37.85</td>\n",
       "      <td>-122.25</td>\n",
       "    </tr>\n",
       "    <tr>\n",
       "      <th>4</th>\n",
       "      <td>342200.0</td>\n",
       "      <td>3.8462</td>\n",
       "      <td>52.0</td>\n",
       "      <td>1627.0</td>\n",
       "      <td>280.0</td>\n",
       "      <td>565.0</td>\n",
       "      <td>259.0</td>\n",
       "      <td>37.85</td>\n",
       "      <td>-122.25</td>\n",
       "    </tr>\n",
       "    <tr>\n",
       "      <th>...</th>\n",
       "      <td>...</td>\n",
       "      <td>...</td>\n",
       "      <td>...</td>\n",
       "      <td>...</td>\n",
       "      <td>...</td>\n",
       "      <td>...</td>\n",
       "      <td>...</td>\n",
       "      <td>...</td>\n",
       "      <td>...</td>\n",
       "    </tr>\n",
       "    <tr>\n",
       "      <th>20635</th>\n",
       "      <td>78100.0</td>\n",
       "      <td>1.5603</td>\n",
       "      <td>25.0</td>\n",
       "      <td>1665.0</td>\n",
       "      <td>374.0</td>\n",
       "      <td>845.0</td>\n",
       "      <td>330.0</td>\n",
       "      <td>39.48</td>\n",
       "      <td>-121.09</td>\n",
       "    </tr>\n",
       "    <tr>\n",
       "      <th>20636</th>\n",
       "      <td>77100.0</td>\n",
       "      <td>2.5568</td>\n",
       "      <td>18.0</td>\n",
       "      <td>697.0</td>\n",
       "      <td>150.0</td>\n",
       "      <td>356.0</td>\n",
       "      <td>114.0</td>\n",
       "      <td>39.49</td>\n",
       "      <td>-121.21</td>\n",
       "    </tr>\n",
       "    <tr>\n",
       "      <th>20637</th>\n",
       "      <td>92300.0</td>\n",
       "      <td>1.7000</td>\n",
       "      <td>17.0</td>\n",
       "      <td>2254.0</td>\n",
       "      <td>485.0</td>\n",
       "      <td>1007.0</td>\n",
       "      <td>433.0</td>\n",
       "      <td>39.43</td>\n",
       "      <td>-121.22</td>\n",
       "    </tr>\n",
       "    <tr>\n",
       "      <th>20638</th>\n",
       "      <td>84700.0</td>\n",
       "      <td>1.8672</td>\n",
       "      <td>18.0</td>\n",
       "      <td>1860.0</td>\n",
       "      <td>409.0</td>\n",
       "      <td>741.0</td>\n",
       "      <td>349.0</td>\n",
       "      <td>39.43</td>\n",
       "      <td>-121.32</td>\n",
       "    </tr>\n",
       "    <tr>\n",
       "      <th>20639</th>\n",
       "      <td>89400.0</td>\n",
       "      <td>2.3886</td>\n",
       "      <td>16.0</td>\n",
       "      <td>2785.0</td>\n",
       "      <td>616.0</td>\n",
       "      <td>1387.0</td>\n",
       "      <td>530.0</td>\n",
       "      <td>39.37</td>\n",
       "      <td>-121.24</td>\n",
       "    </tr>\n",
       "  </tbody>\n",
       "</table>\n",
       "<p>20640 rows × 9 columns</p>\n",
       "</div>"
      ],
      "text/plain": [
       "       MedianHouseValue  MedianIncome  MedianHouseAge  TotalRooms  \\\n",
       "0              452600.0        8.3252            41.0       880.0   \n",
       "1              358500.0        8.3014            21.0      7099.0   \n",
       "2              352100.0        7.2574            52.0      1467.0   \n",
       "3              341300.0        5.6431            52.0      1274.0   \n",
       "4              342200.0        3.8462            52.0      1627.0   \n",
       "...                 ...           ...             ...         ...   \n",
       "20635           78100.0        1.5603            25.0      1665.0   \n",
       "20636           77100.0        2.5568            18.0       697.0   \n",
       "20637           92300.0        1.7000            17.0      2254.0   \n",
       "20638           84700.0        1.8672            18.0      1860.0   \n",
       "20639           89400.0        2.3886            16.0      2785.0   \n",
       "\n",
       "       TotalBedrooms  Population  Households  Latitude  Longitude  \n",
       "0              129.0       322.0       126.0     37.88    -122.23  \n",
       "1             1106.0      2401.0      1138.0     37.86    -122.22  \n",
       "2              190.0       496.0       177.0     37.85    -122.24  \n",
       "3              235.0       558.0       219.0     37.85    -122.25  \n",
       "4              280.0       565.0       259.0     37.85    -122.25  \n",
       "...              ...         ...         ...       ...        ...  \n",
       "20635          374.0       845.0       330.0     39.48    -121.09  \n",
       "20636          150.0       356.0       114.0     39.49    -121.21  \n",
       "20637          485.0      1007.0       433.0     39.43    -121.22  \n",
       "20638          409.0       741.0       349.0     39.43    -121.32  \n",
       "20639          616.0      1387.0       530.0     39.37    -121.24  \n",
       "\n",
       "[20640 rows x 9 columns]"
      ]
     },
     "execution_count": 9,
     "metadata": {},
     "output_type": "execute_result"
    }
   ],
   "source": [
    "df"
   ]
  },
  {
   "cell_type": "code",
   "execution_count": null,
   "metadata": {},
   "outputs": [],
   "source": []
  }
 ],
 "metadata": {
  "kernelspec": {
   "display_name": "base",
   "language": "python",
   "name": "python3"
  },
  "language_info": {
   "codemirror_mode": {
    "name": "ipython",
    "version": 3
   },
   "file_extension": ".py",
   "mimetype": "text/x-python",
   "name": "python",
   "nbconvert_exporter": "python",
   "pygments_lexer": "ipython3",
   "version": "3.9.13"
  },
  "orig_nbformat": 4
 },
 "nbformat": 4,
 "nbformat_minor": 2
}
