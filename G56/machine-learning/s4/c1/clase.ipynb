{
 "cells": [
  {
   "attachments": {
    "image.png": {
     "image/png": "[encoded data removed]"
    }
   },
   "cell_type": "markdown",
   "metadata": {},
   "source": [
    "# Arboles de decision\n",
    "\n",
    "Al final, toma las variables independientes, y genera cortes para clasificar los datos!.\n",
    "\n",
    "- Este es un metodo no-parametrico\n",
    "- Tiene resultados que se pueden interpretar mejor\n",
    "\n",
    "Se puede resumir en lo siguiente:\n",
    "\n",
    "![image.png](attachment:image.png)\n",
    "\n",
    "Al final, se eligen criterios de corte por variables, y eso permite clasificar a los datos!\n",
    "\n",
    "Hay diversos criterios para decidir si un corte es bueno o no. Por ejemplo, la cantidad de cada clase en un nodo/hoja.\n",
    "\n",
    "## Hiperparametros\n",
    "\n",
    "- max_features: Permite elegir cuantas variables seran utilizadas para hacer los cortes en el arbol\n",
    "\n",
    "\n",
    "## Importancia Relativa\n",
    "\n",
    "Aqui se puede ver que tan importante es un variable dentro del modelo del arbol. Al final, esto es calcular que variables discrimininan mas, y cuales discriminan menos. \n",
    "\n",
    "La importancia de una variable se mide con las cargas. Variables mas importantes aparecen al principio del arbol (ya que discrimina la mayor cantidad de datos).\n",
    "\n",
    "- Cargas altas significan que la division fue mas pura\n",
    "- Cargas bajas no significan que el atributo sea irrelevante. Puede que el modelo haya estimado mal los atributos"
   ]
  },
  {
   "cell_type": "markdown",
   "metadata": {},
   "source": []
  }
 ],
 "metadata": {
  "language_info": {
   "name": "python"
  },
  "orig_nbformat": 4
 },
 "nbformat": 4,
 "nbformat_minor": 2
}
