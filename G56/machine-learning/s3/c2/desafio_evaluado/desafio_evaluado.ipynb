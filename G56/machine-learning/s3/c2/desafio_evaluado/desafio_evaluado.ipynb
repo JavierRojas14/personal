{
 "cells": [
  {
   "attachments": {},
   "cell_type": "markdown",
   "metadata": {},
   "source": [
    "# Ejercicio 1"
   ]
  },
  {
   "cell_type": "code",
   "execution_count": 1,
   "metadata": {},
   "outputs": [],
   "source": [
    "import pandas as pd\n",
    "import numpy as np\n",
    "\n",
    "import matplotlib.pyplot as plt\n",
    "import seaborn as sns\n",
    "\n",
    "import glob\n",
    "import os\n",
    "\n",
    "plt.rcParams['figure.figsize'] = (12, 6)\n",
    "plt.style.use('seaborn')"
   ]
  },
  {
   "cell_type": "code",
   "execution_count": 2,
   "metadata": {},
   "outputs": [],
   "source": [
    "dir_actual = os.getcwd()\n",
    "archivos_dump = list(map(lambda x: f'{dir_actual}\\{x}', glob.glob('input/dump/*.csv')))\n",
    "\n",
    "dfs = (pd.read_csv(f) for f in archivos_dump)\n",
    "df = pd.concat(dfs).drop(columns='Unnamed: 0')\n",
    "df.columns = ['artist', 'genre', 'song_name', 'lyrics']"
   ]
  },
  {
   "attachments": {},
   "cell_type": "markdown",
   "metadata": {},
   "source": [
    "# Ejercicio 2"
   ]
  },
  {
   "cell_type": "code",
   "execution_count": 3,
   "metadata": {},
   "outputs": [
    {
     "name": "stdout",
     "output_type": "stream",
     "text": [
      "Las 5000 palabras mas frecuentes en la base de datos son: ['000' '10' '100' ... 'zoo' 'zoom' 'zulu']\n"
     ]
    }
   ],
   "source": [
    "from sklearn.feature_extraction.text import CountVectorizer\n",
    "\n",
    "vectorizer = CountVectorizer(stop_words='english', max_features=5000)\n",
    "vectorizer_fit = vectorizer.fit_transform(df['lyrics'])\n",
    "\n",
    "words = vectorizer.get_feature_names_out()\n",
    "freqs = vectorizer_fit.toarray().sum(axis=0)\n",
    "\n",
    "print(f'Las 5000 palabras mas frecuentes en la base de datos son: {words}')"
   ]
  },
  {
   "attachments": {},
   "cell_type": "markdown",
   "metadata": {},
   "source": [
    "# Ejercicio 3"
   ]
  },
  {
   "cell_type": "code",
   "execution_count": 4,
   "metadata": {},
   "outputs": [],
   "source": [
    "from sklearn.decomposition import LatentDirichletAllocation\n",
    "from sklearn.model_selection import GridSearchCV"
   ]
  },
  {
   "cell_type": "code",
   "execution_count": 5,
   "metadata": {},
   "outputs": [],
   "source": [
    "n_components = [5, 10, 15]\n",
    "learning_decay = [0.7, 0.5]\n",
    "\n",
    "grid = {\n",
    "    'n_components': n_components,\n",
    "    'learning_decay': learning_decay\n",
    "}\n",
    "\n",
    "modelo_grilla = GridSearchCV(LatentDirichletAllocation(), param_grid=grid, verbose=5, cv=5)"
   ]
  },
  {
   "cell_type": "code",
   "execution_count": 6,
   "metadata": {},
   "outputs": [],
   "source": [
    "X = CountVectorizer().fit_transform(df['lyrics'])\n",
    "y = df['genre']"
   ]
  },
  {
   "cell_type": "code",
   "execution_count": 7,
   "metadata": {},
   "outputs": [
    {
     "name": "stdout",
     "output_type": "stream",
     "text": [
      "Fitting 5 folds for each of 6 candidates, totalling 30 fits\n",
      "[CV 1/5] END learning_decay=0.7, n_components=5;, score=-3751249.138 total time=  24.7s\n",
      "[CV 2/5] END learning_decay=0.7, n_components=5;, score=-6299729.669 total time=  20.8s\n",
      "[CV 3/5] END learning_decay=0.7, n_components=5;, score=-4487252.411 total time=  27.1s\n",
      "[CV 4/5] END learning_decay=0.7, n_components=5;, score=-4031393.216 total time=  24.7s\n",
      "[CV 5/5] END learning_decay=0.7, n_components=5;, score=-2625375.751 total time=  29.1s\n",
      "[CV 1/5] END learning_decay=0.7, n_components=10;, score=-3838785.645 total time= 1.2min\n",
      "[CV 2/5] END learning_decay=0.7, n_components=10;, score=-6440895.379 total time=  27.9s\n",
      "[CV 3/5] END learning_decay=0.7, n_components=10;, score=-4559192.805 total time=  26.5s\n",
      "[CV 4/5] END learning_decay=0.7, n_components=10;, score=-4120974.446 total time=  26.5s\n",
      "[CV 5/5] END learning_decay=0.7, n_components=10;, score=-2676440.389 total time= 1.4min\n",
      "[CV 1/5] END learning_decay=0.7, n_components=15;, score=-3933200.777 total time= 1.6min\n",
      "[CV 2/5] END learning_decay=0.7, n_components=15;, score=-6563374.290 total time= 1.4min\n",
      "[CV 3/5] END learning_decay=0.7, n_components=15;, score=-4637375.538 total time=  29.5s\n",
      "[CV 4/5] END learning_decay=0.7, n_components=15;, score=-4199013.015 total time=  28.3s\n",
      "[CV 5/5] END learning_decay=0.7, n_components=15;, score=-2747863.567 total time=  31.2s\n",
      "[CV 1/5] END learning_decay=0.5, n_components=5;, score=-3762809.504 total time=  39.2s\n",
      "[CV 2/5] END learning_decay=0.5, n_components=5;, score=-6320967.859 total time=  22.6s\n",
      "[CV 3/5] END learning_decay=0.5, n_components=5;, score=-4469103.891 total time=  24.2s\n",
      "[CV 4/5] END learning_decay=0.5, n_components=5;, score=-4023311.503 total time=  23.0s\n",
      "[CV 5/5] END learning_decay=0.5, n_components=5;, score=-2602283.134 total time=  23.9s\n",
      "[CV 1/5] END learning_decay=0.5, n_components=10;, score=-3838058.594 total time=  28.5s\n",
      "[CV 2/5] END learning_decay=0.5, n_components=10;, score=-6437556.767 total time=  23.9s\n",
      "[CV 3/5] END learning_decay=0.5, n_components=10;, score=-4571889.857 total time=  27.7s\n",
      "[CV 4/5] END learning_decay=0.5, n_components=10;, score=-4126182.524 total time=  27.5s\n",
      "[CV 5/5] END learning_decay=0.5, n_components=10;, score=-2705655.090 total time=  29.7s\n",
      "[CV 1/5] END learning_decay=0.5, n_components=15;, score=-3894883.080 total time=  29.0s\n",
      "[CV 2/5] END learning_decay=0.5, n_components=15;, score=-6548133.196 total time=  25.9s\n",
      "[CV 3/5] END learning_decay=0.5, n_components=15;, score=-4628268.733 total time=  25.9s\n",
      "[CV 4/5] END learning_decay=0.5, n_components=15;, score=-4194783.212 total time=  26.1s\n",
      "[CV 5/5] END learning_decay=0.5, n_components=15;, score=-2741233.899 total time=  28.1s\n"
     ]
    },
    {
     "data": {
      "text/plain": [
       "GridSearchCV(cv=5, estimator=LatentDirichletAllocation(),\n",
       "             param_grid={'learning_decay': [0.7, 0.5],\n",
       "                         'n_components': [5, 10, 15]},\n",
       "             verbose=5)"
      ]
     },
     "execution_count": 7,
     "metadata": {},
     "output_type": "execute_result"
    }
   ],
   "source": [
    "modelo_grilla.fit(X, y)"
   ]
  },
  {
   "cell_type": "code",
   "execution_count": 9,
   "metadata": {},
   "outputs": [],
   "source": [
    "import pickle\n",
    "\n",
    "pickle.dump(modelo_grilla, open('modelo.sav', 'wb'))"
   ]
  },
  {
   "cell_type": "code",
   "execution_count": 11,
   "metadata": {},
   "outputs": [
    {
     "name": "stdout",
     "output_type": "stream",
     "text": [
      "Fitting 5 folds for each of 6 candidates, totalling 30 fits\n",
      "[CV 1/5] END learning_decay=0.7, n_components=5;, score=-1615459.244 total time=  18.8s\n",
      "[CV 2/5] END learning_decay=0.7, n_components=5;, score=-2789973.387 total time=  16.7s\n",
      "[CV 3/5] END learning_decay=0.7, n_components=5;, score=-2009414.504 total time=  18.6s\n",
      "[CV 4/5] END learning_decay=0.7, n_components=5;, score=-1779393.654 total time=  58.3s\n",
      "[CV 5/5] END learning_decay=0.7, n_components=5;, score=-1091020.225 total time= 1.0min\n",
      "[CV 1/5] END learning_decay=0.7, n_components=10;, score=-1648282.244 total time= 1.0min\n",
      "[CV 2/5] END learning_decay=0.7, n_components=10;, score=-2816453.863 total time=  53.2s\n",
      "[CV 3/5] END learning_decay=0.7, n_components=10;, score=-2033092.891 total time= 1.0min\n",
      "[CV 4/5] END learning_decay=0.7, n_components=10;, score=-1803781.249 total time= 1.0min\n",
      "[CV 5/5] END learning_decay=0.7, n_components=10;, score=-1118936.949 total time= 1.1min\n",
      "[CV 1/5] END learning_decay=0.7, n_components=15;, score=-1665338.621 total time= 1.1min\n",
      "[CV 2/5] END learning_decay=0.7, n_components=15;, score=-2837514.113 total time=  52.4s\n",
      "[CV 3/5] END learning_decay=0.7, n_components=15;, score=-2052306.386 total time=  19.0s\n",
      "[CV 4/5] END learning_decay=0.7, n_components=15;, score=-1827731.300 total time=  19.1s\n",
      "[CV 5/5] END learning_decay=0.7, n_components=15;, score=-1137562.156 total time=  19.9s\n",
      "[CV 1/5] END learning_decay=0.5, n_components=5;, score=-1614189.687 total time=  18.2s\n",
      "[CV 2/5] END learning_decay=0.5, n_components=5;, score=-2792916.953 total time=  16.6s\n",
      "[CV 3/5] END learning_decay=0.5, n_components=5;, score=-2003992.729 total time=  17.3s\n",
      "[CV 4/5] END learning_decay=0.5, n_components=5;, score=-1777082.975 total time=  18.0s\n",
      "[CV 5/5] END learning_decay=0.5, n_components=5;, score=-1090906.171 total time=  19.2s\n",
      "[CV 1/5] END learning_decay=0.5, n_components=10;, score=-1642240.656 total time=  18.6s\n",
      "[CV 2/5] END learning_decay=0.5, n_components=10;, score=-2823940.436 total time=  18.0s\n",
      "[CV 3/5] END learning_decay=0.5, n_components=10;, score=-2031882.854 total time=  18.8s\n",
      "[CV 4/5] END learning_decay=0.5, n_components=10;, score=-1802875.626 total time=  18.3s\n",
      "[CV 5/5] END learning_decay=0.5, n_components=10;, score=-1125705.514 total time=  20.3s\n",
      "[CV 1/5] END learning_decay=0.5, n_components=15;, score=-1666267.158 total time=  19.6s\n",
      "[CV 2/5] END learning_decay=0.5, n_components=15;, score=-2838953.272 total time=  17.6s\n",
      "[CV 3/5] END learning_decay=0.5, n_components=15;, score=-2055070.812 total time=  18.8s\n",
      "[CV 4/5] END learning_decay=0.5, n_components=15;, score=-1823210.523 total time=  18.5s\n",
      "[CV 5/5] END learning_decay=0.5, n_components=15;, score=-1141893.814 total time=  19.3s\n"
     ]
    },
    {
     "data": {
      "text/plain": [
       "GridSearchCV(cv=5, estimator=LatentDirichletAllocation(),\n",
       "             param_grid={'learning_decay': [0.7, 0.5],\n",
       "                         'n_components': [5, 10, 15]},\n",
       "             verbose=5)"
      ]
     },
     "execution_count": 11,
     "metadata": {},
     "output_type": "execute_result"
    }
   ],
   "source": [
    "modelo_grilla_2 = GridSearchCV(LatentDirichletAllocation(), param_grid=grid, verbose=5, cv=5)\n",
    "X = CountVectorizer(stop_words='english', max_features=5000).fit_transform(df['lyrics'])\n",
    "y = df['genre']\n",
    "modelo_grilla_2.fit(X, y)"
   ]
  },
  {
   "cell_type": "code",
   "execution_count": null,
   "metadata": {},
   "outputs": [],
   "source": [
    "pickle.dump(modelo_grilla_2, open('modelo_grilla_2.sav', 'wb'))"
   ]
  },
  {
   "cell_type": "code",
   "execution_count": 13,
   "metadata": {},
   "outputs": [
    {
     "name": "stdout",
     "output_type": "stream",
     "text": [
      "LatentDirichletAllocation(learning_decay=0.5, n_components=5)\n"
     ]
    }
   ],
   "source": [
    "print(modelo_grilla.best_estimator_)"
   ]
  },
  {
   "cell_type": "code",
   "execution_count": 14,
   "metadata": {},
   "outputs": [
    {
     "name": "stdout",
     "output_type": "stream",
     "text": [
      "LatentDirichletAllocation(learning_decay=0.5, n_components=5)\n"
     ]
    }
   ],
   "source": [
    "print(modelo_grilla_2.best_estimator_)"
   ]
  },
  {
   "cell_type": "code",
   "execution_count": null,
   "metadata": {},
   "outputs": [],
   "source": []
  }
 ],
 "metadata": {
  "kernelspec": {
   "display_name": "base",
   "language": "python",
   "name": "python3"
  },
  "language_info": {
   "codemirror_mode": {
    "name": "ipython",
    "version": 3
   },
   "file_extension": ".py",
   "mimetype": "text/x-python",
   "name": "python",
   "nbconvert_exporter": "python",
   "pygments_lexer": "ipython3",
   "version": "3.9.13"
  },
  "orig_nbformat": 4
 },
 "nbformat": 4,
 "nbformat_minor": 2
}
