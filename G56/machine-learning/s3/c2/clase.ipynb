{
 "cells": [
  {
   "attachments": {},
   "cell_type": "markdown",
   "metadata": {},
   "source": [
    "# Esperanza Maximo\n",
    "\n",
    "Consiste en un algoritmo iterativo en donde se calcula la esperanza, y luego se obtiene la esperanza maxima, y se sigue iterando hasta (esperemos que si) que se obtenga el maximo global. Puede que a veces el algoritmo se quede pegado en un maximo local :(."
   ]
  },
  {
   "cell_type": "markdown",
   "metadata": {},
   "source": []
  }
 ],
 "metadata": {
  "language_info": {
   "name": "python"
  },
  "orig_nbformat": 4
 },
 "nbformat": 4,
 "nbformat_minor": 2
}
