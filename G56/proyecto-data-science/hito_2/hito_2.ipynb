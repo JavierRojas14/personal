{
 "cells": [
  {
   "cell_type": "code",
   "execution_count": 1,
   "metadata": {},
   "outputs": [],
   "source": [
    "import pandas as pd\n",
    "import numpy as np\n",
    "import polars as pl\n",
    "\n",
    "import matplotlib.pyplot as plt\n",
    "import seaborn as sns\n",
    "\n",
    "import warnings\n",
    "\n",
    "warnings.filterwarnings(\"ignore\")\n",
    "sns.set_style()\n",
    "plt.rcParams[\"figure.figsize\"] = (12, 6)"
   ]
  },
  {
   "cell_type": "code",
   "execution_count": 2,
   "metadata": {},
   "outputs": [],
   "source": [
    "from sklearn.model_selection import train_test_split, GridSearchCV\n",
    "\n",
    "from sklearn.naive_bayes import MultinomialNB\n",
    "from sklearn.tree import DecisionTreeClassifier\n",
    "from sklearn.ensemble import RandomForestClassifier, GradientBoostingClassifier\n",
    "from sklearn.svm import SVC\n",
    "\n",
    "from sklearn.metrics import classification_report"
   ]
  },
  {
   "cell_type": "code",
   "execution_count": 9,
   "metadata": {},
   "outputs": [],
   "source": [
    "modelos = [\n",
    "    {\n",
    "        \"nombre\": \"Naive Bayes\",\n",
    "        \"modelo\": MultinomialNB(),\n",
    "        \"param_grid\": {\n",
    "            \"alpha\": [0.0001, 0.001, 0.01, 0.1, 1, 10, 100, 1000],\n",
    "            \"fit_prior\": [True, False],\n",
    "        },\n",
    "    },\n",
    "    {\n",
    "        \"nombre\": \"Arbol Clasificacion\",\n",
    "        \"modelo\": DecisionTreeClassifier(),\n",
    "        \"param_grid\": {\n",
    "            \"max_depth\": [3, 4, 5, 6, 7, 8, 9, 10],\n",
    "            \"max_leaf_nodes\": [1, 2, 3, 4, 5],\n",
    "            \"criterion\": [\"gini\", \"entropy\"],\n",
    "        },\n",
    "    },\n",
    "    {\n",
    "        \"nombre\": \"Random Forest\",\n",
    "        \"modelo\": RandomForestClassifier(),\n",
    "        \"param_grid\": {\n",
    "            \"max_depth\": [5, 6, 7, 8, 9, 10],\n",
    "            \"n_estimators\": [500, 600, 700, 800, 900, 1000],\n",
    "            \"max_features\": [\"sqrt\", \"log2\"],\n",
    "        },\n",
    "    },\n",
    "    {\n",
    "        \"nombre\": \"Gradient Bossting\",\n",
    "        \"modelo\": GradientBoostingClassifier(),\n",
    "        \"param_grid\": {\n",
    "            \"max_depth\": [5, 6, 7, 8, 9, 10],\n",
    "            \"learning_rate\": [0.001, 0.01, 0.1, 1],\n",
    "        },\n",
    "    },\n",
    "    {\n",
    "        \"nombre\": \"SVM\",\n",
    "        \"modelo\": SVC(),\n",
    "        \"param_grid\": {\"C\": [0.1, 1, 10, 100], \"kernel\": [\"linear\", \"poly\"], \"degree\": [2, 3, 4]},\n",
    "    },\n",
    "]"
   ]
  },
  {
   "cell_type": "code",
   "execution_count": null,
   "metadata": {},
   "outputs": [],
   "source": [
    "def entrenar_ensamble_de_modelos_gridcv(grilla_gridcv_con_modelos, X_train, X_test, y_train, y_test):\n",
    "    for model_info in grilla_gridcv_con_modelos:\n",
    "        print(\"Training\", model_info[\"nombre\"], \"...\")\n",
    "        model = model_info[\"modelo\"]\n",
    "        param_grid = model_info[\"param_grid\"]\n",
    "\n",
    "        grid_search = GridSearchCV(model, param_grid, cv=5)\n",
    "        grid_search.fit(X_train, y_train)\n",
    "\n",
    "        best_model = grid_search.best_estimator_\n",
    "        best_params = grid_search.best_params_\n",
    "\n",
    "        y_pred = best_model.predict(X_test)\n",
    "        accuracy = accuracy_score(y_test, y_pred)\n",
    "\n",
    "        print(\"Best parameters:\", best_params)\n",
    "        print(\"Accuracy:\", accuracy)\n",
    "        print(\"---\")"
   ]
  }
 ],
 "metadata": {
  "kernelspec": {
   "display_name": "base",
   "language": "python",
   "name": "python3"
  },
  "language_info": {
   "codemirror_mode": {
    "name": "ipython",
    "version": 3
   },
   "file_extension": ".py",
   "mimetype": "text/x-python",
   "name": "python",
   "nbconvert_exporter": "python",
   "pygments_lexer": "ipython3",
   "version": "3.10.9"
  },
  "orig_nbformat": 4
 },
 "nbformat": 4,
 "nbformat_minor": 2
}
