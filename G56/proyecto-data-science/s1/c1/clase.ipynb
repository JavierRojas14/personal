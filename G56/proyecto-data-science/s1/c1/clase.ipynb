{
 "cells": [
  {
   "attachments": {},
   "cell_type": "markdown",
   "metadata": {},
   "source": [
    "# Proyecto Final"
   ]
  },
  {
   "attachments": {},
   "cell_type": "markdown",
   "metadata": {},
   "source": [
    "- En cada semana se debe hacer cada uno de los hitos\n",
    "\n",
    "- Hito 1 - Definicion: \n",
    "    - Aqui hay que basicamente planificar todo el proeycto y definir que es lo que se va a hacer.\n",
    "    La proxima semana (escrito el 06/06/2023) se debe hacer una presentacion.\n",
    "\n",
    "- Hito 2 - Implementacion:\n",
    "    - Aqui se debe implementar todo lo descrito en el Hito 2. Yendo desde la ingesta, preprocesamiento,\n",
    "    descripcion, modelacion, calculo de performance.\n",
    "    - Todos los modelos deben ser serializados.\n",
    "\n",
    "- Hito 3 - Resultados:\n",
    "    - Aqui hay que exponer todo lo que se ha obtenido con el modelo. Cual es el impacto que puede\n",
    "    tener implementar el modelo en la empresa.\n",
    "\n",
    "- Hito 4 - Presentacion Final:\n",
    "    - Aqui se presenta hacia un jurado!\n",
    "    - Todos los integrantes deben particiar en la presentacion\n",
    "    - Hay que hacer una grabacion personal respondiendo unas preguntas especificas"
   ]
  },
  {
   "attachments": {},
   "cell_type": "markdown",
   "metadata": {},
   "source": []
  }
 ],
 "metadata": {
  "language_info": {
   "name": "python"
  },
  "orig_nbformat": 4
 },
 "nbformat": 4,
 "nbformat_minor": 2
}
