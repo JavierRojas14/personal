{
 "cells": [
  {
   "attachments": {},
   "cell_type": "markdown",
   "metadata": {},
   "source": [
    "# Modelamiento y gestion de bases de datos"
   ]
  },
  {
   "attachments": {},
   "cell_type": "markdown",
   "metadata": {},
   "source": [
    "- Recomienda hacer el curso de Khan Academy de SQL"
   ]
  },
  {
   "attachments": {},
   "cell_type": "markdown",
   "metadata": {},
   "source": [
    "## Inicio\n",
    "\n",
    "- Objetivo: Gestionar usuarios y tablas! Ademas, poder hacer queries."
   ]
  },
  {
   "attachments": {},
   "cell_type": "markdown",
   "metadata": {},
   "source": [
    "## Desarrollo\n",
    "\n",
    "- Es un lenguaje estructurado de consultas.\n",
    "- Manipula bases de datos relacionales\n",
    "- Tiene comandos de crear, actualizar, borrar y solicitar datos de tablas"
   ]
  },
  {
   "attachments": {},
   "cell_type": "markdown",
   "metadata": {},
   "source": [
    "### Ventajas de Postgre\n",
    "\n",
    "- Puede hacer consultas paralelizadas"
   ]
  },
  {
   "attachments": {},
   "cell_type": "markdown",
   "metadata": {},
   "source": [
    "### Esquema general de PostgreSQL\n",
    "\n",
    "- Una base de datos es un conjunto de tablas\n",
    "- El motor de base de datos puede manejar muchas bases de datos dentro de si"
   ]
  },
  {
   "attachments": {},
   "cell_type": "markdown",
   "metadata": {},
   "source": [
    "### Entidades y Atributos de una tabla\n",
    "\n",
    "- Los atributos son las columnas\n",
    "- Las entidades son las filas\n",
    "- Es un dataframe"
   ]
  },
  {
   "attachments": {},
   "cell_type": "markdown",
   "metadata": {},
   "source": [
    "### Algunos elementos a considerar\n",
    "\n",
    "- Toda query debe terminar con ;\n",
    "- Da lo mismo si es en mayuscula o minuscula\n",
    "- Tiene palabras reservadas"
   ]
  },
  {
   "attachments": {},
   "cell_type": "markdown",
   "metadata": {},
   "source": [
    "### Ingresando a PostgreSQL\n",
    "\n",
    "- Hay que primero correr el servicio!\n",
    "- Con pgAdmin se puede utilizar la interfaz grafica para manejar SQL\n",
    "- Ahi se pueden manejar a los usuarios!\n",
    "\n",
    "- Dentro de las bases de datos estan los Schemas, dentro de Schema estan:\n",
    "    - Tables, Trigger Functions y Procedures\n"
   ]
  },
  {
   "attachments": {},
   "cell_type": "markdown",
   "metadata": {},
   "source": [
    "\n",
    "### DBeaver\n",
    "\n",
    "- Es un administrador de bases de datos universal. Es mejor jasjajs\n",
    "- Puede conectarse a multiples tipos de SQL (Ej: PostgresSQL, MySQL, etc) dentro de la misma interfaz"
   ]
  },
  {
   "attachments": {},
   "cell_type": "markdown",
   "metadata": {},
   "source": [
    "### Comandos para Usuarios\n",
    "\n",
    "#### Crear un Usuario\n",
    "\n",
    "```sql\n",
    "CREATE USER\n",
    "usuario_1;\n",
    "```\n",
    "\n",
    "#### Consultar usuarios en la base de datos\n",
    "\n",
    "```\n",
    "\\du\n",
    "```\n",
    "\n",
    "En la consola de postgres sql\n",
    "\n",
    "#### Crear un usuario con permisos\n",
    "\n",
    "```sql\n",
    "CREATE USER\n",
    "usuario_1\n",
    "WITH XXXXXXXXX;\n",
    "```\n",
    "\n",
    "### Comandos para Crear tablas\n",
    "\n",
    "#### Crear una tabla\n",
    "\n",
    "```sql\n",
    "CREATE TABLE nombre_schema.nombre_tabla(\n",
    "    columna1 tipo_dato,\n",
    "    columna2 tipo_dato\n",
    ");\n",
    "```\n",
    "\n",
    "#### Hacer consultas de datos\n",
    "\n",
    "```SQL\n",
    "SELECT columna1\n",
    "FROM nombre_tabla;\n",
    "```\n",
    "\n",
    "Con SELECT se seleccionan las columnas, y con FROM se selecciona la tabla que queremos consultar. \n",
    "Al hacer referencias de la tabla que se quiere obtener la info, se puede especificar la base de datos y\n",
    "el schema en donde esta la tabla que queramos ver. Incluso, se puede especificar el servidor de donde esta la tabla de interes.\n",
    "\n",
    "### Comandos para Agregar/Modificar/Borrar un Registro\n",
    "\n",
    "#### Ingresar un registro\n",
    "\n",
    "```SQL\n",
    "INSERT INTO tabla((columna1, columna2)\n",
    "VALUES (1, 2)\n",
    ");\n",
    "```\n",
    "\n",
    "#### Actualizar un registro\n",
    "\n",
    "```SQL\n",
    "UPDATE tabla\n",
    "SET columna1 = 1, columna2 = 2\n",
    "WHERE condicion;\n",
    "```\n",
    "\n",
    "#### Borrar un registro\n",
    "\n",
    "```SQL\n",
    "DELETE FROM tabla\n",
    "WHERE condicion;\n",
    "```\n",
    "\n",
    "Por lo tanto, con WHERE se hacen los filtros por fila. Entonces, se pueden hacer las siguientes cosas:\n",
    "\n",
    "```SQL\n",
    "SELECT *\n",
    "FROM tabla\n",
    "WHERE condicion\n",
    "```\n"
   ]
  },
  {
   "attachments": {},
   "cell_type": "markdown",
   "metadata": {},
   "source": []
  }
 ],
 "metadata": {
  "language_info": {
   "name": "python"
  },
  "orig_nbformat": 4
 },
 "nbformat": 4,
 "nbformat_minor": 2
}
