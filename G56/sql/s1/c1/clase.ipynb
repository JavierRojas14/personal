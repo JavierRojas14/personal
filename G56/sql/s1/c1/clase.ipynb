{
 "cells": [
  {
   "attachments": {},
   "cell_type": "markdown",
   "metadata": {},
   "source": [
    "# Modelamiento y gestion de bases de datos"
   ]
  },
  {
   "attachments": {},
   "cell_type": "markdown",
   "metadata": {},
   "source": [
    "- Recomienda hacer el curso de Khan Academy de SQL"
   ]
  },
  {
   "attachments": {},
   "cell_type": "markdown",
   "metadata": {},
   "source": [
    "## Inicio\n",
    "\n",
    "- Objetivo: Gestionar usuarios y tablas! Ademas, poder hacer queries."
   ]
  },
  {
   "attachments": {},
   "cell_type": "markdown",
   "metadata": {},
   "source": [
    "## Desarrollo\n",
    "\n",
    "- Es un lenguaje estructurado de consultas.\n",
    "- Manipula bases de datos relacionales\n",
    "- Tiene comandos de crear, actualizar, borrar y solicitar datos de tablas"
   ]
  },
  {
   "attachments": {},
   "cell_type": "markdown",
   "metadata": {},
   "source": [
    "### Ventajas de Postgre\n",
    "\n",
    "- Puede hacer consultas paralelizadas"
   ]
  },
  {
   "attachments": {},
   "cell_type": "markdown",
   "metadata": {},
   "source": [
    "### Esquema general de PostgreSQL\n",
    "\n",
    "- Una base de datos es un conjunto de tablas\n",
    "- El motor de base de datos puede manejar muchas bases de datos dentro de si"
   ]
  },
  {
   "attachments": {},
   "cell_type": "markdown",
   "metadata": {},
   "source": [
    "### Entidades y Atributos de una tabla\n",
    "\n",
    "- Los atributos son las columnas\n",
    "- Las entidades son las filas\n",
    "- Es un dataframe"
   ]
  },
  {
   "attachments": {},
   "cell_type": "markdown",
   "metadata": {},
   "source": [
    "### Algunos elementos a considerar\n",
    "\n",
    "- Toda query debe terminar con ;\n",
    "- Da lo mismo si es en mayuscula o minuscula\n",
    "- Tiene palabras reservadas"
   ]
  },
  {
   "attachments": {},
   "cell_type": "markdown",
   "metadata": {},
   "source": [
    "### Ingresando a PostgreSQL\n",
    "\n",
    "- Hay que primero correr el servicio!\n",
    "- Con pgAdmin se puede utilizar la interfaz grafica para manejar SQL\n",
    "- Ahi se pueden manejar a los usuarios!\n",
    "\n",
    "- Dentro de las bases de datos estan los Schemas, dentro de Schema estan:\n",
    "    - Tables, Trigger Functions y Procedures\n"
   ]
  },
  {
   "attachments": {},
   "cell_type": "markdown",
   "metadata": {},
   "source": [
    "\n",
    "### DBeaver\n",
    "\n",
    "- Es un administrador de bases de datos universal. Es mejor jasjajs\n",
    "- Puede conectarse a multiples tipos de SQL (Ej: PostgresSQL, MySQL, etc) dentro de la misma interfaz"
   ]
  },
  {
   "attachments": {},
   "cell_type": "markdown",
   "metadata": {},
   "source": [
    "### Comandos para Usuarios\n",
    "\n",
    "#### Crear un Usuario\n",
    "\n",
    "```sql\n",
    "CREATE USER\n",
    "usuario_1;\n",
    "```\n",
    "\n",
    "#### Consultar usuarios en la base de datos\n",
    "\n",
    "```\n",
    "\\du\n",
    "```\n",
    "\n",
    "En la consola de postgres sql\n",
    "\n",
    "#### Crear un usuario con permisos\n",
    "\n",
    "```sql\n",
    "CREATE USER\n",
    "usuario_1\n",
    "WITH XXXXXXXXX;\n",
    "```"
   ]
  },
  {
   "attachments": {},
   "cell_type": "markdown",
   "metadata": {},
   "source": []
  }
 ],
 "metadata": {
  "language_info": {
   "name": "python"
  },
  "orig_nbformat": 4
 },
 "nbformat": 4,
 "nbformat_minor": 2
}
