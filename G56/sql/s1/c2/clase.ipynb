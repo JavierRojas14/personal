{
 "cells": [
  {
   "attachments": {},
   "cell_type": "markdown",
   "metadata": {},
   "source": [
    "# Operaciones en Tablas"
   ]
  },
  {
   "attachments": {},
   "cell_type": "markdown",
   "metadata": {},
   "source": [
    "## Alterar una tabla"
   ]
  },
  {
   "attachments": {},
   "cell_type": "markdown",
   "metadata": {},
   "source": [
    "```SQL\n",
    "ALTER TABLE tabla1\n",
    "ADD COLUMN nueva_col tipo_dato;\n",
    "```\n",
    "\n",
    "```SQL\n",
    "ALTER TABLE tabla1\n",
    "DROP COLUMN nueva_col;\n",
    "```"
   ]
  },
  {
   "attachments": {},
   "cell_type": "markdown",
   "metadata": {},
   "source": [
    "## Llaves Primarias y Foraneas"
   ]
  },
  {
   "attachments": {},
   "cell_type": "markdown",
   "metadata": {},
   "source": [
    "```SQL\n",
    "CREATE TABLE table1(\n",
    "    columna1 tipo_dato restriccion\n",
    "    columna2 tipo_dato restriccion\n",
    ");\n",
    "\n",
    "CREATE TABLE table2(\n",
    "    columna3 tipo_dato restriccion\n",
    "    columna4 tipo_dato restriccion\n",
    "    columna4 FOREIGN KEY\n",
    "    REFERENCES table1 columna2\n",
    ");\n",
    "```"
   ]
  },
  {
   "attachments": {},
   "cell_type": "markdown",
   "metadata": {},
   "source": [
    "## Observar solo una cuantas filas\n",
    "\n",
    "```SQL\n",
    "SELECT *\n",
    "FROM tabla\n",
    "LIMIT 2;\n",
    "```\n",
    "\n",
    "Es como el head() de pandas"
   ]
  },
  {
   "attachments": {},
   "cell_type": "markdown",
   "metadata": {},
   "source": [
    "## Consultas agrupadas"
   ]
  },
  {
   "attachments": {},
   "cell_type": "markdown",
   "metadata": {},
   "source": [
    "```SQL\n",
    "SELECT *\n",
    "FROM tabla\n",
    "GROUP BY columna;\n",
    "```"
   ]
  },
  {
   "attachments": {},
   "cell_type": "markdown",
   "metadata": {},
   "source": [
    "## Poner alias\n",
    "\n",
    "```SQL\n",
    "SELECT staff_id AS \"Identificador de Usuario\"\n",
    "FROM tabla\n",
    "```"
   ]
  },
  {
   "attachments": {},
   "cell_type": "markdown",
   "metadata": {},
   "source": [
    "# Uniones de tablas\n",
    "\n",
    "En este caso, siempre se quieren unir dos tablas (tabla A y tabla B)"
   ]
  },
  {
   "attachments": {},
   "cell_type": "markdown",
   "metadata": {},
   "source": [
    "## Outer Join\n",
    "\n",
    "Se toma todo lo de la tabla A y de la B, y se unen!\n",
    "\n",
    "```SQL\n",
    "SELECT columnas\n",
    "FROM A\n",
    "FULL OUTER JOIN B\n",
    "ON A.columna = B.columna;\n",
    "```"
   ]
  },
  {
   "attachments": {},
   "cell_type": "markdown",
   "metadata": {},
   "source": [
    "## Inner Joins\n",
    "\n",
    "Se toman solo los registros que estan en A y en B\n",
    "\n",
    "```SQL\n",
    "SELECT columnas\n",
    "FROM A\n",
    "INNER JOIN B\n",
    "ON A.columna = B.columna;\n",
    "```"
   ]
  },
  {
   "attachments": {},
   "cell_type": "markdown",
   "metadata": {},
   "source": [
    "## Left Join\n",
    "\n",
    "A = Izquierda, B = Derecha. Se toman todos los registros de la tabla A, y se traen\n",
    "los registros de B que esten en A.\n",
    "\n",
    "```SQL\n",
    "SELECT columnas\n",
    "FROM A\n",
    "LEFT JOIN B\n",
    "ON A.columna = B.columna;\n",
    "```"
   ]
  },
  {
   "attachments": {},
   "cell_type": "markdown",
   "metadata": {},
   "source": [
    "## Outer Join Null\n",
    "\n",
    "Es un outer join, pero se eliminan los elementos que se solapen entre la tabla A y la tabla B.\n",
    "\n",
    "```SQL\n",
    "SELECT columnas\n",
    "FROM A\n",
    "FULL OUTER JOIN B\n",
    "ON A.columna = B.columna\n",
    "WHERE A IS NULL AND B IS NULL;\n",
    "```"
   ]
  },
  {
   "attachments": {},
   "cell_type": "markdown",
   "metadata": {},
   "source": [
    "# Subqueries\n",
    "\n",
    "Aqui se utilizan resultados de una query, en la query de otra!\n",
    "\n",
    "```SQL\n",
    "SELECT col1, SUM(col2)\n",
    "FROM (subquery) AS alias\n",
    "GROUP BY col1;\n",
    "```\n",
    "\n",
    "Es muy importante un alias a la tabla del subquery (la consulta que esta en parentesis), porque o si no da error.\n"
   ]
  },
  {
   "attachments": {},
   "cell_type": "markdown",
   "metadata": {},
   "source": []
  }
 ],
 "metadata": {
  "language_info": {
   "name": "python"
  },
  "orig_nbformat": 4
 },
 "nbformat": 4,
 "nbformat_minor": 2
}
