{
 "cells": [
  {
   "attachments": {},
   "cell_type": "markdown",
   "metadata": {},
   "source": [
    "# Operaciones en Tablas"
   ]
  },
  {
   "attachments": {},
   "cell_type": "markdown",
   "metadata": {},
   "source": [
    "## Alterar una tabla"
   ]
  },
  {
   "attachments": {},
   "cell_type": "markdown",
   "metadata": {},
   "source": [
    "```SQL\n",
    "ALTER TABLE tabla1\n",
    "ADD COLUMN nueva_col tipo_dato;\n",
    "```\n",
    "\n",
    "```SQL\n",
    "ALTER TABLE tabla1\n",
    "DROP COLUMN nueva_col;\n",
    "```"
   ]
  },
  {
   "attachments": {},
   "cell_type": "markdown",
   "metadata": {},
   "source": [
    "## Llaves Primarias y Foraneas"
   ]
  },
  {
   "attachments": {},
   "cell_type": "markdown",
   "metadata": {},
   "source": [
    "```SQL\n",
    "CREATE TABLE table1(\n",
    "    columna1 tipo_dato restriccion\n",
    "    columna2 tipo_dato restriccion\n",
    ");\n",
    "\n",
    "CREATE TABLE table2(\n",
    "    columna3 tipo_dato restriccion\n",
    "    columna4 tipo_dato restriccion\n",
    "    columna4 FOREIGN KEY\n",
    "    REFERENCES table1 columna2\n",
    ");\n",
    "```"
   ]
  }
 ],
 "metadata": {
  "language_info": {
   "name": "python"
  },
  "orig_nbformat": 4
 },
 "nbformat": 4,
 "nbformat_minor": 2
}
