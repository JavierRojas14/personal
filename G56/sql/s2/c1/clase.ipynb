{
 "cells": [
  {
   "attachments": {},
   "cell_type": "markdown",
   "metadata": {},
   "source": [
    "# Tipos de Modelos y Normalizacion"
   ]
  },
  {
   "attachments": {},
   "cell_type": "markdown",
   "metadata": {},
   "source": [
    "## Tipos de Modelos"
   ]
  },
  {
   "attachments": {},
   "cell_type": "markdown",
   "metadata": {},
   "source": [
    "### Diagrama\n",
    "\n",
    "Aqui se ponen basicamente todas las relaciones entre tablas que vayan a haber en la base de datos.\n",
    "\n",
    "Ej: \"Quiero tener una tabla que tenga a cada usuario, y cada usuario tendra un RUT, nombre, tiene hipoteca, etc. Tambien quiero tener otra tabla que indique las visitas\n",
    "que ha tenido un usuario en la institucion. Cada visita tendra el rut del usuario, y la fecha\n",
    "de visita\"\n",
    "\n",
    "Al hacer un diagrama, se ponen todos los atributos y entidades que se quieren modelar en la base\n",
    "de datos\n",
    "\n",
    "### Modelo Logico\n",
    "\n",
    "Al hacer el modelo logico se establecen las relaciones entre distintas talas\n",
    "\n",
    "### Modelo Fisico\n",
    "\n",
    "Aqui se agrega todo lo anterior, y se declaran los tipos de datos que va a tener cada columna\n",
    "de las tablas."
   ]
  },
  {
   "attachments": {},
   "cell_type": "markdown",
   "metadata": {},
   "source": [
    "## Normalizacion\n",
    "\n",
    "Son practicas que evitan la redundancia de datos en la base de datos, asi disminuyendo la memoria\n",
    "para alojar la base de datos.\n",
    "\n",
    "para hacer modelos normales se pueen ocupar nomenclaturas.\n",
    "\n",
    "\\# = Llave primaria (Valores unicos y sin NA)"
   ]
  },
  {
   "attachments": {},
   "cell_type": "markdown",
   "metadata": {},
   "source": [
    "### Primera Forma Normal\n",
    "\n",
    "- SI una tabla tiene atributos repetidos (Fecha 1, Fecha 2, Fecha 3, etc), entonces estos\n",
    "atributos se deben llevar a una tabla nueva.\n",
    "- Aqui se quiere reducir la redundancia de una tabla inicial\n",
    "\n",
    "Cliente(nombre, #run, direccion, hipoteca, {fecha, sucursal})\n",
    "\n",
    "Aplicando la primera forma normal\n",
    "\n",
    "1. Primera tabla\n",
    "\n",
    "Cliente(nombre, #run, direccion, hipoteca)\n",
    "\n",
    "2. Segunda tabla\n",
    "\n",
    "Visita(#run, #fecha, #sucursal, direccion)\n",
    "\n",
    "\n",
    "### Segunda Forma Normal\n",
    "\n",
    "- Debe satisfacer la primera forma normal\n",
    "\n",
    "Visita(#run, #fecha, #sucursal, direccion)\n",
    "\n",
    "Nueva tabla\n",
    "\n",
    "### Tercera Forma Normal\n",
    "\n",
    "Idk"
   ]
  },
  {
   "attachments": {},
   "cell_type": "markdown",
   "metadata": {},
   "source": [
    "- Cliente(nombre, #run, direccion)\n",
    "- Propiedad(#direccion, hipoteca)\n",
    "- Visita(#run, #fecha, #sucursal)\n",
    "- Sucursal(#sucursal, direccion)\n",
    "\n",
    "Esto evita que exista redundancia en la base de datos"
   ]
  },
  {
   "attachments": {},
   "cell_type": "markdown",
   "metadata": {},
   "source": [
    "## Desnormalizacion\n",
    "\n",
    "Es una forma de deliberadamente unir las tablas y obtener informacion redudante. Esto permite un\n",
    "analisis mas expedito de las tablas (sin la necesidad de estar mirando una a una cada tabla\n",
    "con la informacion que tiene)."
   ]
  },
  {
   "attachments": {},
   "cell_type": "markdown",
   "metadata": {},
   "source": []
  }
 ],
 "metadata": {
  "language_info": {
   "name": "python"
  },
  "orig_nbformat": 4
 },
 "nbformat": 4,
 "nbformat_minor": 2
}
