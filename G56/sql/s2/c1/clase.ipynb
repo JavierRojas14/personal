{
 "cells": [
  {
   "attachments": {},
   "cell_type": "markdown",
   "metadata": {},
   "source": [
    "# Tipos de Modelos y Normalizacion"
   ]
  },
  {
   "attachments": {},
   "cell_type": "markdown",
   "metadata": {},
   "source": [
    "## Tipos de Modelos"
   ]
  },
  {
   "attachments": {},
   "cell_type": "markdown",
   "metadata": {},
   "source": [
    "### Diagrama\n",
    "\n",
    "Aqui se ponen basicamente todas las relaciones entre tablas que vayan a haber en la base de datos.\n",
    "\n",
    "Ej: \"Quiero tener una tabla que tenga a cada usuario, y cada usuario tendra un RUT, nombre, tiene hipoteca, etc. Tambien quiero tener otra tabla que indique las visitas\n",
    "que ha tenido un usuario en la institucion. Cada visita tendra el rut del usuario, y la fecha\n",
    "de visita\"\n",
    "\n",
    "Al hacer un diagrama, se ponen todos los atributos y entidades que se quieren modelar en la base\n",
    "de datos\n",
    "\n",
    "### Modelo Logico\n",
    "\n",
    "Al hacer el modelo logico se establecen las relaciones entre distintas talas\n",
    "\n",
    "### Modelo Fisico\n",
    "\n",
    "Aqui se agrega todo lo anterior, y se declaran los tipos de datos que va a tener cada columna\n",
    "de las tablas."
   ]
  },
  {
   "attachments": {},
   "cell_type": "markdown",
   "metadata": {},
   "source": []
  }
 ],
 "metadata": {
  "language_info": {
   "name": "python"
  },
  "orig_nbformat": 4
 },
 "nbformat": 4,
 "nbformat_minor": 2
}
